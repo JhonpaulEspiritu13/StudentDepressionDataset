{
  "nbformat": 4,
  "nbformat_minor": 0,
  "metadata": {
    "colab": {
      "provenance": []
    },
    "kernelspec": {
      "name": "python3",
      "display_name": "Python 3"
    },
    "language_info": {
      "name": "python"
    }
  },
  "cells": [
    {
      "cell_type": "markdown",
      "source": [
        "# Documentation/Problem"
      ],
      "metadata": {
        "id": "zvxe5AOd360p"
      }
    },
    {
      "cell_type": "markdown",
      "source": [
        "Overview Document:\n",
        "https://docs.google.com/document/d/1iCxfrZk6sItTWWmypH4ljDYWtyF3GRQ7Z1ejDXuf6Jo/edit?tab=t.0"
      ],
      "metadata": {
        "id": "ya_dtDX0YAou"
      }
    },
    {
      "cell_type": "markdown",
      "source": [
        "Research Questions:\n",
        "\n",
        "- Are sleeping habits related to suicidal thoughts?\n",
        "- What's most highly correlated with suicidal thoughts?\n",
        "- Does financial stress correlate with depression?\n",
        "- Good binary values: Depression, suicidal thoughts."
      ],
      "metadata": {
        "id": "JIp4XpuS3aPl"
      }
    },
    {
      "cell_type": "markdown",
      "source": [
        "Problem Statement: Our task is to find what factors contribute most to depression in students, like: sleeping habits, suicidal thoughts, stress, etc."
      ],
      "metadata": {
        "id": "KKzagVGg4FJd"
      }
    },
    {
      "cell_type": "markdown",
      "source": [
        "## Setup"
      ],
      "metadata": {
        "id": "2kPsFSLUlfdH"
      }
    },
    {
      "cell_type": "markdown",
      "source": [
        "All the imports for dataset analysis, preprocessing, and model building."
      ],
      "metadata": {
        "id": "ZIopzxFcteKU"
      }
    },
    {
      "cell_type": "code",
      "execution_count": null,
      "metadata": {
        "id": "liqM4-yWTWvR"
      },
      "outputs": [],
      "source": [
        "# Normal imports\n",
        "import sys\n",
        "import pandas as pd\n",
        "import numpy as np\n",
        "# Preprocessing imports.\n",
        "import matplotlib.pyplot as plt\n",
        "import seaborn as sns\n",
        "from sklearn.preprocessing import OneHotEncoder\n",
        "from sklearn.preprocessing import OrdinalEncoder\n",
        "# Model training imports.\n",
        "from sklearn.linear_model import LogisticRegression\n",
        "from sklearn.neighbors import KNeighborsClassifier\n",
        "from sklearn.model_selection import train_test_split\n",
        "from sklearn.metrics import accuracy_score\n",
        "from sklearn.svm import SVC\n",
        "from sklearn.tree import DecisionTreeClassifier\n",
        "# Classification Report\n",
        "from sklearn.metrics import classification_report, confusion_matrix\n",
        "# Sampling\n",
        "from imblearn.over_sampling import SMOTE"
      ]
    },
    {
      "cell_type": "markdown",
      "source": [
        "Mounts to drive. Used so we can synchronize Google Drive directory data and not have to reimport the CSVs again."
      ],
      "metadata": {
        "id": "jM8xfGcP4grZ"
      }
    },
    {
      "cell_type": "code",
      "source": [
        "from google.colab import drive\n",
        "drive.mount(\"/content/drive/\")"
      ],
      "metadata": {
        "colab": {
          "base_uri": "https://localhost:8080/"
        },
        "id": "SepwmX1H36gh",
        "outputId": "7e953652-ff1a-458b-bc68-7d32fd37b355"
      },
      "execution_count": null,
      "outputs": [
        {
          "output_type": "stream",
          "name": "stdout",
          "text": [
            "Mounted at /content/drive/\n"
          ]
        }
      ]
    },
    {
      "cell_type": "markdown",
      "source": [
        "Felipe's fancy way of registering the working directory into the collab notebook."
      ],
      "metadata": {
        "id": "QBmK81T4-i9c"
      }
    },
    {
      "cell_type": "code",
      "source": [
        "!cp -r /content/drive/MyDrive/Colab\\ Notebooks/Course\\ 2/Final\\ Project/* /content/"
      ],
      "metadata": {
        "id": "XaMX7oZA97ke"
      },
      "execution_count": null,
      "outputs": []
    },
    {
      "cell_type": "markdown",
      "source": [
        "Finally, read the desired CSV file."
      ],
      "metadata": {
        "id": "TpoYHzZ84zPs"
      }
    },
    {
      "cell_type": "code",
      "source": [
        "data = pd.read_csv(\"Processed.csv\")"
      ],
      "metadata": {
        "id": "EAcHLmMOtltM"
      },
      "execution_count": null,
      "outputs": []
    },
    {
      "cell_type": "markdown",
      "source": [
        "# Data Preprocessing"
      ],
      "metadata": {
        "id": "N6gkY1QbdQky"
      }
    },
    {
      "cell_type": "markdown",
      "source": [
        "## Doing our data cleaning:\n",
        "1. Either turn columns 'Depression label' or 'Depression value' into a binary value (potentially turning it multi-class later on).\n",
        "2. Drop the other Depression column, depending on what we use.\n",
        "3. Drop columns unrelated to the Depression column.\n",
        "4. Turn Num 7 into a numerical value.\n",
        "5. Check for any numbers out of range, and null values.\n",
        "6. Turn other categorical columns into numerical."
      ],
      "metadata": {
        "id": "7TnuXwme6m75"
      }
    },
    {
      "cell_type": "markdown",
      "source": [
        "Ordinal Encoding:\n",
        "- Order the column values and encode them from string into numerical. Encoding for obvious order.\n",
        "\n",
        "One Hot Encoding:\n",
        "- Encoding for those with no obvious order."
      ],
      "metadata": {
        "id": "-ExzVtuw8kfu"
      }
    },
    {
      "cell_type": "markdown",
      "source": [
        "## Data Mapping"
      ],
      "metadata": {
        "id": "e5JNdHhAYr5u"
      }
    },
    {
      "cell_type": "markdown",
      "source": [
        "Below are some code blocks to help us map out information in our dataset. First thing to note, we are going to have to drop a variety of columns from the stress and anxiety table. We will use only their Value/Label as features if need-be.\n",
        "\n",
        "Then for clarity, we will turn PHP (the questions for Depression) into their original question statements."
      ],
      "metadata": {
        "id": "cITjLkEF5RiM"
      }
    },
    {
      "cell_type": "code",
      "source": [
        "data.info()"
      ],
      "metadata": {
        "colab": {
          "base_uri": "https://localhost:8080/"
        },
        "id": "TBV-u9fEYuXV",
        "outputId": "fed1b253-d209-49ec-bc10-895dfc91299a"
      },
      "execution_count": null,
      "outputs": [
        {
          "output_type": "stream",
          "name": "stdout",
          "text": [
            "<class 'pandas.core.frame.DataFrame'>\n",
            "RangeIndex: 2028 entries, 0 to 2027\n",
            "Data columns (total 39 columns):\n",
            " #   Column                 Non-Null Count  Dtype \n",
            "---  ------                 --------------  ----- \n",
            " 0   Age                    2028 non-null   object\n",
            " 1   Gender                 2028 non-null   object\n",
            " 2   University             2028 non-null   object\n",
            " 3   Department             2028 non-null   object\n",
            " 4   Academic_Year          2028 non-null   object\n",
            " 5   Current_CGPA           2028 non-null   object\n",
            " 6   waiver_or_scholarship  2028 non-null   object\n",
            " 7   PSS1                   2028 non-null   int64 \n",
            " 8   PSS2                   2028 non-null   int64 \n",
            " 9   PSS3                   2028 non-null   int64 \n",
            " 10  PSS4                   2028 non-null   int64 \n",
            " 11  PSS5                   2028 non-null   int64 \n",
            " 12  PSS6                   2028 non-null   int64 \n",
            " 13  PSS7                   2028 non-null   int64 \n",
            " 14  PSS8                   2028 non-null   int64 \n",
            " 15  PSS9                   2028 non-null   int64 \n",
            " 16  PSS10                  2028 non-null   int64 \n",
            " 17  Stress Value           2028 non-null   int64 \n",
            " 18  Stress Label           2028 non-null   object\n",
            " 19  GAD1                   2028 non-null   int64 \n",
            " 20  GAD2                   2028 non-null   int64 \n",
            " 21  GAD3                   2028 non-null   int64 \n",
            " 22  GAD4                   2028 non-null   int64 \n",
            " 23  GAD5                   2028 non-null   int64 \n",
            " 24  GAD6                   2028 non-null   int64 \n",
            " 25  GAD7                   2028 non-null   int64 \n",
            " 26  Anxiety Value          2028 non-null   int64 \n",
            " 27  Anxiety Label          2028 non-null   object\n",
            " 28  PHQ1                   2028 non-null   int64 \n",
            " 29  PHQ2                   2028 non-null   int64 \n",
            " 30  PHQ3                   2028 non-null   int64 \n",
            " 31  PHQ4                   2028 non-null   int64 \n",
            " 32  PHQ5                   2028 non-null   int64 \n",
            " 33  PHQ6                   2028 non-null   int64 \n",
            " 34  PHQ7                   2028 non-null   int64 \n",
            " 35  PHQ8                   2028 non-null   int64 \n",
            " 36  PHQ9                   2028 non-null   int64 \n",
            " 37  Depression Value       2028 non-null   int64 \n",
            " 38  Depression Label       2028 non-null   object\n",
            "dtypes: int64(29), object(10)\n",
            "memory usage: 618.0+ KB\n"
          ]
        }
      ]
    },
    {
      "cell_type": "markdown",
      "source": [
        "Takes a look at the head in order to get a general idea of the dataset."
      ],
      "metadata": {
        "id": "pa8q9J125xEd"
      }
    },
    {
      "cell_type": "code",
      "source": [
        "data.head()"
      ],
      "metadata": {
        "colab": {
          "base_uri": "https://localhost:8080/",
          "height": 340
        },
        "id": "fhrKffQltwYL",
        "outputId": "c0b68756-3326-4e2f-a795-5217c4744dec"
      },
      "execution_count": null,
      "outputs": [
        {
          "output_type": "execute_result",
          "data": {
            "text/plain": [
              "     Age  Gender                                         University  \\\n",
              "0  18-22  Female           Independent University, Bangladesh (IUB)   \n",
              "1  18-22    Male           Independent University, Bangladesh (IUB)   \n",
              "2  18-22    Male  American International University Bangladesh (...   \n",
              "3  18-22    Male  American International University Bangladesh (...   \n",
              "4  18-22    Male                       North South University (NSU)   \n",
              "\n",
              "                                     Department              Academic_Year  \\\n",
              "0  Engineering - CS / CSE / CSC / Similar to CS  Second Year or Equivalent   \n",
              "1  Engineering - CS / CSE / CSC / Similar to CS   Third Year or Equivalent   \n",
              "2  Engineering - CS / CSE / CSC / Similar to CS   Third Year or Equivalent   \n",
              "3  Engineering - CS / CSE / CSC / Similar to CS   Third Year or Equivalent   \n",
              "4  Engineering - CS / CSE / CSC / Similar to CS  Second Year or Equivalent   \n",
              "\n",
              "  Current_CGPA waiver_or_scholarship  PSS1  PSS2  PSS3  ...  PHQ2  PHQ3  PHQ4  \\\n",
              "0  2.50 - 2.99                    No     3     4     3  ...     2     3     2   \n",
              "1  3.00 - 3.39                    No     3     3     4  ...     2     2     2   \n",
              "2  3.00 - 3.39                    No     0     0     0  ...     0     0     0   \n",
              "3  3.00 - 3.39                    No     3     1     2  ...     1     2     1   \n",
              "4  2.50 - 2.99                    No     4     4     4  ...     3     3     3   \n",
              "\n",
              "   PHQ5  PHQ6  PHQ7  PHQ8  PHQ9 Depression Value              Depression Label  \n",
              "0     2     2     2     3     2               20             Severe Depression  \n",
              "1     2     2     2     2     2               19  Moderately Severe Depression  \n",
              "2     0     0     0     0     0                0                 No Depression  \n",
              "3     2     1     2     2     1               14           Moderate Depression  \n",
              "4     1     3     0     3     3               20             Severe Depression  \n",
              "\n",
              "[5 rows x 39 columns]"
            ],
            "text/html": [
              "\n",
              "  <div id=\"df-7900a486-ce71-4a54-8289-0d220df03e24\" class=\"colab-df-container\">\n",
              "    <div>\n",
              "<style scoped>\n",
              "    .dataframe tbody tr th:only-of-type {\n",
              "        vertical-align: middle;\n",
              "    }\n",
              "\n",
              "    .dataframe tbody tr th {\n",
              "        vertical-align: top;\n",
              "    }\n",
              "\n",
              "    .dataframe thead th {\n",
              "        text-align: right;\n",
              "    }\n",
              "</style>\n",
              "<table border=\"1\" class=\"dataframe\">\n",
              "  <thead>\n",
              "    <tr style=\"text-align: right;\">\n",
              "      <th></th>\n",
              "      <th>Age</th>\n",
              "      <th>Gender</th>\n",
              "      <th>University</th>\n",
              "      <th>Department</th>\n",
              "      <th>Academic_Year</th>\n",
              "      <th>Current_CGPA</th>\n",
              "      <th>waiver_or_scholarship</th>\n",
              "      <th>PSS1</th>\n",
              "      <th>PSS2</th>\n",
              "      <th>PSS3</th>\n",
              "      <th>...</th>\n",
              "      <th>PHQ2</th>\n",
              "      <th>PHQ3</th>\n",
              "      <th>PHQ4</th>\n",
              "      <th>PHQ5</th>\n",
              "      <th>PHQ6</th>\n",
              "      <th>PHQ7</th>\n",
              "      <th>PHQ8</th>\n",
              "      <th>PHQ9</th>\n",
              "      <th>Depression Value</th>\n",
              "      <th>Depression Label</th>\n",
              "    </tr>\n",
              "  </thead>\n",
              "  <tbody>\n",
              "    <tr>\n",
              "      <th>0</th>\n",
              "      <td>18-22</td>\n",
              "      <td>Female</td>\n",
              "      <td>Independent University, Bangladesh (IUB)</td>\n",
              "      <td>Engineering - CS / CSE / CSC / Similar to CS</td>\n",
              "      <td>Second Year or Equivalent</td>\n",
              "      <td>2.50 - 2.99</td>\n",
              "      <td>No</td>\n",
              "      <td>3</td>\n",
              "      <td>4</td>\n",
              "      <td>3</td>\n",
              "      <td>...</td>\n",
              "      <td>2</td>\n",
              "      <td>3</td>\n",
              "      <td>2</td>\n",
              "      <td>2</td>\n",
              "      <td>2</td>\n",
              "      <td>2</td>\n",
              "      <td>3</td>\n",
              "      <td>2</td>\n",
              "      <td>20</td>\n",
              "      <td>Severe Depression</td>\n",
              "    </tr>\n",
              "    <tr>\n",
              "      <th>1</th>\n",
              "      <td>18-22</td>\n",
              "      <td>Male</td>\n",
              "      <td>Independent University, Bangladesh (IUB)</td>\n",
              "      <td>Engineering - CS / CSE / CSC / Similar to CS</td>\n",
              "      <td>Third Year or Equivalent</td>\n",
              "      <td>3.00 - 3.39</td>\n",
              "      <td>No</td>\n",
              "      <td>3</td>\n",
              "      <td>3</td>\n",
              "      <td>4</td>\n",
              "      <td>...</td>\n",
              "      <td>2</td>\n",
              "      <td>2</td>\n",
              "      <td>2</td>\n",
              "      <td>2</td>\n",
              "      <td>2</td>\n",
              "      <td>2</td>\n",
              "      <td>2</td>\n",
              "      <td>2</td>\n",
              "      <td>19</td>\n",
              "      <td>Moderately Severe Depression</td>\n",
              "    </tr>\n",
              "    <tr>\n",
              "      <th>2</th>\n",
              "      <td>18-22</td>\n",
              "      <td>Male</td>\n",
              "      <td>American International University Bangladesh (...</td>\n",
              "      <td>Engineering - CS / CSE / CSC / Similar to CS</td>\n",
              "      <td>Third Year or Equivalent</td>\n",
              "      <td>3.00 - 3.39</td>\n",
              "      <td>No</td>\n",
              "      <td>0</td>\n",
              "      <td>0</td>\n",
              "      <td>0</td>\n",
              "      <td>...</td>\n",
              "      <td>0</td>\n",
              "      <td>0</td>\n",
              "      <td>0</td>\n",
              "      <td>0</td>\n",
              "      <td>0</td>\n",
              "      <td>0</td>\n",
              "      <td>0</td>\n",
              "      <td>0</td>\n",
              "      <td>0</td>\n",
              "      <td>No Depression</td>\n",
              "    </tr>\n",
              "    <tr>\n",
              "      <th>3</th>\n",
              "      <td>18-22</td>\n",
              "      <td>Male</td>\n",
              "      <td>American International University Bangladesh (...</td>\n",
              "      <td>Engineering - CS / CSE / CSC / Similar to CS</td>\n",
              "      <td>Third Year or Equivalent</td>\n",
              "      <td>3.00 - 3.39</td>\n",
              "      <td>No</td>\n",
              "      <td>3</td>\n",
              "      <td>1</td>\n",
              "      <td>2</td>\n",
              "      <td>...</td>\n",
              "      <td>1</td>\n",
              "      <td>2</td>\n",
              "      <td>1</td>\n",
              "      <td>2</td>\n",
              "      <td>1</td>\n",
              "      <td>2</td>\n",
              "      <td>2</td>\n",
              "      <td>1</td>\n",
              "      <td>14</td>\n",
              "      <td>Moderate Depression</td>\n",
              "    </tr>\n",
              "    <tr>\n",
              "      <th>4</th>\n",
              "      <td>18-22</td>\n",
              "      <td>Male</td>\n",
              "      <td>North South University (NSU)</td>\n",
              "      <td>Engineering - CS / CSE / CSC / Similar to CS</td>\n",
              "      <td>Second Year or Equivalent</td>\n",
              "      <td>2.50 - 2.99</td>\n",
              "      <td>No</td>\n",
              "      <td>4</td>\n",
              "      <td>4</td>\n",
              "      <td>4</td>\n",
              "      <td>...</td>\n",
              "      <td>3</td>\n",
              "      <td>3</td>\n",
              "      <td>3</td>\n",
              "      <td>1</td>\n",
              "      <td>3</td>\n",
              "      <td>0</td>\n",
              "      <td>3</td>\n",
              "      <td>3</td>\n",
              "      <td>20</td>\n",
              "      <td>Severe Depression</td>\n",
              "    </tr>\n",
              "  </tbody>\n",
              "</table>\n",
              "<p>5 rows × 39 columns</p>\n",
              "</div>\n",
              "    <div class=\"colab-df-buttons\">\n",
              "\n",
              "  <div class=\"colab-df-container\">\n",
              "    <button class=\"colab-df-convert\" onclick=\"convertToInteractive('df-7900a486-ce71-4a54-8289-0d220df03e24')\"\n",
              "            title=\"Convert this dataframe to an interactive table.\"\n",
              "            style=\"display:none;\">\n",
              "\n",
              "  <svg xmlns=\"http://www.w3.org/2000/svg\" height=\"24px\" viewBox=\"0 -960 960 960\">\n",
              "    <path d=\"M120-120v-720h720v720H120Zm60-500h600v-160H180v160Zm220 220h160v-160H400v160Zm0 220h160v-160H400v160ZM180-400h160v-160H180v160Zm440 0h160v-160H620v160ZM180-180h160v-160H180v160Zm440 0h160v-160H620v160Z\"/>\n",
              "  </svg>\n",
              "    </button>\n",
              "\n",
              "  <style>\n",
              "    .colab-df-container {\n",
              "      display:flex;\n",
              "      gap: 12px;\n",
              "    }\n",
              "\n",
              "    .colab-df-convert {\n",
              "      background-color: #E8F0FE;\n",
              "      border: none;\n",
              "      border-radius: 50%;\n",
              "      cursor: pointer;\n",
              "      display: none;\n",
              "      fill: #1967D2;\n",
              "      height: 32px;\n",
              "      padding: 0 0 0 0;\n",
              "      width: 32px;\n",
              "    }\n",
              "\n",
              "    .colab-df-convert:hover {\n",
              "      background-color: #E2EBFA;\n",
              "      box-shadow: 0px 1px 2px rgba(60, 64, 67, 0.3), 0px 1px 3px 1px rgba(60, 64, 67, 0.15);\n",
              "      fill: #174EA6;\n",
              "    }\n",
              "\n",
              "    .colab-df-buttons div {\n",
              "      margin-bottom: 4px;\n",
              "    }\n",
              "\n",
              "    [theme=dark] .colab-df-convert {\n",
              "      background-color: #3B4455;\n",
              "      fill: #D2E3FC;\n",
              "    }\n",
              "\n",
              "    [theme=dark] .colab-df-convert:hover {\n",
              "      background-color: #434B5C;\n",
              "      box-shadow: 0px 1px 3px 1px rgba(0, 0, 0, 0.15);\n",
              "      filter: drop-shadow(0px 1px 2px rgba(0, 0, 0, 0.3));\n",
              "      fill: #FFFFFF;\n",
              "    }\n",
              "  </style>\n",
              "\n",
              "    <script>\n",
              "      const buttonEl =\n",
              "        document.querySelector('#df-7900a486-ce71-4a54-8289-0d220df03e24 button.colab-df-convert');\n",
              "      buttonEl.style.display =\n",
              "        google.colab.kernel.accessAllowed ? 'block' : 'none';\n",
              "\n",
              "      async function convertToInteractive(key) {\n",
              "        const element = document.querySelector('#df-7900a486-ce71-4a54-8289-0d220df03e24');\n",
              "        const dataTable =\n",
              "          await google.colab.kernel.invokeFunction('convertToInteractive',\n",
              "                                                    [key], {});\n",
              "        if (!dataTable) return;\n",
              "\n",
              "        const docLinkHtml = 'Like what you see? Visit the ' +\n",
              "          '<a target=\"_blank\" href=https://colab.research.google.com/notebooks/data_table.ipynb>data table notebook</a>'\n",
              "          + ' to learn more about interactive tables.';\n",
              "        element.innerHTML = '';\n",
              "        dataTable['output_type'] = 'display_data';\n",
              "        await google.colab.output.renderOutput(dataTable, element);\n",
              "        const docLink = document.createElement('div');\n",
              "        docLink.innerHTML = docLinkHtml;\n",
              "        element.appendChild(docLink);\n",
              "      }\n",
              "    </script>\n",
              "  </div>\n",
              "\n",
              "\n",
              "<div id=\"df-a6aaba88-6de0-4d32-b8dc-6f0a264e21bf\">\n",
              "  <button class=\"colab-df-quickchart\" onclick=\"quickchart('df-a6aaba88-6de0-4d32-b8dc-6f0a264e21bf')\"\n",
              "            title=\"Suggest charts\"\n",
              "            style=\"display:none;\">\n",
              "\n",
              "<svg xmlns=\"http://www.w3.org/2000/svg\" height=\"24px\"viewBox=\"0 0 24 24\"\n",
              "     width=\"24px\">\n",
              "    <g>\n",
              "        <path d=\"M19 3H5c-1.1 0-2 .9-2 2v14c0 1.1.9 2 2 2h14c1.1 0 2-.9 2-2V5c0-1.1-.9-2-2-2zM9 17H7v-7h2v7zm4 0h-2V7h2v10zm4 0h-2v-4h2v4z\"/>\n",
              "    </g>\n",
              "</svg>\n",
              "  </button>\n",
              "\n",
              "<style>\n",
              "  .colab-df-quickchart {\n",
              "      --bg-color: #E8F0FE;\n",
              "      --fill-color: #1967D2;\n",
              "      --hover-bg-color: #E2EBFA;\n",
              "      --hover-fill-color: #174EA6;\n",
              "      --disabled-fill-color: #AAA;\n",
              "      --disabled-bg-color: #DDD;\n",
              "  }\n",
              "\n",
              "  [theme=dark] .colab-df-quickchart {\n",
              "      --bg-color: #3B4455;\n",
              "      --fill-color: #D2E3FC;\n",
              "      --hover-bg-color: #434B5C;\n",
              "      --hover-fill-color: #FFFFFF;\n",
              "      --disabled-bg-color: #3B4455;\n",
              "      --disabled-fill-color: #666;\n",
              "  }\n",
              "\n",
              "  .colab-df-quickchart {\n",
              "    background-color: var(--bg-color);\n",
              "    border: none;\n",
              "    border-radius: 50%;\n",
              "    cursor: pointer;\n",
              "    display: none;\n",
              "    fill: var(--fill-color);\n",
              "    height: 32px;\n",
              "    padding: 0;\n",
              "    width: 32px;\n",
              "  }\n",
              "\n",
              "  .colab-df-quickchart:hover {\n",
              "    background-color: var(--hover-bg-color);\n",
              "    box-shadow: 0 1px 2px rgba(60, 64, 67, 0.3), 0 1px 3px 1px rgba(60, 64, 67, 0.15);\n",
              "    fill: var(--button-hover-fill-color);\n",
              "  }\n",
              "\n",
              "  .colab-df-quickchart-complete:disabled,\n",
              "  .colab-df-quickchart-complete:disabled:hover {\n",
              "    background-color: var(--disabled-bg-color);\n",
              "    fill: var(--disabled-fill-color);\n",
              "    box-shadow: none;\n",
              "  }\n",
              "\n",
              "  .colab-df-spinner {\n",
              "    border: 2px solid var(--fill-color);\n",
              "    border-color: transparent;\n",
              "    border-bottom-color: var(--fill-color);\n",
              "    animation:\n",
              "      spin 1s steps(1) infinite;\n",
              "  }\n",
              "\n",
              "  @keyframes spin {\n",
              "    0% {\n",
              "      border-color: transparent;\n",
              "      border-bottom-color: var(--fill-color);\n",
              "      border-left-color: var(--fill-color);\n",
              "    }\n",
              "    20% {\n",
              "      border-color: transparent;\n",
              "      border-left-color: var(--fill-color);\n",
              "      border-top-color: var(--fill-color);\n",
              "    }\n",
              "    30% {\n",
              "      border-color: transparent;\n",
              "      border-left-color: var(--fill-color);\n",
              "      border-top-color: var(--fill-color);\n",
              "      border-right-color: var(--fill-color);\n",
              "    }\n",
              "    40% {\n",
              "      border-color: transparent;\n",
              "      border-right-color: var(--fill-color);\n",
              "      border-top-color: var(--fill-color);\n",
              "    }\n",
              "    60% {\n",
              "      border-color: transparent;\n",
              "      border-right-color: var(--fill-color);\n",
              "    }\n",
              "    80% {\n",
              "      border-color: transparent;\n",
              "      border-right-color: var(--fill-color);\n",
              "      border-bottom-color: var(--fill-color);\n",
              "    }\n",
              "    90% {\n",
              "      border-color: transparent;\n",
              "      border-bottom-color: var(--fill-color);\n",
              "    }\n",
              "  }\n",
              "</style>\n",
              "\n",
              "  <script>\n",
              "    async function quickchart(key) {\n",
              "      const quickchartButtonEl =\n",
              "        document.querySelector('#' + key + ' button');\n",
              "      quickchartButtonEl.disabled = true;  // To prevent multiple clicks.\n",
              "      quickchartButtonEl.classList.add('colab-df-spinner');\n",
              "      try {\n",
              "        const charts = await google.colab.kernel.invokeFunction(\n",
              "            'suggestCharts', [key], {});\n",
              "      } catch (error) {\n",
              "        console.error('Error during call to suggestCharts:', error);\n",
              "      }\n",
              "      quickchartButtonEl.classList.remove('colab-df-spinner');\n",
              "      quickchartButtonEl.classList.add('colab-df-quickchart-complete');\n",
              "    }\n",
              "    (() => {\n",
              "      let quickchartButtonEl =\n",
              "        document.querySelector('#df-a6aaba88-6de0-4d32-b8dc-6f0a264e21bf button');\n",
              "      quickchartButtonEl.style.display =\n",
              "        google.colab.kernel.accessAllowed ? 'block' : 'none';\n",
              "    })();\n",
              "  </script>\n",
              "</div>\n",
              "\n",
              "    </div>\n",
              "  </div>\n"
            ],
            "application/vnd.google.colaboratory.intrinsic+json": {
              "type": "dataframe",
              "variable_name": "data"
            }
          },
          "metadata": {},
          "execution_count": 6
        }
      ]
    },
    {
      "cell_type": "markdown",
      "source": [
        "### Dropping Anxiety and Stress columns."
      ],
      "metadata": {
        "id": "l5pnO_HZ6IOX"
      }
    },
    {
      "cell_type": "markdown",
      "source": [
        "Drop these for the reasons stated above."
      ],
      "metadata": {
        "id": "V8XH-4aA6UN3"
      }
    },
    {
      "cell_type": "code",
      "source": [
        "columns_to_drop = ['PSS1', 'PSS2', 'PSS3', 'PSS4','PSS5', 'PSS6', 'PSS7', 'PSS8', 'PSS9', 'PSS10','GAD1', 'GAD2', 'GAD3', 'GAD4', 'GAD5', 'GAD6', 'GAD7', 'Anxiety Value', 'Stress Value', 'Depression Value']\n",
        "data = data.drop(columns=columns_to_drop)"
      ],
      "metadata": {
        "id": "lia60d9i6RM3"
      },
      "execution_count": null,
      "outputs": []
    },
    {
      "cell_type": "markdown",
      "source": [
        "We ended up dropping the value columns for Stress and Anxiety, instead opting to use their labels for their features.\n",
        "\n",
        "**Important note**: We dropped Depression value as well because we opted to turn Depression Label into our target column."
      ],
      "metadata": {
        "id": "iMUXXSx36xJZ"
      }
    },
    {
      "cell_type": "code",
      "source": [
        "phq_columns_to_drop = ['PHQ1', 'PHQ2', 'PHQ3', 'PHQ4', 'PHQ5', 'PHQ6', 'PHQ7', 'PHQ8', 'PHQ9']\n",
        "data = data.drop(columns=phq_columns_to_drop)"
      ],
      "metadata": {
        "id": "w-tMREbqJ0cJ"
      },
      "execution_count": null,
      "outputs": []
    },
    {
      "cell_type": "code",
      "source": [
        "data.info()"
      ],
      "metadata": {
        "colab": {
          "base_uri": "https://localhost:8080/"
        },
        "id": "I3pWpnjf6qLL",
        "outputId": "340ee75f-2b18-4552-8769-dba8c7899aba"
      },
      "execution_count": null,
      "outputs": [
        {
          "output_type": "stream",
          "name": "stdout",
          "text": [
            "<class 'pandas.core.frame.DataFrame'>\n",
            "RangeIndex: 2028 entries, 0 to 2027\n",
            "Data columns (total 10 columns):\n",
            " #   Column                 Non-Null Count  Dtype \n",
            "---  ------                 --------------  ----- \n",
            " 0   Age                    2028 non-null   object\n",
            " 1   Gender                 2028 non-null   object\n",
            " 2   University             2028 non-null   object\n",
            " 3   Department             2028 non-null   object\n",
            " 4   Academic_Year          2028 non-null   object\n",
            " 5   Current_CGPA           2028 non-null   object\n",
            " 6   waiver_or_scholarship  2028 non-null   object\n",
            " 7   Stress Label           2028 non-null   object\n",
            " 8   Anxiety Label          2028 non-null   object\n",
            " 9   Depression Label       2028 non-null   object\n",
            "dtypes: object(10)\n",
            "memory usage: 158.6+ KB\n"
          ]
        }
      ]
    },
    {
      "cell_type": "markdown",
      "source": [
        "### Renaming PHQ to Questions."
      ],
      "metadata": {
        "id": "s6smOPvM8UMX"
      }
    },
    {
      "cell_type": "markdown",
      "source": [
        "Now we rename the PHQ questions for the reasons stated above."
      ],
      "metadata": {
        "id": "OqMuRXLT8XWY"
      }
    },
    {
      "cell_type": "code",
      "source": [
        "\"\"\"data = data.rename(columns={'PHQ1':'In a semester, how often have you had little interest or pleasure in doing things?',\n",
        "                        'PHQ2':'In a semester, how often have you been feeling down, depressed or hopeless?',\n",
        "                        'PHQ3':'In a semester, how often have you had trouble falling or staying asleep, or sleeping too much?',\n",
        "                        'PHQ4':'In a semester, how often have you been feeling tired or having little energy?',\n",
        "                        'PHQ5':'In a semester, how often have you had poor appetite or overeating?',\n",
        "                        'PHQ6':'In a semester, how often have you been feeling bad about yourself - or that you are a failure or have let yourself or your family down?',\n",
        "                        'PHQ7':'In a semester, how often have you been having trouble concentrating on things, such as reading the books or watching television?',\n",
        "                        'PHQ8':\"In a semester, how often have you moved or spoke too slowly for other people to notice? Or you've been moving a lot more than usual because you've been restless?\",\n",
        "                        'PHQ9':'In a semester, how often have you had thoughts that you would be better off dead, or of hurting yourself?'})\"\"\""
      ],
      "metadata": {
        "id": "JZZcX3pl8cb_",
        "colab": {
          "base_uri": "https://localhost:8080/",
          "height": 110
        },
        "outputId": "692f967a-3558-4aec-c7ab-bb0cab16a66a"
      },
      "execution_count": null,
      "outputs": [
        {
          "output_type": "execute_result",
          "data": {
            "text/plain": [
              "'data = data.rename(columns={\\'PHQ1\\':\\'In a semester, how often have you had little interest or pleasure in doing things?\\',\\n                        \\'PHQ2\\':\\'In a semester, how often have you been feeling down, depressed or hopeless?\\',\\n                        \\'PHQ3\\':\\'In a semester, how often have you had trouble falling or staying asleep, or sleeping too much?\\',\\n                        \\'PHQ4\\':\\'In a semester, how often have you been feeling tired or having little energy?\\',\\n                        \\'PHQ5\\':\\'In a semester, how often have you had poor appetite or overeating?\\',\\n                        \\'PHQ6\\':\\'In a semester, how often have you been feeling bad about yourself - or that you are a failure or have let yourself or your family down?\\',\\n                        \\'PHQ7\\':\\'In a semester, how often have you been having trouble concentrating on things, such as reading the books or watching television?\\',\\n                        \\'PHQ8\\':\"In a semester, how often have you moved or spoke too slowly for other people to notice? Or you\\'ve been moving a lot more than usual because you\\'ve been restless?\",\\n                        \\'PHQ9\\':\\'In a semester, how often have you had thoughts that you would be better off dead, or of hurting yourself?\\'})'"
            ],
            "application/vnd.google.colaboratory.intrinsic+json": {
              "type": "string"
            }
          },
          "metadata": {},
          "execution_count": 10
        }
      ]
    },
    {
      "cell_type": "code",
      "source": [
        "data.info()"
      ],
      "metadata": {
        "colab": {
          "base_uri": "https://localhost:8080/"
        },
        "id": "nc1RNPq78hSd",
        "outputId": "3362920b-8547-4394-de15-86575217d57b"
      },
      "execution_count": null,
      "outputs": [
        {
          "output_type": "stream",
          "name": "stdout",
          "text": [
            "<class 'pandas.core.frame.DataFrame'>\n",
            "RangeIndex: 2028 entries, 0 to 2027\n",
            "Data columns (total 10 columns):\n",
            " #   Column                 Non-Null Count  Dtype \n",
            "---  ------                 --------------  ----- \n",
            " 0   Age                    2028 non-null   object\n",
            " 1   Gender                 2028 non-null   object\n",
            " 2   University             2028 non-null   object\n",
            " 3   Department             2028 non-null   object\n",
            " 4   Academic_Year          2028 non-null   object\n",
            " 5   Current_CGPA           2028 non-null   object\n",
            " 6   waiver_or_scholarship  2028 non-null   object\n",
            " 7   Stress Label           2028 non-null   object\n",
            " 8   Anxiety Label          2028 non-null   object\n",
            " 9   Depression Label       2028 non-null   object\n",
            "dtypes: object(10)\n",
            "memory usage: 158.6+ KB\n"
          ]
        }
      ]
    },
    {
      "cell_type": "markdown",
      "source": [
        "### Continued Data Mapping + Getting Categorical Columns"
      ],
      "metadata": {
        "id": "yFGRkdl67-DV"
      }
    },
    {
      "cell_type": "markdown",
      "source": [
        "Not too many rows dropped from duplicates. Should be good to do an implace."
      ],
      "metadata": {
        "id": "SExf1h5Y758x"
      }
    },
    {
      "cell_type": "code",
      "source": [
        "print(f\"Number of Rows after dropping duplicates: {len(data.drop_duplicates())}\")\n",
        "print(f\"How many rows dropped: {len(data) - len(data.drop_duplicates())}\")"
      ],
      "metadata": {
        "id": "RYtVSu-d6cDt",
        "colab": {
          "base_uri": "https://localhost:8080/"
        },
        "outputId": "a45efbde-154d-43cf-e0be-1b511701ebd7"
      },
      "execution_count": null,
      "outputs": [
        {
          "output_type": "stream",
          "name": "stdout",
          "text": [
            "Number of Rows after dropping duplicates: 1692\n",
            "How many rows dropped: 336\n"
          ]
        }
      ]
    },
    {
      "cell_type": "markdown",
      "source": [
        "No rows were dropped. Might need to check into that in-case zeros were counted as null values. But first, we need to do some data encoding."
      ],
      "metadata": {
        "id": "Mu3BYpem8wO5"
      }
    },
    {
      "cell_type": "code",
      "source": [
        "print(f\"Number of Rows after dropping null values: {len(data.dropna())}\")\n",
        "print(f\"How many rows dropped: {len(data) - len(data.dropna())}\")"
      ],
      "metadata": {
        "colab": {
          "base_uri": "https://localhost:8080/"
        },
        "id": "Pqsr_DMtY9YR",
        "outputId": "7746946e-83ae-4898-b295-7d40f4c93bad"
      },
      "execution_count": null,
      "outputs": [
        {
          "output_type": "stream",
          "name": "stdout",
          "text": [
            "Number of Rows after dropping null values: 2028\n",
            "How many rows dropped: 0\n"
          ]
        }
      ]
    },
    {
      "cell_type": "markdown",
      "source": [
        "First of all, we need to get a list of all available categorical columns."
      ],
      "metadata": {
        "id": "ML0O_i5M85_7"
      }
    },
    {
      "cell_type": "code",
      "source": [
        "categorical_columns = data.select_dtypes(include=['object'])\n",
        "categorical_columns.columns.to_list()"
      ],
      "metadata": {
        "colab": {
          "base_uri": "https://localhost:8080/"
        },
        "id": "SStmPV__cZn1",
        "outputId": "42c4b54b-c1ca-48a5-e989-c01b2040dc21"
      },
      "execution_count": null,
      "outputs": [
        {
          "output_type": "execute_result",
          "data": {
            "text/plain": [
              "['Age',\n",
              " 'Gender',\n",
              " 'University',\n",
              " 'Department',\n",
              " 'Academic_Year',\n",
              " 'Current_CGPA',\n",
              " 'waiver_or_scholarship',\n",
              " 'Stress Label',\n",
              " 'Anxiety Label',\n",
              " 'Depression Label']"
            ]
          },
          "metadata": {},
          "execution_count": 14
        }
      ]
    },
    {
      "cell_type": "markdown",
      "source": [
        "Decent amount of categorical columns. But they all aren't going to be encoded the same way."
      ],
      "metadata": {
        "id": "k6nRwMUy9dm7"
      }
    },
    {
      "cell_type": "markdown",
      "source": [
        "## Data Encoding"
      ],
      "metadata": {
        "id": "ljAoncGBaZLy"
      }
    },
    {
      "cell_type": "markdown",
      "source": [
        "### Categorical Converison"
      ],
      "metadata": {
        "id": "O6M_uHC4d83V"
      }
    },
    {
      "cell_type": "markdown",
      "source": [
        "In order to work with the data with an object type (String) for a model, we have to convert them into a numeric type.\n",
        "\n",
        "Now we need to decide what encoding to do with each column."
      ],
      "metadata": {
        "id": "k5nshRXCcaJx"
      }
    },
    {
      "cell_type": "markdown",
      "source": [
        "Print out all the current unique values in each categorical column currently."
      ],
      "metadata": {
        "id": "icRYC4FXd389"
      }
    },
    {
      "cell_type": "code",
      "source": [
        "for col in categorical_columns:\n",
        "    print(col, data[col].unique())"
      ],
      "metadata": {
        "colab": {
          "base_uri": "https://localhost:8080/"
        },
        "id": "Mu6kFdqochdS",
        "outputId": "963eb83d-70bc-4849-f2b1-76eebb7c2aa7"
      },
      "execution_count": null,
      "outputs": [
        {
          "output_type": "stream",
          "name": "stdout",
          "text": [
            "Age ['18-22' '23-26' '27-30' 'Above 30' 'Below 18']\n",
            "Gender ['Female' 'Male' 'Prefer not to say']\n",
            "University ['Independent University, Bangladesh (IUB)'\n",
            " 'American International University Bangladesh (AIUB)'\n",
            " 'North South University (NSU)' 'Islamic University of Technology (IUT)'\n",
            " 'Patuakhali Science and Technology University'\n",
            " 'Rajshahi University of Engineering and Technology (RUET)'\n",
            " 'Dhaka University (DU)'\n",
            " 'Bangladesh University of Engineering and Technology (BUET)'\n",
            " 'Dhaka University of Engineering and Technology (DUET)'\n",
            " 'United International University (UIU)' 'East West University (EWU)'\n",
            " 'BRAC University' 'Bangladesh Agricultural University (BAU)'\n",
            " 'Rajshahi University (RU)' 'Daffodil University']\n",
            "Department ['Engineering - CS / CSE / CSC / Similar to CS'\n",
            " 'Engineering - EEE/ ECE / Similar to EEE' 'Other'\n",
            " 'Business and Entrepreneurship Studies' 'Environmental and Life Sciences'\n",
            " 'Engineering - Mechanical Engineering / Similar to ME'\n",
            " 'Engineering - Civil Engineering / Similar to CE' 'Biological Sciences'\n",
            " 'Engineering - Other' 'Liberal Arts and Social Sciences'\n",
            " 'Law and Human Rights' 'Pharmacy and Public Health']\n",
            "Academic_Year ['Second Year or Equivalent' 'Third Year or Equivalent' 'Other'\n",
            " 'First Year or Equivalent' 'Fourth Year or Equivalent']\n",
            "Current_CGPA ['2.50 - 2.99' '3.00 - 3.39' '3.40 - 3.79' '3.80 - 4.00' 'Below 2.50'\n",
            " 'Other']\n",
            "waiver_or_scholarship ['No' 'Yes']\n",
            "Stress Label ['High Perceived Stress' 'Moderate Stress' 'Low Stress']\n",
            "Anxiety Label ['Severe Anxiety' 'Moderate Anxiety' 'Minimal Anxiety' 'Mild Anxiety']\n",
            "Depression Label ['Severe Depression' 'Moderately Severe Depression' 'No Depression'\n",
            " 'Moderate Depression' 'Minimal Depression' 'Mild Depression']\n"
          ]
        }
      ]
    },
    {
      "cell_type": "markdown",
      "source": [
        "Age, Academic_Year, Current_CGPA, Stress Label and Anxiety Label all have pretty defined orders of columns. Therefor, we should do ordinal encoding on those columns."
      ],
      "metadata": {
        "id": "VIeEFeJC-aC0"
      }
    },
    {
      "cell_type": "code",
      "source": [
        "ordinal_encoding_cols = categorical_columns.loc[:, ['Age', 'Academic_Year', 'Current_CGPA', 'Stress Label', 'Anxiety Label']].copy()\n",
        "ordinal_encoding_cols.info()"
      ],
      "metadata": {
        "colab": {
          "base_uri": "https://localhost:8080/"
        },
        "id": "_mImq5sW-30G",
        "outputId": "1dfa1e33-abc5-4f79-d58d-658856305111"
      },
      "execution_count": null,
      "outputs": [
        {
          "output_type": "stream",
          "name": "stdout",
          "text": [
            "<class 'pandas.core.frame.DataFrame'>\n",
            "RangeIndex: 2028 entries, 0 to 2027\n",
            "Data columns (total 5 columns):\n",
            " #   Column         Non-Null Count  Dtype \n",
            "---  ------         --------------  ----- \n",
            " 0   Age            2028 non-null   object\n",
            " 1   Academic_Year  2028 non-null   object\n",
            " 2   Current_CGPA   2028 non-null   object\n",
            " 3   Stress Label   2028 non-null   object\n",
            " 4   Anxiety Label  2028 non-null   object\n",
            "dtypes: object(5)\n",
            "memory usage: 79.3+ KB\n"
          ]
        }
      ]
    },
    {
      "cell_type": "markdown",
      "source": [
        "Gender; University; Department; waiver_or_scholarship, however, don't have a clear defined order or are binary values that can be done with one hot encoding."
      ],
      "metadata": {
        "id": "nLgvL92t_6vl"
      }
    },
    {
      "cell_type": "code",
      "source": [
        "one_hot_encoding_cols = categorical_columns.loc[:, ['Gender', 'University', 'Department', 'waiver_or_scholarship']].copy()\n",
        "one_hot_encoding_cols.info()"
      ],
      "metadata": {
        "colab": {
          "base_uri": "https://localhost:8080/"
        },
        "id": "kK3oHI8hAVEM",
        "outputId": "49bc76f0-fdf1-44a7-ebbd-551508e4d50d"
      },
      "execution_count": null,
      "outputs": [
        {
          "output_type": "stream",
          "name": "stdout",
          "text": [
            "<class 'pandas.core.frame.DataFrame'>\n",
            "RangeIndex: 2028 entries, 0 to 2027\n",
            "Data columns (total 4 columns):\n",
            " #   Column                 Non-Null Count  Dtype \n",
            "---  ------                 --------------  ----- \n",
            " 0   Gender                 2028 non-null   object\n",
            " 1   University             2028 non-null   object\n",
            " 2   Department             2028 non-null   object\n",
            " 3   waiver_or_scholarship  2028 non-null   object\n",
            "dtypes: object(4)\n",
            "memory usage: 63.5+ KB\n"
          ]
        }
      ]
    },
    {
      "cell_type": "markdown",
      "source": [
        "All that's left is the Depression Label, which is our target column. This column is special in that we either need to turn it into a multi-class target value, or turn it into a binary value with a specified threshold."
      ],
      "metadata": {
        "id": "dQMC00yEBEBF"
      }
    },
    {
      "cell_type": "markdown",
      "source": [
        "We decided to put a multi-class as a stretch goal. So, binary value it is!\n",
        "\n",
        "We'll do more with this later. Right now, we're going to change the encoding columns."
      ],
      "metadata": {
        "id": "GSPxbdABBSKs"
      }
    },
    {
      "cell_type": "code",
      "source": [
        "target_column = categorical_columns['Depression Label'].copy()"
      ],
      "metadata": {
        "id": "3MW3bbv-BXK1"
      },
      "execution_count": null,
      "outputs": []
    },
    {
      "cell_type": "markdown",
      "source": [
        "### One-Hot Encoding"
      ],
      "metadata": {
        "id": "J_WUVDw2BvAL"
      }
    },
    {
      "cell_type": "markdown",
      "source": [
        "Was advised to use pd.get_dummies() instead of the sklearn OneHotEncoder. Other than that, they are both OHE, so we'll use One-Hot encoding for unordered values.\n",
        "\n",
        "Let's take a look at the columns again."
      ],
      "metadata": {
        "id": "2DsGXoHCBxBf"
      }
    },
    {
      "cell_type": "code",
      "source": [
        "for col in one_hot_encoding_cols:\n",
        "    print(col, one_hot_encoding_cols[col].unique())"
      ],
      "metadata": {
        "colab": {
          "base_uri": "https://localhost:8080/"
        },
        "id": "FS5BYfAmCKHv",
        "outputId": "95925205-b8a8-47a7-def4-bb024b1cb882"
      },
      "execution_count": null,
      "outputs": [
        {
          "output_type": "stream",
          "name": "stdout",
          "text": [
            "Gender ['Female' 'Male' 'Prefer not to say']\n",
            "University ['Independent University, Bangladesh (IUB)'\n",
            " 'American International University Bangladesh (AIUB)'\n",
            " 'North South University (NSU)' 'Islamic University of Technology (IUT)'\n",
            " 'Patuakhali Science and Technology University'\n",
            " 'Rajshahi University of Engineering and Technology (RUET)'\n",
            " 'Dhaka University (DU)'\n",
            " 'Bangladesh University of Engineering and Technology (BUET)'\n",
            " 'Dhaka University of Engineering and Technology (DUET)'\n",
            " 'United International University (UIU)' 'East West University (EWU)'\n",
            " 'BRAC University' 'Bangladesh Agricultural University (BAU)'\n",
            " 'Rajshahi University (RU)' 'Daffodil University']\n",
            "Department ['Engineering - CS / CSE / CSC / Similar to CS'\n",
            " 'Engineering - EEE/ ECE / Similar to EEE' 'Other'\n",
            " 'Business and Entrepreneurship Studies' 'Environmental and Life Sciences'\n",
            " 'Engineering - Mechanical Engineering / Similar to ME'\n",
            " 'Engineering - Civil Engineering / Similar to CE' 'Biological Sciences'\n",
            " 'Engineering - Other' 'Liberal Arts and Social Sciences'\n",
            " 'Law and Human Rights' 'Pharmacy and Public Health']\n",
            "waiver_or_scholarship ['No' 'Yes']\n"
          ]
        }
      ]
    },
    {
      "cell_type": "markdown",
      "source": [
        "Finally, with the get_dummies, iterate through each column and transform the data!\n",
        "\n",
        "There are a lot of resulting columns, but I have confirmed that they are correct and used in the model."
      ],
      "metadata": {
        "id": "5wT8tXLpCdvH"
      }
    },
    {
      "cell_type": "code",
      "source": [
        "oh_encoded_df = pd.get_dummies(one_hot_encoding_cols)\n",
        "oh_encoded_df"
      ],
      "metadata": {
        "colab": {
          "base_uri": "https://localhost:8080/",
          "height": 513
        },
        "id": "a8WiSGsDEa1s",
        "outputId": "09d40fef-d3cc-41be-e2bb-813b5cbbf8be"
      },
      "execution_count": null,
      "outputs": [
        {
          "output_type": "execute_result",
          "data": {
            "text/plain": [
              "      Gender_Female  Gender_Male  Gender_Prefer not to say  \\\n",
              "0              True        False                     False   \n",
              "1             False         True                     False   \n",
              "2             False         True                     False   \n",
              "3             False         True                     False   \n",
              "4             False         True                     False   \n",
              "...             ...          ...                       ...   \n",
              "2023          False         True                     False   \n",
              "2024           True        False                     False   \n",
              "2025          False         True                     False   \n",
              "2026           True        False                     False   \n",
              "2027          False         True                     False   \n",
              "\n",
              "      University_American International University Bangladesh (AIUB)  \\\n",
              "0                                                 False                \n",
              "1                                                 False                \n",
              "2                                                  True                \n",
              "3                                                  True                \n",
              "4                                                 False                \n",
              "...                                                 ...                \n",
              "2023                                              False                \n",
              "2024                                              False                \n",
              "2025                                               True                \n",
              "2026                                              False                \n",
              "2027                                              False                \n",
              "\n",
              "      University_BRAC University  \\\n",
              "0                          False   \n",
              "1                          False   \n",
              "2                          False   \n",
              "3                          False   \n",
              "4                          False   \n",
              "...                          ...   \n",
              "2023                       False   \n",
              "2024                       False   \n",
              "2025                       False   \n",
              "2026                       False   \n",
              "2027                       False   \n",
              "\n",
              "      University_Bangladesh Agricultural University (BAU)  \\\n",
              "0                                                 False     \n",
              "1                                                 False     \n",
              "2                                                 False     \n",
              "3                                                 False     \n",
              "4                                                 False     \n",
              "...                                                 ...     \n",
              "2023                                              False     \n",
              "2024                                               True     \n",
              "2025                                              False     \n",
              "2026                                              False     \n",
              "2027                                              False     \n",
              "\n",
              "      University_Bangladesh University of Engineering and Technology (BUET)  \\\n",
              "0                                                 False                       \n",
              "1                                                 False                       \n",
              "2                                                 False                       \n",
              "3                                                 False                       \n",
              "4                                                 False                       \n",
              "...                                                 ...                       \n",
              "2023                                              False                       \n",
              "2024                                              False                       \n",
              "2025                                              False                       \n",
              "2026                                              False                       \n",
              "2027                                              False                       \n",
              "\n",
              "      University_Daffodil University  University_Dhaka University (DU)  \\\n",
              "0                              False                             False   \n",
              "1                              False                             False   \n",
              "2                              False                             False   \n",
              "3                              False                             False   \n",
              "4                              False                             False   \n",
              "...                              ...                               ...   \n",
              "2023                           False                              True   \n",
              "2024                           False                             False   \n",
              "2025                           False                             False   \n",
              "2026                           False                              True   \n",
              "2027                           False                             False   \n",
              "\n",
              "      University_Dhaka University of Engineering and Technology (DUET)  ...  \\\n",
              "0                                                 False                 ...   \n",
              "1                                                 False                 ...   \n",
              "2                                                 False                 ...   \n",
              "3                                                 False                 ...   \n",
              "4                                                 False                 ...   \n",
              "...                                                 ...                 ...   \n",
              "2023                                              False                 ...   \n",
              "2024                                              False                 ...   \n",
              "2025                                              False                 ...   \n",
              "2026                                              False                 ...   \n",
              "2027                                              False                 ...   \n",
              "\n",
              "      Department_Engineering - EEE/ ECE / Similar to EEE  \\\n",
              "0                                                 False    \n",
              "1                                                 False    \n",
              "2                                                 False    \n",
              "3                                                 False    \n",
              "4                                                 False    \n",
              "...                                                 ...    \n",
              "2023                                              False    \n",
              "2024                                              False    \n",
              "2025                                              False    \n",
              "2026                                              False    \n",
              "2027                                              False    \n",
              "\n",
              "      Department_Engineering - Mechanical Engineering / Similar to ME  \\\n",
              "0                                                 False                 \n",
              "1                                                 False                 \n",
              "2                                                 False                 \n",
              "3                                                 False                 \n",
              "4                                                 False                 \n",
              "...                                                 ...                 \n",
              "2023                                              False                 \n",
              "2024                                              False                 \n",
              "2025                                              False                 \n",
              "2026                                              False                 \n",
              "2027                                              False                 \n",
              "\n",
              "      Department_Engineering - Other  \\\n",
              "0                              False   \n",
              "1                              False   \n",
              "2                              False   \n",
              "3                              False   \n",
              "4                              False   \n",
              "...                              ...   \n",
              "2023                           False   \n",
              "2024                           False   \n",
              "2025                           False   \n",
              "2026                           False   \n",
              "2027                           False   \n",
              "\n",
              "      Department_Environmental and Life Sciences  \\\n",
              "0                                          False   \n",
              "1                                          False   \n",
              "2                                          False   \n",
              "3                                          False   \n",
              "4                                          False   \n",
              "...                                          ...   \n",
              "2023                                       False   \n",
              "2024                                       False   \n",
              "2025                                       False   \n",
              "2026                                       False   \n",
              "2027                                       False   \n",
              "\n",
              "      Department_Law and Human Rights  \\\n",
              "0                               False   \n",
              "1                               False   \n",
              "2                               False   \n",
              "3                               False   \n",
              "4                               False   \n",
              "...                               ...   \n",
              "2023                            False   \n",
              "2024                            False   \n",
              "2025                            False   \n",
              "2026                            False   \n",
              "2027                            False   \n",
              "\n",
              "      Department_Liberal Arts and Social Sciences  Department_Other  \\\n",
              "0                                           False             False   \n",
              "1                                           False             False   \n",
              "2                                           False             False   \n",
              "3                                           False             False   \n",
              "4                                           False             False   \n",
              "...                                           ...               ...   \n",
              "2023                                        False              True   \n",
              "2024                                        False             False   \n",
              "2025                                        False             False   \n",
              "2026                                        False              True   \n",
              "2027                                        False             False   \n",
              "\n",
              "      Department_Pharmacy and Public Health  waiver_or_scholarship_No  \\\n",
              "0                                     False                      True   \n",
              "1                                     False                      True   \n",
              "2                                     False                      True   \n",
              "3                                     False                      True   \n",
              "4                                     False                      True   \n",
              "...                                     ...                       ...   \n",
              "2023                                  False                      True   \n",
              "2024                                  False                      True   \n",
              "2025                                  False                      True   \n",
              "2026                                  False                      True   \n",
              "2027                                  False                      True   \n",
              "\n",
              "      waiver_or_scholarship_Yes  \n",
              "0                         False  \n",
              "1                         False  \n",
              "2                         False  \n",
              "3                         False  \n",
              "4                         False  \n",
              "...                         ...  \n",
              "2023                      False  \n",
              "2024                      False  \n",
              "2025                      False  \n",
              "2026                      False  \n",
              "2027                      False  \n",
              "\n",
              "[2028 rows x 32 columns]"
            ],
            "text/html": [
              "\n",
              "  <div id=\"df-b2280d2f-396c-46c5-b9f4-aa69ea9c3cea\" class=\"colab-df-container\">\n",
              "    <div>\n",
              "<style scoped>\n",
              "    .dataframe tbody tr th:only-of-type {\n",
              "        vertical-align: middle;\n",
              "    }\n",
              "\n",
              "    .dataframe tbody tr th {\n",
              "        vertical-align: top;\n",
              "    }\n",
              "\n",
              "    .dataframe thead th {\n",
              "        text-align: right;\n",
              "    }\n",
              "</style>\n",
              "<table border=\"1\" class=\"dataframe\">\n",
              "  <thead>\n",
              "    <tr style=\"text-align: right;\">\n",
              "      <th></th>\n",
              "      <th>Gender_Female</th>\n",
              "      <th>Gender_Male</th>\n",
              "      <th>Gender_Prefer not to say</th>\n",
              "      <th>University_American International University Bangladesh (AIUB)</th>\n",
              "      <th>University_BRAC University</th>\n",
              "      <th>University_Bangladesh Agricultural University (BAU)</th>\n",
              "      <th>University_Bangladesh University of Engineering and Technology (BUET)</th>\n",
              "      <th>University_Daffodil University</th>\n",
              "      <th>University_Dhaka University (DU)</th>\n",
              "      <th>University_Dhaka University of Engineering and Technology (DUET)</th>\n",
              "      <th>...</th>\n",
              "      <th>Department_Engineering - EEE/ ECE / Similar to EEE</th>\n",
              "      <th>Department_Engineering - Mechanical Engineering / Similar to ME</th>\n",
              "      <th>Department_Engineering - Other</th>\n",
              "      <th>Department_Environmental and Life Sciences</th>\n",
              "      <th>Department_Law and Human Rights</th>\n",
              "      <th>Department_Liberal Arts and Social Sciences</th>\n",
              "      <th>Department_Other</th>\n",
              "      <th>Department_Pharmacy and Public Health</th>\n",
              "      <th>waiver_or_scholarship_No</th>\n",
              "      <th>waiver_or_scholarship_Yes</th>\n",
              "    </tr>\n",
              "  </thead>\n",
              "  <tbody>\n",
              "    <tr>\n",
              "      <th>0</th>\n",
              "      <td>True</td>\n",
              "      <td>False</td>\n",
              "      <td>False</td>\n",
              "      <td>False</td>\n",
              "      <td>False</td>\n",
              "      <td>False</td>\n",
              "      <td>False</td>\n",
              "      <td>False</td>\n",
              "      <td>False</td>\n",
              "      <td>False</td>\n",
              "      <td>...</td>\n",
              "      <td>False</td>\n",
              "      <td>False</td>\n",
              "      <td>False</td>\n",
              "      <td>False</td>\n",
              "      <td>False</td>\n",
              "      <td>False</td>\n",
              "      <td>False</td>\n",
              "      <td>False</td>\n",
              "      <td>True</td>\n",
              "      <td>False</td>\n",
              "    </tr>\n",
              "    <tr>\n",
              "      <th>1</th>\n",
              "      <td>False</td>\n",
              "      <td>True</td>\n",
              "      <td>False</td>\n",
              "      <td>False</td>\n",
              "      <td>False</td>\n",
              "      <td>False</td>\n",
              "      <td>False</td>\n",
              "      <td>False</td>\n",
              "      <td>False</td>\n",
              "      <td>False</td>\n",
              "      <td>...</td>\n",
              "      <td>False</td>\n",
              "      <td>False</td>\n",
              "      <td>False</td>\n",
              "      <td>False</td>\n",
              "      <td>False</td>\n",
              "      <td>False</td>\n",
              "      <td>False</td>\n",
              "      <td>False</td>\n",
              "      <td>True</td>\n",
              "      <td>False</td>\n",
              "    </tr>\n",
              "    <tr>\n",
              "      <th>2</th>\n",
              "      <td>False</td>\n",
              "      <td>True</td>\n",
              "      <td>False</td>\n",
              "      <td>True</td>\n",
              "      <td>False</td>\n",
              "      <td>False</td>\n",
              "      <td>False</td>\n",
              "      <td>False</td>\n",
              "      <td>False</td>\n",
              "      <td>False</td>\n",
              "      <td>...</td>\n",
              "      <td>False</td>\n",
              "      <td>False</td>\n",
              "      <td>False</td>\n",
              "      <td>False</td>\n",
              "      <td>False</td>\n",
              "      <td>False</td>\n",
              "      <td>False</td>\n",
              "      <td>False</td>\n",
              "      <td>True</td>\n",
              "      <td>False</td>\n",
              "    </tr>\n",
              "    <tr>\n",
              "      <th>3</th>\n",
              "      <td>False</td>\n",
              "      <td>True</td>\n",
              "      <td>False</td>\n",
              "      <td>True</td>\n",
              "      <td>False</td>\n",
              "      <td>False</td>\n",
              "      <td>False</td>\n",
              "      <td>False</td>\n",
              "      <td>False</td>\n",
              "      <td>False</td>\n",
              "      <td>...</td>\n",
              "      <td>False</td>\n",
              "      <td>False</td>\n",
              "      <td>False</td>\n",
              "      <td>False</td>\n",
              "      <td>False</td>\n",
              "      <td>False</td>\n",
              "      <td>False</td>\n",
              "      <td>False</td>\n",
              "      <td>True</td>\n",
              "      <td>False</td>\n",
              "    </tr>\n",
              "    <tr>\n",
              "      <th>4</th>\n",
              "      <td>False</td>\n",
              "      <td>True</td>\n",
              "      <td>False</td>\n",
              "      <td>False</td>\n",
              "      <td>False</td>\n",
              "      <td>False</td>\n",
              "      <td>False</td>\n",
              "      <td>False</td>\n",
              "      <td>False</td>\n",
              "      <td>False</td>\n",
              "      <td>...</td>\n",
              "      <td>False</td>\n",
              "      <td>False</td>\n",
              "      <td>False</td>\n",
              "      <td>False</td>\n",
              "      <td>False</td>\n",
              "      <td>False</td>\n",
              "      <td>False</td>\n",
              "      <td>False</td>\n",
              "      <td>True</td>\n",
              "      <td>False</td>\n",
              "    </tr>\n",
              "    <tr>\n",
              "      <th>...</th>\n",
              "      <td>...</td>\n",
              "      <td>...</td>\n",
              "      <td>...</td>\n",
              "      <td>...</td>\n",
              "      <td>...</td>\n",
              "      <td>...</td>\n",
              "      <td>...</td>\n",
              "      <td>...</td>\n",
              "      <td>...</td>\n",
              "      <td>...</td>\n",
              "      <td>...</td>\n",
              "      <td>...</td>\n",
              "      <td>...</td>\n",
              "      <td>...</td>\n",
              "      <td>...</td>\n",
              "      <td>...</td>\n",
              "      <td>...</td>\n",
              "      <td>...</td>\n",
              "      <td>...</td>\n",
              "      <td>...</td>\n",
              "      <td>...</td>\n",
              "    </tr>\n",
              "    <tr>\n",
              "      <th>2023</th>\n",
              "      <td>False</td>\n",
              "      <td>True</td>\n",
              "      <td>False</td>\n",
              "      <td>False</td>\n",
              "      <td>False</td>\n",
              "      <td>False</td>\n",
              "      <td>False</td>\n",
              "      <td>False</td>\n",
              "      <td>True</td>\n",
              "      <td>False</td>\n",
              "      <td>...</td>\n",
              "      <td>False</td>\n",
              "      <td>False</td>\n",
              "      <td>False</td>\n",
              "      <td>False</td>\n",
              "      <td>False</td>\n",
              "      <td>False</td>\n",
              "      <td>True</td>\n",
              "      <td>False</td>\n",
              "      <td>True</td>\n",
              "      <td>False</td>\n",
              "    </tr>\n",
              "    <tr>\n",
              "      <th>2024</th>\n",
              "      <td>True</td>\n",
              "      <td>False</td>\n",
              "      <td>False</td>\n",
              "      <td>False</td>\n",
              "      <td>False</td>\n",
              "      <td>True</td>\n",
              "      <td>False</td>\n",
              "      <td>False</td>\n",
              "      <td>False</td>\n",
              "      <td>False</td>\n",
              "      <td>...</td>\n",
              "      <td>False</td>\n",
              "      <td>False</td>\n",
              "      <td>False</td>\n",
              "      <td>False</td>\n",
              "      <td>False</td>\n",
              "      <td>False</td>\n",
              "      <td>False</td>\n",
              "      <td>False</td>\n",
              "      <td>True</td>\n",
              "      <td>False</td>\n",
              "    </tr>\n",
              "    <tr>\n",
              "      <th>2025</th>\n",
              "      <td>False</td>\n",
              "      <td>True</td>\n",
              "      <td>False</td>\n",
              "      <td>True</td>\n",
              "      <td>False</td>\n",
              "      <td>False</td>\n",
              "      <td>False</td>\n",
              "      <td>False</td>\n",
              "      <td>False</td>\n",
              "      <td>False</td>\n",
              "      <td>...</td>\n",
              "      <td>False</td>\n",
              "      <td>False</td>\n",
              "      <td>False</td>\n",
              "      <td>False</td>\n",
              "      <td>False</td>\n",
              "      <td>False</td>\n",
              "      <td>False</td>\n",
              "      <td>False</td>\n",
              "      <td>True</td>\n",
              "      <td>False</td>\n",
              "    </tr>\n",
              "    <tr>\n",
              "      <th>2026</th>\n",
              "      <td>True</td>\n",
              "      <td>False</td>\n",
              "      <td>False</td>\n",
              "      <td>False</td>\n",
              "      <td>False</td>\n",
              "      <td>False</td>\n",
              "      <td>False</td>\n",
              "      <td>False</td>\n",
              "      <td>True</td>\n",
              "      <td>False</td>\n",
              "      <td>...</td>\n",
              "      <td>False</td>\n",
              "      <td>False</td>\n",
              "      <td>False</td>\n",
              "      <td>False</td>\n",
              "      <td>False</td>\n",
              "      <td>False</td>\n",
              "      <td>True</td>\n",
              "      <td>False</td>\n",
              "      <td>True</td>\n",
              "      <td>False</td>\n",
              "    </tr>\n",
              "    <tr>\n",
              "      <th>2027</th>\n",
              "      <td>False</td>\n",
              "      <td>True</td>\n",
              "      <td>False</td>\n",
              "      <td>False</td>\n",
              "      <td>False</td>\n",
              "      <td>False</td>\n",
              "      <td>False</td>\n",
              "      <td>False</td>\n",
              "      <td>False</td>\n",
              "      <td>False</td>\n",
              "      <td>...</td>\n",
              "      <td>False</td>\n",
              "      <td>False</td>\n",
              "      <td>False</td>\n",
              "      <td>False</td>\n",
              "      <td>False</td>\n",
              "      <td>False</td>\n",
              "      <td>False</td>\n",
              "      <td>False</td>\n",
              "      <td>True</td>\n",
              "      <td>False</td>\n",
              "    </tr>\n",
              "  </tbody>\n",
              "</table>\n",
              "<p>2028 rows × 32 columns</p>\n",
              "</div>\n",
              "    <div class=\"colab-df-buttons\">\n",
              "\n",
              "  <div class=\"colab-df-container\">\n",
              "    <button class=\"colab-df-convert\" onclick=\"convertToInteractive('df-b2280d2f-396c-46c5-b9f4-aa69ea9c3cea')\"\n",
              "            title=\"Convert this dataframe to an interactive table.\"\n",
              "            style=\"display:none;\">\n",
              "\n",
              "  <svg xmlns=\"http://www.w3.org/2000/svg\" height=\"24px\" viewBox=\"0 -960 960 960\">\n",
              "    <path d=\"M120-120v-720h720v720H120Zm60-500h600v-160H180v160Zm220 220h160v-160H400v160Zm0 220h160v-160H400v160ZM180-400h160v-160H180v160Zm440 0h160v-160H620v160ZM180-180h160v-160H180v160Zm440 0h160v-160H620v160Z\"/>\n",
              "  </svg>\n",
              "    </button>\n",
              "\n",
              "  <style>\n",
              "    .colab-df-container {\n",
              "      display:flex;\n",
              "      gap: 12px;\n",
              "    }\n",
              "\n",
              "    .colab-df-convert {\n",
              "      background-color: #E8F0FE;\n",
              "      border: none;\n",
              "      border-radius: 50%;\n",
              "      cursor: pointer;\n",
              "      display: none;\n",
              "      fill: #1967D2;\n",
              "      height: 32px;\n",
              "      padding: 0 0 0 0;\n",
              "      width: 32px;\n",
              "    }\n",
              "\n",
              "    .colab-df-convert:hover {\n",
              "      background-color: #E2EBFA;\n",
              "      box-shadow: 0px 1px 2px rgba(60, 64, 67, 0.3), 0px 1px 3px 1px rgba(60, 64, 67, 0.15);\n",
              "      fill: #174EA6;\n",
              "    }\n",
              "\n",
              "    .colab-df-buttons div {\n",
              "      margin-bottom: 4px;\n",
              "    }\n",
              "\n",
              "    [theme=dark] .colab-df-convert {\n",
              "      background-color: #3B4455;\n",
              "      fill: #D2E3FC;\n",
              "    }\n",
              "\n",
              "    [theme=dark] .colab-df-convert:hover {\n",
              "      background-color: #434B5C;\n",
              "      box-shadow: 0px 1px 3px 1px rgba(0, 0, 0, 0.15);\n",
              "      filter: drop-shadow(0px 1px 2px rgba(0, 0, 0, 0.3));\n",
              "      fill: #FFFFFF;\n",
              "    }\n",
              "  </style>\n",
              "\n",
              "    <script>\n",
              "      const buttonEl =\n",
              "        document.querySelector('#df-b2280d2f-396c-46c5-b9f4-aa69ea9c3cea button.colab-df-convert');\n",
              "      buttonEl.style.display =\n",
              "        google.colab.kernel.accessAllowed ? 'block' : 'none';\n",
              "\n",
              "      async function convertToInteractive(key) {\n",
              "        const element = document.querySelector('#df-b2280d2f-396c-46c5-b9f4-aa69ea9c3cea');\n",
              "        const dataTable =\n",
              "          await google.colab.kernel.invokeFunction('convertToInteractive',\n",
              "                                                    [key], {});\n",
              "        if (!dataTable) return;\n",
              "\n",
              "        const docLinkHtml = 'Like what you see? Visit the ' +\n",
              "          '<a target=\"_blank\" href=https://colab.research.google.com/notebooks/data_table.ipynb>data table notebook</a>'\n",
              "          + ' to learn more about interactive tables.';\n",
              "        element.innerHTML = '';\n",
              "        dataTable['output_type'] = 'display_data';\n",
              "        await google.colab.output.renderOutput(dataTable, element);\n",
              "        const docLink = document.createElement('div');\n",
              "        docLink.innerHTML = docLinkHtml;\n",
              "        element.appendChild(docLink);\n",
              "      }\n",
              "    </script>\n",
              "  </div>\n",
              "\n",
              "\n",
              "<div id=\"df-d9efc9da-5e9e-43bd-b177-c2745df3aecd\">\n",
              "  <button class=\"colab-df-quickchart\" onclick=\"quickchart('df-d9efc9da-5e9e-43bd-b177-c2745df3aecd')\"\n",
              "            title=\"Suggest charts\"\n",
              "            style=\"display:none;\">\n",
              "\n",
              "<svg xmlns=\"http://www.w3.org/2000/svg\" height=\"24px\"viewBox=\"0 0 24 24\"\n",
              "     width=\"24px\">\n",
              "    <g>\n",
              "        <path d=\"M19 3H5c-1.1 0-2 .9-2 2v14c0 1.1.9 2 2 2h14c1.1 0 2-.9 2-2V5c0-1.1-.9-2-2-2zM9 17H7v-7h2v7zm4 0h-2V7h2v10zm4 0h-2v-4h2v4z\"/>\n",
              "    </g>\n",
              "</svg>\n",
              "  </button>\n",
              "\n",
              "<style>\n",
              "  .colab-df-quickchart {\n",
              "      --bg-color: #E8F0FE;\n",
              "      --fill-color: #1967D2;\n",
              "      --hover-bg-color: #E2EBFA;\n",
              "      --hover-fill-color: #174EA6;\n",
              "      --disabled-fill-color: #AAA;\n",
              "      --disabled-bg-color: #DDD;\n",
              "  }\n",
              "\n",
              "  [theme=dark] .colab-df-quickchart {\n",
              "      --bg-color: #3B4455;\n",
              "      --fill-color: #D2E3FC;\n",
              "      --hover-bg-color: #434B5C;\n",
              "      --hover-fill-color: #FFFFFF;\n",
              "      --disabled-bg-color: #3B4455;\n",
              "      --disabled-fill-color: #666;\n",
              "  }\n",
              "\n",
              "  .colab-df-quickchart {\n",
              "    background-color: var(--bg-color);\n",
              "    border: none;\n",
              "    border-radius: 50%;\n",
              "    cursor: pointer;\n",
              "    display: none;\n",
              "    fill: var(--fill-color);\n",
              "    height: 32px;\n",
              "    padding: 0;\n",
              "    width: 32px;\n",
              "  }\n",
              "\n",
              "  .colab-df-quickchart:hover {\n",
              "    background-color: var(--hover-bg-color);\n",
              "    box-shadow: 0 1px 2px rgba(60, 64, 67, 0.3), 0 1px 3px 1px rgba(60, 64, 67, 0.15);\n",
              "    fill: var(--button-hover-fill-color);\n",
              "  }\n",
              "\n",
              "  .colab-df-quickchart-complete:disabled,\n",
              "  .colab-df-quickchart-complete:disabled:hover {\n",
              "    background-color: var(--disabled-bg-color);\n",
              "    fill: var(--disabled-fill-color);\n",
              "    box-shadow: none;\n",
              "  }\n",
              "\n",
              "  .colab-df-spinner {\n",
              "    border: 2px solid var(--fill-color);\n",
              "    border-color: transparent;\n",
              "    border-bottom-color: var(--fill-color);\n",
              "    animation:\n",
              "      spin 1s steps(1) infinite;\n",
              "  }\n",
              "\n",
              "  @keyframes spin {\n",
              "    0% {\n",
              "      border-color: transparent;\n",
              "      border-bottom-color: var(--fill-color);\n",
              "      border-left-color: var(--fill-color);\n",
              "    }\n",
              "    20% {\n",
              "      border-color: transparent;\n",
              "      border-left-color: var(--fill-color);\n",
              "      border-top-color: var(--fill-color);\n",
              "    }\n",
              "    30% {\n",
              "      border-color: transparent;\n",
              "      border-left-color: var(--fill-color);\n",
              "      border-top-color: var(--fill-color);\n",
              "      border-right-color: var(--fill-color);\n",
              "    }\n",
              "    40% {\n",
              "      border-color: transparent;\n",
              "      border-right-color: var(--fill-color);\n",
              "      border-top-color: var(--fill-color);\n",
              "    }\n",
              "    60% {\n",
              "      border-color: transparent;\n",
              "      border-right-color: var(--fill-color);\n",
              "    }\n",
              "    80% {\n",
              "      border-color: transparent;\n",
              "      border-right-color: var(--fill-color);\n",
              "      border-bottom-color: var(--fill-color);\n",
              "    }\n",
              "    90% {\n",
              "      border-color: transparent;\n",
              "      border-bottom-color: var(--fill-color);\n",
              "    }\n",
              "  }\n",
              "</style>\n",
              "\n",
              "  <script>\n",
              "    async function quickchart(key) {\n",
              "      const quickchartButtonEl =\n",
              "        document.querySelector('#' + key + ' button');\n",
              "      quickchartButtonEl.disabled = true;  // To prevent multiple clicks.\n",
              "      quickchartButtonEl.classList.add('colab-df-spinner');\n",
              "      try {\n",
              "        const charts = await google.colab.kernel.invokeFunction(\n",
              "            'suggestCharts', [key], {});\n",
              "      } catch (error) {\n",
              "        console.error('Error during call to suggestCharts:', error);\n",
              "      }\n",
              "      quickchartButtonEl.classList.remove('colab-df-spinner');\n",
              "      quickchartButtonEl.classList.add('colab-df-quickchart-complete');\n",
              "    }\n",
              "    (() => {\n",
              "      let quickchartButtonEl =\n",
              "        document.querySelector('#df-d9efc9da-5e9e-43bd-b177-c2745df3aecd button');\n",
              "      quickchartButtonEl.style.display =\n",
              "        google.colab.kernel.accessAllowed ? 'block' : 'none';\n",
              "    })();\n",
              "  </script>\n",
              "</div>\n",
              "\n",
              "  <div id=\"id_1a38db26-080d-4953-8876-1a3096533603\">\n",
              "    <style>\n",
              "      .colab-df-generate {\n",
              "        background-color: #E8F0FE;\n",
              "        border: none;\n",
              "        border-radius: 50%;\n",
              "        cursor: pointer;\n",
              "        display: none;\n",
              "        fill: #1967D2;\n",
              "        height: 32px;\n",
              "        padding: 0 0 0 0;\n",
              "        width: 32px;\n",
              "      }\n",
              "\n",
              "      .colab-df-generate:hover {\n",
              "        background-color: #E2EBFA;\n",
              "        box-shadow: 0px 1px 2px rgba(60, 64, 67, 0.3), 0px 1px 3px 1px rgba(60, 64, 67, 0.15);\n",
              "        fill: #174EA6;\n",
              "      }\n",
              "\n",
              "      [theme=dark] .colab-df-generate {\n",
              "        background-color: #3B4455;\n",
              "        fill: #D2E3FC;\n",
              "      }\n",
              "\n",
              "      [theme=dark] .colab-df-generate:hover {\n",
              "        background-color: #434B5C;\n",
              "        box-shadow: 0px 1px 3px 1px rgba(0, 0, 0, 0.15);\n",
              "        filter: drop-shadow(0px 1px 2px rgba(0, 0, 0, 0.3));\n",
              "        fill: #FFFFFF;\n",
              "      }\n",
              "    </style>\n",
              "    <button class=\"colab-df-generate\" onclick=\"generateWithVariable('oh_encoded_df')\"\n",
              "            title=\"Generate code using this dataframe.\"\n",
              "            style=\"display:none;\">\n",
              "\n",
              "  <svg xmlns=\"http://www.w3.org/2000/svg\" height=\"24px\"viewBox=\"0 0 24 24\"\n",
              "       width=\"24px\">\n",
              "    <path d=\"M7,19H8.4L18.45,9,17,7.55,7,17.6ZM5,21V16.75L18.45,3.32a2,2,0,0,1,2.83,0l1.4,1.43a1.91,1.91,0,0,1,.58,1.4,1.91,1.91,0,0,1-.58,1.4L9.25,21ZM18.45,9,17,7.55Zm-12,3A5.31,5.31,0,0,0,4.9,8.1,5.31,5.31,0,0,0,1,6.5,5.31,5.31,0,0,0,4.9,4.9,5.31,5.31,0,0,0,6.5,1,5.31,5.31,0,0,0,8.1,4.9,5.31,5.31,0,0,0,12,6.5,5.46,5.46,0,0,0,6.5,12Z\"/>\n",
              "  </svg>\n",
              "    </button>\n",
              "    <script>\n",
              "      (() => {\n",
              "      const buttonEl =\n",
              "        document.querySelector('#id_1a38db26-080d-4953-8876-1a3096533603 button.colab-df-generate');\n",
              "      buttonEl.style.display =\n",
              "        google.colab.kernel.accessAllowed ? 'block' : 'none';\n",
              "\n",
              "      buttonEl.onclick = () => {\n",
              "        google.colab.notebook.generateWithVariable('oh_encoded_df');\n",
              "      }\n",
              "      })();\n",
              "    </script>\n",
              "  </div>\n",
              "\n",
              "    </div>\n",
              "  </div>\n"
            ],
            "application/vnd.google.colaboratory.intrinsic+json": {
              "type": "dataframe",
              "variable_name": "oh_encoded_df"
            }
          },
          "metadata": {},
          "execution_count": 20
        }
      ]
    },
    {
      "cell_type": "markdown",
      "source": [
        "waiver_or_scholarship is a binary value, and as pd.get_dummies() gave us two column values for it, we are safe to drop one. We don't need both of them."
      ],
      "metadata": {
        "id": "fbNgZ0iMtP6x"
      }
    },
    {
      "cell_type": "code",
      "source": [
        "oh_encoded_df = oh_encoded_df.drop('waiver_or_scholarship_No', axis=1)\n",
        "oh_encoded_df.info()"
      ],
      "metadata": {
        "colab": {
          "base_uri": "https://localhost:8080/"
        },
        "id": "BWXYUR8Ftv-3",
        "outputId": "c02381f5-e990-4ff7-fb50-9d6d56deac75"
      },
      "execution_count": null,
      "outputs": [
        {
          "output_type": "stream",
          "name": "stdout",
          "text": [
            "<class 'pandas.core.frame.DataFrame'>\n",
            "RangeIndex: 2028 entries, 0 to 2027\n",
            "Data columns (total 31 columns):\n",
            " #   Column                                                                 Non-Null Count  Dtype\n",
            "---  ------                                                                 --------------  -----\n",
            " 0   Gender_Female                                                          2028 non-null   bool \n",
            " 1   Gender_Male                                                            2028 non-null   bool \n",
            " 2   Gender_Prefer not to say                                               2028 non-null   bool \n",
            " 3   University_American International University Bangladesh (AIUB)         2028 non-null   bool \n",
            " 4   University_BRAC University                                             2028 non-null   bool \n",
            " 5   University_Bangladesh Agricultural University (BAU)                    2028 non-null   bool \n",
            " 6   University_Bangladesh University of Engineering and Technology (BUET)  2028 non-null   bool \n",
            " 7   University_Daffodil University                                         2028 non-null   bool \n",
            " 8   University_Dhaka University (DU)                                       2028 non-null   bool \n",
            " 9   University_Dhaka University of Engineering and Technology (DUET)       2028 non-null   bool \n",
            " 10  University_East West University (EWU)                                  2028 non-null   bool \n",
            " 11  University_Independent University, Bangladesh (IUB)                    2028 non-null   bool \n",
            " 12  University_Islamic University of Technology (IUT)                      2028 non-null   bool \n",
            " 13  University_North South University (NSU)                                2028 non-null   bool \n",
            " 14  University_Patuakhali Science and Technology University                2028 non-null   bool \n",
            " 15  University_Rajshahi University (RU)                                    2028 non-null   bool \n",
            " 16  University_Rajshahi University of Engineering and Technology (RUET)    2028 non-null   bool \n",
            " 17  University_United International University (UIU)                       2028 non-null   bool \n",
            " 18  Department_Biological Sciences                                         2028 non-null   bool \n",
            " 19  Department_Business and Entrepreneurship Studies                       2028 non-null   bool \n",
            " 20  Department_Engineering - CS / CSE / CSC / Similar to CS                2028 non-null   bool \n",
            " 21  Department_Engineering - Civil Engineering / Similar to CE             2028 non-null   bool \n",
            " 22  Department_Engineering - EEE/ ECE / Similar to EEE                     2028 non-null   bool \n",
            " 23  Department_Engineering - Mechanical Engineering / Similar to ME        2028 non-null   bool \n",
            " 24  Department_Engineering - Other                                         2028 non-null   bool \n",
            " 25  Department_Environmental and Life Sciences                             2028 non-null   bool \n",
            " 26  Department_Law and Human Rights                                        2028 non-null   bool \n",
            " 27  Department_Liberal Arts and Social Sciences                            2028 non-null   bool \n",
            " 28  Department_Other                                                       2028 non-null   bool \n",
            " 29  Department_Pharmacy and Public Health                                  2028 non-null   bool \n",
            " 30  waiver_or_scholarship_Yes                                              2028 non-null   bool \n",
            "dtypes: bool(31)\n",
            "memory usage: 61.5 KB\n"
          ]
        }
      ]
    },
    {
      "cell_type": "markdown",
      "source": [
        "Again, a lot of columns, but we can see if we need to trim them down or something later. Now we'll move onto Ordinal Encoding."
      ],
      "metadata": {
        "id": "DAGXTPZRuLAv"
      }
    },
    {
      "cell_type": "markdown",
      "source": [
        "### Ordinal Encoding"
      ],
      "metadata": {
        "id": "38S5SvtwKrXy"
      }
    },
    {
      "cell_type": "markdown",
      "source": [
        "Now, we'll do an ordinal encoding with sklearn OrdinalEncoder for the ordered column values.\n",
        "\n",
        "First, we'll recheck the columns that need to be processed."
      ],
      "metadata": {
        "id": "7WAiTGHbK_om"
      }
    },
    {
      "cell_type": "code",
      "source": [
        "for col in ordinal_encoding_cols:\n",
        "    print(col, ordinal_encoding_cols[col].unique())"
      ],
      "metadata": {
        "colab": {
          "base_uri": "https://localhost:8080/"
        },
        "id": "FR4bK_xGuylm",
        "outputId": "c806184a-0b18-4d9d-da12-f063359bc5c5"
      },
      "execution_count": null,
      "outputs": [
        {
          "output_type": "stream",
          "name": "stdout",
          "text": [
            "Age ['18-22' '23-26' '27-30' 'Above 30' 'Below 18']\n",
            "Academic_Year ['Second Year or Equivalent' 'Third Year or Equivalent' 'Other'\n",
            " 'First Year or Equivalent' 'Fourth Year or Equivalent']\n",
            "Current_CGPA ['2.50 - 2.99' '3.00 - 3.39' '3.40 - 3.79' '3.80 - 4.00' 'Below 2.50'\n",
            " 'Other']\n",
            "Stress Label ['High Perceived Stress' 'Moderate Stress' 'Low Stress']\n",
            "Anxiety Label ['Severe Anxiety' 'Moderate Anxiety' 'Minimal Anxiety' 'Mild Anxiety']\n"
          ]
        }
      ]
    },
    {
      "cell_type": "markdown",
      "source": [
        "Looks good! Except values like 'Below 18' should be before '18-22'. 'Other' and 'First Year or Equivalent' should be at the opposite ends, but they are in the middle! Same with columns like Current_CGPA, and the Stress/Anxiety labels.\n",
        "\n",
        "They should be like this so they're in a clear and concise order when parsed into a visualization/model."
      ],
      "metadata": {
        "id": "qSGR_M0AvPYQ"
      }
    },
    {
      "cell_type": "code",
      "source": [
        "# We can create constant columns for this:\n",
        "# These columns re-order the names, and are parsed correctly when using OrdinalEncoder.\n",
        "AGE_COL = ['Below 18', '18-22', '23-26', '27-30', 'Above 30']\n",
        "ACADEMIC_YEAR_COL = ['First Year or Equivalent', 'Second Year or Equivalent', 'Third Year or Equivalent',\n",
        "  'Fourth Year or Equivalent', 'Other']\n",
        "CURRENT_CGPA_COL = ['Below 2.50', '2.50 - 2.99', '3.00 - 3.39', '3.40 - 3.79', '3.80 - 4.00', 'Other']\n",
        "STRESS_LABEL_COL = ['Low Stress', 'Moderate Stress', 'High Perceived Stress']\n",
        "ANXIETY_LABEL_COL = ['Minimal Anxiety', 'Mild Anxiety', 'Moderate Anxiety', 'Severe Anxiety']"
      ],
      "metadata": {
        "id": "Y2WK66Zxw2us"
      },
      "execution_count": null,
      "outputs": []
    },
    {
      "cell_type": "markdown",
      "source": [
        "These can now be used in the category parameter to identify the reordered columns.\n",
        "\n",
        "They will be in double lists when added in categories because the OrdinalEncoder expects a two-dimension numpy array, like this for example."
      ],
      "metadata": {
        "id": "26-LOUoUy0eG"
      }
    },
    {
      "cell_type": "code",
      "source": [
        "ordinal_encoding_cols[['Age']].to_numpy()"
      ],
      "metadata": {
        "colab": {
          "base_uri": "https://localhost:8080/"
        },
        "id": "0273Be1rMppz",
        "outputId": "93a84c31-1a6f-42b9-9d1f-f5007019e089"
      },
      "execution_count": null,
      "outputs": [
        {
          "output_type": "execute_result",
          "data": {
            "text/plain": [
              "array([['18-22'],\n",
              "       ['18-22'],\n",
              "       ['18-22'],\n",
              "       ...,\n",
              "       ['18-22'],\n",
              "       ['23-26'],\n",
              "       ['18-22']], dtype=object)"
            ]
          },
          "metadata": {},
          "execution_count": 24
        }
      ]
    },
    {
      "cell_type": "markdown",
      "source": [
        "We make the Ordinal Encoder first, with all its categories."
      ],
      "metadata": {
        "id": "Z6XEafdXzVoD"
      }
    },
    {
      "cell_type": "code",
      "source": [
        "or_encoder = OrdinalEncoder(categories=[AGE_COL, ACADEMIC_YEAR_COL, CURRENT_CGPA_COL, STRESS_LABEL_COL, ANXIETY_LABEL_COL])"
      ],
      "metadata": {
        "id": "YokO6tHJLLK1"
      },
      "execution_count": null,
      "outputs": []
    },
    {
      "cell_type": "markdown",
      "source": [
        "Then we apply a fit transform to it, casting the transform to an integer value. The columns parameter is so that the names are preserved."
      ],
      "metadata": {
        "id": "OdWbzDpa4F0o"
      }
    },
    {
      "cell_type": "code",
      "source": [
        "or_encoded_df = pd.DataFrame(or_encoder.fit_transform(ordinal_encoding_cols.to_numpy()).astype(int), columns=ordinal_encoding_cols.columns.tolist())\n",
        "or_encoded_df.info()"
      ],
      "metadata": {
        "colab": {
          "base_uri": "https://localhost:8080/"
        },
        "id": "q-p6sPSBLTCM",
        "outputId": "cd395b83-8ab7-4ec1-ef26-64e5df8ef522"
      },
      "execution_count": null,
      "outputs": [
        {
          "output_type": "stream",
          "name": "stdout",
          "text": [
            "<class 'pandas.core.frame.DataFrame'>\n",
            "RangeIndex: 2028 entries, 0 to 2027\n",
            "Data columns (total 5 columns):\n",
            " #   Column         Non-Null Count  Dtype\n",
            "---  ------         --------------  -----\n",
            " 0   Age            2028 non-null   int64\n",
            " 1   Academic_Year  2028 non-null   int64\n",
            " 2   Current_CGPA   2028 non-null   int64\n",
            " 3   Stress Label   2028 non-null   int64\n",
            " 4   Anxiety Label  2028 non-null   int64\n",
            "dtypes: int64(5)\n",
            "memory usage: 79.3 KB\n"
          ]
        }
      ]
    },
    {
      "cell_type": "markdown",
      "source": [
        "Unique values for comparsion on how they converted. 0 indicates the first column of course."
      ],
      "metadata": {
        "id": "woHekbHp5PFi"
      }
    },
    {
      "cell_type": "code",
      "source": [
        "for col in or_encoded_df:\n",
        "    print(col, or_encoded_df[col].unique())"
      ],
      "metadata": {
        "colab": {
          "base_uri": "https://localhost:8080/"
        },
        "id": "IOjgh6hb4-IS",
        "outputId": "74036120-f7e7-47f2-af0c-5fab3696d46e"
      },
      "execution_count": null,
      "outputs": [
        {
          "output_type": "stream",
          "name": "stdout",
          "text": [
            "Age [1 2 3 4 0]\n",
            "Academic_Year [1 2 4 0 3]\n",
            "Current_CGPA [1 2 3 4 0 5]\n",
            "Stress Label [2 1 0]\n",
            "Anxiety Label [3 2 0 1]\n"
          ]
        }
      ]
    },
    {
      "cell_type": "markdown",
      "source": [
        "Looks good, each column has its data converted into an integer. But now we need to make sure it IS correct. Let's look at the head of the regular ordinal columns."
      ],
      "metadata": {
        "id": "ASKr5Ogr4TOF"
      }
    },
    {
      "cell_type": "code",
      "source": [
        "ordinal_encoding_cols"
      ],
      "metadata": {
        "colab": {
          "base_uri": "https://localhost:8080/",
          "height": 423
        },
        "id": "juQ2wCthJ32X",
        "outputId": "4d97af60-8dd9-482e-ece1-580062cc0f77"
      },
      "execution_count": null,
      "outputs": [
        {
          "output_type": "execute_result",
          "data": {
            "text/plain": [
              "        Age              Academic_Year Current_CGPA           Stress Label  \\\n",
              "0     18-22  Second Year or Equivalent  2.50 - 2.99  High Perceived Stress   \n",
              "1     18-22   Third Year or Equivalent  3.00 - 3.39        Moderate Stress   \n",
              "2     18-22   Third Year or Equivalent  3.00 - 3.39        Moderate Stress   \n",
              "3     18-22   Third Year or Equivalent  3.00 - 3.39        Moderate Stress   \n",
              "4     18-22  Second Year or Equivalent  2.50 - 2.99  High Perceived Stress   \n",
              "...     ...                        ...          ...                    ...   \n",
              "2023  18-22  Second Year or Equivalent  3.00 - 3.39  High Perceived Stress   \n",
              "2024  18-22   Third Year or Equivalent  3.00 - 3.39  High Perceived Stress   \n",
              "2025  18-22  Second Year or Equivalent  2.50 - 2.99        Moderate Stress   \n",
              "2026  23-26   Third Year or Equivalent  3.40 - 3.79  High Perceived Stress   \n",
              "2027  18-22  Second Year or Equivalent  2.50 - 2.99        Moderate Stress   \n",
              "\n",
              "         Anxiety Label  \n",
              "0       Severe Anxiety  \n",
              "1     Moderate Anxiety  \n",
              "2      Minimal Anxiety  \n",
              "3     Moderate Anxiety  \n",
              "4     Moderate Anxiety  \n",
              "...                ...  \n",
              "2023    Severe Anxiety  \n",
              "2024    Severe Anxiety  \n",
              "2025  Moderate Anxiety  \n",
              "2026    Severe Anxiety  \n",
              "2027  Moderate Anxiety  \n",
              "\n",
              "[2028 rows x 5 columns]"
            ],
            "text/html": [
              "\n",
              "  <div id=\"df-ed563ffc-8476-426a-9d4e-b87a2b1a2cac\" class=\"colab-df-container\">\n",
              "    <div>\n",
              "<style scoped>\n",
              "    .dataframe tbody tr th:only-of-type {\n",
              "        vertical-align: middle;\n",
              "    }\n",
              "\n",
              "    .dataframe tbody tr th {\n",
              "        vertical-align: top;\n",
              "    }\n",
              "\n",
              "    .dataframe thead th {\n",
              "        text-align: right;\n",
              "    }\n",
              "</style>\n",
              "<table border=\"1\" class=\"dataframe\">\n",
              "  <thead>\n",
              "    <tr style=\"text-align: right;\">\n",
              "      <th></th>\n",
              "      <th>Age</th>\n",
              "      <th>Academic_Year</th>\n",
              "      <th>Current_CGPA</th>\n",
              "      <th>Stress Label</th>\n",
              "      <th>Anxiety Label</th>\n",
              "    </tr>\n",
              "  </thead>\n",
              "  <tbody>\n",
              "    <tr>\n",
              "      <th>0</th>\n",
              "      <td>18-22</td>\n",
              "      <td>Second Year or Equivalent</td>\n",
              "      <td>2.50 - 2.99</td>\n",
              "      <td>High Perceived Stress</td>\n",
              "      <td>Severe Anxiety</td>\n",
              "    </tr>\n",
              "    <tr>\n",
              "      <th>1</th>\n",
              "      <td>18-22</td>\n",
              "      <td>Third Year or Equivalent</td>\n",
              "      <td>3.00 - 3.39</td>\n",
              "      <td>Moderate Stress</td>\n",
              "      <td>Moderate Anxiety</td>\n",
              "    </tr>\n",
              "    <tr>\n",
              "      <th>2</th>\n",
              "      <td>18-22</td>\n",
              "      <td>Third Year or Equivalent</td>\n",
              "      <td>3.00 - 3.39</td>\n",
              "      <td>Moderate Stress</td>\n",
              "      <td>Minimal Anxiety</td>\n",
              "    </tr>\n",
              "    <tr>\n",
              "      <th>3</th>\n",
              "      <td>18-22</td>\n",
              "      <td>Third Year or Equivalent</td>\n",
              "      <td>3.00 - 3.39</td>\n",
              "      <td>Moderate Stress</td>\n",
              "      <td>Moderate Anxiety</td>\n",
              "    </tr>\n",
              "    <tr>\n",
              "      <th>4</th>\n",
              "      <td>18-22</td>\n",
              "      <td>Second Year or Equivalent</td>\n",
              "      <td>2.50 - 2.99</td>\n",
              "      <td>High Perceived Stress</td>\n",
              "      <td>Moderate Anxiety</td>\n",
              "    </tr>\n",
              "    <tr>\n",
              "      <th>...</th>\n",
              "      <td>...</td>\n",
              "      <td>...</td>\n",
              "      <td>...</td>\n",
              "      <td>...</td>\n",
              "      <td>...</td>\n",
              "    </tr>\n",
              "    <tr>\n",
              "      <th>2023</th>\n",
              "      <td>18-22</td>\n",
              "      <td>Second Year or Equivalent</td>\n",
              "      <td>3.00 - 3.39</td>\n",
              "      <td>High Perceived Stress</td>\n",
              "      <td>Severe Anxiety</td>\n",
              "    </tr>\n",
              "    <tr>\n",
              "      <th>2024</th>\n",
              "      <td>18-22</td>\n",
              "      <td>Third Year or Equivalent</td>\n",
              "      <td>3.00 - 3.39</td>\n",
              "      <td>High Perceived Stress</td>\n",
              "      <td>Severe Anxiety</td>\n",
              "    </tr>\n",
              "    <tr>\n",
              "      <th>2025</th>\n",
              "      <td>18-22</td>\n",
              "      <td>Second Year or Equivalent</td>\n",
              "      <td>2.50 - 2.99</td>\n",
              "      <td>Moderate Stress</td>\n",
              "      <td>Moderate Anxiety</td>\n",
              "    </tr>\n",
              "    <tr>\n",
              "      <th>2026</th>\n",
              "      <td>23-26</td>\n",
              "      <td>Third Year or Equivalent</td>\n",
              "      <td>3.40 - 3.79</td>\n",
              "      <td>High Perceived Stress</td>\n",
              "      <td>Severe Anxiety</td>\n",
              "    </tr>\n",
              "    <tr>\n",
              "      <th>2027</th>\n",
              "      <td>18-22</td>\n",
              "      <td>Second Year or Equivalent</td>\n",
              "      <td>2.50 - 2.99</td>\n",
              "      <td>Moderate Stress</td>\n",
              "      <td>Moderate Anxiety</td>\n",
              "    </tr>\n",
              "  </tbody>\n",
              "</table>\n",
              "<p>2028 rows × 5 columns</p>\n",
              "</div>\n",
              "    <div class=\"colab-df-buttons\">\n",
              "\n",
              "  <div class=\"colab-df-container\">\n",
              "    <button class=\"colab-df-convert\" onclick=\"convertToInteractive('df-ed563ffc-8476-426a-9d4e-b87a2b1a2cac')\"\n",
              "            title=\"Convert this dataframe to an interactive table.\"\n",
              "            style=\"display:none;\">\n",
              "\n",
              "  <svg xmlns=\"http://www.w3.org/2000/svg\" height=\"24px\" viewBox=\"0 -960 960 960\">\n",
              "    <path d=\"M120-120v-720h720v720H120Zm60-500h600v-160H180v160Zm220 220h160v-160H400v160Zm0 220h160v-160H400v160ZM180-400h160v-160H180v160Zm440 0h160v-160H620v160ZM180-180h160v-160H180v160Zm440 0h160v-160H620v160Z\"/>\n",
              "  </svg>\n",
              "    </button>\n",
              "\n",
              "  <style>\n",
              "    .colab-df-container {\n",
              "      display:flex;\n",
              "      gap: 12px;\n",
              "    }\n",
              "\n",
              "    .colab-df-convert {\n",
              "      background-color: #E8F0FE;\n",
              "      border: none;\n",
              "      border-radius: 50%;\n",
              "      cursor: pointer;\n",
              "      display: none;\n",
              "      fill: #1967D2;\n",
              "      height: 32px;\n",
              "      padding: 0 0 0 0;\n",
              "      width: 32px;\n",
              "    }\n",
              "\n",
              "    .colab-df-convert:hover {\n",
              "      background-color: #E2EBFA;\n",
              "      box-shadow: 0px 1px 2px rgba(60, 64, 67, 0.3), 0px 1px 3px 1px rgba(60, 64, 67, 0.15);\n",
              "      fill: #174EA6;\n",
              "    }\n",
              "\n",
              "    .colab-df-buttons div {\n",
              "      margin-bottom: 4px;\n",
              "    }\n",
              "\n",
              "    [theme=dark] .colab-df-convert {\n",
              "      background-color: #3B4455;\n",
              "      fill: #D2E3FC;\n",
              "    }\n",
              "\n",
              "    [theme=dark] .colab-df-convert:hover {\n",
              "      background-color: #434B5C;\n",
              "      box-shadow: 0px 1px 3px 1px rgba(0, 0, 0, 0.15);\n",
              "      filter: drop-shadow(0px 1px 2px rgba(0, 0, 0, 0.3));\n",
              "      fill: #FFFFFF;\n",
              "    }\n",
              "  </style>\n",
              "\n",
              "    <script>\n",
              "      const buttonEl =\n",
              "        document.querySelector('#df-ed563ffc-8476-426a-9d4e-b87a2b1a2cac button.colab-df-convert');\n",
              "      buttonEl.style.display =\n",
              "        google.colab.kernel.accessAllowed ? 'block' : 'none';\n",
              "\n",
              "      async function convertToInteractive(key) {\n",
              "        const element = document.querySelector('#df-ed563ffc-8476-426a-9d4e-b87a2b1a2cac');\n",
              "        const dataTable =\n",
              "          await google.colab.kernel.invokeFunction('convertToInteractive',\n",
              "                                                    [key], {});\n",
              "        if (!dataTable) return;\n",
              "\n",
              "        const docLinkHtml = 'Like what you see? Visit the ' +\n",
              "          '<a target=\"_blank\" href=https://colab.research.google.com/notebooks/data_table.ipynb>data table notebook</a>'\n",
              "          + ' to learn more about interactive tables.';\n",
              "        element.innerHTML = '';\n",
              "        dataTable['output_type'] = 'display_data';\n",
              "        await google.colab.output.renderOutput(dataTable, element);\n",
              "        const docLink = document.createElement('div');\n",
              "        docLink.innerHTML = docLinkHtml;\n",
              "        element.appendChild(docLink);\n",
              "      }\n",
              "    </script>\n",
              "  </div>\n",
              "\n",
              "\n",
              "<div id=\"df-b6116ec1-a817-4012-86b3-4c9c0fbdba2a\">\n",
              "  <button class=\"colab-df-quickchart\" onclick=\"quickchart('df-b6116ec1-a817-4012-86b3-4c9c0fbdba2a')\"\n",
              "            title=\"Suggest charts\"\n",
              "            style=\"display:none;\">\n",
              "\n",
              "<svg xmlns=\"http://www.w3.org/2000/svg\" height=\"24px\"viewBox=\"0 0 24 24\"\n",
              "     width=\"24px\">\n",
              "    <g>\n",
              "        <path d=\"M19 3H5c-1.1 0-2 .9-2 2v14c0 1.1.9 2 2 2h14c1.1 0 2-.9 2-2V5c0-1.1-.9-2-2-2zM9 17H7v-7h2v7zm4 0h-2V7h2v10zm4 0h-2v-4h2v4z\"/>\n",
              "    </g>\n",
              "</svg>\n",
              "  </button>\n",
              "\n",
              "<style>\n",
              "  .colab-df-quickchart {\n",
              "      --bg-color: #E8F0FE;\n",
              "      --fill-color: #1967D2;\n",
              "      --hover-bg-color: #E2EBFA;\n",
              "      --hover-fill-color: #174EA6;\n",
              "      --disabled-fill-color: #AAA;\n",
              "      --disabled-bg-color: #DDD;\n",
              "  }\n",
              "\n",
              "  [theme=dark] .colab-df-quickchart {\n",
              "      --bg-color: #3B4455;\n",
              "      --fill-color: #D2E3FC;\n",
              "      --hover-bg-color: #434B5C;\n",
              "      --hover-fill-color: #FFFFFF;\n",
              "      --disabled-bg-color: #3B4455;\n",
              "      --disabled-fill-color: #666;\n",
              "  }\n",
              "\n",
              "  .colab-df-quickchart {\n",
              "    background-color: var(--bg-color);\n",
              "    border: none;\n",
              "    border-radius: 50%;\n",
              "    cursor: pointer;\n",
              "    display: none;\n",
              "    fill: var(--fill-color);\n",
              "    height: 32px;\n",
              "    padding: 0;\n",
              "    width: 32px;\n",
              "  }\n",
              "\n",
              "  .colab-df-quickchart:hover {\n",
              "    background-color: var(--hover-bg-color);\n",
              "    box-shadow: 0 1px 2px rgba(60, 64, 67, 0.3), 0 1px 3px 1px rgba(60, 64, 67, 0.15);\n",
              "    fill: var(--button-hover-fill-color);\n",
              "  }\n",
              "\n",
              "  .colab-df-quickchart-complete:disabled,\n",
              "  .colab-df-quickchart-complete:disabled:hover {\n",
              "    background-color: var(--disabled-bg-color);\n",
              "    fill: var(--disabled-fill-color);\n",
              "    box-shadow: none;\n",
              "  }\n",
              "\n",
              "  .colab-df-spinner {\n",
              "    border: 2px solid var(--fill-color);\n",
              "    border-color: transparent;\n",
              "    border-bottom-color: var(--fill-color);\n",
              "    animation:\n",
              "      spin 1s steps(1) infinite;\n",
              "  }\n",
              "\n",
              "  @keyframes spin {\n",
              "    0% {\n",
              "      border-color: transparent;\n",
              "      border-bottom-color: var(--fill-color);\n",
              "      border-left-color: var(--fill-color);\n",
              "    }\n",
              "    20% {\n",
              "      border-color: transparent;\n",
              "      border-left-color: var(--fill-color);\n",
              "      border-top-color: var(--fill-color);\n",
              "    }\n",
              "    30% {\n",
              "      border-color: transparent;\n",
              "      border-left-color: var(--fill-color);\n",
              "      border-top-color: var(--fill-color);\n",
              "      border-right-color: var(--fill-color);\n",
              "    }\n",
              "    40% {\n",
              "      border-color: transparent;\n",
              "      border-right-color: var(--fill-color);\n",
              "      border-top-color: var(--fill-color);\n",
              "    }\n",
              "    60% {\n",
              "      border-color: transparent;\n",
              "      border-right-color: var(--fill-color);\n",
              "    }\n",
              "    80% {\n",
              "      border-color: transparent;\n",
              "      border-right-color: var(--fill-color);\n",
              "      border-bottom-color: var(--fill-color);\n",
              "    }\n",
              "    90% {\n",
              "      border-color: transparent;\n",
              "      border-bottom-color: var(--fill-color);\n",
              "    }\n",
              "  }\n",
              "</style>\n",
              "\n",
              "  <script>\n",
              "    async function quickchart(key) {\n",
              "      const quickchartButtonEl =\n",
              "        document.querySelector('#' + key + ' button');\n",
              "      quickchartButtonEl.disabled = true;  // To prevent multiple clicks.\n",
              "      quickchartButtonEl.classList.add('colab-df-spinner');\n",
              "      try {\n",
              "        const charts = await google.colab.kernel.invokeFunction(\n",
              "            'suggestCharts', [key], {});\n",
              "      } catch (error) {\n",
              "        console.error('Error during call to suggestCharts:', error);\n",
              "      }\n",
              "      quickchartButtonEl.classList.remove('colab-df-spinner');\n",
              "      quickchartButtonEl.classList.add('colab-df-quickchart-complete');\n",
              "    }\n",
              "    (() => {\n",
              "      let quickchartButtonEl =\n",
              "        document.querySelector('#df-b6116ec1-a817-4012-86b3-4c9c0fbdba2a button');\n",
              "      quickchartButtonEl.style.display =\n",
              "        google.colab.kernel.accessAllowed ? 'block' : 'none';\n",
              "    })();\n",
              "  </script>\n",
              "</div>\n",
              "\n",
              "  <div id=\"id_7092a608-9f1c-44d3-b23e-de66cd317519\">\n",
              "    <style>\n",
              "      .colab-df-generate {\n",
              "        background-color: #E8F0FE;\n",
              "        border: none;\n",
              "        border-radius: 50%;\n",
              "        cursor: pointer;\n",
              "        display: none;\n",
              "        fill: #1967D2;\n",
              "        height: 32px;\n",
              "        padding: 0 0 0 0;\n",
              "        width: 32px;\n",
              "      }\n",
              "\n",
              "      .colab-df-generate:hover {\n",
              "        background-color: #E2EBFA;\n",
              "        box-shadow: 0px 1px 2px rgba(60, 64, 67, 0.3), 0px 1px 3px 1px rgba(60, 64, 67, 0.15);\n",
              "        fill: #174EA6;\n",
              "      }\n",
              "\n",
              "      [theme=dark] .colab-df-generate {\n",
              "        background-color: #3B4455;\n",
              "        fill: #D2E3FC;\n",
              "      }\n",
              "\n",
              "      [theme=dark] .colab-df-generate:hover {\n",
              "        background-color: #434B5C;\n",
              "        box-shadow: 0px 1px 3px 1px rgba(0, 0, 0, 0.15);\n",
              "        filter: drop-shadow(0px 1px 2px rgba(0, 0, 0, 0.3));\n",
              "        fill: #FFFFFF;\n",
              "      }\n",
              "    </style>\n",
              "    <button class=\"colab-df-generate\" onclick=\"generateWithVariable('ordinal_encoding_cols')\"\n",
              "            title=\"Generate code using this dataframe.\"\n",
              "            style=\"display:none;\">\n",
              "\n",
              "  <svg xmlns=\"http://www.w3.org/2000/svg\" height=\"24px\"viewBox=\"0 0 24 24\"\n",
              "       width=\"24px\">\n",
              "    <path d=\"M7,19H8.4L18.45,9,17,7.55,7,17.6ZM5,21V16.75L18.45,3.32a2,2,0,0,1,2.83,0l1.4,1.43a1.91,1.91,0,0,1,.58,1.4,1.91,1.91,0,0,1-.58,1.4L9.25,21ZM18.45,9,17,7.55Zm-12,3A5.31,5.31,0,0,0,4.9,8.1,5.31,5.31,0,0,0,1,6.5,5.31,5.31,0,0,0,4.9,4.9,5.31,5.31,0,0,0,6.5,1,5.31,5.31,0,0,0,8.1,4.9,5.31,5.31,0,0,0,12,6.5,5.46,5.46,0,0,0,6.5,12Z\"/>\n",
              "  </svg>\n",
              "    </button>\n",
              "    <script>\n",
              "      (() => {\n",
              "      const buttonEl =\n",
              "        document.querySelector('#id_7092a608-9f1c-44d3-b23e-de66cd317519 button.colab-df-generate');\n",
              "      buttonEl.style.display =\n",
              "        google.colab.kernel.accessAllowed ? 'block' : 'none';\n",
              "\n",
              "      buttonEl.onclick = () => {\n",
              "        google.colab.notebook.generateWithVariable('ordinal_encoding_cols');\n",
              "      }\n",
              "      })();\n",
              "    </script>\n",
              "  </div>\n",
              "\n",
              "    </div>\n",
              "  </div>\n"
            ],
            "application/vnd.google.colaboratory.intrinsic+json": {
              "type": "dataframe",
              "variable_name": "ordinal_encoding_cols",
              "summary": "{\n  \"name\": \"ordinal_encoding_cols\",\n  \"rows\": 2028,\n  \"fields\": [\n    {\n      \"column\": \"Age\",\n      \"properties\": {\n        \"dtype\": \"category\",\n        \"num_unique_values\": 5,\n        \"samples\": [\n          \"23-26\",\n          \"Below 18\",\n          \"27-30\"\n        ],\n        \"semantic_type\": \"\",\n        \"description\": \"\"\n      }\n    },\n    {\n      \"column\": \"Academic_Year\",\n      \"properties\": {\n        \"dtype\": \"category\",\n        \"num_unique_values\": 5,\n        \"samples\": [\n          \"Third Year or Equivalent\",\n          \"Fourth Year or Equivalent\",\n          \"Other\"\n        ],\n        \"semantic_type\": \"\",\n        \"description\": \"\"\n      }\n    },\n    {\n      \"column\": \"Current_CGPA\",\n      \"properties\": {\n        \"dtype\": \"category\",\n        \"num_unique_values\": 6,\n        \"samples\": [\n          \"2.50 - 2.99\",\n          \"3.00 - 3.39\",\n          \"Other\"\n        ],\n        \"semantic_type\": \"\",\n        \"description\": \"\"\n      }\n    },\n    {\n      \"column\": \"Stress Label\",\n      \"properties\": {\n        \"dtype\": \"category\",\n        \"num_unique_values\": 3,\n        \"samples\": [\n          \"High Perceived Stress\",\n          \"Moderate Stress\",\n          \"Low Stress\"\n        ],\n        \"semantic_type\": \"\",\n        \"description\": \"\"\n      }\n    },\n    {\n      \"column\": \"Anxiety Label\",\n      \"properties\": {\n        \"dtype\": \"category\",\n        \"num_unique_values\": 4,\n        \"samples\": [\n          \"Moderate Anxiety\",\n          \"Mild Anxiety\",\n          \"Severe Anxiety\"\n        ],\n        \"semantic_type\": \"\",\n        \"description\": \"\"\n      }\n    }\n  ]\n}"
            }
          },
          "metadata": {},
          "execution_count": 28
        }
      ]
    },
    {
      "cell_type": "markdown",
      "source": [
        "Now take a took at the head of the new dataframe."
      ],
      "metadata": {
        "id": "QnQ9NKRq5j58"
      }
    },
    {
      "cell_type": "code",
      "source": [
        "or_encoded_df"
      ],
      "metadata": {
        "colab": {
          "base_uri": "https://localhost:8080/",
          "height": 423
        },
        "id": "iJpAWRx35ngj",
        "outputId": "f525d82c-3aed-4f4f-fab0-38b351ca2a5e"
      },
      "execution_count": null,
      "outputs": [
        {
          "output_type": "execute_result",
          "data": {
            "text/plain": [
              "      Age  Academic_Year  Current_CGPA  Stress Label  Anxiety Label\n",
              "0       1              1             1             2              3\n",
              "1       1              2             2             1              2\n",
              "2       1              2             2             1              0\n",
              "3       1              2             2             1              2\n",
              "4       1              1             1             2              2\n",
              "...   ...            ...           ...           ...            ...\n",
              "2023    1              1             2             2              3\n",
              "2024    1              2             2             2              3\n",
              "2025    1              1             1             1              2\n",
              "2026    2              2             3             2              3\n",
              "2027    1              1             1             1              2\n",
              "\n",
              "[2028 rows x 5 columns]"
            ],
            "text/html": [
              "\n",
              "  <div id=\"df-486f3010-2bd4-4957-847b-7765986963b4\" class=\"colab-df-container\">\n",
              "    <div>\n",
              "<style scoped>\n",
              "    .dataframe tbody tr th:only-of-type {\n",
              "        vertical-align: middle;\n",
              "    }\n",
              "\n",
              "    .dataframe tbody tr th {\n",
              "        vertical-align: top;\n",
              "    }\n",
              "\n",
              "    .dataframe thead th {\n",
              "        text-align: right;\n",
              "    }\n",
              "</style>\n",
              "<table border=\"1\" class=\"dataframe\">\n",
              "  <thead>\n",
              "    <tr style=\"text-align: right;\">\n",
              "      <th></th>\n",
              "      <th>Age</th>\n",
              "      <th>Academic_Year</th>\n",
              "      <th>Current_CGPA</th>\n",
              "      <th>Stress Label</th>\n",
              "      <th>Anxiety Label</th>\n",
              "    </tr>\n",
              "  </thead>\n",
              "  <tbody>\n",
              "    <tr>\n",
              "      <th>0</th>\n",
              "      <td>1</td>\n",
              "      <td>1</td>\n",
              "      <td>1</td>\n",
              "      <td>2</td>\n",
              "      <td>3</td>\n",
              "    </tr>\n",
              "    <tr>\n",
              "      <th>1</th>\n",
              "      <td>1</td>\n",
              "      <td>2</td>\n",
              "      <td>2</td>\n",
              "      <td>1</td>\n",
              "      <td>2</td>\n",
              "    </tr>\n",
              "    <tr>\n",
              "      <th>2</th>\n",
              "      <td>1</td>\n",
              "      <td>2</td>\n",
              "      <td>2</td>\n",
              "      <td>1</td>\n",
              "      <td>0</td>\n",
              "    </tr>\n",
              "    <tr>\n",
              "      <th>3</th>\n",
              "      <td>1</td>\n",
              "      <td>2</td>\n",
              "      <td>2</td>\n",
              "      <td>1</td>\n",
              "      <td>2</td>\n",
              "    </tr>\n",
              "    <tr>\n",
              "      <th>4</th>\n",
              "      <td>1</td>\n",
              "      <td>1</td>\n",
              "      <td>1</td>\n",
              "      <td>2</td>\n",
              "      <td>2</td>\n",
              "    </tr>\n",
              "    <tr>\n",
              "      <th>...</th>\n",
              "      <td>...</td>\n",
              "      <td>...</td>\n",
              "      <td>...</td>\n",
              "      <td>...</td>\n",
              "      <td>...</td>\n",
              "    </tr>\n",
              "    <tr>\n",
              "      <th>2023</th>\n",
              "      <td>1</td>\n",
              "      <td>1</td>\n",
              "      <td>2</td>\n",
              "      <td>2</td>\n",
              "      <td>3</td>\n",
              "    </tr>\n",
              "    <tr>\n",
              "      <th>2024</th>\n",
              "      <td>1</td>\n",
              "      <td>2</td>\n",
              "      <td>2</td>\n",
              "      <td>2</td>\n",
              "      <td>3</td>\n",
              "    </tr>\n",
              "    <tr>\n",
              "      <th>2025</th>\n",
              "      <td>1</td>\n",
              "      <td>1</td>\n",
              "      <td>1</td>\n",
              "      <td>1</td>\n",
              "      <td>2</td>\n",
              "    </tr>\n",
              "    <tr>\n",
              "      <th>2026</th>\n",
              "      <td>2</td>\n",
              "      <td>2</td>\n",
              "      <td>3</td>\n",
              "      <td>2</td>\n",
              "      <td>3</td>\n",
              "    </tr>\n",
              "    <tr>\n",
              "      <th>2027</th>\n",
              "      <td>1</td>\n",
              "      <td>1</td>\n",
              "      <td>1</td>\n",
              "      <td>1</td>\n",
              "      <td>2</td>\n",
              "    </tr>\n",
              "  </tbody>\n",
              "</table>\n",
              "<p>2028 rows × 5 columns</p>\n",
              "</div>\n",
              "    <div class=\"colab-df-buttons\">\n",
              "\n",
              "  <div class=\"colab-df-container\">\n",
              "    <button class=\"colab-df-convert\" onclick=\"convertToInteractive('df-486f3010-2bd4-4957-847b-7765986963b4')\"\n",
              "            title=\"Convert this dataframe to an interactive table.\"\n",
              "            style=\"display:none;\">\n",
              "\n",
              "  <svg xmlns=\"http://www.w3.org/2000/svg\" height=\"24px\" viewBox=\"0 -960 960 960\">\n",
              "    <path d=\"M120-120v-720h720v720H120Zm60-500h600v-160H180v160Zm220 220h160v-160H400v160Zm0 220h160v-160H400v160ZM180-400h160v-160H180v160Zm440 0h160v-160H620v160ZM180-180h160v-160H180v160Zm440 0h160v-160H620v160Z\"/>\n",
              "  </svg>\n",
              "    </button>\n",
              "\n",
              "  <style>\n",
              "    .colab-df-container {\n",
              "      display:flex;\n",
              "      gap: 12px;\n",
              "    }\n",
              "\n",
              "    .colab-df-convert {\n",
              "      background-color: #E8F0FE;\n",
              "      border: none;\n",
              "      border-radius: 50%;\n",
              "      cursor: pointer;\n",
              "      display: none;\n",
              "      fill: #1967D2;\n",
              "      height: 32px;\n",
              "      padding: 0 0 0 0;\n",
              "      width: 32px;\n",
              "    }\n",
              "\n",
              "    .colab-df-convert:hover {\n",
              "      background-color: #E2EBFA;\n",
              "      box-shadow: 0px 1px 2px rgba(60, 64, 67, 0.3), 0px 1px 3px 1px rgba(60, 64, 67, 0.15);\n",
              "      fill: #174EA6;\n",
              "    }\n",
              "\n",
              "    .colab-df-buttons div {\n",
              "      margin-bottom: 4px;\n",
              "    }\n",
              "\n",
              "    [theme=dark] .colab-df-convert {\n",
              "      background-color: #3B4455;\n",
              "      fill: #D2E3FC;\n",
              "    }\n",
              "\n",
              "    [theme=dark] .colab-df-convert:hover {\n",
              "      background-color: #434B5C;\n",
              "      box-shadow: 0px 1px 3px 1px rgba(0, 0, 0, 0.15);\n",
              "      filter: drop-shadow(0px 1px 2px rgba(0, 0, 0, 0.3));\n",
              "      fill: #FFFFFF;\n",
              "    }\n",
              "  </style>\n",
              "\n",
              "    <script>\n",
              "      const buttonEl =\n",
              "        document.querySelector('#df-486f3010-2bd4-4957-847b-7765986963b4 button.colab-df-convert');\n",
              "      buttonEl.style.display =\n",
              "        google.colab.kernel.accessAllowed ? 'block' : 'none';\n",
              "\n",
              "      async function convertToInteractive(key) {\n",
              "        const element = document.querySelector('#df-486f3010-2bd4-4957-847b-7765986963b4');\n",
              "        const dataTable =\n",
              "          await google.colab.kernel.invokeFunction('convertToInteractive',\n",
              "                                                    [key], {});\n",
              "        if (!dataTable) return;\n",
              "\n",
              "        const docLinkHtml = 'Like what you see? Visit the ' +\n",
              "          '<a target=\"_blank\" href=https://colab.research.google.com/notebooks/data_table.ipynb>data table notebook</a>'\n",
              "          + ' to learn more about interactive tables.';\n",
              "        element.innerHTML = '';\n",
              "        dataTable['output_type'] = 'display_data';\n",
              "        await google.colab.output.renderOutput(dataTable, element);\n",
              "        const docLink = document.createElement('div');\n",
              "        docLink.innerHTML = docLinkHtml;\n",
              "        element.appendChild(docLink);\n",
              "      }\n",
              "    </script>\n",
              "  </div>\n",
              "\n",
              "\n",
              "<div id=\"df-581170b4-8550-4e9e-924c-2060a779a9ef\">\n",
              "  <button class=\"colab-df-quickchart\" onclick=\"quickchart('df-581170b4-8550-4e9e-924c-2060a779a9ef')\"\n",
              "            title=\"Suggest charts\"\n",
              "            style=\"display:none;\">\n",
              "\n",
              "<svg xmlns=\"http://www.w3.org/2000/svg\" height=\"24px\"viewBox=\"0 0 24 24\"\n",
              "     width=\"24px\">\n",
              "    <g>\n",
              "        <path d=\"M19 3H5c-1.1 0-2 .9-2 2v14c0 1.1.9 2 2 2h14c1.1 0 2-.9 2-2V5c0-1.1-.9-2-2-2zM9 17H7v-7h2v7zm4 0h-2V7h2v10zm4 0h-2v-4h2v4z\"/>\n",
              "    </g>\n",
              "</svg>\n",
              "  </button>\n",
              "\n",
              "<style>\n",
              "  .colab-df-quickchart {\n",
              "      --bg-color: #E8F0FE;\n",
              "      --fill-color: #1967D2;\n",
              "      --hover-bg-color: #E2EBFA;\n",
              "      --hover-fill-color: #174EA6;\n",
              "      --disabled-fill-color: #AAA;\n",
              "      --disabled-bg-color: #DDD;\n",
              "  }\n",
              "\n",
              "  [theme=dark] .colab-df-quickchart {\n",
              "      --bg-color: #3B4455;\n",
              "      --fill-color: #D2E3FC;\n",
              "      --hover-bg-color: #434B5C;\n",
              "      --hover-fill-color: #FFFFFF;\n",
              "      --disabled-bg-color: #3B4455;\n",
              "      --disabled-fill-color: #666;\n",
              "  }\n",
              "\n",
              "  .colab-df-quickchart {\n",
              "    background-color: var(--bg-color);\n",
              "    border: none;\n",
              "    border-radius: 50%;\n",
              "    cursor: pointer;\n",
              "    display: none;\n",
              "    fill: var(--fill-color);\n",
              "    height: 32px;\n",
              "    padding: 0;\n",
              "    width: 32px;\n",
              "  }\n",
              "\n",
              "  .colab-df-quickchart:hover {\n",
              "    background-color: var(--hover-bg-color);\n",
              "    box-shadow: 0 1px 2px rgba(60, 64, 67, 0.3), 0 1px 3px 1px rgba(60, 64, 67, 0.15);\n",
              "    fill: var(--button-hover-fill-color);\n",
              "  }\n",
              "\n",
              "  .colab-df-quickchart-complete:disabled,\n",
              "  .colab-df-quickchart-complete:disabled:hover {\n",
              "    background-color: var(--disabled-bg-color);\n",
              "    fill: var(--disabled-fill-color);\n",
              "    box-shadow: none;\n",
              "  }\n",
              "\n",
              "  .colab-df-spinner {\n",
              "    border: 2px solid var(--fill-color);\n",
              "    border-color: transparent;\n",
              "    border-bottom-color: var(--fill-color);\n",
              "    animation:\n",
              "      spin 1s steps(1) infinite;\n",
              "  }\n",
              "\n",
              "  @keyframes spin {\n",
              "    0% {\n",
              "      border-color: transparent;\n",
              "      border-bottom-color: var(--fill-color);\n",
              "      border-left-color: var(--fill-color);\n",
              "    }\n",
              "    20% {\n",
              "      border-color: transparent;\n",
              "      border-left-color: var(--fill-color);\n",
              "      border-top-color: var(--fill-color);\n",
              "    }\n",
              "    30% {\n",
              "      border-color: transparent;\n",
              "      border-left-color: var(--fill-color);\n",
              "      border-top-color: var(--fill-color);\n",
              "      border-right-color: var(--fill-color);\n",
              "    }\n",
              "    40% {\n",
              "      border-color: transparent;\n",
              "      border-right-color: var(--fill-color);\n",
              "      border-top-color: var(--fill-color);\n",
              "    }\n",
              "    60% {\n",
              "      border-color: transparent;\n",
              "      border-right-color: var(--fill-color);\n",
              "    }\n",
              "    80% {\n",
              "      border-color: transparent;\n",
              "      border-right-color: var(--fill-color);\n",
              "      border-bottom-color: var(--fill-color);\n",
              "    }\n",
              "    90% {\n",
              "      border-color: transparent;\n",
              "      border-bottom-color: var(--fill-color);\n",
              "    }\n",
              "  }\n",
              "</style>\n",
              "\n",
              "  <script>\n",
              "    async function quickchart(key) {\n",
              "      const quickchartButtonEl =\n",
              "        document.querySelector('#' + key + ' button');\n",
              "      quickchartButtonEl.disabled = true;  // To prevent multiple clicks.\n",
              "      quickchartButtonEl.classList.add('colab-df-spinner');\n",
              "      try {\n",
              "        const charts = await google.colab.kernel.invokeFunction(\n",
              "            'suggestCharts', [key], {});\n",
              "      } catch (error) {\n",
              "        console.error('Error during call to suggestCharts:', error);\n",
              "      }\n",
              "      quickchartButtonEl.classList.remove('colab-df-spinner');\n",
              "      quickchartButtonEl.classList.add('colab-df-quickchart-complete');\n",
              "    }\n",
              "    (() => {\n",
              "      let quickchartButtonEl =\n",
              "        document.querySelector('#df-581170b4-8550-4e9e-924c-2060a779a9ef button');\n",
              "      quickchartButtonEl.style.display =\n",
              "        google.colab.kernel.accessAllowed ? 'block' : 'none';\n",
              "    })();\n",
              "  </script>\n",
              "</div>\n",
              "\n",
              "  <div id=\"id_498a765d-f0f8-48b2-b722-e4a792313879\">\n",
              "    <style>\n",
              "      .colab-df-generate {\n",
              "        background-color: #E8F0FE;\n",
              "        border: none;\n",
              "        border-radius: 50%;\n",
              "        cursor: pointer;\n",
              "        display: none;\n",
              "        fill: #1967D2;\n",
              "        height: 32px;\n",
              "        padding: 0 0 0 0;\n",
              "        width: 32px;\n",
              "      }\n",
              "\n",
              "      .colab-df-generate:hover {\n",
              "        background-color: #E2EBFA;\n",
              "        box-shadow: 0px 1px 2px rgba(60, 64, 67, 0.3), 0px 1px 3px 1px rgba(60, 64, 67, 0.15);\n",
              "        fill: #174EA6;\n",
              "      }\n",
              "\n",
              "      [theme=dark] .colab-df-generate {\n",
              "        background-color: #3B4455;\n",
              "        fill: #D2E3FC;\n",
              "      }\n",
              "\n",
              "      [theme=dark] .colab-df-generate:hover {\n",
              "        background-color: #434B5C;\n",
              "        box-shadow: 0px 1px 3px 1px rgba(0, 0, 0, 0.15);\n",
              "        filter: drop-shadow(0px 1px 2px rgba(0, 0, 0, 0.3));\n",
              "        fill: #FFFFFF;\n",
              "      }\n",
              "    </style>\n",
              "    <button class=\"colab-df-generate\" onclick=\"generateWithVariable('or_encoded_df')\"\n",
              "            title=\"Generate code using this dataframe.\"\n",
              "            style=\"display:none;\">\n",
              "\n",
              "  <svg xmlns=\"http://www.w3.org/2000/svg\" height=\"24px\"viewBox=\"0 0 24 24\"\n",
              "       width=\"24px\">\n",
              "    <path d=\"M7,19H8.4L18.45,9,17,7.55,7,17.6ZM5,21V16.75L18.45,3.32a2,2,0,0,1,2.83,0l1.4,1.43a1.91,1.91,0,0,1,.58,1.4,1.91,1.91,0,0,1-.58,1.4L9.25,21ZM18.45,9,17,7.55Zm-12,3A5.31,5.31,0,0,0,4.9,8.1,5.31,5.31,0,0,0,1,6.5,5.31,5.31,0,0,0,4.9,4.9,5.31,5.31,0,0,0,6.5,1,5.31,5.31,0,0,0,8.1,4.9,5.31,5.31,0,0,0,12,6.5,5.46,5.46,0,0,0,6.5,12Z\"/>\n",
              "  </svg>\n",
              "    </button>\n",
              "    <script>\n",
              "      (() => {\n",
              "      const buttonEl =\n",
              "        document.querySelector('#id_498a765d-f0f8-48b2-b722-e4a792313879 button.colab-df-generate');\n",
              "      buttonEl.style.display =\n",
              "        google.colab.kernel.accessAllowed ? 'block' : 'none';\n",
              "\n",
              "      buttonEl.onclick = () => {\n",
              "        google.colab.notebook.generateWithVariable('or_encoded_df');\n",
              "      }\n",
              "      })();\n",
              "    </script>\n",
              "  </div>\n",
              "\n",
              "    </div>\n",
              "  </div>\n"
            ],
            "application/vnd.google.colaboratory.intrinsic+json": {
              "type": "dataframe",
              "variable_name": "or_encoded_df",
              "summary": "{\n  \"name\": \"or_encoded_df\",\n  \"rows\": 2028,\n  \"fields\": [\n    {\n      \"column\": \"Age\",\n      \"properties\": {\n        \"dtype\": \"number\",\n        \"std\": 0,\n        \"min\": 0,\n        \"max\": 4,\n        \"num_unique_values\": 5,\n        \"samples\": [\n          2,\n          0,\n          3\n        ],\n        \"semantic_type\": \"\",\n        \"description\": \"\"\n      }\n    },\n    {\n      \"column\": \"Academic_Year\",\n      \"properties\": {\n        \"dtype\": \"number\",\n        \"std\": 1,\n        \"min\": 0,\n        \"max\": 4,\n        \"num_unique_values\": 5,\n        \"samples\": [\n          2,\n          3,\n          4\n        ],\n        \"semantic_type\": \"\",\n        \"description\": \"\"\n      }\n    },\n    {\n      \"column\": \"Current_CGPA\",\n      \"properties\": {\n        \"dtype\": \"number\",\n        \"std\": 1,\n        \"min\": 0,\n        \"max\": 5,\n        \"num_unique_values\": 6,\n        \"samples\": [\n          1,\n          2,\n          5\n        ],\n        \"semantic_type\": \"\",\n        \"description\": \"\"\n      }\n    },\n    {\n      \"column\": \"Stress Label\",\n      \"properties\": {\n        \"dtype\": \"number\",\n        \"std\": 0,\n        \"min\": 0,\n        \"max\": 2,\n        \"num_unique_values\": 3,\n        \"samples\": [\n          2,\n          1,\n          0\n        ],\n        \"semantic_type\": \"\",\n        \"description\": \"\"\n      }\n    },\n    {\n      \"column\": \"Anxiety Label\",\n      \"properties\": {\n        \"dtype\": \"number\",\n        \"std\": 0,\n        \"min\": 0,\n        \"max\": 3,\n        \"num_unique_values\": 4,\n        \"samples\": [\n          2,\n          1,\n          3\n        ],\n        \"semantic_type\": \"\",\n        \"description\": \"\"\n      }\n    }\n  ]\n}"
            }
          },
          "metadata": {},
          "execution_count": 29
        }
      ]
    },
    {
      "cell_type": "markdown",
      "source": [
        "As we can see:\n",
        "- 18-22 and 23-26 being 1 and 2 means that they are the correct indexes. As we moved 'Below 18' to the start, 0 is 'Below 18'.\n",
        "- Academic year looks correct, Second and Third Year start at indexes 1 and 2.\n",
        "- Current CGPA looks correct. Same situation as Age column.\n",
        "- Stress Label/Anxiety Label also align with their appropriate keys.\n",
        "\n",
        "Everything has been reordered nicely, and from their unique data columns, their actual 'order' has been preserved."
      ],
      "metadata": {
        "id": "0GlQOqby4jsG"
      }
    },
    {
      "cell_type": "markdown",
      "source": [
        "### Target Column"
      ],
      "metadata": {
        "id": "7sMrjlMX1q2i"
      }
    },
    {
      "cell_type": "markdown",
      "source": [
        "Now we take a look at our actual Target Column, Depression Label. Perhaps later on, we can do a multi-class target column as a stretch goal. But for now, we want to keep a binary value.\n",
        "\n",
        "Let's take a quick look at the data."
      ],
      "metadata": {
        "id": "6uHNyKqB6xf3"
      }
    },
    {
      "cell_type": "code",
      "source": [
        "target_column"
      ],
      "metadata": {
        "colab": {
          "base_uri": "https://localhost:8080/",
          "height": 458
        },
        "id": "xBuxTqSxiq_Y",
        "outputId": "33092aaf-48ea-45fa-8ee0-a5cb8099ad95"
      },
      "execution_count": null,
      "outputs": [
        {
          "output_type": "execute_result",
          "data": {
            "text/plain": [
              "0                  Severe Depression\n",
              "1       Moderately Severe Depression\n",
              "2                      No Depression\n",
              "3                Moderate Depression\n",
              "4                  Severe Depression\n",
              "                    ...             \n",
              "2023    Moderately Severe Depression\n",
              "2024    Moderately Severe Depression\n",
              "2025    Moderately Severe Depression\n",
              "2026               Severe Depression\n",
              "2027             Moderate Depression\n",
              "Name: Depression Label, Length: 2028, dtype: object"
            ],
            "text/html": [
              "<div>\n",
              "<style scoped>\n",
              "    .dataframe tbody tr th:only-of-type {\n",
              "        vertical-align: middle;\n",
              "    }\n",
              "\n",
              "    .dataframe tbody tr th {\n",
              "        vertical-align: top;\n",
              "    }\n",
              "\n",
              "    .dataframe thead th {\n",
              "        text-align: right;\n",
              "    }\n",
              "</style>\n",
              "<table border=\"1\" class=\"dataframe\">\n",
              "  <thead>\n",
              "    <tr style=\"text-align: right;\">\n",
              "      <th></th>\n",
              "      <th>Depression Label</th>\n",
              "    </tr>\n",
              "  </thead>\n",
              "  <tbody>\n",
              "    <tr>\n",
              "      <th>0</th>\n",
              "      <td>Severe Depression</td>\n",
              "    </tr>\n",
              "    <tr>\n",
              "      <th>1</th>\n",
              "      <td>Moderately Severe Depression</td>\n",
              "    </tr>\n",
              "    <tr>\n",
              "      <th>2</th>\n",
              "      <td>No Depression</td>\n",
              "    </tr>\n",
              "    <tr>\n",
              "      <th>3</th>\n",
              "      <td>Moderate Depression</td>\n",
              "    </tr>\n",
              "    <tr>\n",
              "      <th>4</th>\n",
              "      <td>Severe Depression</td>\n",
              "    </tr>\n",
              "    <tr>\n",
              "      <th>...</th>\n",
              "      <td>...</td>\n",
              "    </tr>\n",
              "    <tr>\n",
              "      <th>2023</th>\n",
              "      <td>Moderately Severe Depression</td>\n",
              "    </tr>\n",
              "    <tr>\n",
              "      <th>2024</th>\n",
              "      <td>Moderately Severe Depression</td>\n",
              "    </tr>\n",
              "    <tr>\n",
              "      <th>2025</th>\n",
              "      <td>Moderately Severe Depression</td>\n",
              "    </tr>\n",
              "    <tr>\n",
              "      <th>2026</th>\n",
              "      <td>Severe Depression</td>\n",
              "    </tr>\n",
              "    <tr>\n",
              "      <th>2027</th>\n",
              "      <td>Moderate Depression</td>\n",
              "    </tr>\n",
              "  </tbody>\n",
              "</table>\n",
              "<p>2028 rows × 1 columns</p>\n",
              "</div><br><label><b>dtype:</b> object</label>"
            ]
          },
          "metadata": {},
          "execution_count": 30
        }
      ]
    },
    {
      "cell_type": "markdown",
      "source": [
        "Unique values for a more indepth view."
      ],
      "metadata": {
        "id": "NEuCRiZn63w7"
      }
    },
    {
      "cell_type": "code",
      "source": [
        "target_column.unique()"
      ],
      "metadata": {
        "colab": {
          "base_uri": "https://localhost:8080/"
        },
        "id": "Djfbsd-Z66sJ",
        "outputId": "64e51bcb-9d24-4c4a-8949-2f9605763ac1"
      },
      "execution_count": null,
      "outputs": [
        {
          "output_type": "execute_result",
          "data": {
            "text/plain": [
              "array(['Severe Depression', 'Moderately Severe Depression',\n",
              "       'No Depression', 'Moderate Depression', 'Minimal Depression',\n",
              "       'Mild Depression'], dtype=object)"
            ]
          },
          "metadata": {},
          "execution_count": 31
        }
      ]
    },
    {
      "cell_type": "markdown",
      "source": [
        "In order to make this a binary value, we need to combine columns. The question is what to combine, however.\n",
        "\n",
        "These are the depression values from the PHQ9 Questionnaire:\n",
        "- 1-4 Minimal depression\n",
        "- 5-9 Mild depression\n",
        "- 10-14 Moderate depression\n",
        "- 15-19 Moderately severe depression\n",
        "- 20-27 Severe depression\n",
        "\n",
        "And with this dataset, there is also a 'No Depression' column with a value of 0."
      ],
      "metadata": {
        "id": "0zt8NMKd72tg"
      }
    },
    {
      "cell_type": "markdown",
      "source": [
        "This means we 'iterate' (or better yet, find a way to change values all at once with a function) through the target column, matching it to a solid binary value.\n",
        "\n",
        "Our decided threshold for having depression is Moderate Depression. This is of course simplyfying how we solve our problem, but having \"no\" depression being the first three columns (0; 1-4; 5-9) will give a base for our binary value."
      ],
      "metadata": {
        "id": "wr8e-a1U-uns"
      }
    },
    {
      "cell_type": "code",
      "source": [
        "# Making an exact copy just in-case.\n",
        "target_col_df = target_column.copy()"
      ],
      "metadata": {
        "id": "3CPerbbl9G6k"
      },
      "execution_count": null,
      "outputs": []
    },
    {
      "cell_type": "code",
      "source": [
        "# Creating constants like before, so we are more explicit on what we're doing.\n",
        "BINARY_DEPRESSION_FALSE = ['No Depression', 'Minimal Depression', 'Mild Depression']\n",
        "BINARY_DEPRESSION_TRUE = ['Moderate Depression', 'Moderately Severe Depression', 'Severe Depression']"
      ],
      "metadata": {
        "id": "6Pl9fFPqAK1-"
      },
      "execution_count": null,
      "outputs": []
    },
    {
      "cell_type": "code",
      "source": [
        "# Potentially helpful, though i'd recommend finding a 'cleaner' way to do this if possible.\n",
        "\"\"\"for i in range(len(target_col_df)):\n",
        "    if target_col_df.loc[i] in BINARY_DEPRESSION_FALSE:\n",
        "        target_col_df.loc[i] = False\n",
        "    elif target_col_df.loc[i] in BINARY_DEPRESSION_TRUE:\n",
        "        target_col_df.loc[i] = True\"\"\""
      ],
      "metadata": {
        "id": "ZuoYIwDmjWvC",
        "colab": {
          "base_uri": "https://localhost:8080/",
          "height": 55
        },
        "outputId": "ea1afbc4-2ccf-40e2-9086-bae557f007ec"
      },
      "execution_count": null,
      "outputs": [
        {
          "output_type": "execute_result",
          "data": {
            "text/plain": [
              "'for i in range(len(target_col_df)):\\n    if target_col_df.loc[i] in BINARY_DEPRESSION_FALSE:\\n        target_col_df.loc[i] = False\\n    elif target_col_df.loc[i] in BINARY_DEPRESSION_TRUE:\\n        target_col_df.loc[i] = True'"
            ],
            "application/vnd.google.colaboratory.intrinsic+json": {
              "type": "string"
            }
          },
          "metadata": {},
          "execution_count": 34
        }
      ]
    },
    {
      "cell_type": "code",
      "source": [
        "# Same as above, but this time it uses loc for indexing and changing values.\n",
        "target_col_df.loc[target_col_df.isin(BINARY_DEPRESSION_FALSE)] = False\n",
        "target_col_df.loc[target_col_df.isin(BINARY_DEPRESSION_TRUE)] = True"
      ],
      "metadata": {
        "id": "ML5uXC7WHA5n"
      },
      "execution_count": null,
      "outputs": []
    },
    {
      "cell_type": "markdown",
      "source": [
        "Compare target column before to the dataframe we have now."
      ],
      "metadata": {
        "id": "arojbXj9BBZy"
      }
    },
    {
      "cell_type": "code",
      "source": [
        "target_column[0:15]"
      ],
      "metadata": {
        "colab": {
          "base_uri": "https://localhost:8080/",
          "height": 554
        },
        "id": "33zVYz32A_P0",
        "outputId": "1c89ef52-5a09-4e4e-bc85-25c6c954b6c2"
      },
      "execution_count": null,
      "outputs": [
        {
          "output_type": "execute_result",
          "data": {
            "text/plain": [
              "0                Severe Depression\n",
              "1     Moderately Severe Depression\n",
              "2                    No Depression\n",
              "3              Moderate Depression\n",
              "4                Severe Depression\n",
              "5              Moderate Depression\n",
              "6               Minimal Depression\n",
              "7               Minimal Depression\n",
              "8     Moderately Severe Depression\n",
              "9               Minimal Depression\n",
              "10                 Mild Depression\n",
              "11                 Mild Depression\n",
              "12              Minimal Depression\n",
              "13    Moderately Severe Depression\n",
              "14              Minimal Depression\n",
              "Name: Depression Label, dtype: object"
            ],
            "text/html": [
              "<div>\n",
              "<style scoped>\n",
              "    .dataframe tbody tr th:only-of-type {\n",
              "        vertical-align: middle;\n",
              "    }\n",
              "\n",
              "    .dataframe tbody tr th {\n",
              "        vertical-align: top;\n",
              "    }\n",
              "\n",
              "    .dataframe thead th {\n",
              "        text-align: right;\n",
              "    }\n",
              "</style>\n",
              "<table border=\"1\" class=\"dataframe\">\n",
              "  <thead>\n",
              "    <tr style=\"text-align: right;\">\n",
              "      <th></th>\n",
              "      <th>Depression Label</th>\n",
              "    </tr>\n",
              "  </thead>\n",
              "  <tbody>\n",
              "    <tr>\n",
              "      <th>0</th>\n",
              "      <td>Severe Depression</td>\n",
              "    </tr>\n",
              "    <tr>\n",
              "      <th>1</th>\n",
              "      <td>Moderately Severe Depression</td>\n",
              "    </tr>\n",
              "    <tr>\n",
              "      <th>2</th>\n",
              "      <td>No Depression</td>\n",
              "    </tr>\n",
              "    <tr>\n",
              "      <th>3</th>\n",
              "      <td>Moderate Depression</td>\n",
              "    </tr>\n",
              "    <tr>\n",
              "      <th>4</th>\n",
              "      <td>Severe Depression</td>\n",
              "    </tr>\n",
              "    <tr>\n",
              "      <th>5</th>\n",
              "      <td>Moderate Depression</td>\n",
              "    </tr>\n",
              "    <tr>\n",
              "      <th>6</th>\n",
              "      <td>Minimal Depression</td>\n",
              "    </tr>\n",
              "    <tr>\n",
              "      <th>7</th>\n",
              "      <td>Minimal Depression</td>\n",
              "    </tr>\n",
              "    <tr>\n",
              "      <th>8</th>\n",
              "      <td>Moderately Severe Depression</td>\n",
              "    </tr>\n",
              "    <tr>\n",
              "      <th>9</th>\n",
              "      <td>Minimal Depression</td>\n",
              "    </tr>\n",
              "    <tr>\n",
              "      <th>10</th>\n",
              "      <td>Mild Depression</td>\n",
              "    </tr>\n",
              "    <tr>\n",
              "      <th>11</th>\n",
              "      <td>Mild Depression</td>\n",
              "    </tr>\n",
              "    <tr>\n",
              "      <th>12</th>\n",
              "      <td>Minimal Depression</td>\n",
              "    </tr>\n",
              "    <tr>\n",
              "      <th>13</th>\n",
              "      <td>Moderately Severe Depression</td>\n",
              "    </tr>\n",
              "    <tr>\n",
              "      <th>14</th>\n",
              "      <td>Minimal Depression</td>\n",
              "    </tr>\n",
              "  </tbody>\n",
              "</table>\n",
              "</div><br><label><b>dtype:</b> object</label>"
            ]
          },
          "metadata": {},
          "execution_count": 36
        }
      ]
    },
    {
      "cell_type": "code",
      "source": [
        "target_col_df[0:15]"
      ],
      "metadata": {
        "colab": {
          "base_uri": "https://localhost:8080/",
          "height": 554
        },
        "id": "9TbbNYZ-Atin",
        "outputId": "136f9ae1-6030-4977-c6c7-58e50cd19b1c"
      },
      "execution_count": null,
      "outputs": [
        {
          "output_type": "execute_result",
          "data": {
            "text/plain": [
              "0      True\n",
              "1      True\n",
              "2     False\n",
              "3      True\n",
              "4      True\n",
              "5      True\n",
              "6     False\n",
              "7     False\n",
              "8      True\n",
              "9     False\n",
              "10    False\n",
              "11    False\n",
              "12    False\n",
              "13     True\n",
              "14    False\n",
              "Name: Depression Label, dtype: object"
            ],
            "text/html": [
              "<div>\n",
              "<style scoped>\n",
              "    .dataframe tbody tr th:only-of-type {\n",
              "        vertical-align: middle;\n",
              "    }\n",
              "\n",
              "    .dataframe tbody tr th {\n",
              "        vertical-align: top;\n",
              "    }\n",
              "\n",
              "    .dataframe thead th {\n",
              "        text-align: right;\n",
              "    }\n",
              "</style>\n",
              "<table border=\"1\" class=\"dataframe\">\n",
              "  <thead>\n",
              "    <tr style=\"text-align: right;\">\n",
              "      <th></th>\n",
              "      <th>Depression Label</th>\n",
              "    </tr>\n",
              "  </thead>\n",
              "  <tbody>\n",
              "    <tr>\n",
              "      <th>0</th>\n",
              "      <td>True</td>\n",
              "    </tr>\n",
              "    <tr>\n",
              "      <th>1</th>\n",
              "      <td>True</td>\n",
              "    </tr>\n",
              "    <tr>\n",
              "      <th>2</th>\n",
              "      <td>False</td>\n",
              "    </tr>\n",
              "    <tr>\n",
              "      <th>3</th>\n",
              "      <td>True</td>\n",
              "    </tr>\n",
              "    <tr>\n",
              "      <th>4</th>\n",
              "      <td>True</td>\n",
              "    </tr>\n",
              "    <tr>\n",
              "      <th>5</th>\n",
              "      <td>True</td>\n",
              "    </tr>\n",
              "    <tr>\n",
              "      <th>6</th>\n",
              "      <td>False</td>\n",
              "    </tr>\n",
              "    <tr>\n",
              "      <th>7</th>\n",
              "      <td>False</td>\n",
              "    </tr>\n",
              "    <tr>\n",
              "      <th>8</th>\n",
              "      <td>True</td>\n",
              "    </tr>\n",
              "    <tr>\n",
              "      <th>9</th>\n",
              "      <td>False</td>\n",
              "    </tr>\n",
              "    <tr>\n",
              "      <th>10</th>\n",
              "      <td>False</td>\n",
              "    </tr>\n",
              "    <tr>\n",
              "      <th>11</th>\n",
              "      <td>False</td>\n",
              "    </tr>\n",
              "    <tr>\n",
              "      <th>12</th>\n",
              "      <td>False</td>\n",
              "    </tr>\n",
              "    <tr>\n",
              "      <th>13</th>\n",
              "      <td>True</td>\n",
              "    </tr>\n",
              "    <tr>\n",
              "      <th>14</th>\n",
              "      <td>False</td>\n",
              "    </tr>\n",
              "  </tbody>\n",
              "</table>\n",
              "</div><br><label><b>dtype:</b> object</label>"
            ]
          },
          "metadata": {},
          "execution_count": 37
        }
      ]
    },
    {
      "cell_type": "markdown",
      "source": [
        "'Severe Depression', 'Moderately Severe Depression', 'Moderate Depression' all have a value of True.\n",
        "\n",
        "'No Depression', 'Minimal Depression', and 'Mild Depression' are all False."
      ],
      "metadata": {
        "id": "jW2_1FiGCn1t"
      }
    },
    {
      "cell_type": "code",
      "source": [
        "target_col_df.info()"
      ],
      "metadata": {
        "colab": {
          "base_uri": "https://localhost:8080/"
        },
        "id": "N8UVUpeSV2Fb",
        "outputId": "31b54242-f8d4-458c-c621-6e2d68dad31a"
      },
      "execution_count": null,
      "outputs": [
        {
          "output_type": "stream",
          "name": "stdout",
          "text": [
            "<class 'pandas.core.series.Series'>\n",
            "RangeIndex: 2028 entries, 0 to 2027\n",
            "Series name: Depression Label\n",
            "Non-Null Count  Dtype \n",
            "--------------  ----- \n",
            "2028 non-null   object\n",
            "dtypes: object(1)\n",
            "memory usage: 16.0+ KB\n"
          ]
        }
      ]
    },
    {
      "cell_type": "markdown",
      "source": [
        "Target column has been finished!"
      ],
      "metadata": {
        "id": "ruGpKppvMAyb"
      }
    },
    {
      "cell_type": "markdown",
      "source": [
        "Let's take a quick look at how many fall under this binary label."
      ],
      "metadata": {
        "id": "h_a2fflF4h6x"
      }
    },
    {
      "cell_type": "code",
      "source": [
        "target_col_df.loc[target_col_df == True]"
      ],
      "metadata": {
        "colab": {
          "base_uri": "https://localhost:8080/",
          "height": 458
        },
        "id": "HzaC5ipH4Wbf",
        "outputId": "84d6c337-7b2f-4eec-c7af-bb6e7e4b1a45"
      },
      "execution_count": null,
      "outputs": [
        {
          "output_type": "execute_result",
          "data": {
            "text/plain": [
              "0       True\n",
              "1       True\n",
              "3       True\n",
              "4       True\n",
              "5       True\n",
              "        ... \n",
              "2023    True\n",
              "2024    True\n",
              "2025    True\n",
              "2026    True\n",
              "2027    True\n",
              "Name: Depression Label, Length: 1473, dtype: object"
            ],
            "text/html": [
              "<div>\n",
              "<style scoped>\n",
              "    .dataframe tbody tr th:only-of-type {\n",
              "        vertical-align: middle;\n",
              "    }\n",
              "\n",
              "    .dataframe tbody tr th {\n",
              "        vertical-align: top;\n",
              "    }\n",
              "\n",
              "    .dataframe thead th {\n",
              "        text-align: right;\n",
              "    }\n",
              "</style>\n",
              "<table border=\"1\" class=\"dataframe\">\n",
              "  <thead>\n",
              "    <tr style=\"text-align: right;\">\n",
              "      <th></th>\n",
              "      <th>Depression Label</th>\n",
              "    </tr>\n",
              "  </thead>\n",
              "  <tbody>\n",
              "    <tr>\n",
              "      <th>0</th>\n",
              "      <td>True</td>\n",
              "    </tr>\n",
              "    <tr>\n",
              "      <th>1</th>\n",
              "      <td>True</td>\n",
              "    </tr>\n",
              "    <tr>\n",
              "      <th>3</th>\n",
              "      <td>True</td>\n",
              "    </tr>\n",
              "    <tr>\n",
              "      <th>4</th>\n",
              "      <td>True</td>\n",
              "    </tr>\n",
              "    <tr>\n",
              "      <th>5</th>\n",
              "      <td>True</td>\n",
              "    </tr>\n",
              "    <tr>\n",
              "      <th>...</th>\n",
              "      <td>...</td>\n",
              "    </tr>\n",
              "    <tr>\n",
              "      <th>2023</th>\n",
              "      <td>True</td>\n",
              "    </tr>\n",
              "    <tr>\n",
              "      <th>2024</th>\n",
              "      <td>True</td>\n",
              "    </tr>\n",
              "    <tr>\n",
              "      <th>2025</th>\n",
              "      <td>True</td>\n",
              "    </tr>\n",
              "    <tr>\n",
              "      <th>2026</th>\n",
              "      <td>True</td>\n",
              "    </tr>\n",
              "    <tr>\n",
              "      <th>2027</th>\n",
              "      <td>True</td>\n",
              "    </tr>\n",
              "  </tbody>\n",
              "</table>\n",
              "<p>1473 rows × 1 columns</p>\n",
              "</div><br><label><b>dtype:</b> object</label>"
            ]
          },
          "metadata": {},
          "execution_count": 39
        }
      ]
    },
    {
      "cell_type": "code",
      "source": [
        "target_col_df.loc[target_col_df == False]"
      ],
      "metadata": {
        "colab": {
          "base_uri": "https://localhost:8080/",
          "height": 458
        },
        "id": "ZHf1l1oz4gF_",
        "outputId": "c5822966-120b-417f-827c-74f91166d107"
      },
      "execution_count": null,
      "outputs": [
        {
          "output_type": "execute_result",
          "data": {
            "text/plain": [
              "2       False\n",
              "6       False\n",
              "7       False\n",
              "9       False\n",
              "10      False\n",
              "        ...  \n",
              "2002    False\n",
              "2010    False\n",
              "2018    False\n",
              "2020    False\n",
              "2022    False\n",
              "Name: Depression Label, Length: 555, dtype: object"
            ],
            "text/html": [
              "<div>\n",
              "<style scoped>\n",
              "    .dataframe tbody tr th:only-of-type {\n",
              "        vertical-align: middle;\n",
              "    }\n",
              "\n",
              "    .dataframe tbody tr th {\n",
              "        vertical-align: top;\n",
              "    }\n",
              "\n",
              "    .dataframe thead th {\n",
              "        text-align: right;\n",
              "    }\n",
              "</style>\n",
              "<table border=\"1\" class=\"dataframe\">\n",
              "  <thead>\n",
              "    <tr style=\"text-align: right;\">\n",
              "      <th></th>\n",
              "      <th>Depression Label</th>\n",
              "    </tr>\n",
              "  </thead>\n",
              "  <tbody>\n",
              "    <tr>\n",
              "      <th>2</th>\n",
              "      <td>False</td>\n",
              "    </tr>\n",
              "    <tr>\n",
              "      <th>6</th>\n",
              "      <td>False</td>\n",
              "    </tr>\n",
              "    <tr>\n",
              "      <th>7</th>\n",
              "      <td>False</td>\n",
              "    </tr>\n",
              "    <tr>\n",
              "      <th>9</th>\n",
              "      <td>False</td>\n",
              "    </tr>\n",
              "    <tr>\n",
              "      <th>10</th>\n",
              "      <td>False</td>\n",
              "    </tr>\n",
              "    <tr>\n",
              "      <th>...</th>\n",
              "      <td>...</td>\n",
              "    </tr>\n",
              "    <tr>\n",
              "      <th>2002</th>\n",
              "      <td>False</td>\n",
              "    </tr>\n",
              "    <tr>\n",
              "      <th>2010</th>\n",
              "      <td>False</td>\n",
              "    </tr>\n",
              "    <tr>\n",
              "      <th>2018</th>\n",
              "      <td>False</td>\n",
              "    </tr>\n",
              "    <tr>\n",
              "      <th>2020</th>\n",
              "      <td>False</td>\n",
              "    </tr>\n",
              "    <tr>\n",
              "      <th>2022</th>\n",
              "      <td>False</td>\n",
              "    </tr>\n",
              "  </tbody>\n",
              "</table>\n",
              "<p>555 rows × 1 columns</p>\n",
              "</div><br><label><b>dtype:</b> object</label>"
            ]
          },
          "metadata": {},
          "execution_count": 40
        }
      ]
    },
    {
      "cell_type": "code",
      "source": [
        "target_col_df = target_col_df.astype(int)\n",
        "target_col_df"
      ],
      "metadata": {
        "colab": {
          "base_uri": "https://localhost:8080/",
          "height": 458
        },
        "id": "0ftNysiOms1d",
        "outputId": "bd1654da-4311-4148-e3b4-87ba78a055b7"
      },
      "execution_count": null,
      "outputs": [
        {
          "output_type": "execute_result",
          "data": {
            "text/plain": [
              "0       1\n",
              "1       1\n",
              "2       0\n",
              "3       1\n",
              "4       1\n",
              "       ..\n",
              "2023    1\n",
              "2024    1\n",
              "2025    1\n",
              "2026    1\n",
              "2027    1\n",
              "Name: Depression Label, Length: 2028, dtype: int64"
            ],
            "text/html": [
              "<div>\n",
              "<style scoped>\n",
              "    .dataframe tbody tr th:only-of-type {\n",
              "        vertical-align: middle;\n",
              "    }\n",
              "\n",
              "    .dataframe tbody tr th {\n",
              "        vertical-align: top;\n",
              "    }\n",
              "\n",
              "    .dataframe thead th {\n",
              "        text-align: right;\n",
              "    }\n",
              "</style>\n",
              "<table border=\"1\" class=\"dataframe\">\n",
              "  <thead>\n",
              "    <tr style=\"text-align: right;\">\n",
              "      <th></th>\n",
              "      <th>Depression Label</th>\n",
              "    </tr>\n",
              "  </thead>\n",
              "  <tbody>\n",
              "    <tr>\n",
              "      <th>0</th>\n",
              "      <td>1</td>\n",
              "    </tr>\n",
              "    <tr>\n",
              "      <th>1</th>\n",
              "      <td>1</td>\n",
              "    </tr>\n",
              "    <tr>\n",
              "      <th>2</th>\n",
              "      <td>0</td>\n",
              "    </tr>\n",
              "    <tr>\n",
              "      <th>3</th>\n",
              "      <td>1</td>\n",
              "    </tr>\n",
              "    <tr>\n",
              "      <th>4</th>\n",
              "      <td>1</td>\n",
              "    </tr>\n",
              "    <tr>\n",
              "      <th>...</th>\n",
              "      <td>...</td>\n",
              "    </tr>\n",
              "    <tr>\n",
              "      <th>2023</th>\n",
              "      <td>1</td>\n",
              "    </tr>\n",
              "    <tr>\n",
              "      <th>2024</th>\n",
              "      <td>1</td>\n",
              "    </tr>\n",
              "    <tr>\n",
              "      <th>2025</th>\n",
              "      <td>1</td>\n",
              "    </tr>\n",
              "    <tr>\n",
              "      <th>2026</th>\n",
              "      <td>1</td>\n",
              "    </tr>\n",
              "    <tr>\n",
              "      <th>2027</th>\n",
              "      <td>1</td>\n",
              "    </tr>\n",
              "  </tbody>\n",
              "</table>\n",
              "<p>2028 rows × 1 columns</p>\n",
              "</div><br><label><b>dtype:</b> int64</label>"
            ]
          },
          "metadata": {},
          "execution_count": 41
        }
      ]
    },
    {
      "cell_type": "markdown",
      "source": [
        "## Combining Data"
      ],
      "metadata": {
        "id": "To7rG7R5Dvlp"
      }
    },
    {
      "cell_type": "markdown",
      "source": [
        "- First step: Drop original/replace original columns.\n",
        "1.   Ordinal Columns: replace original columns.\n",
        "2.   One-Hot Columns: drop original columns and find a way to insert them into the same position.\n",
        "- Second Step: Replace Depression Label with the new Target Column, keeping the name but having it's values replaced with a binary value.\n",
        "\n",
        "As Zanett pointed out, we can just do the one-hot encoding on the original dataframe and recreate the steps from earlier."
      ],
      "metadata": {
        "id": "S144cIzhD4oc"
      }
    },
    {
      "cell_type": "code",
      "source": [
        "data = pd.get_dummies(data, columns=one_hot_encoding_cols.columns.tolist())\n",
        "data = data.drop('waiver_or_scholarship_No', axis=1)"
      ],
      "metadata": {
        "id": "cEnAab53-SiB"
      },
      "execution_count": null,
      "outputs": []
    },
    {
      "cell_type": "code",
      "source": [
        "for col in or_encoded_df:\n",
        "  data[col] = or_encoded_df[col]"
      ],
      "metadata": {
        "id": "0lSBKHdFQ6EK"
      },
      "execution_count": null,
      "outputs": []
    },
    {
      "cell_type": "code",
      "source": [
        "# pop removes column (Depression Label)\n",
        "data[target_col_df.name] = target_col_df\n",
        "target_col = data.pop(target_col_df.name)\n",
        "# Then inserts at end\n",
        "data.insert(len(data.columns), target_col.name, target_col)"
      ],
      "metadata": {
        "id": "FZzt1NcqVbgD"
      },
      "execution_count": null,
      "outputs": []
    },
    {
      "cell_type": "code",
      "source": [
        "data[target_col_df.name][0:15]"
      ],
      "metadata": {
        "colab": {
          "base_uri": "https://localhost:8080/",
          "height": 554
        },
        "id": "ftvRAgHbXUu1",
        "outputId": "a041b7ef-1ecb-4d24-bba1-087bbf730a29"
      },
      "execution_count": null,
      "outputs": [
        {
          "output_type": "execute_result",
          "data": {
            "text/plain": [
              "0     1\n",
              "1     1\n",
              "2     0\n",
              "3     1\n",
              "4     1\n",
              "5     1\n",
              "6     0\n",
              "7     0\n",
              "8     1\n",
              "9     0\n",
              "10    0\n",
              "11    0\n",
              "12    0\n",
              "13    1\n",
              "14    0\n",
              "Name: Depression Label, dtype: int64"
            ],
            "text/html": [
              "<div>\n",
              "<style scoped>\n",
              "    .dataframe tbody tr th:only-of-type {\n",
              "        vertical-align: middle;\n",
              "    }\n",
              "\n",
              "    .dataframe tbody tr th {\n",
              "        vertical-align: top;\n",
              "    }\n",
              "\n",
              "    .dataframe thead th {\n",
              "        text-align: right;\n",
              "    }\n",
              "</style>\n",
              "<table border=\"1\" class=\"dataframe\">\n",
              "  <thead>\n",
              "    <tr style=\"text-align: right;\">\n",
              "      <th></th>\n",
              "      <th>Depression Label</th>\n",
              "    </tr>\n",
              "  </thead>\n",
              "  <tbody>\n",
              "    <tr>\n",
              "      <th>0</th>\n",
              "      <td>1</td>\n",
              "    </tr>\n",
              "    <tr>\n",
              "      <th>1</th>\n",
              "      <td>1</td>\n",
              "    </tr>\n",
              "    <tr>\n",
              "      <th>2</th>\n",
              "      <td>0</td>\n",
              "    </tr>\n",
              "    <tr>\n",
              "      <th>3</th>\n",
              "      <td>1</td>\n",
              "    </tr>\n",
              "    <tr>\n",
              "      <th>4</th>\n",
              "      <td>1</td>\n",
              "    </tr>\n",
              "    <tr>\n",
              "      <th>5</th>\n",
              "      <td>1</td>\n",
              "    </tr>\n",
              "    <tr>\n",
              "      <th>6</th>\n",
              "      <td>0</td>\n",
              "    </tr>\n",
              "    <tr>\n",
              "      <th>7</th>\n",
              "      <td>0</td>\n",
              "    </tr>\n",
              "    <tr>\n",
              "      <th>8</th>\n",
              "      <td>1</td>\n",
              "    </tr>\n",
              "    <tr>\n",
              "      <th>9</th>\n",
              "      <td>0</td>\n",
              "    </tr>\n",
              "    <tr>\n",
              "      <th>10</th>\n",
              "      <td>0</td>\n",
              "    </tr>\n",
              "    <tr>\n",
              "      <th>11</th>\n",
              "      <td>0</td>\n",
              "    </tr>\n",
              "    <tr>\n",
              "      <th>12</th>\n",
              "      <td>0</td>\n",
              "    </tr>\n",
              "    <tr>\n",
              "      <th>13</th>\n",
              "      <td>1</td>\n",
              "    </tr>\n",
              "    <tr>\n",
              "      <th>14</th>\n",
              "      <td>0</td>\n",
              "    </tr>\n",
              "  </tbody>\n",
              "</table>\n",
              "</div><br><label><b>dtype:</b> int64</label>"
            ]
          },
          "metadata": {},
          "execution_count": 45
        }
      ]
    },
    {
      "cell_type": "code",
      "source": [
        "data"
      ],
      "metadata": {
        "colab": {
          "base_uri": "https://localhost:8080/",
          "height": 496
        },
        "id": "CzrnTXAFPzac",
        "outputId": "90be0bd6-c678-4a14-ac03-f4e84da53e38"
      },
      "execution_count": null,
      "outputs": [
        {
          "output_type": "execute_result",
          "data": {
            "text/plain": [
              "      Age  Academic_Year  Current_CGPA  Stress Label  Anxiety Label  \\\n",
              "0       1              1             1             2              3   \n",
              "1       1              2             2             1              2   \n",
              "2       1              2             2             1              0   \n",
              "3       1              2             2             1              2   \n",
              "4       1              1             1             2              2   \n",
              "...   ...            ...           ...           ...            ...   \n",
              "2023    1              1             2             2              3   \n",
              "2024    1              2             2             2              3   \n",
              "2025    1              1             1             1              2   \n",
              "2026    2              2             3             2              3   \n",
              "2027    1              1             1             1              2   \n",
              "\n",
              "      Gender_Female  Gender_Male  Gender_Prefer not to say  \\\n",
              "0              True        False                     False   \n",
              "1             False         True                     False   \n",
              "2             False         True                     False   \n",
              "3             False         True                     False   \n",
              "4             False         True                     False   \n",
              "...             ...          ...                       ...   \n",
              "2023          False         True                     False   \n",
              "2024           True        False                     False   \n",
              "2025          False         True                     False   \n",
              "2026           True        False                     False   \n",
              "2027          False         True                     False   \n",
              "\n",
              "      University_American International University Bangladesh (AIUB)  \\\n",
              "0                                                 False                \n",
              "1                                                 False                \n",
              "2                                                  True                \n",
              "3                                                  True                \n",
              "4                                                 False                \n",
              "...                                                 ...                \n",
              "2023                                              False                \n",
              "2024                                              False                \n",
              "2025                                               True                \n",
              "2026                                              False                \n",
              "2027                                              False                \n",
              "\n",
              "      University_BRAC University  ...  \\\n",
              "0                          False  ...   \n",
              "1                          False  ...   \n",
              "2                          False  ...   \n",
              "3                          False  ...   \n",
              "4                          False  ...   \n",
              "...                          ...  ...   \n",
              "2023                       False  ...   \n",
              "2024                       False  ...   \n",
              "2025                       False  ...   \n",
              "2026                       False  ...   \n",
              "2027                       False  ...   \n",
              "\n",
              "      Department_Engineering - EEE/ ECE / Similar to EEE  \\\n",
              "0                                                 False    \n",
              "1                                                 False    \n",
              "2                                                 False    \n",
              "3                                                 False    \n",
              "4                                                 False    \n",
              "...                                                 ...    \n",
              "2023                                              False    \n",
              "2024                                              False    \n",
              "2025                                              False    \n",
              "2026                                              False    \n",
              "2027                                              False    \n",
              "\n",
              "      Department_Engineering - Mechanical Engineering / Similar to ME  \\\n",
              "0                                                 False                 \n",
              "1                                                 False                 \n",
              "2                                                 False                 \n",
              "3                                                 False                 \n",
              "4                                                 False                 \n",
              "...                                                 ...                 \n",
              "2023                                              False                 \n",
              "2024                                              False                 \n",
              "2025                                              False                 \n",
              "2026                                              False                 \n",
              "2027                                              False                 \n",
              "\n",
              "      Department_Engineering - Other  \\\n",
              "0                              False   \n",
              "1                              False   \n",
              "2                              False   \n",
              "3                              False   \n",
              "4                              False   \n",
              "...                              ...   \n",
              "2023                           False   \n",
              "2024                           False   \n",
              "2025                           False   \n",
              "2026                           False   \n",
              "2027                           False   \n",
              "\n",
              "      Department_Environmental and Life Sciences  \\\n",
              "0                                          False   \n",
              "1                                          False   \n",
              "2                                          False   \n",
              "3                                          False   \n",
              "4                                          False   \n",
              "...                                          ...   \n",
              "2023                                       False   \n",
              "2024                                       False   \n",
              "2025                                       False   \n",
              "2026                                       False   \n",
              "2027                                       False   \n",
              "\n",
              "      Department_Law and Human Rights  \\\n",
              "0                               False   \n",
              "1                               False   \n",
              "2                               False   \n",
              "3                               False   \n",
              "4                               False   \n",
              "...                               ...   \n",
              "2023                            False   \n",
              "2024                            False   \n",
              "2025                            False   \n",
              "2026                            False   \n",
              "2027                            False   \n",
              "\n",
              "      Department_Liberal Arts and Social Sciences  Department_Other  \\\n",
              "0                                           False             False   \n",
              "1                                           False             False   \n",
              "2                                           False             False   \n",
              "3                                           False             False   \n",
              "4                                           False             False   \n",
              "...                                           ...               ...   \n",
              "2023                                        False              True   \n",
              "2024                                        False             False   \n",
              "2025                                        False             False   \n",
              "2026                                        False              True   \n",
              "2027                                        False             False   \n",
              "\n",
              "      Department_Pharmacy and Public Health  waiver_or_scholarship_Yes  \\\n",
              "0                                     False                      False   \n",
              "1                                     False                      False   \n",
              "2                                     False                      False   \n",
              "3                                     False                      False   \n",
              "4                                     False                      False   \n",
              "...                                     ...                        ...   \n",
              "2023                                  False                      False   \n",
              "2024                                  False                      False   \n",
              "2025                                  False                      False   \n",
              "2026                                  False                      False   \n",
              "2027                                  False                      False   \n",
              "\n",
              "      Depression Label  \n",
              "0                    1  \n",
              "1                    1  \n",
              "2                    0  \n",
              "3                    1  \n",
              "4                    1  \n",
              "...                ...  \n",
              "2023                 1  \n",
              "2024                 1  \n",
              "2025                 1  \n",
              "2026                 1  \n",
              "2027                 1  \n",
              "\n",
              "[2028 rows x 37 columns]"
            ],
            "text/html": [
              "\n",
              "  <div id=\"df-1d06b6c8-752f-4a0b-9b21-5f3646598f79\" class=\"colab-df-container\">\n",
              "    <div>\n",
              "<style scoped>\n",
              "    .dataframe tbody tr th:only-of-type {\n",
              "        vertical-align: middle;\n",
              "    }\n",
              "\n",
              "    .dataframe tbody tr th {\n",
              "        vertical-align: top;\n",
              "    }\n",
              "\n",
              "    .dataframe thead th {\n",
              "        text-align: right;\n",
              "    }\n",
              "</style>\n",
              "<table border=\"1\" class=\"dataframe\">\n",
              "  <thead>\n",
              "    <tr style=\"text-align: right;\">\n",
              "      <th></th>\n",
              "      <th>Age</th>\n",
              "      <th>Academic_Year</th>\n",
              "      <th>Current_CGPA</th>\n",
              "      <th>Stress Label</th>\n",
              "      <th>Anxiety Label</th>\n",
              "      <th>Gender_Female</th>\n",
              "      <th>Gender_Male</th>\n",
              "      <th>Gender_Prefer not to say</th>\n",
              "      <th>University_American International University Bangladesh (AIUB)</th>\n",
              "      <th>University_BRAC University</th>\n",
              "      <th>...</th>\n",
              "      <th>Department_Engineering - EEE/ ECE / Similar to EEE</th>\n",
              "      <th>Department_Engineering - Mechanical Engineering / Similar to ME</th>\n",
              "      <th>Department_Engineering - Other</th>\n",
              "      <th>Department_Environmental and Life Sciences</th>\n",
              "      <th>Department_Law and Human Rights</th>\n",
              "      <th>Department_Liberal Arts and Social Sciences</th>\n",
              "      <th>Department_Other</th>\n",
              "      <th>Department_Pharmacy and Public Health</th>\n",
              "      <th>waiver_or_scholarship_Yes</th>\n",
              "      <th>Depression Label</th>\n",
              "    </tr>\n",
              "  </thead>\n",
              "  <tbody>\n",
              "    <tr>\n",
              "      <th>0</th>\n",
              "      <td>1</td>\n",
              "      <td>1</td>\n",
              "      <td>1</td>\n",
              "      <td>2</td>\n",
              "      <td>3</td>\n",
              "      <td>True</td>\n",
              "      <td>False</td>\n",
              "      <td>False</td>\n",
              "      <td>False</td>\n",
              "      <td>False</td>\n",
              "      <td>...</td>\n",
              "      <td>False</td>\n",
              "      <td>False</td>\n",
              "      <td>False</td>\n",
              "      <td>False</td>\n",
              "      <td>False</td>\n",
              "      <td>False</td>\n",
              "      <td>False</td>\n",
              "      <td>False</td>\n",
              "      <td>False</td>\n",
              "      <td>1</td>\n",
              "    </tr>\n",
              "    <tr>\n",
              "      <th>1</th>\n",
              "      <td>1</td>\n",
              "      <td>2</td>\n",
              "      <td>2</td>\n",
              "      <td>1</td>\n",
              "      <td>2</td>\n",
              "      <td>False</td>\n",
              "      <td>True</td>\n",
              "      <td>False</td>\n",
              "      <td>False</td>\n",
              "      <td>False</td>\n",
              "      <td>...</td>\n",
              "      <td>False</td>\n",
              "      <td>False</td>\n",
              "      <td>False</td>\n",
              "      <td>False</td>\n",
              "      <td>False</td>\n",
              "      <td>False</td>\n",
              "      <td>False</td>\n",
              "      <td>False</td>\n",
              "      <td>False</td>\n",
              "      <td>1</td>\n",
              "    </tr>\n",
              "    <tr>\n",
              "      <th>2</th>\n",
              "      <td>1</td>\n",
              "      <td>2</td>\n",
              "      <td>2</td>\n",
              "      <td>1</td>\n",
              "      <td>0</td>\n",
              "      <td>False</td>\n",
              "      <td>True</td>\n",
              "      <td>False</td>\n",
              "      <td>True</td>\n",
              "      <td>False</td>\n",
              "      <td>...</td>\n",
              "      <td>False</td>\n",
              "      <td>False</td>\n",
              "      <td>False</td>\n",
              "      <td>False</td>\n",
              "      <td>False</td>\n",
              "      <td>False</td>\n",
              "      <td>False</td>\n",
              "      <td>False</td>\n",
              "      <td>False</td>\n",
              "      <td>0</td>\n",
              "    </tr>\n",
              "    <tr>\n",
              "      <th>3</th>\n",
              "      <td>1</td>\n",
              "      <td>2</td>\n",
              "      <td>2</td>\n",
              "      <td>1</td>\n",
              "      <td>2</td>\n",
              "      <td>False</td>\n",
              "      <td>True</td>\n",
              "      <td>False</td>\n",
              "      <td>True</td>\n",
              "      <td>False</td>\n",
              "      <td>...</td>\n",
              "      <td>False</td>\n",
              "      <td>False</td>\n",
              "      <td>False</td>\n",
              "      <td>False</td>\n",
              "      <td>False</td>\n",
              "      <td>False</td>\n",
              "      <td>False</td>\n",
              "      <td>False</td>\n",
              "      <td>False</td>\n",
              "      <td>1</td>\n",
              "    </tr>\n",
              "    <tr>\n",
              "      <th>4</th>\n",
              "      <td>1</td>\n",
              "      <td>1</td>\n",
              "      <td>1</td>\n",
              "      <td>2</td>\n",
              "      <td>2</td>\n",
              "      <td>False</td>\n",
              "      <td>True</td>\n",
              "      <td>False</td>\n",
              "      <td>False</td>\n",
              "      <td>False</td>\n",
              "      <td>...</td>\n",
              "      <td>False</td>\n",
              "      <td>False</td>\n",
              "      <td>False</td>\n",
              "      <td>False</td>\n",
              "      <td>False</td>\n",
              "      <td>False</td>\n",
              "      <td>False</td>\n",
              "      <td>False</td>\n",
              "      <td>False</td>\n",
              "      <td>1</td>\n",
              "    </tr>\n",
              "    <tr>\n",
              "      <th>...</th>\n",
              "      <td>...</td>\n",
              "      <td>...</td>\n",
              "      <td>...</td>\n",
              "      <td>...</td>\n",
              "      <td>...</td>\n",
              "      <td>...</td>\n",
              "      <td>...</td>\n",
              "      <td>...</td>\n",
              "      <td>...</td>\n",
              "      <td>...</td>\n",
              "      <td>...</td>\n",
              "      <td>...</td>\n",
              "      <td>...</td>\n",
              "      <td>...</td>\n",
              "      <td>...</td>\n",
              "      <td>...</td>\n",
              "      <td>...</td>\n",
              "      <td>...</td>\n",
              "      <td>...</td>\n",
              "      <td>...</td>\n",
              "      <td>...</td>\n",
              "    </tr>\n",
              "    <tr>\n",
              "      <th>2023</th>\n",
              "      <td>1</td>\n",
              "      <td>1</td>\n",
              "      <td>2</td>\n",
              "      <td>2</td>\n",
              "      <td>3</td>\n",
              "      <td>False</td>\n",
              "      <td>True</td>\n",
              "      <td>False</td>\n",
              "      <td>False</td>\n",
              "      <td>False</td>\n",
              "      <td>...</td>\n",
              "      <td>False</td>\n",
              "      <td>False</td>\n",
              "      <td>False</td>\n",
              "      <td>False</td>\n",
              "      <td>False</td>\n",
              "      <td>False</td>\n",
              "      <td>True</td>\n",
              "      <td>False</td>\n",
              "      <td>False</td>\n",
              "      <td>1</td>\n",
              "    </tr>\n",
              "    <tr>\n",
              "      <th>2024</th>\n",
              "      <td>1</td>\n",
              "      <td>2</td>\n",
              "      <td>2</td>\n",
              "      <td>2</td>\n",
              "      <td>3</td>\n",
              "      <td>True</td>\n",
              "      <td>False</td>\n",
              "      <td>False</td>\n",
              "      <td>False</td>\n",
              "      <td>False</td>\n",
              "      <td>...</td>\n",
              "      <td>False</td>\n",
              "      <td>False</td>\n",
              "      <td>False</td>\n",
              "      <td>False</td>\n",
              "      <td>False</td>\n",
              "      <td>False</td>\n",
              "      <td>False</td>\n",
              "      <td>False</td>\n",
              "      <td>False</td>\n",
              "      <td>1</td>\n",
              "    </tr>\n",
              "    <tr>\n",
              "      <th>2025</th>\n",
              "      <td>1</td>\n",
              "      <td>1</td>\n",
              "      <td>1</td>\n",
              "      <td>1</td>\n",
              "      <td>2</td>\n",
              "      <td>False</td>\n",
              "      <td>True</td>\n",
              "      <td>False</td>\n",
              "      <td>True</td>\n",
              "      <td>False</td>\n",
              "      <td>...</td>\n",
              "      <td>False</td>\n",
              "      <td>False</td>\n",
              "      <td>False</td>\n",
              "      <td>False</td>\n",
              "      <td>False</td>\n",
              "      <td>False</td>\n",
              "      <td>False</td>\n",
              "      <td>False</td>\n",
              "      <td>False</td>\n",
              "      <td>1</td>\n",
              "    </tr>\n",
              "    <tr>\n",
              "      <th>2026</th>\n",
              "      <td>2</td>\n",
              "      <td>2</td>\n",
              "      <td>3</td>\n",
              "      <td>2</td>\n",
              "      <td>3</td>\n",
              "      <td>True</td>\n",
              "      <td>False</td>\n",
              "      <td>False</td>\n",
              "      <td>False</td>\n",
              "      <td>False</td>\n",
              "      <td>...</td>\n",
              "      <td>False</td>\n",
              "      <td>False</td>\n",
              "      <td>False</td>\n",
              "      <td>False</td>\n",
              "      <td>False</td>\n",
              "      <td>False</td>\n",
              "      <td>True</td>\n",
              "      <td>False</td>\n",
              "      <td>False</td>\n",
              "      <td>1</td>\n",
              "    </tr>\n",
              "    <tr>\n",
              "      <th>2027</th>\n",
              "      <td>1</td>\n",
              "      <td>1</td>\n",
              "      <td>1</td>\n",
              "      <td>1</td>\n",
              "      <td>2</td>\n",
              "      <td>False</td>\n",
              "      <td>True</td>\n",
              "      <td>False</td>\n",
              "      <td>False</td>\n",
              "      <td>False</td>\n",
              "      <td>...</td>\n",
              "      <td>False</td>\n",
              "      <td>False</td>\n",
              "      <td>False</td>\n",
              "      <td>False</td>\n",
              "      <td>False</td>\n",
              "      <td>False</td>\n",
              "      <td>False</td>\n",
              "      <td>False</td>\n",
              "      <td>False</td>\n",
              "      <td>1</td>\n",
              "    </tr>\n",
              "  </tbody>\n",
              "</table>\n",
              "<p>2028 rows × 37 columns</p>\n",
              "</div>\n",
              "    <div class=\"colab-df-buttons\">\n",
              "\n",
              "  <div class=\"colab-df-container\">\n",
              "    <button class=\"colab-df-convert\" onclick=\"convertToInteractive('df-1d06b6c8-752f-4a0b-9b21-5f3646598f79')\"\n",
              "            title=\"Convert this dataframe to an interactive table.\"\n",
              "            style=\"display:none;\">\n",
              "\n",
              "  <svg xmlns=\"http://www.w3.org/2000/svg\" height=\"24px\" viewBox=\"0 -960 960 960\">\n",
              "    <path d=\"M120-120v-720h720v720H120Zm60-500h600v-160H180v160Zm220 220h160v-160H400v160Zm0 220h160v-160H400v160ZM180-400h160v-160H180v160Zm440 0h160v-160H620v160ZM180-180h160v-160H180v160Zm440 0h160v-160H620v160Z\"/>\n",
              "  </svg>\n",
              "    </button>\n",
              "\n",
              "  <style>\n",
              "    .colab-df-container {\n",
              "      display:flex;\n",
              "      gap: 12px;\n",
              "    }\n",
              "\n",
              "    .colab-df-convert {\n",
              "      background-color: #E8F0FE;\n",
              "      border: none;\n",
              "      border-radius: 50%;\n",
              "      cursor: pointer;\n",
              "      display: none;\n",
              "      fill: #1967D2;\n",
              "      height: 32px;\n",
              "      padding: 0 0 0 0;\n",
              "      width: 32px;\n",
              "    }\n",
              "\n",
              "    .colab-df-convert:hover {\n",
              "      background-color: #E2EBFA;\n",
              "      box-shadow: 0px 1px 2px rgba(60, 64, 67, 0.3), 0px 1px 3px 1px rgba(60, 64, 67, 0.15);\n",
              "      fill: #174EA6;\n",
              "    }\n",
              "\n",
              "    .colab-df-buttons div {\n",
              "      margin-bottom: 4px;\n",
              "    }\n",
              "\n",
              "    [theme=dark] .colab-df-convert {\n",
              "      background-color: #3B4455;\n",
              "      fill: #D2E3FC;\n",
              "    }\n",
              "\n",
              "    [theme=dark] .colab-df-convert:hover {\n",
              "      background-color: #434B5C;\n",
              "      box-shadow: 0px 1px 3px 1px rgba(0, 0, 0, 0.15);\n",
              "      filter: drop-shadow(0px 1px 2px rgba(0, 0, 0, 0.3));\n",
              "      fill: #FFFFFF;\n",
              "    }\n",
              "  </style>\n",
              "\n",
              "    <script>\n",
              "      const buttonEl =\n",
              "        document.querySelector('#df-1d06b6c8-752f-4a0b-9b21-5f3646598f79 button.colab-df-convert');\n",
              "      buttonEl.style.display =\n",
              "        google.colab.kernel.accessAllowed ? 'block' : 'none';\n",
              "\n",
              "      async function convertToInteractive(key) {\n",
              "        const element = document.querySelector('#df-1d06b6c8-752f-4a0b-9b21-5f3646598f79');\n",
              "        const dataTable =\n",
              "          await google.colab.kernel.invokeFunction('convertToInteractive',\n",
              "                                                    [key], {});\n",
              "        if (!dataTable) return;\n",
              "\n",
              "        const docLinkHtml = 'Like what you see? Visit the ' +\n",
              "          '<a target=\"_blank\" href=https://colab.research.google.com/notebooks/data_table.ipynb>data table notebook</a>'\n",
              "          + ' to learn more about interactive tables.';\n",
              "        element.innerHTML = '';\n",
              "        dataTable['output_type'] = 'display_data';\n",
              "        await google.colab.output.renderOutput(dataTable, element);\n",
              "        const docLink = document.createElement('div');\n",
              "        docLink.innerHTML = docLinkHtml;\n",
              "        element.appendChild(docLink);\n",
              "      }\n",
              "    </script>\n",
              "  </div>\n",
              "\n",
              "\n",
              "<div id=\"df-118c0a9a-8ddf-4816-ad02-0cd5cee1f469\">\n",
              "  <button class=\"colab-df-quickchart\" onclick=\"quickchart('df-118c0a9a-8ddf-4816-ad02-0cd5cee1f469')\"\n",
              "            title=\"Suggest charts\"\n",
              "            style=\"display:none;\">\n",
              "\n",
              "<svg xmlns=\"http://www.w3.org/2000/svg\" height=\"24px\"viewBox=\"0 0 24 24\"\n",
              "     width=\"24px\">\n",
              "    <g>\n",
              "        <path d=\"M19 3H5c-1.1 0-2 .9-2 2v14c0 1.1.9 2 2 2h14c1.1 0 2-.9 2-2V5c0-1.1-.9-2-2-2zM9 17H7v-7h2v7zm4 0h-2V7h2v10zm4 0h-2v-4h2v4z\"/>\n",
              "    </g>\n",
              "</svg>\n",
              "  </button>\n",
              "\n",
              "<style>\n",
              "  .colab-df-quickchart {\n",
              "      --bg-color: #E8F0FE;\n",
              "      --fill-color: #1967D2;\n",
              "      --hover-bg-color: #E2EBFA;\n",
              "      --hover-fill-color: #174EA6;\n",
              "      --disabled-fill-color: #AAA;\n",
              "      --disabled-bg-color: #DDD;\n",
              "  }\n",
              "\n",
              "  [theme=dark] .colab-df-quickchart {\n",
              "      --bg-color: #3B4455;\n",
              "      --fill-color: #D2E3FC;\n",
              "      --hover-bg-color: #434B5C;\n",
              "      --hover-fill-color: #FFFFFF;\n",
              "      --disabled-bg-color: #3B4455;\n",
              "      --disabled-fill-color: #666;\n",
              "  }\n",
              "\n",
              "  .colab-df-quickchart {\n",
              "    background-color: var(--bg-color);\n",
              "    border: none;\n",
              "    border-radius: 50%;\n",
              "    cursor: pointer;\n",
              "    display: none;\n",
              "    fill: var(--fill-color);\n",
              "    height: 32px;\n",
              "    padding: 0;\n",
              "    width: 32px;\n",
              "  }\n",
              "\n",
              "  .colab-df-quickchart:hover {\n",
              "    background-color: var(--hover-bg-color);\n",
              "    box-shadow: 0 1px 2px rgba(60, 64, 67, 0.3), 0 1px 3px 1px rgba(60, 64, 67, 0.15);\n",
              "    fill: var(--button-hover-fill-color);\n",
              "  }\n",
              "\n",
              "  .colab-df-quickchart-complete:disabled,\n",
              "  .colab-df-quickchart-complete:disabled:hover {\n",
              "    background-color: var(--disabled-bg-color);\n",
              "    fill: var(--disabled-fill-color);\n",
              "    box-shadow: none;\n",
              "  }\n",
              "\n",
              "  .colab-df-spinner {\n",
              "    border: 2px solid var(--fill-color);\n",
              "    border-color: transparent;\n",
              "    border-bottom-color: var(--fill-color);\n",
              "    animation:\n",
              "      spin 1s steps(1) infinite;\n",
              "  }\n",
              "\n",
              "  @keyframes spin {\n",
              "    0% {\n",
              "      border-color: transparent;\n",
              "      border-bottom-color: var(--fill-color);\n",
              "      border-left-color: var(--fill-color);\n",
              "    }\n",
              "    20% {\n",
              "      border-color: transparent;\n",
              "      border-left-color: var(--fill-color);\n",
              "      border-top-color: var(--fill-color);\n",
              "    }\n",
              "    30% {\n",
              "      border-color: transparent;\n",
              "      border-left-color: var(--fill-color);\n",
              "      border-top-color: var(--fill-color);\n",
              "      border-right-color: var(--fill-color);\n",
              "    }\n",
              "    40% {\n",
              "      border-color: transparent;\n",
              "      border-right-color: var(--fill-color);\n",
              "      border-top-color: var(--fill-color);\n",
              "    }\n",
              "    60% {\n",
              "      border-color: transparent;\n",
              "      border-right-color: var(--fill-color);\n",
              "    }\n",
              "    80% {\n",
              "      border-color: transparent;\n",
              "      border-right-color: var(--fill-color);\n",
              "      border-bottom-color: var(--fill-color);\n",
              "    }\n",
              "    90% {\n",
              "      border-color: transparent;\n",
              "      border-bottom-color: var(--fill-color);\n",
              "    }\n",
              "  }\n",
              "</style>\n",
              "\n",
              "  <script>\n",
              "    async function quickchart(key) {\n",
              "      const quickchartButtonEl =\n",
              "        document.querySelector('#' + key + ' button');\n",
              "      quickchartButtonEl.disabled = true;  // To prevent multiple clicks.\n",
              "      quickchartButtonEl.classList.add('colab-df-spinner');\n",
              "      try {\n",
              "        const charts = await google.colab.kernel.invokeFunction(\n",
              "            'suggestCharts', [key], {});\n",
              "      } catch (error) {\n",
              "        console.error('Error during call to suggestCharts:', error);\n",
              "      }\n",
              "      quickchartButtonEl.classList.remove('colab-df-spinner');\n",
              "      quickchartButtonEl.classList.add('colab-df-quickchart-complete');\n",
              "    }\n",
              "    (() => {\n",
              "      let quickchartButtonEl =\n",
              "        document.querySelector('#df-118c0a9a-8ddf-4816-ad02-0cd5cee1f469 button');\n",
              "      quickchartButtonEl.style.display =\n",
              "        google.colab.kernel.accessAllowed ? 'block' : 'none';\n",
              "    })();\n",
              "  </script>\n",
              "</div>\n",
              "\n",
              "  <div id=\"id_eb414c54-02ce-4ffc-9bb6-e353ae4c2631\">\n",
              "    <style>\n",
              "      .colab-df-generate {\n",
              "        background-color: #E8F0FE;\n",
              "        border: none;\n",
              "        border-radius: 50%;\n",
              "        cursor: pointer;\n",
              "        display: none;\n",
              "        fill: #1967D2;\n",
              "        height: 32px;\n",
              "        padding: 0 0 0 0;\n",
              "        width: 32px;\n",
              "      }\n",
              "\n",
              "      .colab-df-generate:hover {\n",
              "        background-color: #E2EBFA;\n",
              "        box-shadow: 0px 1px 2px rgba(60, 64, 67, 0.3), 0px 1px 3px 1px rgba(60, 64, 67, 0.15);\n",
              "        fill: #174EA6;\n",
              "      }\n",
              "\n",
              "      [theme=dark] .colab-df-generate {\n",
              "        background-color: #3B4455;\n",
              "        fill: #D2E3FC;\n",
              "      }\n",
              "\n",
              "      [theme=dark] .colab-df-generate:hover {\n",
              "        background-color: #434B5C;\n",
              "        box-shadow: 0px 1px 3px 1px rgba(0, 0, 0, 0.15);\n",
              "        filter: drop-shadow(0px 1px 2px rgba(0, 0, 0, 0.3));\n",
              "        fill: #FFFFFF;\n",
              "      }\n",
              "    </style>\n",
              "    <button class=\"colab-df-generate\" onclick=\"generateWithVariable('data')\"\n",
              "            title=\"Generate code using this dataframe.\"\n",
              "            style=\"display:none;\">\n",
              "\n",
              "  <svg xmlns=\"http://www.w3.org/2000/svg\" height=\"24px\"viewBox=\"0 0 24 24\"\n",
              "       width=\"24px\">\n",
              "    <path d=\"M7,19H8.4L18.45,9,17,7.55,7,17.6ZM5,21V16.75L18.45,3.32a2,2,0,0,1,2.83,0l1.4,1.43a1.91,1.91,0,0,1,.58,1.4,1.91,1.91,0,0,1-.58,1.4L9.25,21ZM18.45,9,17,7.55Zm-12,3A5.31,5.31,0,0,0,4.9,8.1,5.31,5.31,0,0,0,1,6.5,5.31,5.31,0,0,0,4.9,4.9,5.31,5.31,0,0,0,6.5,1,5.31,5.31,0,0,0,8.1,4.9,5.31,5.31,0,0,0,12,6.5,5.46,5.46,0,0,0,6.5,12Z\"/>\n",
              "  </svg>\n",
              "    </button>\n",
              "    <script>\n",
              "      (() => {\n",
              "      const buttonEl =\n",
              "        document.querySelector('#id_eb414c54-02ce-4ffc-9bb6-e353ae4c2631 button.colab-df-generate');\n",
              "      buttonEl.style.display =\n",
              "        google.colab.kernel.accessAllowed ? 'block' : 'none';\n",
              "\n",
              "      buttonEl.onclick = () => {\n",
              "        google.colab.notebook.generateWithVariable('data');\n",
              "      }\n",
              "      })();\n",
              "    </script>\n",
              "  </div>\n",
              "\n",
              "    </div>\n",
              "  </div>\n"
            ],
            "application/vnd.google.colaboratory.intrinsic+json": {
              "type": "dataframe",
              "variable_name": "data"
            }
          },
          "metadata": {},
          "execution_count": 46
        }
      ]
    },
    {
      "cell_type": "code",
      "source": [
        "data.info()"
      ],
      "metadata": {
        "colab": {
          "base_uri": "https://localhost:8080/"
        },
        "id": "Up2F6JZsHTUc",
        "outputId": "b9fcd281-1a28-4986-a36c-115fb9bee0fa"
      },
      "execution_count": null,
      "outputs": [
        {
          "output_type": "stream",
          "name": "stdout",
          "text": [
            "<class 'pandas.core.frame.DataFrame'>\n",
            "RangeIndex: 2028 entries, 0 to 2027\n",
            "Data columns (total 37 columns):\n",
            " #   Column                                                                 Non-Null Count  Dtype\n",
            "---  ------                                                                 --------------  -----\n",
            " 0   Age                                                                    2028 non-null   int64\n",
            " 1   Academic_Year                                                          2028 non-null   int64\n",
            " 2   Current_CGPA                                                           2028 non-null   int64\n",
            " 3   Stress Label                                                           2028 non-null   int64\n",
            " 4   Anxiety Label                                                          2028 non-null   int64\n",
            " 5   Gender_Female                                                          2028 non-null   bool \n",
            " 6   Gender_Male                                                            2028 non-null   bool \n",
            " 7   Gender_Prefer not to say                                               2028 non-null   bool \n",
            " 8   University_American International University Bangladesh (AIUB)         2028 non-null   bool \n",
            " 9   University_BRAC University                                             2028 non-null   bool \n",
            " 10  University_Bangladesh Agricultural University (BAU)                    2028 non-null   bool \n",
            " 11  University_Bangladesh University of Engineering and Technology (BUET)  2028 non-null   bool \n",
            " 12  University_Daffodil University                                         2028 non-null   bool \n",
            " 13  University_Dhaka University (DU)                                       2028 non-null   bool \n",
            " 14  University_Dhaka University of Engineering and Technology (DUET)       2028 non-null   bool \n",
            " 15  University_East West University (EWU)                                  2028 non-null   bool \n",
            " 16  University_Independent University, Bangladesh (IUB)                    2028 non-null   bool \n",
            " 17  University_Islamic University of Technology (IUT)                      2028 non-null   bool \n",
            " 18  University_North South University (NSU)                                2028 non-null   bool \n",
            " 19  University_Patuakhali Science and Technology University                2028 non-null   bool \n",
            " 20  University_Rajshahi University (RU)                                    2028 non-null   bool \n",
            " 21  University_Rajshahi University of Engineering and Technology (RUET)    2028 non-null   bool \n",
            " 22  University_United International University (UIU)                       2028 non-null   bool \n",
            " 23  Department_Biological Sciences                                         2028 non-null   bool \n",
            " 24  Department_Business and Entrepreneurship Studies                       2028 non-null   bool \n",
            " 25  Department_Engineering - CS / CSE / CSC / Similar to CS                2028 non-null   bool \n",
            " 26  Department_Engineering - Civil Engineering / Similar to CE             2028 non-null   bool \n",
            " 27  Department_Engineering - EEE/ ECE / Similar to EEE                     2028 non-null   bool \n",
            " 28  Department_Engineering - Mechanical Engineering / Similar to ME        2028 non-null   bool \n",
            " 29  Department_Engineering - Other                                         2028 non-null   bool \n",
            " 30  Department_Environmental and Life Sciences                             2028 non-null   bool \n",
            " 31  Department_Law and Human Rights                                        2028 non-null   bool \n",
            " 32  Department_Liberal Arts and Social Sciences                            2028 non-null   bool \n",
            " 33  Department_Other                                                       2028 non-null   bool \n",
            " 34  Department_Pharmacy and Public Health                                  2028 non-null   bool \n",
            " 35  waiver_or_scholarship_Yes                                              2028 non-null   bool \n",
            " 36  Depression Label                                                       2028 non-null   int64\n",
            "dtypes: bool(31), int64(6)\n",
            "memory usage: 156.6 KB\n"
          ]
        }
      ]
    },
    {
      "cell_type": "markdown",
      "source": [
        "# Data Visualizations"
      ],
      "metadata": {
        "id": "INqy1-PwZk8M"
      }
    },
    {
      "cell_type": "code",
      "source": [
        "corr_matrix = data.corr()[[\"Depression Label\"]]\n",
        "plt.figure(figsize=(10, 15))\n",
        "sns.heatmap(corr_matrix, annot=True, cmap='coolwarm', vmin=-1, vmax=1, fmt='.2f')\n",
        "plt.title(\"Stage Correlation Matrix\")\n",
        "plt.show()"
      ],
      "metadata": {
        "colab": {
          "base_uri": "https://localhost:8080/",
          "height": 1000
        },
        "id": "8nOt-N0czfSM",
        "outputId": "bdfbd11e-9b04-47ef-cc40-af5bbed9506d"
      },
      "execution_count": null,
      "outputs": [
        {
          "output_type": "display_data",
          "data": {
            "text/plain": [
              "<Figure size 1000x1500 with 2 Axes>"
            ],
            "image/png": "[encoded data removed]"
          },
          "metadata": {}
        }
      ]
    },
    {
      "cell_type": "markdown",
      "source": [
        "Mostly Correlated - a lot of the PHQ and features indirectly contributing to depression.\n",
        "\n",
        "MOST Correlated - \"How often have you been feeling bad about yourself - or that you are a failure or have let yourself or your family down\": It's only .01 the other mostly correlated features.\n",
        "\n",
        "LEAST Correlated - \"American International University Bangladesh\": Although this is the least correlated, it's mostly neutral."
      ],
      "metadata": {
        "id": "rvN3TIFT0m1B"
      }
    },
    {
      "cell_type": "markdown",
      "source": [
        "What we could do:\n",
        "1. Test our models with every feature\n",
        "2. Test our models with only correlated features\n",
        "3. Test our models with neutral features."
      ],
      "metadata": {
        "id": "qmt_ccc-10TX"
      }
    },
    {
      "cell_type": "code",
      "source": [
        "#sns.displot(data[\"In a semester, how often have you been feeling bad about yourself - or that you are a failure or have let yourself or your family down?\"])\n",
        "\n",
        "# Show the plot\n",
        "#plt.show()"
      ],
      "metadata": {
        "id": "kX4SZvZm_Iei"
      },
      "execution_count": null,
      "outputs": []
    },
    {
      "cell_type": "markdown",
      "source": [
        "Shows distribution of most correlated feature. Most picked option 3."
      ],
      "metadata": {
        "id": "__cSjjGU_Jpk"
      }
    },
    {
      "cell_type": "markdown",
      "source": [
        "# Models"
      ],
      "metadata": {
        "id": "vm_JVa2qZ901"
      }
    },
    {
      "cell_type": "markdown",
      "source": [
        "## Logistic Regression"
      ],
      "metadata": {
        "id": "bfk_bj21Zp_v"
      }
    },
    {
      "cell_type": "markdown",
      "source": [
        "### Data Split"
      ],
      "metadata": {
        "id": "Hqga9Hj0aMei"
      }
    },
    {
      "cell_type": "code",
      "source": [
        "X = data.drop(columns=\"Depression Label\")\n",
        "y = data[\"Depression Label\"]\n",
        "\n",
        "X_train, X_test, y_train, y_test = train_test_split(X, y, test_size=0.2, random_state=42)"
      ],
      "metadata": {
        "id": "3t1vLZc_3L5k"
      },
      "execution_count": null,
      "outputs": []
    },
    {
      "cell_type": "markdown",
      "source": [
        "### Modeling"
      ],
      "metadata": {
        "id": "wCXCU2b2aZG1"
      }
    },
    {
      "cell_type": "code",
      "source": [
        "lr_model = LogisticRegression(max_iter=1000)\n",
        "lr_model.fit(X_train, y_train)\n",
        "\n",
        "lr_y_train_pred = lr_model.predict(X_train)\n",
        "lr_y_test_pred = lr_model.predict(X_test)"
      ],
      "metadata": {
        "id": "kD_zcbPI3om7"
      },
      "execution_count": null,
      "outputs": []
    },
    {
      "cell_type": "markdown",
      "source": [
        "### Classification Report"
      ],
      "metadata": {
        "id": "gY7foZF3afHU"
      }
    },
    {
      "cell_type": "code",
      "source": [
        "# Evaluate accuracies.\n",
        "print(f\"Train Acc: {round(accuracy_score(y_train, lr_y_train_pred), 3)}\")\n",
        "print(f\"Test Acc: {round(accuracy_score(y_test, lr_y_test_pred), 3)}\\n\")\n",
        "\n",
        "# Evaluate the model\n",
        "print(\"Train Report:\")\n",
        "print(classification_report(y_train, lr_y_train_pred))\n",
        "print(\"Test Report:\")\n",
        "print(classification_report(y_test, lr_y_test_pred))"
      ],
      "metadata": {
        "colab": {
          "base_uri": "https://localhost:8080/"
        },
        "id": "UEjNQ3T13p_7",
        "outputId": "9239c3de-1a22-4768-d287-10aaf0978f1e"
      },
      "execution_count": null,
      "outputs": [
        {
          "output_type": "stream",
          "name": "stdout",
          "text": [
            "Train Acc: 0.824\n",
            "Test Acc: 0.798\n",
            "\n",
            "Train Report:\n",
            "              precision    recall  f1-score   support\n",
            "\n",
            "           0       0.68      0.66      0.67       439\n",
            "           1       0.88      0.88      0.88      1183\n",
            "\n",
            "    accuracy                           0.82      1622\n",
            "   macro avg       0.78      0.77      0.78      1622\n",
            "weighted avg       0.82      0.82      0.82      1622\n",
            "\n",
            "Test Report:\n",
            "              precision    recall  f1-score   support\n",
            "\n",
            "           0       0.66      0.60      0.63       116\n",
            "           1       0.85      0.88      0.86       290\n",
            "\n",
            "    accuracy                           0.80       406\n",
            "   macro avg       0.75      0.74      0.75       406\n",
            "weighted avg       0.79      0.80      0.80       406\n",
            "\n"
          ]
        }
      ]
    },
    {
      "cell_type": "code",
      "source": [
        "# Evaluate accuracies.\n",
        "print(f\"Train Acc: {round(accuracy_score(y_train, lr_y_train_pred), 3)}\")\n",
        "print(f\"Test Acc: {round(accuracy_score(y_test, lr_y_test_pred), 3)}\\n\")\n",
        "\n",
        "# Evaluate the model\n",
        "print(\"Test Report:\")\n",
        "print(classification_report(y_test, lr_y_test_pred))"
      ],
      "metadata": {
        "colab": {
          "base_uri": "https://localhost:8080/"
        },
        "id": "HqvJeHgc3vqE",
        "outputId": "f7f51375-7ad7-4e40-f368-59be52e03f0a"
      },
      "execution_count": null,
      "outputs": [
        {
          "output_type": "stream",
          "name": "stdout",
          "text": [
            "Train Acc: 0.824\n",
            "Test Acc: 0.798\n",
            "\n",
            "Test Report:\n",
            "              precision    recall  f1-score   support\n",
            "\n",
            "           0       0.66      0.60      0.63       116\n",
            "           1       0.85      0.88      0.86       290\n",
            "\n",
            "    accuracy                           0.80       406\n",
            "   macro avg       0.75      0.74      0.75       406\n",
            "weighted avg       0.79      0.80      0.80       406\n",
            "\n"
          ]
        }
      ]
    },
    {
      "cell_type": "markdown",
      "source": [
        "### Visualization"
      ],
      "metadata": {
        "id": "1AhkSMud3rbt"
      }
    },
    {
      "cell_type": "code",
      "source": [
        "from sklearn.metrics import confusion_matrix\n",
        "import seaborn as sns\n",
        "import matplotlib.pyplot as plt\n",
        "\n",
        "# Compute confusion matrix\n",
        "conf_matrix = confusion_matrix(y_test, lr_y_test_pred)\n",
        "\n",
        "# Plot confusion matrix\n",
        "plt.figure(figsize=(10, 7))\n",
        "sns.heatmap(conf_matrix, annot=True, fmt='d', cmap='Blues')\n",
        "plt.xlabel('Predicted')\n",
        "plt.ylabel('Actual')\n",
        "plt.title('Logistic Regression')\n",
        "plt.show()"
      ],
      "metadata": {
        "colab": {
          "base_uri": "https://localhost:8080/",
          "height": 641
        },
        "id": "Gxy-OwMI3uF9",
        "outputId": "919363d0-6174-4731-e379-b45bc357c0f3"
      },
      "execution_count": null,
      "outputs": [
        {
          "output_type": "display_data",
          "data": {
            "text/plain": [
              "<Figure size 1000x700 with 2 Axes>"
            ],
            "image/png": "[encoded data removed]"
          },
          "metadata": {}
        }
      ]
    },
    {
      "cell_type": "markdown",
      "source": [
        "## Random Forest"
      ],
      "metadata": {
        "id": "mrcdVWdvZvOI"
      }
    },
    {
      "cell_type": "markdown",
      "source": [
        "### Data Split"
      ],
      "metadata": {
        "id": "8jkmAOaKaS1W"
      }
    },
    {
      "cell_type": "code",
      "source": [
        "X = data.drop(columns=\"Depression Label\")\n",
        "y = data[\"Depression Label\"]\n",
        "\n",
        "X_train, X_test, y_train, y_test = train_test_split(X, y, test_size=0.2, random_state=42)"
      ],
      "metadata": {
        "id": "wYV17rA13CNn"
      },
      "execution_count": null,
      "outputs": []
    },
    {
      "cell_type": "markdown",
      "source": [
        "### Modeling"
      ],
      "metadata": {
        "id": "DURwW8lEadPU"
      }
    },
    {
      "cell_type": "code",
      "source": [
        "from sklearn.tree import DecisionTreeClassifier\n",
        "# Decision trees overfit\n",
        "# AND overfitting is more likely with a small training data set\n",
        "# so we're jumping right into hyper parameter tuning\n",
        "model = DecisionTreeClassifier()\n",
        "model.fit(X_train, y_train)"
      ],
      "metadata": {
        "colab": {
          "base_uri": "https://localhost:8080/",
          "height": 80
        },
        "id": "YAny8ga03GmH",
        "outputId": "ec98aeb3-28e8-4fe5-a6fc-1cb45e85b20a"
      },
      "execution_count": null,
      "outputs": [
        {
          "output_type": "execute_result",
          "data": {
            "text/plain": [
              "DecisionTreeClassifier()"
            ],
            "text/html": [
              "<style>#sk-container-id-2 {\n",
              "  /* Definition of color scheme common for light and dark mode */\n",
              "  --sklearn-color-text: #000;\n",
              "  --sklearn-color-text-muted: #666;\n",
              "  --sklearn-color-line: gray;\n",
              "  /* Definition of color scheme for unfitted estimators */\n",
              "  --sklearn-color-unfitted-level-0: #fff5e6;\n",
              "  --sklearn-color-unfitted-level-1: #f6e4d2;\n",
              "  --sklearn-color-unfitted-level-2: #ffe0b3;\n",
              "  --sklearn-color-unfitted-level-3: chocolate;\n",
              "  /* Definition of color scheme for fitted estimators */\n",
              "  --sklearn-color-fitted-level-0: #f0f8ff;\n",
              "  --sklearn-color-fitted-level-1: #d4ebff;\n",
              "  --sklearn-color-fitted-level-2: #b3dbfd;\n",
              "  --sklearn-color-fitted-level-3: cornflowerblue;\n",
              "\n",
              "  /* Specific color for light theme */\n",
              "  --sklearn-color-text-on-default-background: var(--sg-text-color, var(--theme-code-foreground, var(--jp-content-font-color1, black)));\n",
              "  --sklearn-color-background: var(--sg-background-color, var(--theme-background, var(--jp-layout-color0, white)));\n",
              "  --sklearn-color-border-box: var(--sg-text-color, var(--theme-code-foreground, var(--jp-content-font-color1, black)));\n",
              "  --sklearn-color-icon: #696969;\n",
              "\n",
              "  @media (prefers-color-scheme: dark) {\n",
              "    /* Redefinition of color scheme for dark theme */\n",
              "    --sklearn-color-text-on-default-background: var(--sg-text-color, var(--theme-code-foreground, var(--jp-content-font-color1, white)));\n",
              "    --sklearn-color-background: var(--sg-background-color, var(--theme-background, var(--jp-layout-color0, #111)));\n",
              "    --sklearn-color-border-box: var(--sg-text-color, var(--theme-code-foreground, var(--jp-content-font-color1, white)));\n",
              "    --sklearn-color-icon: #878787;\n",
              "  }\n",
              "}\n",
              "\n",
              "#sk-container-id-2 {\n",
              "  color: var(--sklearn-color-text);\n",
              "}\n",
              "\n",
              "#sk-container-id-2 pre {\n",
              "  padding: 0;\n",
              "}\n",
              "\n",
              "#sk-container-id-2 input.sk-hidden--visually {\n",
              "  border: 0;\n",
              "  clip: rect(1px 1px 1px 1px);\n",
              "  clip: rect(1px, 1px, 1px, 1px);\n",
              "  height: 1px;\n",
              "  margin: -1px;\n",
              "  overflow: hidden;\n",
              "  padding: 0;\n",
              "  position: absolute;\n",
              "  width: 1px;\n",
              "}\n",
              "\n",
              "#sk-container-id-2 div.sk-dashed-wrapped {\n",
              "  border: 1px dashed var(--sklearn-color-line);\n",
              "  margin: 0 0.4em 0.5em 0.4em;\n",
              "  box-sizing: border-box;\n",
              "  padding-bottom: 0.4em;\n",
              "  background-color: var(--sklearn-color-background);\n",
              "}\n",
              "\n",
              "#sk-container-id-2 div.sk-container {\n",
              "  /* jupyter's `normalize.less` sets `[hidden] { display: none; }`\n",
              "     but bootstrap.min.css set `[hidden] { display: none !important; }`\n",
              "     so we also need the `!important` here to be able to override the\n",
              "     default hidden behavior on the sphinx rendered scikit-learn.org.\n",
              "     See: https://github.com/scikit-learn/scikit-learn/issues/21755 */\n",
              "  display: inline-block !important;\n",
              "  position: relative;\n",
              "}\n",
              "\n",
              "#sk-container-id-2 div.sk-text-repr-fallback {\n",
              "  display: none;\n",
              "}\n",
              "\n",
              "div.sk-parallel-item,\n",
              "div.sk-serial,\n",
              "div.sk-item {\n",
              "  /* draw centered vertical line to link estimators */\n",
              "  background-image: linear-gradient(var(--sklearn-color-text-on-default-background), var(--sklearn-color-text-on-default-background));\n",
              "  background-size: 2px 100%;\n",
              "  background-repeat: no-repeat;\n",
              "  background-position: center center;\n",
              "}\n",
              "\n",
              "/* Parallel-specific style estimator block */\n",
              "\n",
              "#sk-container-id-2 div.sk-parallel-item::after {\n",
              "  content: \"\";\n",
              "  width: 100%;\n",
              "  border-bottom: 2px solid var(--sklearn-color-text-on-default-background);\n",
              "  flex-grow: 1;\n",
              "}\n",
              "\n",
              "#sk-container-id-2 div.sk-parallel {\n",
              "  display: flex;\n",
              "  align-items: stretch;\n",
              "  justify-content: center;\n",
              "  background-color: var(--sklearn-color-background);\n",
              "  position: relative;\n",
              "}\n",
              "\n",
              "#sk-container-id-2 div.sk-parallel-item {\n",
              "  display: flex;\n",
              "  flex-direction: column;\n",
              "}\n",
              "\n",
              "#sk-container-id-2 div.sk-parallel-item:first-child::after {\n",
              "  align-self: flex-end;\n",
              "  width: 50%;\n",
              "}\n",
              "\n",
              "#sk-container-id-2 div.sk-parallel-item:last-child::after {\n",
              "  align-self: flex-start;\n",
              "  width: 50%;\n",
              "}\n",
              "\n",
              "#sk-container-id-2 div.sk-parallel-item:only-child::after {\n",
              "  width: 0;\n",
              "}\n",
              "\n",
              "/* Serial-specific style estimator block */\n",
              "\n",
              "#sk-container-id-2 div.sk-serial {\n",
              "  display: flex;\n",
              "  flex-direction: column;\n",
              "  align-items: center;\n",
              "  background-color: var(--sklearn-color-background);\n",
              "  padding-right: 1em;\n",
              "  padding-left: 1em;\n",
              "}\n",
              "\n",
              "\n",
              "/* Toggleable style: style used for estimator/Pipeline/ColumnTransformer box that is\n",
              "clickable and can be expanded/collapsed.\n",
              "- Pipeline and ColumnTransformer use this feature and define the default style\n",
              "- Estimators will overwrite some part of the style using the `sk-estimator` class\n",
              "*/\n",
              "\n",
              "/* Pipeline and ColumnTransformer style (default) */\n",
              "\n",
              "#sk-container-id-2 div.sk-toggleable {\n",
              "  /* Default theme specific background. It is overwritten whether we have a\n",
              "  specific estimator or a Pipeline/ColumnTransformer */\n",
              "  background-color: var(--sklearn-color-background);\n",
              "}\n",
              "\n",
              "/* Toggleable label */\n",
              "#sk-container-id-2 label.sk-toggleable__label {\n",
              "  cursor: pointer;\n",
              "  display: flex;\n",
              "  width: 100%;\n",
              "  margin-bottom: 0;\n",
              "  padding: 0.5em;\n",
              "  box-sizing: border-box;\n",
              "  text-align: center;\n",
              "  align-items: start;\n",
              "  justify-content: space-between;\n",
              "  gap: 0.5em;\n",
              "}\n",
              "\n",
              "#sk-container-id-2 label.sk-toggleable__label .caption {\n",
              "  font-size: 0.6rem;\n",
              "  font-weight: lighter;\n",
              "  color: var(--sklearn-color-text-muted);\n",
              "}\n",
              "\n",
              "#sk-container-id-2 label.sk-toggleable__label-arrow:before {\n",
              "  /* Arrow on the left of the label */\n",
              "  content: \"▸\";\n",
              "  float: left;\n",
              "  margin-right: 0.25em;\n",
              "  color: var(--sklearn-color-icon);\n",
              "}\n",
              "\n",
              "#sk-container-id-2 label.sk-toggleable__label-arrow:hover:before {\n",
              "  color: var(--sklearn-color-text);\n",
              "}\n",
              "\n",
              "/* Toggleable content - dropdown */\n",
              "\n",
              "#sk-container-id-2 div.sk-toggleable__content {\n",
              "  max-height: 0;\n",
              "  max-width: 0;\n",
              "  overflow: hidden;\n",
              "  text-align: left;\n",
              "  /* unfitted */\n",
              "  background-color: var(--sklearn-color-unfitted-level-0);\n",
              "}\n",
              "\n",
              "#sk-container-id-2 div.sk-toggleable__content.fitted {\n",
              "  /* fitted */\n",
              "  background-color: var(--sklearn-color-fitted-level-0);\n",
              "}\n",
              "\n",
              "#sk-container-id-2 div.sk-toggleable__content pre {\n",
              "  margin: 0.2em;\n",
              "  border-radius: 0.25em;\n",
              "  color: var(--sklearn-color-text);\n",
              "  /* unfitted */\n",
              "  background-color: var(--sklearn-color-unfitted-level-0);\n",
              "}\n",
              "\n",
              "#sk-container-id-2 div.sk-toggleable__content.fitted pre {\n",
              "  /* unfitted */\n",
              "  background-color: var(--sklearn-color-fitted-level-0);\n",
              "}\n",
              "\n",
              "#sk-container-id-2 input.sk-toggleable__control:checked~div.sk-toggleable__content {\n",
              "  /* Expand drop-down */\n",
              "  max-height: 200px;\n",
              "  max-width: 100%;\n",
              "  overflow: auto;\n",
              "}\n",
              "\n",
              "#sk-container-id-2 input.sk-toggleable__control:checked~label.sk-toggleable__label-arrow:before {\n",
              "  content: \"▾\";\n",
              "}\n",
              "\n",
              "/* Pipeline/ColumnTransformer-specific style */\n",
              "\n",
              "#sk-container-id-2 div.sk-label input.sk-toggleable__control:checked~label.sk-toggleable__label {\n",
              "  color: var(--sklearn-color-text);\n",
              "  background-color: var(--sklearn-color-unfitted-level-2);\n",
              "}\n",
              "\n",
              "#sk-container-id-2 div.sk-label.fitted input.sk-toggleable__control:checked~label.sk-toggleable__label {\n",
              "  background-color: var(--sklearn-color-fitted-level-2);\n",
              "}\n",
              "\n",
              "/* Estimator-specific style */\n",
              "\n",
              "/* Colorize estimator box */\n",
              "#sk-container-id-2 div.sk-estimator input.sk-toggleable__control:checked~label.sk-toggleable__label {\n",
              "  /* unfitted */\n",
              "  background-color: var(--sklearn-color-unfitted-level-2);\n",
              "}\n",
              "\n",
              "#sk-container-id-2 div.sk-estimator.fitted input.sk-toggleable__control:checked~label.sk-toggleable__label {\n",
              "  /* fitted */\n",
              "  background-color: var(--sklearn-color-fitted-level-2);\n",
              "}\n",
              "\n",
              "#sk-container-id-2 div.sk-label label.sk-toggleable__label,\n",
              "#sk-container-id-2 div.sk-label label {\n",
              "  /* The background is the default theme color */\n",
              "  color: var(--sklearn-color-text-on-default-background);\n",
              "}\n",
              "\n",
              "/* On hover, darken the color of the background */\n",
              "#sk-container-id-2 div.sk-label:hover label.sk-toggleable__label {\n",
              "  color: var(--sklearn-color-text);\n",
              "  background-color: var(--sklearn-color-unfitted-level-2);\n",
              "}\n",
              "\n",
              "/* Label box, darken color on hover, fitted */\n",
              "#sk-container-id-2 div.sk-label.fitted:hover label.sk-toggleable__label.fitted {\n",
              "  color: var(--sklearn-color-text);\n",
              "  background-color: var(--sklearn-color-fitted-level-2);\n",
              "}\n",
              "\n",
              "/* Estimator label */\n",
              "\n",
              "#sk-container-id-2 div.sk-label label {\n",
              "  font-family: monospace;\n",
              "  font-weight: bold;\n",
              "  display: inline-block;\n",
              "  line-height: 1.2em;\n",
              "}\n",
              "\n",
              "#sk-container-id-2 div.sk-label-container {\n",
              "  text-align: center;\n",
              "}\n",
              "\n",
              "/* Estimator-specific */\n",
              "#sk-container-id-2 div.sk-estimator {\n",
              "  font-family: monospace;\n",
              "  border: 1px dotted var(--sklearn-color-border-box);\n",
              "  border-radius: 0.25em;\n",
              "  box-sizing: border-box;\n",
              "  margin-bottom: 0.5em;\n",
              "  /* unfitted */\n",
              "  background-color: var(--sklearn-color-unfitted-level-0);\n",
              "}\n",
              "\n",
              "#sk-container-id-2 div.sk-estimator.fitted {\n",
              "  /* fitted */\n",
              "  background-color: var(--sklearn-color-fitted-level-0);\n",
              "}\n",
              "\n",
              "/* on hover */\n",
              "#sk-container-id-2 div.sk-estimator:hover {\n",
              "  /* unfitted */\n",
              "  background-color: var(--sklearn-color-unfitted-level-2);\n",
              "}\n",
              "\n",
              "#sk-container-id-2 div.sk-estimator.fitted:hover {\n",
              "  /* fitted */\n",
              "  background-color: var(--sklearn-color-fitted-level-2);\n",
              "}\n",
              "\n",
              "/* Specification for estimator info (e.g. \"i\" and \"?\") */\n",
              "\n",
              "/* Common style for \"i\" and \"?\" */\n",
              "\n",
              ".sk-estimator-doc-link,\n",
              "a:link.sk-estimator-doc-link,\n",
              "a:visited.sk-estimator-doc-link {\n",
              "  float: right;\n",
              "  font-size: smaller;\n",
              "  line-height: 1em;\n",
              "  font-family: monospace;\n",
              "  background-color: var(--sklearn-color-background);\n",
              "  border-radius: 1em;\n",
              "  height: 1em;\n",
              "  width: 1em;\n",
              "  text-decoration: none !important;\n",
              "  margin-left: 0.5em;\n",
              "  text-align: center;\n",
              "  /* unfitted */\n",
              "  border: var(--sklearn-color-unfitted-level-1) 1pt solid;\n",
              "  color: var(--sklearn-color-unfitted-level-1);\n",
              "}\n",
              "\n",
              ".sk-estimator-doc-link.fitted,\n",
              "a:link.sk-estimator-doc-link.fitted,\n",
              "a:visited.sk-estimator-doc-link.fitted {\n",
              "  /* fitted */\n",
              "  border: var(--sklearn-color-fitted-level-1) 1pt solid;\n",
              "  color: var(--sklearn-color-fitted-level-1);\n",
              "}\n",
              "\n",
              "/* On hover */\n",
              "div.sk-estimator:hover .sk-estimator-doc-link:hover,\n",
              ".sk-estimator-doc-link:hover,\n",
              "div.sk-label-container:hover .sk-estimator-doc-link:hover,\n",
              ".sk-estimator-doc-link:hover {\n",
              "  /* unfitted */\n",
              "  background-color: var(--sklearn-color-unfitted-level-3);\n",
              "  color: var(--sklearn-color-background);\n",
              "  text-decoration: none;\n",
              "}\n",
              "\n",
              "div.sk-estimator.fitted:hover .sk-estimator-doc-link.fitted:hover,\n",
              ".sk-estimator-doc-link.fitted:hover,\n",
              "div.sk-label-container:hover .sk-estimator-doc-link.fitted:hover,\n",
              ".sk-estimator-doc-link.fitted:hover {\n",
              "  /* fitted */\n",
              "  background-color: var(--sklearn-color-fitted-level-3);\n",
              "  color: var(--sklearn-color-background);\n",
              "  text-decoration: none;\n",
              "}\n",
              "\n",
              "/* Span, style for the box shown on hovering the info icon */\n",
              ".sk-estimator-doc-link span {\n",
              "  display: none;\n",
              "  z-index: 9999;\n",
              "  position: relative;\n",
              "  font-weight: normal;\n",
              "  right: .2ex;\n",
              "  padding: .5ex;\n",
              "  margin: .5ex;\n",
              "  width: min-content;\n",
              "  min-width: 20ex;\n",
              "  max-width: 50ex;\n",
              "  color: var(--sklearn-color-text);\n",
              "  box-shadow: 2pt 2pt 4pt #999;\n",
              "  /* unfitted */\n",
              "  background: var(--sklearn-color-unfitted-level-0);\n",
              "  border: .5pt solid var(--sklearn-color-unfitted-level-3);\n",
              "}\n",
              "\n",
              ".sk-estimator-doc-link.fitted span {\n",
              "  /* fitted */\n",
              "  background: var(--sklearn-color-fitted-level-0);\n",
              "  border: var(--sklearn-color-fitted-level-3);\n",
              "}\n",
              "\n",
              ".sk-estimator-doc-link:hover span {\n",
              "  display: block;\n",
              "}\n",
              "\n",
              "/* \"?\"-specific style due to the `<a>` HTML tag */\n",
              "\n",
              "#sk-container-id-2 a.estimator_doc_link {\n",
              "  float: right;\n",
              "  font-size: 1rem;\n",
              "  line-height: 1em;\n",
              "  font-family: monospace;\n",
              "  background-color: var(--sklearn-color-background);\n",
              "  border-radius: 1rem;\n",
              "  height: 1rem;\n",
              "  width: 1rem;\n",
              "  text-decoration: none;\n",
              "  /* unfitted */\n",
              "  color: var(--sklearn-color-unfitted-level-1);\n",
              "  border: var(--sklearn-color-unfitted-level-1) 1pt solid;\n",
              "}\n",
              "\n",
              "#sk-container-id-2 a.estimator_doc_link.fitted {\n",
              "  /* fitted */\n",
              "  border: var(--sklearn-color-fitted-level-1) 1pt solid;\n",
              "  color: var(--sklearn-color-fitted-level-1);\n",
              "}\n",
              "\n",
              "/* On hover */\n",
              "#sk-container-id-2 a.estimator_doc_link:hover {\n",
              "  /* unfitted */\n",
              "  background-color: var(--sklearn-color-unfitted-level-3);\n",
              "  color: var(--sklearn-color-background);\n",
              "  text-decoration: none;\n",
              "}\n",
              "\n",
              "#sk-container-id-2 a.estimator_doc_link.fitted:hover {\n",
              "  /* fitted */\n",
              "  background-color: var(--sklearn-color-fitted-level-3);\n",
              "}\n",
              "</style><div id=\"sk-container-id-2\" class=\"sk-top-container\"><div class=\"sk-text-repr-fallback\"><pre>DecisionTreeClassifier()</pre><b>In a Jupyter environment, please rerun this cell to show the HTML representation or trust the notebook. <br />On GitHub, the HTML representation is unable to render, please try loading this page with nbviewer.org.</b></div><div class=\"sk-container\" hidden><div class=\"sk-item\"><div class=\"sk-estimator fitted sk-toggleable\"><input class=\"sk-toggleable__control sk-hidden--visually\" id=\"sk-estimator-id-2\" type=\"checkbox\" checked><label for=\"sk-estimator-id-2\" class=\"sk-toggleable__label fitted sk-toggleable__label-arrow\"><div><div>DecisionTreeClassifier</div></div><div><a class=\"sk-estimator-doc-link fitted\" rel=\"noreferrer\" target=\"_blank\" href=\"https://scikit-learn.org/1.6/modules/generated/sklearn.tree.DecisionTreeClassifier.html\">?<span>Documentation for DecisionTreeClassifier</span></a><span class=\"sk-estimator-doc-link fitted\">i<span>Fitted</span></span></div></label><div class=\"sk-toggleable__content fitted\"><pre>DecisionTreeClassifier()</pre></div> </div></div></div></div>"
            ]
          },
          "metadata": {},
          "execution_count": 64
        }
      ]
    },
    {
      "cell_type": "code",
      "source": [
        "from sklearn.metrics import accuracy_score\n",
        "\n",
        "y_pred_train = model.predict(X_train)\n",
        "y_pred_test = model.predict(X_test)\n",
        "\n",
        "train_accuracy = accuracy_score(y_train, y_pred_train)\n",
        "test_accuracy = accuracy_score(y_test, y_pred_test)\n",
        "\n",
        "print(f\"Training Accuracy: {train_accuracy}\")\n",
        "print(f\"Test Accuracy: {test_accuracy}\")"
      ],
      "metadata": {
        "colab": {
          "base_uri": "https://localhost:8080/"
        },
        "id": "m1zTtjku3bAB",
        "outputId": "1955ffa7-0158-48f5-daf3-7d98037609cb"
      },
      "execution_count": null,
      "outputs": [
        {
          "output_type": "stream",
          "name": "stdout",
          "text": [
            "Training Accuracy: 0.9438964241676943\n",
            "Test Accuracy: 0.7536945812807881\n"
          ]
        }
      ]
    },
    {
      "cell_type": "code",
      "source": [
        "# Decision trees overfit\n",
        "# AND overfitting is more likely with a small training data set\n",
        "# so we're jumping right into hyper parameter tuning\n",
        "model = DecisionTreeClassifier(\n",
        "    criterion='entropy',\n",
        "    max_depth=5,\n",
        "    min_samples_leaf=10,\n",
        "    min_samples_split=10,\n",
        "    random_state=42\n",
        ")\n",
        "model.fit(X_train, y_train)"
      ],
      "metadata": {
        "id": "-wbq8xUD3cM_"
      },
      "execution_count": null,
      "outputs": []
    },
    {
      "cell_type": "code",
      "source": [
        "y_pred_train = model.predict(X_train)\n",
        "y_pred_test = model.predict(X_test)\n",
        "\n",
        "train_accuracy = accuracy_score(y_train, y_pred_train)\n",
        "test_accuracy = accuracy_score(y_test, y_pred_test)"
      ],
      "metadata": {
        "id": "WOlionoz3ckX"
      },
      "execution_count": null,
      "outputs": []
    },
    {
      "cell_type": "markdown",
      "source": [
        "### Classification Report"
      ],
      "metadata": {
        "id": "L4w9verSakTD"
      }
    },
    {
      "cell_type": "code",
      "source": [
        "# Evaluate accuracies.\n",
        "print(f\"Training Accuracy: {train_accuracy}\")\n",
        "print(f\"Test Accuracy: {test_accuracy}\\n\")\n",
        "\n",
        "# Evaluate the model\n",
        "print(\"Train Report:\")\n",
        "print(classification_report(y_train, y_pred_train))\n",
        "print(\"Test Report:\")\n",
        "print(classification_report(y_test, y_pred_test))"
      ],
      "metadata": {
        "colab": {
          "base_uri": "https://localhost:8080/"
        },
        "id": "QNK7iiPA3fAL",
        "outputId": "7b5afdf1-9788-42e1-98bf-c2a3ba640965"
      },
      "execution_count": null,
      "outputs": [
        {
          "output_type": "stream",
          "name": "stdout",
          "text": [
            "Training Accuracy: 0.9438964241676943\n",
            "Test Accuracy: 0.7536945812807881\n",
            "\n",
            "Train Report:\n",
            "              precision    recall  f1-score   support\n",
            "\n",
            "           0       0.87      0.93      0.90       439\n",
            "           1       0.97      0.95      0.96      1183\n",
            "\n",
            "    accuracy                           0.94      1622\n",
            "   macro avg       0.92      0.94      0.93      1622\n",
            "weighted avg       0.95      0.94      0.94      1622\n",
            "\n",
            "Test Report:\n",
            "              precision    recall  f1-score   support\n",
            "\n",
            "           0       0.57      0.53      0.55       116\n",
            "           1       0.82      0.84      0.83       290\n",
            "\n",
            "    accuracy                           0.75       406\n",
            "   macro avg       0.70      0.69      0.69       406\n",
            "weighted avg       0.75      0.75      0.75       406\n",
            "\n"
          ]
        }
      ]
    },
    {
      "cell_type": "markdown",
      "source": [
        "### Visualization"
      ],
      "metadata": {
        "id": "ohT0AI2h3gNW"
      }
    },
    {
      "cell_type": "code",
      "source": [
        "import matplotlib.pyplot as plt\n",
        "import seaborn as sns\n",
        "\n",
        "# Plot confusion matrix\n",
        "conf_matrix = confusion_matrix(y_test, y_pred_test)\n",
        "plt.figure(figsize=(10, 7))\n",
        "sns.heatmap(conf_matrix, annot=True, fmt='d', cmap='Blues')\n",
        "plt.xlabel('Predicted')\n",
        "plt.ylabel('Actual')\n",
        "plt.title('Decision Tree')\n",
        "plt.show()"
      ],
      "metadata": {
        "colab": {
          "base_uri": "https://localhost:8080/",
          "height": 641
        },
        "id": "M6QFmjWU3h6q",
        "outputId": "787a6814-03bf-4ff5-9584-5d27741275fb"
      },
      "execution_count": null,
      "outputs": [
        {
          "output_type": "display_data",
          "data": {
            "text/plain": [
              "<Figure size 1000x700 with 2 Axes>"
            ],
            "image/png": "[encoded data removed]"
          },
          "metadata": {}
        }
      ]
    },
    {
      "cell_type": "markdown",
      "source": [
        "## SVM\n"
      ],
      "metadata": {
        "id": "ldZiNUKLZxjQ"
      }
    },
    {
      "cell_type": "markdown",
      "source": [
        "### Data Split"
      ],
      "metadata": {
        "id": "KlFIfzHMaT5b"
      }
    },
    {
      "cell_type": "code",
      "source": [
        "X = data.drop(columns=\"Depression Label\")\n",
        "y = data[\"Depression Label\"]\n",
        "\n",
        "X_train, X_test, y_train, y_test = train_test_split(X, y, test_size=0.2, random_state=42)"
      ],
      "metadata": {
        "id": "10DctYqricKN"
      },
      "execution_count": null,
      "outputs": []
    },
    {
      "cell_type": "markdown",
      "source": [
        "### Modeling"
      ],
      "metadata": {
        "id": "-x-qWl7Jadky"
      }
    },
    {
      "cell_type": "code",
      "source": [
        "svm_model = SVC(kernel='rbf', C=0.1, gamma='scale')\n",
        "svm_model.fit(X_train, y_train)\n",
        "\n",
        "svm_y_train_pred = svm_model.predict(X_train)\n",
        "svm_y_test_pred = svm_model.predict(X_test)\n",
        "\n",
        "train_accuracy = accuracy_score(y_train, svm_y_train_pred)\n",
        "test_accuracy = accuracy_score(y_test, svm_y_test_pred)"
      ],
      "metadata": {
        "id": "uYfNodsWjMh9"
      },
      "execution_count": null,
      "outputs": []
    },
    {
      "cell_type": "markdown",
      "source": [
        "### Classification Report"
      ],
      "metadata": {
        "id": "alX1575ZaksK"
      }
    },
    {
      "cell_type": "code",
      "source": [
        "# Evaluate accuracies.\n",
        "print(f\"Training Accuracy: {train_accuracy}\")\n",
        "print(f\"Test Accuracy: {test_accuracy}\\n\")\n",
        "\n",
        "# Evaluate the model\n",
        "print(\"Train Report:\")\n",
        "print(classification_report(y_train, svm_y_train_pred))\n",
        "print(\"Test Report:\")\n",
        "print(classification_report(y_test, svm_y_test_pred))"
      ],
      "metadata": {
        "colab": {
          "base_uri": "https://localhost:8080/"
        },
        "id": "qiQCCjgqqRRV",
        "outputId": "6cdb6d9b-ca26-4b34-ca6b-b42a98dce270"
      },
      "execution_count": null,
      "outputs": [
        {
          "output_type": "stream",
          "name": "stdout",
          "text": [
            "Training Accuracy: 0.8076448828606658\n",
            "Test Accuracy: 0.7807881773399015\n",
            "\n",
            "Train Report:\n",
            "              precision    recall  f1-score   support\n",
            "\n",
            "           0       0.74      0.45      0.56       439\n",
            "           1       0.82      0.94      0.88      1183\n",
            "\n",
            "    accuracy                           0.81      1622\n",
            "   macro avg       0.78      0.69      0.72      1622\n",
            "weighted avg       0.80      0.81      0.79      1622\n",
            "\n",
            "Test Report:\n",
            "              precision    recall  f1-score   support\n",
            "\n",
            "           0       0.71      0.39      0.50       116\n",
            "           1       0.79      0.94      0.86       290\n",
            "\n",
            "    accuracy                           0.78       406\n",
            "   macro avg       0.75      0.66      0.68       406\n",
            "weighted avg       0.77      0.78      0.76       406\n",
            "\n"
          ]
        }
      ]
    },
    {
      "cell_type": "markdown",
      "source": [
        "### Visualization"
      ],
      "metadata": {
        "id": "5n-SS2lmrZGw"
      }
    },
    {
      "cell_type": "code",
      "source": [
        "# Compute the confusion matrix\n",
        "conf_matrix = confusion_matrix(y_test, svm_y_test_pred)\n",
        "\n",
        "# Plot the confusion matrix as a heatmap\n",
        "plt.figure(figsize=(8, 6))\n",
        "sns.heatmap(conf_matrix, annot=True, fmt='d', cmap='Blues',\n",
        "            xticklabels=['Predicted 0', 'Predicted 1'],\n",
        "            yticklabels=['Actual 0', 'Actual 1'])\n",
        "plt.xlabel('Predicted Label')\n",
        "plt.ylabel('True Label')\n",
        "plt.title('Confusion Matrix')\n",
        "plt.show()"
      ],
      "metadata": {
        "colab": {
          "base_uri": "https://localhost:8080/",
          "height": 564
        },
        "id": "oK7aeDdcrmjC",
        "outputId": "f8e76195-3b1c-48df-b436-7aa4094efa7a"
      },
      "execution_count": null,
      "outputs": [
        {
          "output_type": "display_data",
          "data": {
            "text/plain": [
              "<Figure size 800x600 with 2 Axes>"
            ],
            "image/png": "[encoded data removed]"
          },
          "metadata": {}
        }
      ]
    }
  ]
}