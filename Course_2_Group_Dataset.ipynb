{
  "nbformat": 4,
  "nbformat_minor": 0,
  "metadata": {
    "colab": {
      "provenance": [],
      "toc_visible": true
    },
    "kernelspec": {
      "name": "python3",
      "display_name": "Python 3"
    },
    "language_info": {
      "name": "python"
    }
  },
  "cells": [
    {
      "cell_type": "markdown",
      "source": [
        "# Documentation/Problem"
      ],
      "metadata": {
        "id": "zvxe5AOd360p"
      }
    },
    {
      "cell_type": "markdown",
      "source": [
        "Overview Document:\n",
        "https://docs.google.com/document/d/1iCxfrZk6sItTWWmypH4ljDYWtyF3GRQ7Z1ejDXuf6Jo/edit?tab=t.0"
      ],
      "metadata": {
        "id": "ya_dtDX0YAou"
      }
    },
    {
      "cell_type": "markdown",
      "source": [
        "Research Questions:\n",
        "\n",
        "- Are sleeping habits related to suicidal thoughts?\n",
        "- What's most highly correlated with suicidal thoughts?\n",
        "- Does financial stress correlate with depression?\n",
        "- Good binary values: Depression, suicidal thoughts."
      ],
      "metadata": {
        "id": "JIp4XpuS3aPl"
      }
    },
    {
      "cell_type": "markdown",
      "source": [
        "Problem Statement: Our task is to find what factors contribute most to depression in students, like: sleeping habits, suicidal thoughts, stress, etc."
      ],
      "metadata": {
        "id": "KKzagVGg4FJd"
      }
    },
    {
      "cell_type": "markdown",
      "source": [
        "## Setup"
      ],
      "metadata": {
        "id": "2kPsFSLUlfdH"
      }
    },
    {
      "cell_type": "markdown",
      "source": [
        "All the imports for dataset analysis, preprocessing, and model building."
      ],
      "metadata": {
        "id": "ZIopzxFcteKU"
      }
    },
    {
      "cell_type": "code",
      "execution_count": null,
      "metadata": {
        "id": "liqM4-yWTWvR"
      },
      "outputs": [],
      "source": [
        "# Normal imports\n",
        "import sys\n",
        "import pandas as pd\n",
        "import numpy as np\n",
        "# Preprocessing imports.\n",
        "import matplotlib.pyplot as plt\n",
        "import seaborn as sns\n",
        "from sklearn.preprocessing import OneHotEncoder\n",
        "from sklearn.preprocessing import OrdinalEncoder\n",
        "# Model training imports.\n",
        "from sklearn.linear_model import LogisticRegression\n",
        "from sklearn.neighbors import KNeighborsClassifier\n",
        "from sklearn.model_selection import train_test_split\n",
        "from sklearn.metrics import accuracy_score"
      ]
    },
    {
      "cell_type": "markdown",
      "source": [
        "Mounts to drive. Used so we can synchronize Google Drive directory data and not have to reimport the CSVs again."
      ],
      "metadata": {
        "id": "jM8xfGcP4grZ"
      }
    },
    {
      "cell_type": "code",
      "source": [
        "from google.colab import drive\n",
        "drive.mount(\"/content/drive/\")"
      ],
      "metadata": {
        "colab": {
          "base_uri": "https://localhost:8080/"
        },
        "id": "SepwmX1H36gh",
        "outputId": "1fc1395d-165f-43d0-865d-f25838d6efe3"
      },
      "execution_count": null,
      "outputs": [
        {
          "output_type": "stream",
          "name": "stdout",
          "text": [
            "Drive already mounted at /content/drive/; to attempt to forcibly remount, call drive.mount(\"/content/drive/\", force_remount=True).\n"
          ]
        }
      ]
    },
    {
      "cell_type": "markdown",
      "source": [
        "Felipe's fancy way of registering the working directory into the collab notebook."
      ],
      "metadata": {
        "id": "QBmK81T4-i9c"
      }
    },
    {
      "cell_type": "code",
      "source": [
        "!cp -r /content/drive/MyDrive/Colab\\ Notebooks/Course\\ 2/Final\\ Project/* /content/"
      ],
      "metadata": {
        "id": "XaMX7oZA97ke"
      },
      "execution_count": null,
      "outputs": []
    },
    {
      "cell_type": "markdown",
      "source": [
        "Finally, read the desired CSV file."
      ],
      "metadata": {
        "id": "TpoYHzZ84zPs"
      }
    },
    {
      "cell_type": "code",
      "source": [
        "data = pd.read_csv(\"Processed.csv\")"
      ],
      "metadata": {
        "id": "EAcHLmMOtltM"
      },
      "execution_count": null,
      "outputs": []
    },
    {
      "cell_type": "markdown",
      "source": [
        "# Data Preprocessing"
      ],
      "metadata": {
        "id": "N6gkY1QbdQky"
      }
    },
    {
      "cell_type": "markdown",
      "source": [
        "## Doing our data cleaning:\n",
        "1. Either turn columns 'Depression label' or 'Depression value' into a binary value (potentially turning it multi-class later on).\n",
        "2. Drop the other Depression column, depending on what we use.\n",
        "3. Drop columns unrelated to the Depression column.\n",
        "4. Turn Num 7 into a numerical value.\n",
        "5. Check for any numbers out of range, and null values.\n",
        "6. Turn other categorical columns into numerical."
      ],
      "metadata": {
        "id": "7TnuXwme6m75"
      }
    },
    {
      "cell_type": "markdown",
      "source": [
        "Ordinal Encoding:\n",
        "- Order the column values and encode them from string into numerical. Encoding for obvious order.\n",
        "\n",
        "One Hot Encoding:\n",
        "- Encoding for those with no obvious order."
      ],
      "metadata": {
        "id": "-ExzVtuw8kfu"
      }
    },
    {
      "cell_type": "markdown",
      "source": [
        "## Data Mapping"
      ],
      "metadata": {
        "id": "e5JNdHhAYr5u"
      }
    },
    {
      "cell_type": "markdown",
      "source": [
        "Below are some code blocks to help us map out information in our dataset. First thing to note, we are going to have to drop a variety of columns from the stress and anxiety table. We will use only their Value/Label as features if need-be.\n",
        "\n",
        "Then for clarity, we will turn PHP (the questions for Depression) into their original question statements."
      ],
      "metadata": {
        "id": "cITjLkEF5RiM"
      }
    },
    {
      "cell_type": "code",
      "source": [
        "data.info()"
      ],
      "metadata": {
        "colab": {
          "base_uri": "https://localhost:8080/"
        },
        "id": "TBV-u9fEYuXV",
        "outputId": "03d111c7-c79d-4e7b-b26f-dd5465001eba"
      },
      "execution_count": null,
      "outputs": [
        {
          "output_type": "stream",
          "name": "stdout",
          "text": [
            "<class 'pandas.core.frame.DataFrame'>\n",
            "RangeIndex: 2028 entries, 0 to 2027\n",
            "Data columns (total 39 columns):\n",
            " #   Column                 Non-Null Count  Dtype \n",
            "---  ------                 --------------  ----- \n",
            " 0   Age                    2028 non-null   object\n",
            " 1   Gender                 2028 non-null   object\n",
            " 2   University             2028 non-null   object\n",
            " 3   Department             2028 non-null   object\n",
            " 4   Academic_Year          2028 non-null   object\n",
            " 5   Current_CGPA           2028 non-null   object\n",
            " 6   waiver_or_scholarship  2028 non-null   object\n",
            " 7   PSS1                   2028 non-null   int64 \n",
            " 8   PSS2                   2028 non-null   int64 \n",
            " 9   PSS3                   2028 non-null   int64 \n",
            " 10  PSS4                   2028 non-null   int64 \n",
            " 11  PSS5                   2028 non-null   int64 \n",
            " 12  PSS6                   2028 non-null   int64 \n",
            " 13  PSS7                   2028 non-null   int64 \n",
            " 14  PSS8                   2028 non-null   int64 \n",
            " 15  PSS9                   2028 non-null   int64 \n",
            " 16  PSS10                  2028 non-null   int64 \n",
            " 17  Stress Value           2028 non-null   int64 \n",
            " 18  Stress Label           2028 non-null   object\n",
            " 19  GAD1                   2028 non-null   int64 \n",
            " 20  GAD2                   2028 non-null   int64 \n",
            " 21  GAD3                   2028 non-null   int64 \n",
            " 22  GAD4                   2028 non-null   int64 \n",
            " 23  GAD5                   2028 non-null   int64 \n",
            " 24  GAD6                   2028 non-null   int64 \n",
            " 25  GAD7                   2028 non-null   int64 \n",
            " 26  Anxiety Value          2028 non-null   int64 \n",
            " 27  Anxiety Label          2028 non-null   object\n",
            " 28  PHQ1                   2028 non-null   int64 \n",
            " 29  PHQ2                   2028 non-null   int64 \n",
            " 30  PHQ3                   2028 non-null   int64 \n",
            " 31  PHQ4                   2028 non-null   int64 \n",
            " 32  PHQ5                   2028 non-null   int64 \n",
            " 33  PHQ6                   2028 non-null   int64 \n",
            " 34  PHQ7                   2028 non-null   int64 \n",
            " 35  PHQ8                   2028 non-null   int64 \n",
            " 36  PHQ9                   2028 non-null   int64 \n",
            " 37  Depression Value       2028 non-null   int64 \n",
            " 38  Depression Label       2028 non-null   object\n",
            "dtypes: int64(29), object(10)\n",
            "memory usage: 618.0+ KB\n"
          ]
        }
      ]
    },
    {
      "cell_type": "markdown",
      "source": [
        "Takes a look at the head in order to get a general idea of the dataset."
      ],
      "metadata": {
        "id": "pa8q9J125xEd"
      }
    },
    {
      "cell_type": "code",
      "source": [
        "data.head()"
      ],
      "metadata": {
        "colab": {
          "base_uri": "https://localhost:8080/",
          "height": 548
        },
        "id": "fhrKffQltwYL",
        "outputId": "89a77c63-b7ae-4d76-b4b5-794743782065"
      },
      "execution_count": null,
      "outputs": [
        {
          "output_type": "execute_result",
          "data": {
            "text/plain": [
              "     Age  Gender                                         University  \\\n",
              "0  18-22  Female           Independent University, Bangladesh (IUB)   \n",
              "1  18-22    Male           Independent University, Bangladesh (IUB)   \n",
              "2  18-22    Male  American International University Bangladesh (...   \n",
              "3  18-22    Male  American International University Bangladesh (...   \n",
              "4  18-22    Male                       North South University (NSU)   \n",
              "\n",
              "                                     Department              Academic_Year  \\\n",
              "0  Engineering - CS / CSE / CSC / Similar to CS  Second Year or Equivalent   \n",
              "1  Engineering - CS / CSE / CSC / Similar to CS   Third Year or Equivalent   \n",
              "2  Engineering - CS / CSE / CSC / Similar to CS   Third Year or Equivalent   \n",
              "3  Engineering - CS / CSE / CSC / Similar to CS   Third Year or Equivalent   \n",
              "4  Engineering - CS / CSE / CSC / Similar to CS  Second Year or Equivalent   \n",
              "\n",
              "  Current_CGPA waiver_or_scholarship  PSS1  PSS2  PSS3  ...  PHQ2  PHQ3  PHQ4  \\\n",
              "0  2.50 - 2.99                    No     3     4     3  ...     2     3     2   \n",
              "1  3.00 - 3.39                    No     3     3     4  ...     2     2     2   \n",
              "2  3.00 - 3.39                    No     0     0     0  ...     0     0     0   \n",
              "3  3.00 - 3.39                    No     3     1     2  ...     1     2     1   \n",
              "4  2.50 - 2.99                    No     4     4     4  ...     3     3     3   \n",
              "\n",
              "   PHQ5  PHQ6  PHQ7  PHQ8  PHQ9 Depression Value              Depression Label  \n",
              "0     2     2     2     3     2               20             Severe Depression  \n",
              "1     2     2     2     2     2               19  Moderately Severe Depression  \n",
              "2     0     0     0     0     0                0                 No Depression  \n",
              "3     2     1     2     2     1               14           Moderate Depression  \n",
              "4     1     3     0     3     3               20             Severe Depression  \n",
              "\n",
              "[5 rows x 39 columns]"
            ],
            "text/html": [
              "\n",
              "  <div id=\"df-73cd4ae0-2362-41c5-853f-0279c7ce41ef\" class=\"colab-df-container\">\n",
              "    <div>\n",
              "<style scoped>\n",
              "    .dataframe tbody tr th:only-of-type {\n",
              "        vertical-align: middle;\n",
              "    }\n",
              "\n",
              "    .dataframe tbody tr th {\n",
              "        vertical-align: top;\n",
              "    }\n",
              "\n",
              "    .dataframe thead th {\n",
              "        text-align: right;\n",
              "    }\n",
              "</style>\n",
              "<table border=\"1\" class=\"dataframe\">\n",
              "  <thead>\n",
              "    <tr style=\"text-align: right;\">\n",
              "      <th></th>\n",
              "      <th>Age</th>\n",
              "      <th>Gender</th>\n",
              "      <th>University</th>\n",
              "      <th>Department</th>\n",
              "      <th>Academic_Year</th>\n",
              "      <th>Current_CGPA</th>\n",
              "      <th>waiver_or_scholarship</th>\n",
              "      <th>PSS1</th>\n",
              "      <th>PSS2</th>\n",
              "      <th>PSS3</th>\n",
              "      <th>...</th>\n",
              "      <th>PHQ2</th>\n",
              "      <th>PHQ3</th>\n",
              "      <th>PHQ4</th>\n",
              "      <th>PHQ5</th>\n",
              "      <th>PHQ6</th>\n",
              "      <th>PHQ7</th>\n",
              "      <th>PHQ8</th>\n",
              "      <th>PHQ9</th>\n",
              "      <th>Depression Value</th>\n",
              "      <th>Depression Label</th>\n",
              "    </tr>\n",
              "  </thead>\n",
              "  <tbody>\n",
              "    <tr>\n",
              "      <th>0</th>\n",
              "      <td>18-22</td>\n",
              "      <td>Female</td>\n",
              "      <td>Independent University, Bangladesh (IUB)</td>\n",
              "      <td>Engineering - CS / CSE / CSC / Similar to CS</td>\n",
              "      <td>Second Year or Equivalent</td>\n",
              "      <td>2.50 - 2.99</td>\n",
              "      <td>No</td>\n",
              "      <td>3</td>\n",
              "      <td>4</td>\n",
              "      <td>3</td>\n",
              "      <td>...</td>\n",
              "      <td>2</td>\n",
              "      <td>3</td>\n",
              "      <td>2</td>\n",
              "      <td>2</td>\n",
              "      <td>2</td>\n",
              "      <td>2</td>\n",
              "      <td>3</td>\n",
              "      <td>2</td>\n",
              "      <td>20</td>\n",
              "      <td>Severe Depression</td>\n",
              "    </tr>\n",
              "    <tr>\n",
              "      <th>1</th>\n",
              "      <td>18-22</td>\n",
              "      <td>Male</td>\n",
              "      <td>Independent University, Bangladesh (IUB)</td>\n",
              "      <td>Engineering - CS / CSE / CSC / Similar to CS</td>\n",
              "      <td>Third Year or Equivalent</td>\n",
              "      <td>3.00 - 3.39</td>\n",
              "      <td>No</td>\n",
              "      <td>3</td>\n",
              "      <td>3</td>\n",
              "      <td>4</td>\n",
              "      <td>...</td>\n",
              "      <td>2</td>\n",
              "      <td>2</td>\n",
              "      <td>2</td>\n",
              "      <td>2</td>\n",
              "      <td>2</td>\n",
              "      <td>2</td>\n",
              "      <td>2</td>\n",
              "      <td>2</td>\n",
              "      <td>19</td>\n",
              "      <td>Moderately Severe Depression</td>\n",
              "    </tr>\n",
              "    <tr>\n",
              "      <th>2</th>\n",
              "      <td>18-22</td>\n",
              "      <td>Male</td>\n",
              "      <td>American International University Bangladesh (...</td>\n",
              "      <td>Engineering - CS / CSE / CSC / Similar to CS</td>\n",
              "      <td>Third Year or Equivalent</td>\n",
              "      <td>3.00 - 3.39</td>\n",
              "      <td>No</td>\n",
              "      <td>0</td>\n",
              "      <td>0</td>\n",
              "      <td>0</td>\n",
              "      <td>...</td>\n",
              "      <td>0</td>\n",
              "      <td>0</td>\n",
              "      <td>0</td>\n",
              "      <td>0</td>\n",
              "      <td>0</td>\n",
              "      <td>0</td>\n",
              "      <td>0</td>\n",
              "      <td>0</td>\n",
              "      <td>0</td>\n",
              "      <td>No Depression</td>\n",
              "    </tr>\n",
              "    <tr>\n",
              "      <th>3</th>\n",
              "      <td>18-22</td>\n",
              "      <td>Male</td>\n",
              "      <td>American International University Bangladesh (...</td>\n",
              "      <td>Engineering - CS / CSE / CSC / Similar to CS</td>\n",
              "      <td>Third Year or Equivalent</td>\n",
              "      <td>3.00 - 3.39</td>\n",
              "      <td>No</td>\n",
              "      <td>3</td>\n",
              "      <td>1</td>\n",
              "      <td>2</td>\n",
              "      <td>...</td>\n",
              "      <td>1</td>\n",
              "      <td>2</td>\n",
              "      <td>1</td>\n",
              "      <td>2</td>\n",
              "      <td>1</td>\n",
              "      <td>2</td>\n",
              "      <td>2</td>\n",
              "      <td>1</td>\n",
              "      <td>14</td>\n",
              "      <td>Moderate Depression</td>\n",
              "    </tr>\n",
              "    <tr>\n",
              "      <th>4</th>\n",
              "      <td>18-22</td>\n",
              "      <td>Male</td>\n",
              "      <td>North South University (NSU)</td>\n",
              "      <td>Engineering - CS / CSE / CSC / Similar to CS</td>\n",
              "      <td>Second Year or Equivalent</td>\n",
              "      <td>2.50 - 2.99</td>\n",
              "      <td>No</td>\n",
              "      <td>4</td>\n",
              "      <td>4</td>\n",
              "      <td>4</td>\n",
              "      <td>...</td>\n",
              "      <td>3</td>\n",
              "      <td>3</td>\n",
              "      <td>3</td>\n",
              "      <td>1</td>\n",
              "      <td>3</td>\n",
              "      <td>0</td>\n",
              "      <td>3</td>\n",
              "      <td>3</td>\n",
              "      <td>20</td>\n",
              "      <td>Severe Depression</td>\n",
              "    </tr>\n",
              "  </tbody>\n",
              "</table>\n",
              "<p>5 rows × 39 columns</p>\n",
              "</div>\n",
              "    <div class=\"colab-df-buttons\">\n",
              "\n",
              "  <div class=\"colab-df-container\">\n",
              "    <button class=\"colab-df-convert\" onclick=\"convertToInteractive('df-73cd4ae0-2362-41c5-853f-0279c7ce41ef')\"\n",
              "            title=\"Convert this dataframe to an interactive table.\"\n",
              "            style=\"display:none;\">\n",
              "\n",
              "  <svg xmlns=\"http://www.w3.org/2000/svg\" height=\"24px\" viewBox=\"0 -960 960 960\">\n",
              "    <path d=\"M120-120v-720h720v720H120Zm60-500h600v-160H180v160Zm220 220h160v-160H400v160Zm0 220h160v-160H400v160ZM180-400h160v-160H180v160Zm440 0h160v-160H620v160ZM180-180h160v-160H180v160Zm440 0h160v-160H620v160Z\"/>\n",
              "  </svg>\n",
              "    </button>\n",
              "\n",
              "  <style>\n",
              "    .colab-df-container {\n",
              "      display:flex;\n",
              "      gap: 12px;\n",
              "    }\n",
              "\n",
              "    .colab-df-convert {\n",
              "      background-color: #E8F0FE;\n",
              "      border: none;\n",
              "      border-radius: 50%;\n",
              "      cursor: pointer;\n",
              "      display: none;\n",
              "      fill: #1967D2;\n",
              "      height: 32px;\n",
              "      padding: 0 0 0 0;\n",
              "      width: 32px;\n",
              "    }\n",
              "\n",
              "    .colab-df-convert:hover {\n",
              "      background-color: #E2EBFA;\n",
              "      box-shadow: 0px 1px 2px rgba(60, 64, 67, 0.3), 0px 1px 3px 1px rgba(60, 64, 67, 0.15);\n",
              "      fill: #174EA6;\n",
              "    }\n",
              "\n",
              "    .colab-df-buttons div {\n",
              "      margin-bottom: 4px;\n",
              "    }\n",
              "\n",
              "    [theme=dark] .colab-df-convert {\n",
              "      background-color: #3B4455;\n",
              "      fill: #D2E3FC;\n",
              "    }\n",
              "\n",
              "    [theme=dark] .colab-df-convert:hover {\n",
              "      background-color: #434B5C;\n",
              "      box-shadow: 0px 1px 3px 1px rgba(0, 0, 0, 0.15);\n",
              "      filter: drop-shadow(0px 1px 2px rgba(0, 0, 0, 0.3));\n",
              "      fill: #FFFFFF;\n",
              "    }\n",
              "  </style>\n",
              "\n",
              "    <script>\n",
              "      const buttonEl =\n",
              "        document.querySelector('#df-73cd4ae0-2362-41c5-853f-0279c7ce41ef button.colab-df-convert');\n",
              "      buttonEl.style.display =\n",
              "        google.colab.kernel.accessAllowed ? 'block' : 'none';\n",
              "\n",
              "      async function convertToInteractive(key) {\n",
              "        const element = document.querySelector('#df-73cd4ae0-2362-41c5-853f-0279c7ce41ef');\n",
              "        const dataTable =\n",
              "          await google.colab.kernel.invokeFunction('convertToInteractive',\n",
              "                                                    [key], {});\n",
              "        if (!dataTable) return;\n",
              "\n",
              "        const docLinkHtml = 'Like what you see? Visit the ' +\n",
              "          '<a target=\"_blank\" href=https://colab.research.google.com/notebooks/data_table.ipynb>data table notebook</a>'\n",
              "          + ' to learn more about interactive tables.';\n",
              "        element.innerHTML = '';\n",
              "        dataTable['output_type'] = 'display_data';\n",
              "        await google.colab.output.renderOutput(dataTable, element);\n",
              "        const docLink = document.createElement('div');\n",
              "        docLink.innerHTML = docLinkHtml;\n",
              "        element.appendChild(docLink);\n",
              "      }\n",
              "    </script>\n",
              "  </div>\n",
              "\n",
              "\n",
              "<div id=\"df-0b559633-a43d-4b8f-a3ad-3ff602f2e03e\">\n",
              "  <button class=\"colab-df-quickchart\" onclick=\"quickchart('df-0b559633-a43d-4b8f-a3ad-3ff602f2e03e')\"\n",
              "            title=\"Suggest charts\"\n",
              "            style=\"display:none;\">\n",
              "\n",
              "<svg xmlns=\"http://www.w3.org/2000/svg\" height=\"24px\"viewBox=\"0 0 24 24\"\n",
              "     width=\"24px\">\n",
              "    <g>\n",
              "        <path d=\"M19 3H5c-1.1 0-2 .9-2 2v14c0 1.1.9 2 2 2h14c1.1 0 2-.9 2-2V5c0-1.1-.9-2-2-2zM9 17H7v-7h2v7zm4 0h-2V7h2v10zm4 0h-2v-4h2v4z\"/>\n",
              "    </g>\n",
              "</svg>\n",
              "  </button>\n",
              "\n",
              "<style>\n",
              "  .colab-df-quickchart {\n",
              "      --bg-color: #E8F0FE;\n",
              "      --fill-color: #1967D2;\n",
              "      --hover-bg-color: #E2EBFA;\n",
              "      --hover-fill-color: #174EA6;\n",
              "      --disabled-fill-color: #AAA;\n",
              "      --disabled-bg-color: #DDD;\n",
              "  }\n",
              "\n",
              "  [theme=dark] .colab-df-quickchart {\n",
              "      --bg-color: #3B4455;\n",
              "      --fill-color: #D2E3FC;\n",
              "      --hover-bg-color: #434B5C;\n",
              "      --hover-fill-color: #FFFFFF;\n",
              "      --disabled-bg-color: #3B4455;\n",
              "      --disabled-fill-color: #666;\n",
              "  }\n",
              "\n",
              "  .colab-df-quickchart {\n",
              "    background-color: var(--bg-color);\n",
              "    border: none;\n",
              "    border-radius: 50%;\n",
              "    cursor: pointer;\n",
              "    display: none;\n",
              "    fill: var(--fill-color);\n",
              "    height: 32px;\n",
              "    padding: 0;\n",
              "    width: 32px;\n",
              "  }\n",
              "\n",
              "  .colab-df-quickchart:hover {\n",
              "    background-color: var(--hover-bg-color);\n",
              "    box-shadow: 0 1px 2px rgba(60, 64, 67, 0.3), 0 1px 3px 1px rgba(60, 64, 67, 0.15);\n",
              "    fill: var(--button-hover-fill-color);\n",
              "  }\n",
              "\n",
              "  .colab-df-quickchart-complete:disabled,\n",
              "  .colab-df-quickchart-complete:disabled:hover {\n",
              "    background-color: var(--disabled-bg-color);\n",
              "    fill: var(--disabled-fill-color);\n",
              "    box-shadow: none;\n",
              "  }\n",
              "\n",
              "  .colab-df-spinner {\n",
              "    border: 2px solid var(--fill-color);\n",
              "    border-color: transparent;\n",
              "    border-bottom-color: var(--fill-color);\n",
              "    animation:\n",
              "      spin 1s steps(1) infinite;\n",
              "  }\n",
              "\n",
              "  @keyframes spin {\n",
              "    0% {\n",
              "      border-color: transparent;\n",
              "      border-bottom-color: var(--fill-color);\n",
              "      border-left-color: var(--fill-color);\n",
              "    }\n",
              "    20% {\n",
              "      border-color: transparent;\n",
              "      border-left-color: var(--fill-color);\n",
              "      border-top-color: var(--fill-color);\n",
              "    }\n",
              "    30% {\n",
              "      border-color: transparent;\n",
              "      border-left-color: var(--fill-color);\n",
              "      border-top-color: var(--fill-color);\n",
              "      border-right-color: var(--fill-color);\n",
              "    }\n",
              "    40% {\n",
              "      border-color: transparent;\n",
              "      border-right-color: var(--fill-color);\n",
              "      border-top-color: var(--fill-color);\n",
              "    }\n",
              "    60% {\n",
              "      border-color: transparent;\n",
              "      border-right-color: var(--fill-color);\n",
              "    }\n",
              "    80% {\n",
              "      border-color: transparent;\n",
              "      border-right-color: var(--fill-color);\n",
              "      border-bottom-color: var(--fill-color);\n",
              "    }\n",
              "    90% {\n",
              "      border-color: transparent;\n",
              "      border-bottom-color: var(--fill-color);\n",
              "    }\n",
              "  }\n",
              "</style>\n",
              "\n",
              "  <script>\n",
              "    async function quickchart(key) {\n",
              "      const quickchartButtonEl =\n",
              "        document.querySelector('#' + key + ' button');\n",
              "      quickchartButtonEl.disabled = true;  // To prevent multiple clicks.\n",
              "      quickchartButtonEl.classList.add('colab-df-spinner');\n",
              "      try {\n",
              "        const charts = await google.colab.kernel.invokeFunction(\n",
              "            'suggestCharts', [key], {});\n",
              "      } catch (error) {\n",
              "        console.error('Error during call to suggestCharts:', error);\n",
              "      }\n",
              "      quickchartButtonEl.classList.remove('colab-df-spinner');\n",
              "      quickchartButtonEl.classList.add('colab-df-quickchart-complete');\n",
              "    }\n",
              "    (() => {\n",
              "      let quickchartButtonEl =\n",
              "        document.querySelector('#df-0b559633-a43d-4b8f-a3ad-3ff602f2e03e button');\n",
              "      quickchartButtonEl.style.display =\n",
              "        google.colab.kernel.accessAllowed ? 'block' : 'none';\n",
              "    })();\n",
              "  </script>\n",
              "</div>\n",
              "\n",
              "    </div>\n",
              "  </div>\n"
            ],
            "application/vnd.google.colaboratory.intrinsic+json": {
              "type": "dataframe",
              "variable_name": "data"
            }
          },
          "metadata": {},
          "execution_count": 53
        }
      ]
    },
    {
      "cell_type": "markdown",
      "source": [
        "### Dropping Anxiety and Stress columns."
      ],
      "metadata": {
        "id": "l5pnO_HZ6IOX"
      }
    },
    {
      "cell_type": "markdown",
      "source": [
        "Drop these for the reasons stated above."
      ],
      "metadata": {
        "id": "V8XH-4aA6UN3"
      }
    },
    {
      "cell_type": "code",
      "source": [
        "columns_to_drop = ['PSS1', 'PSS2', 'PSS3', 'PSS4','PSS5', 'PSS6', 'PSS7', 'PSS8', 'PSS9', 'PSS10','GAD1', 'GAD2', 'GAD3', 'GAD4', 'GAD5', 'GAD6', 'GAD7', 'Anxiety Value', 'Stress Value', 'Depression Value']\n",
        "data = data.drop(columns=columns_to_drop)"
      ],
      "metadata": {
        "id": "lia60d9i6RM3"
      },
      "execution_count": null,
      "outputs": []
    },
    {
      "cell_type": "markdown",
      "source": [
        "We ended up dropping the value columns for Stress and Anxiety, instead opting to use their labels for their features.\n",
        "\n",
        "**Important note**: We dropped Depression value as well because we opted to turn Depression Label into our target column."
      ],
      "metadata": {
        "id": "iMUXXSx36xJZ"
      }
    },
    {
      "cell_type": "code",
      "source": [
        "data.info()"
      ],
      "metadata": {
        "colab": {
          "base_uri": "https://localhost:8080/"
        },
        "id": "I3pWpnjf6qLL",
        "outputId": "9699123e-ffac-4cfe-deab-9364e9889b09"
      },
      "execution_count": null,
      "outputs": [
        {
          "output_type": "stream",
          "name": "stdout",
          "text": [
            "<class 'pandas.core.frame.DataFrame'>\n",
            "RangeIndex: 2028 entries, 0 to 2027\n",
            "Data columns (total 19 columns):\n",
            " #   Column                 Non-Null Count  Dtype \n",
            "---  ------                 --------------  ----- \n",
            " 0   Age                    2028 non-null   object\n",
            " 1   Gender                 2028 non-null   object\n",
            " 2   University             2028 non-null   object\n",
            " 3   Department             2028 non-null   object\n",
            " 4   Academic_Year          2028 non-null   object\n",
            " 5   Current_CGPA           2028 non-null   object\n",
            " 6   waiver_or_scholarship  2028 non-null   object\n",
            " 7   Stress Label           2028 non-null   object\n",
            " 8   Anxiety Label          2028 non-null   object\n",
            " 9   PHQ1                   2028 non-null   int64 \n",
            " 10  PHQ2                   2028 non-null   int64 \n",
            " 11  PHQ3                   2028 non-null   int64 \n",
            " 12  PHQ4                   2028 non-null   int64 \n",
            " 13  PHQ5                   2028 non-null   int64 \n",
            " 14  PHQ6                   2028 non-null   int64 \n",
            " 15  PHQ7                   2028 non-null   int64 \n",
            " 16  PHQ8                   2028 non-null   int64 \n",
            " 17  PHQ9                   2028 non-null   int64 \n",
            " 18  Depression Label       2028 non-null   object\n",
            "dtypes: int64(9), object(10)\n",
            "memory usage: 301.2+ KB\n"
          ]
        }
      ]
    },
    {
      "cell_type": "markdown",
      "source": [
        "### Renaming PHQ to Questions."
      ],
      "metadata": {
        "id": "s6smOPvM8UMX"
      }
    },
    {
      "cell_type": "markdown",
      "source": [
        "Now we rename the PHQ questions for the reasons stated above."
      ],
      "metadata": {
        "id": "OqMuRXLT8XWY"
      }
    },
    {
      "cell_type": "code",
      "source": [
        "\"\"\"data = data.rename(columns={'PHQ1':'In a semester, how often have you had little interest or pleasure in doing things?',\n",
        "                        'PHQ2':'In a semester, how often have you been feeling down, depressed or hopeless?',\n",
        "                        'PHQ3':'In a semester, how often have you had trouble falling or staying asleep, or sleeping too much?',\n",
        "                        'PHQ4':'In a semester, how often have you been feeling tired or having little energy?',\n",
        "                        'PHQ5':'In a semester, how often have you had poor appetite or overeating?',\n",
        "                        'PHQ6':'In a semester, how often have you been feeling bad about yourself - or that you are a failure or have let yourself or your family down?',\n",
        "                        'PHQ7':'In a semester, how often have you been having trouble concentrating on things, such as reading the books or watching television?',\n",
        "                        'PHQ8':\"In a semester, how often have you moved or spoke too slowly for other people to notice? Or you've been moving a lot more than usual because you've been restless?\",\n",
        "                        'PHQ9':'In a semester, how often have you had thoughts that you would be better off dead, or of hurting yourself?'})\"\"\""
      ],
      "metadata": {
        "id": "JZZcX3pl8cb_",
        "colab": {
          "base_uri": "https://localhost:8080/",
          "height": 122
        },
        "outputId": "d38a2024-92f9-45c9-977c-64616ea5e07e"
      },
      "execution_count": null,
      "outputs": [
        {
          "output_type": "execute_result",
          "data": {
            "text/plain": [
              "'data = data.rename(columns={\\'PHQ1\\':\\'In a semester, how often have you had little interest or pleasure in doing things?\\',\\n                        \\'PHQ2\\':\\'In a semester, how often have you been feeling down, depressed or hopeless?\\',\\n                        \\'PHQ3\\':\\'In a semester, how often have you had trouble falling or staying asleep, or sleeping too much?\\',\\n                        \\'PHQ4\\':\\'In a semester, how often have you been feeling tired or having little energy?\\',\\n                        \\'PHQ5\\':\\'In a semester, how often have you had poor appetite or overeating?\\',\\n                        \\'PHQ6\\':\\'In a semester, how often have you been feeling bad about yourself - or that you are a failure or have let yourself or your family down?\\',\\n                        \\'PHQ7\\':\\'In a semester, how often have you been having trouble concentrating on things, such as reading the books or watching television?\\',\\n                        \\'PHQ8\\':\"In a semester, how often have you moved or spoke too slowly for other people to notice? Or you\\'ve been moving a lot more than usual because you\\'ve been restless?\",\\n                        \\'PHQ9\\':\\'In a semester, how often have you had thoughts that you would be better off dead, or of hurting yourself?\\'})'"
            ],
            "application/vnd.google.colaboratory.intrinsic+json": {
              "type": "string"
            }
          },
          "metadata": {},
          "execution_count": 56
        }
      ]
    },
    {
      "cell_type": "code",
      "source": [
        "data.info()"
      ],
      "metadata": {
        "colab": {
          "base_uri": "https://localhost:8080/"
        },
        "id": "nc1RNPq78hSd",
        "outputId": "b87e6d0a-7272-47cd-cdd5-5a9bdcd690ec"
      },
      "execution_count": null,
      "outputs": [
        {
          "output_type": "stream",
          "name": "stdout",
          "text": [
            "<class 'pandas.core.frame.DataFrame'>\n",
            "RangeIndex: 2028 entries, 0 to 2027\n",
            "Data columns (total 19 columns):\n",
            " #   Column                 Non-Null Count  Dtype \n",
            "---  ------                 --------------  ----- \n",
            " 0   Age                    2028 non-null   object\n",
            " 1   Gender                 2028 non-null   object\n",
            " 2   University             2028 non-null   object\n",
            " 3   Department             2028 non-null   object\n",
            " 4   Academic_Year          2028 non-null   object\n",
            " 5   Current_CGPA           2028 non-null   object\n",
            " 6   waiver_or_scholarship  2028 non-null   object\n",
            " 7   Stress Label           2028 non-null   object\n",
            " 8   Anxiety Label          2028 non-null   object\n",
            " 9   PHQ1                   2028 non-null   int64 \n",
            " 10  PHQ2                   2028 non-null   int64 \n",
            " 11  PHQ3                   2028 non-null   int64 \n",
            " 12  PHQ4                   2028 non-null   int64 \n",
            " 13  PHQ5                   2028 non-null   int64 \n",
            " 14  PHQ6                   2028 non-null   int64 \n",
            " 15  PHQ7                   2028 non-null   int64 \n",
            " 16  PHQ8                   2028 non-null   int64 \n",
            " 17  PHQ9                   2028 non-null   int64 \n",
            " 18  Depression Label       2028 non-null   object\n",
            "dtypes: int64(9), object(10)\n",
            "memory usage: 301.2+ KB\n"
          ]
        }
      ]
    },
    {
      "cell_type": "markdown",
      "source": [
        "### Continued Data Mapping + Getting Categorical Columns"
      ],
      "metadata": {
        "id": "yFGRkdl67-DV"
      }
    },
    {
      "cell_type": "markdown",
      "source": [
        "Not too many rows dropped from duplicates. Should be good to do an implace."
      ],
      "metadata": {
        "id": "SExf1h5Y758x"
      }
    },
    {
      "cell_type": "code",
      "source": [
        "print(f\"Number of Rows after dropping duplicates: {len(data.drop_duplicates())}\")\n",
        "print(f\"How many rows dropped: {len(data) - len(data.drop_duplicates())}\")"
      ],
      "metadata": {
        "id": "RYtVSu-d6cDt",
        "colab": {
          "base_uri": "https://localhost:8080/"
        },
        "outputId": "973143e7-dcbf-407f-9dee-1105510b3f13"
      },
      "execution_count": null,
      "outputs": [
        {
          "output_type": "stream",
          "name": "stdout",
          "text": [
            "Number of Rows after dropping duplicates: 2006\n",
            "How many rows dropped: 22\n"
          ]
        }
      ]
    },
    {
      "cell_type": "markdown",
      "source": [
        "No rows were dropped. Might need to check into that in-case zeros were counted as null values. But first, we need to do some data encoding."
      ],
      "metadata": {
        "id": "Mu3BYpem8wO5"
      }
    },
    {
      "cell_type": "code",
      "source": [
        "print(f\"Number of Rows after dropping null values: {len(data.dropna())}\")\n",
        "print(f\"How many rows dropped: {len(data) - len(data.dropna())}\")"
      ],
      "metadata": {
        "colab": {
          "base_uri": "https://localhost:8080/"
        },
        "id": "Pqsr_DMtY9YR",
        "outputId": "4c19a5a8-4954-42ba-a977-e101b119c756"
      },
      "execution_count": null,
      "outputs": [
        {
          "output_type": "stream",
          "name": "stdout",
          "text": [
            "Number of Rows after dropping null values: 2028\n",
            "How many rows dropped: 0\n"
          ]
        }
      ]
    },
    {
      "cell_type": "markdown",
      "source": [
        "First of all, we need to get a list of all available categorical columns."
      ],
      "metadata": {
        "id": "ML0O_i5M85_7"
      }
    },
    {
      "cell_type": "code",
      "source": [
        "categorical_columns = data.select_dtypes(include=['object'])\n",
        "categorical_columns.columns.to_list()"
      ],
      "metadata": {
        "colab": {
          "base_uri": "https://localhost:8080/"
        },
        "id": "SStmPV__cZn1",
        "outputId": "9121ddbe-06c2-4638-eded-ac9fb646a94a"
      },
      "execution_count": null,
      "outputs": [
        {
          "output_type": "execute_result",
          "data": {
            "text/plain": [
              "['Age',\n",
              " 'Gender',\n",
              " 'University',\n",
              " 'Department',\n",
              " 'Academic_Year',\n",
              " 'Current_CGPA',\n",
              " 'waiver_or_scholarship',\n",
              " 'Stress Label',\n",
              " 'Anxiety Label',\n",
              " 'Depression Label']"
            ]
          },
          "metadata": {},
          "execution_count": 60
        }
      ]
    },
    {
      "cell_type": "markdown",
      "source": [
        "Decent amount of categorical columns. But they all aren't going to be encoded the same way."
      ],
      "metadata": {
        "id": "k6nRwMUy9dm7"
      }
    },
    {
      "cell_type": "markdown",
      "source": [
        "## Data Encoding"
      ],
      "metadata": {
        "id": "ljAoncGBaZLy"
      }
    },
    {
      "cell_type": "markdown",
      "source": [
        "### Categorical Converison"
      ],
      "metadata": {
        "id": "O6M_uHC4d83V"
      }
    },
    {
      "cell_type": "markdown",
      "source": [
        "In order to work with the data with an object type (String) for a model, we have to convert them into a numeric type.\n",
        "\n",
        "Now we need to decide what encoding to do with each column."
      ],
      "metadata": {
        "id": "k5nshRXCcaJx"
      }
    },
    {
      "cell_type": "markdown",
      "source": [
        "Print out all the current unique values in each categorical column currently."
      ],
      "metadata": {
        "id": "icRYC4FXd389"
      }
    },
    {
      "cell_type": "code",
      "source": [
        "for col in categorical_columns:\n",
        "    print(col, data[col].unique())"
      ],
      "metadata": {
        "colab": {
          "base_uri": "https://localhost:8080/"
        },
        "id": "Mu6kFdqochdS",
        "outputId": "ecdb9655-7c4b-48cc-f3f4-9437f32b7bc4"
      },
      "execution_count": null,
      "outputs": [
        {
          "output_type": "stream",
          "name": "stdout",
          "text": [
            "Age ['18-22' '23-26' '27-30' 'Above 30' 'Below 18']\n",
            "Gender ['Female' 'Male' 'Prefer not to say']\n",
            "University ['Independent University, Bangladesh (IUB)'\n",
            " 'American International University Bangladesh (AIUB)'\n",
            " 'North South University (NSU)' 'Islamic University of Technology (IUT)'\n",
            " 'Patuakhali Science and Technology University'\n",
            " 'Rajshahi University of Engineering and Technology (RUET)'\n",
            " 'Dhaka University (DU)'\n",
            " 'Bangladesh University of Engineering and Technology (BUET)'\n",
            " 'Dhaka University of Engineering and Technology (DUET)'\n",
            " 'United International University (UIU)' 'East West University (EWU)'\n",
            " 'BRAC University' 'Bangladesh Agricultural University (BAU)'\n",
            " 'Rajshahi University (RU)' 'Daffodil University']\n",
            "Department ['Engineering - CS / CSE / CSC / Similar to CS'\n",
            " 'Engineering - EEE/ ECE / Similar to EEE' 'Other'\n",
            " 'Business and Entrepreneurship Studies' 'Environmental and Life Sciences'\n",
            " 'Engineering - Mechanical Engineering / Similar to ME'\n",
            " 'Engineering - Civil Engineering / Similar to CE' 'Biological Sciences'\n",
            " 'Engineering - Other' 'Liberal Arts and Social Sciences'\n",
            " 'Law and Human Rights' 'Pharmacy and Public Health']\n",
            "Academic_Year ['Second Year or Equivalent' 'Third Year or Equivalent' 'Other'\n",
            " 'First Year or Equivalent' 'Fourth Year or Equivalent']\n",
            "Current_CGPA ['2.50 - 2.99' '3.00 - 3.39' '3.40 - 3.79' '3.80 - 4.00' 'Below 2.50'\n",
            " 'Other']\n",
            "waiver_or_scholarship ['No' 'Yes']\n",
            "Stress Label ['High Perceived Stress' 'Moderate Stress' 'Low Stress']\n",
            "Anxiety Label ['Severe Anxiety' 'Moderate Anxiety' 'Minimal Anxiety' 'Mild Anxiety']\n",
            "Depression Label ['Severe Depression' 'Moderately Severe Depression' 'No Depression'\n",
            " 'Moderate Depression' 'Minimal Depression' 'Mild Depression']\n"
          ]
        }
      ]
    },
    {
      "cell_type": "markdown",
      "source": [
        "Age, Academic_Year, Current_CGPA, Stress Label and Anxiety Label all have pretty defined orders of columns. Therefor, we should do ordinal encoding on those columns."
      ],
      "metadata": {
        "id": "VIeEFeJC-aC0"
      }
    },
    {
      "cell_type": "code",
      "source": [
        "ordinal_encoding_cols = categorical_columns.loc[:, ['Age', 'Academic_Year', 'Current_CGPA', 'Stress Label', 'Anxiety Label']].copy()\n",
        "ordinal_encoding_cols.info()"
      ],
      "metadata": {
        "colab": {
          "base_uri": "https://localhost:8080/"
        },
        "id": "_mImq5sW-30G",
        "outputId": "73a750e5-c139-49f7-ce19-2dd882b0d2d0"
      },
      "execution_count": null,
      "outputs": [
        {
          "output_type": "stream",
          "name": "stdout",
          "text": [
            "<class 'pandas.core.frame.DataFrame'>\n",
            "RangeIndex: 2028 entries, 0 to 2027\n",
            "Data columns (total 5 columns):\n",
            " #   Column         Non-Null Count  Dtype \n",
            "---  ------         --------------  ----- \n",
            " 0   Age            2028 non-null   object\n",
            " 1   Academic_Year  2028 non-null   object\n",
            " 2   Current_CGPA   2028 non-null   object\n",
            " 3   Stress Label   2028 non-null   object\n",
            " 4   Anxiety Label  2028 non-null   object\n",
            "dtypes: object(5)\n",
            "memory usage: 79.3+ KB\n"
          ]
        }
      ]
    },
    {
      "cell_type": "markdown",
      "source": [
        "Gender; University; Department; waiver_or_scholarship, however, don't have a clear defined order or are binary values that can be done with one hot encoding."
      ],
      "metadata": {
        "id": "nLgvL92t_6vl"
      }
    },
    {
      "cell_type": "code",
      "source": [
        "one_hot_encoding_cols = categorical_columns.loc[:, ['Gender', 'University', 'Department', 'waiver_or_scholarship']].copy()\n",
        "one_hot_encoding_cols.info()"
      ],
      "metadata": {
        "colab": {
          "base_uri": "https://localhost:8080/"
        },
        "id": "kK3oHI8hAVEM",
        "outputId": "e81a0a52-35e7-4f18-e7c2-61fe51574399"
      },
      "execution_count": null,
      "outputs": [
        {
          "output_type": "stream",
          "name": "stdout",
          "text": [
            "<class 'pandas.core.frame.DataFrame'>\n",
            "RangeIndex: 2028 entries, 0 to 2027\n",
            "Data columns (total 4 columns):\n",
            " #   Column                 Non-Null Count  Dtype \n",
            "---  ------                 --------------  ----- \n",
            " 0   Gender                 2028 non-null   object\n",
            " 1   University             2028 non-null   object\n",
            " 2   Department             2028 non-null   object\n",
            " 3   waiver_or_scholarship  2028 non-null   object\n",
            "dtypes: object(4)\n",
            "memory usage: 63.5+ KB\n"
          ]
        }
      ]
    },
    {
      "cell_type": "markdown",
      "source": [
        "All that's left is the Depression Label, which is our target column. This column is special in that we either need to turn it into a multi-class target value, or turn it into a binary value with a specified threshold."
      ],
      "metadata": {
        "id": "dQMC00yEBEBF"
      }
    },
    {
      "cell_type": "markdown",
      "source": [
        "We decided to put a multi-class as a stretch goal. So, binary value it is!\n",
        "\n",
        "We'll do more with this later. Right now, we're going to change the encoding columns."
      ],
      "metadata": {
        "id": "GSPxbdABBSKs"
      }
    },
    {
      "cell_type": "code",
      "source": [
        "target_column = categorical_columns['Depression Label'].copy()"
      ],
      "metadata": {
        "id": "3MW3bbv-BXK1"
      },
      "execution_count": null,
      "outputs": []
    },
    {
      "cell_type": "markdown",
      "source": [
        "### One-Hot Encoding"
      ],
      "metadata": {
        "id": "J_WUVDw2BvAL"
      }
    },
    {
      "cell_type": "markdown",
      "source": [
        "Was advised to use pd.get_dummies() instead of the sklearn OneHotEncoder. Other than that, they are both OHE, so we'll use One-Hot encoding for unordered values.\n",
        "\n",
        "Let's take a look at the columns again."
      ],
      "metadata": {
        "id": "2DsGXoHCBxBf"
      }
    },
    {
      "cell_type": "code",
      "source": [
        "for col in one_hot_encoding_cols:\n",
        "    print(col, one_hot_encoding_cols[col].unique())"
      ],
      "metadata": {
        "colab": {
          "base_uri": "https://localhost:8080/"
        },
        "id": "FS5BYfAmCKHv",
        "outputId": "bd47699a-31d6-4561-ebd4-3f2caaf226a4"
      },
      "execution_count": null,
      "outputs": [
        {
          "output_type": "stream",
          "name": "stdout",
          "text": [
            "Gender ['Female' 'Male' 'Prefer not to say']\n",
            "University ['Independent University, Bangladesh (IUB)'\n",
            " 'American International University Bangladesh (AIUB)'\n",
            " 'North South University (NSU)' 'Islamic University of Technology (IUT)'\n",
            " 'Patuakhali Science and Technology University'\n",
            " 'Rajshahi University of Engineering and Technology (RUET)'\n",
            " 'Dhaka University (DU)'\n",
            " 'Bangladesh University of Engineering and Technology (BUET)'\n",
            " 'Dhaka University of Engineering and Technology (DUET)'\n",
            " 'United International University (UIU)' 'East West University (EWU)'\n",
            " 'BRAC University' 'Bangladesh Agricultural University (BAU)'\n",
            " 'Rajshahi University (RU)' 'Daffodil University']\n",
            "Department ['Engineering - CS / CSE / CSC / Similar to CS'\n",
            " 'Engineering - EEE/ ECE / Similar to EEE' 'Other'\n",
            " 'Business and Entrepreneurship Studies' 'Environmental and Life Sciences'\n",
            " 'Engineering - Mechanical Engineering / Similar to ME'\n",
            " 'Engineering - Civil Engineering / Similar to CE' 'Biological Sciences'\n",
            " 'Engineering - Other' 'Liberal Arts and Social Sciences'\n",
            " 'Law and Human Rights' 'Pharmacy and Public Health']\n",
            "waiver_or_scholarship ['No' 'Yes']\n"
          ]
        }
      ]
    },
    {
      "cell_type": "markdown",
      "source": [
        "Finally, with the get_dummies, iterate through each column and transform the data!\n",
        "\n",
        "There are a lot of resulting columns, but I have confirmed that they are correct and used in the model."
      ],
      "metadata": {
        "id": "5wT8tXLpCdvH"
      }
    },
    {
      "cell_type": "code",
      "source": [
        "oh_encoded_df = pd.get_dummies(one_hot_encoding_cols)\n",
        "oh_encoded_df"
      ],
      "metadata": {
        "colab": {
          "base_uri": "https://localhost:8080/",
          "height": 513
        },
        "id": "a8WiSGsDEa1s",
        "outputId": "66b1eab4-ae49-4a3b-fe63-c7bc60a99b59"
      },
      "execution_count": null,
      "outputs": [
        {
          "output_type": "execute_result",
          "data": {
            "text/plain": [
              "      Gender_Female  Gender_Male  Gender_Prefer not to say  \\\n",
              "0              True        False                     False   \n",
              "1             False         True                     False   \n",
              "2             False         True                     False   \n",
              "3             False         True                     False   \n",
              "4             False         True                     False   \n",
              "...             ...          ...                       ...   \n",
              "2023          False         True                     False   \n",
              "2024           True        False                     False   \n",
              "2025          False         True                     False   \n",
              "2026           True        False                     False   \n",
              "2027          False         True                     False   \n",
              "\n",
              "      University_American International University Bangladesh (AIUB)  \\\n",
              "0                                                 False                \n",
              "1                                                 False                \n",
              "2                                                  True                \n",
              "3                                                  True                \n",
              "4                                                 False                \n",
              "...                                                 ...                \n",
              "2023                                              False                \n",
              "2024                                              False                \n",
              "2025                                               True                \n",
              "2026                                              False                \n",
              "2027                                              False                \n",
              "\n",
              "      University_BRAC University  \\\n",
              "0                          False   \n",
              "1                          False   \n",
              "2                          False   \n",
              "3                          False   \n",
              "4                          False   \n",
              "...                          ...   \n",
              "2023                       False   \n",
              "2024                       False   \n",
              "2025                       False   \n",
              "2026                       False   \n",
              "2027                       False   \n",
              "\n",
              "      University_Bangladesh Agricultural University (BAU)  \\\n",
              "0                                                 False     \n",
              "1                                                 False     \n",
              "2                                                 False     \n",
              "3                                                 False     \n",
              "4                                                 False     \n",
              "...                                                 ...     \n",
              "2023                                              False     \n",
              "2024                                               True     \n",
              "2025                                              False     \n",
              "2026                                              False     \n",
              "2027                                              False     \n",
              "\n",
              "      University_Bangladesh University of Engineering and Technology (BUET)  \\\n",
              "0                                                 False                       \n",
              "1                                                 False                       \n",
              "2                                                 False                       \n",
              "3                                                 False                       \n",
              "4                                                 False                       \n",
              "...                                                 ...                       \n",
              "2023                                              False                       \n",
              "2024                                              False                       \n",
              "2025                                              False                       \n",
              "2026                                              False                       \n",
              "2027                                              False                       \n",
              "\n",
              "      University_Daffodil University  University_Dhaka University (DU)  \\\n",
              "0                              False                             False   \n",
              "1                              False                             False   \n",
              "2                              False                             False   \n",
              "3                              False                             False   \n",
              "4                              False                             False   \n",
              "...                              ...                               ...   \n",
              "2023                           False                              True   \n",
              "2024                           False                             False   \n",
              "2025                           False                             False   \n",
              "2026                           False                              True   \n",
              "2027                           False                             False   \n",
              "\n",
              "      University_Dhaka University of Engineering and Technology (DUET)  ...  \\\n",
              "0                                                 False                 ...   \n",
              "1                                                 False                 ...   \n",
              "2                                                 False                 ...   \n",
              "3                                                 False                 ...   \n",
              "4                                                 False                 ...   \n",
              "...                                                 ...                 ...   \n",
              "2023                                              False                 ...   \n",
              "2024                                              False                 ...   \n",
              "2025                                              False                 ...   \n",
              "2026                                              False                 ...   \n",
              "2027                                              False                 ...   \n",
              "\n",
              "      Department_Engineering - EEE/ ECE / Similar to EEE  \\\n",
              "0                                                 False    \n",
              "1                                                 False    \n",
              "2                                                 False    \n",
              "3                                                 False    \n",
              "4                                                 False    \n",
              "...                                                 ...    \n",
              "2023                                              False    \n",
              "2024                                              False    \n",
              "2025                                              False    \n",
              "2026                                              False    \n",
              "2027                                              False    \n",
              "\n",
              "      Department_Engineering - Mechanical Engineering / Similar to ME  \\\n",
              "0                                                 False                 \n",
              "1                                                 False                 \n",
              "2                                                 False                 \n",
              "3                                                 False                 \n",
              "4                                                 False                 \n",
              "...                                                 ...                 \n",
              "2023                                              False                 \n",
              "2024                                              False                 \n",
              "2025                                              False                 \n",
              "2026                                              False                 \n",
              "2027                                              False                 \n",
              "\n",
              "      Department_Engineering - Other  \\\n",
              "0                              False   \n",
              "1                              False   \n",
              "2                              False   \n",
              "3                              False   \n",
              "4                              False   \n",
              "...                              ...   \n",
              "2023                           False   \n",
              "2024                           False   \n",
              "2025                           False   \n",
              "2026                           False   \n",
              "2027                           False   \n",
              "\n",
              "      Department_Environmental and Life Sciences  \\\n",
              "0                                          False   \n",
              "1                                          False   \n",
              "2                                          False   \n",
              "3                                          False   \n",
              "4                                          False   \n",
              "...                                          ...   \n",
              "2023                                       False   \n",
              "2024                                       False   \n",
              "2025                                       False   \n",
              "2026                                       False   \n",
              "2027                                       False   \n",
              "\n",
              "      Department_Law and Human Rights  \\\n",
              "0                               False   \n",
              "1                               False   \n",
              "2                               False   \n",
              "3                               False   \n",
              "4                               False   \n",
              "...                               ...   \n",
              "2023                            False   \n",
              "2024                            False   \n",
              "2025                            False   \n",
              "2026                            False   \n",
              "2027                            False   \n",
              "\n",
              "      Department_Liberal Arts and Social Sciences  Department_Other  \\\n",
              "0                                           False             False   \n",
              "1                                           False             False   \n",
              "2                                           False             False   \n",
              "3                                           False             False   \n",
              "4                                           False             False   \n",
              "...                                           ...               ...   \n",
              "2023                                        False              True   \n",
              "2024                                        False             False   \n",
              "2025                                        False             False   \n",
              "2026                                        False              True   \n",
              "2027                                        False             False   \n",
              "\n",
              "      Department_Pharmacy and Public Health  waiver_or_scholarship_No  \\\n",
              "0                                     False                      True   \n",
              "1                                     False                      True   \n",
              "2                                     False                      True   \n",
              "3                                     False                      True   \n",
              "4                                     False                      True   \n",
              "...                                     ...                       ...   \n",
              "2023                                  False                      True   \n",
              "2024                                  False                      True   \n",
              "2025                                  False                      True   \n",
              "2026                                  False                      True   \n",
              "2027                                  False                      True   \n",
              "\n",
              "      waiver_or_scholarship_Yes  \n",
              "0                         False  \n",
              "1                         False  \n",
              "2                         False  \n",
              "3                         False  \n",
              "4                         False  \n",
              "...                         ...  \n",
              "2023                      False  \n",
              "2024                      False  \n",
              "2025                      False  \n",
              "2026                      False  \n",
              "2027                      False  \n",
              "\n",
              "[2028 rows x 32 columns]"
            ],
            "text/html": [
              "\n",
              "  <div id=\"df-e399009e-98e1-4097-b590-8d66671afe92\" class=\"colab-df-container\">\n",
              "    <div>\n",
              "<style scoped>\n",
              "    .dataframe tbody tr th:only-of-type {\n",
              "        vertical-align: middle;\n",
              "    }\n",
              "\n",
              "    .dataframe tbody tr th {\n",
              "        vertical-align: top;\n",
              "    }\n",
              "\n",
              "    .dataframe thead th {\n",
              "        text-align: right;\n",
              "    }\n",
              "</style>\n",
              "<table border=\"1\" class=\"dataframe\">\n",
              "  <thead>\n",
              "    <tr style=\"text-align: right;\">\n",
              "      <th></th>\n",
              "      <th>Gender_Female</th>\n",
              "      <th>Gender_Male</th>\n",
              "      <th>Gender_Prefer not to say</th>\n",
              "      <th>University_American International University Bangladesh (AIUB)</th>\n",
              "      <th>University_BRAC University</th>\n",
              "      <th>University_Bangladesh Agricultural University (BAU)</th>\n",
              "      <th>University_Bangladesh University of Engineering and Technology (BUET)</th>\n",
              "      <th>University_Daffodil University</th>\n",
              "      <th>University_Dhaka University (DU)</th>\n",
              "      <th>University_Dhaka University of Engineering and Technology (DUET)</th>\n",
              "      <th>...</th>\n",
              "      <th>Department_Engineering - EEE/ ECE / Similar to EEE</th>\n",
              "      <th>Department_Engineering - Mechanical Engineering / Similar to ME</th>\n",
              "      <th>Department_Engineering - Other</th>\n",
              "      <th>Department_Environmental and Life Sciences</th>\n",
              "      <th>Department_Law and Human Rights</th>\n",
              "      <th>Department_Liberal Arts and Social Sciences</th>\n",
              "      <th>Department_Other</th>\n",
              "      <th>Department_Pharmacy and Public Health</th>\n",
              "      <th>waiver_or_scholarship_No</th>\n",
              "      <th>waiver_or_scholarship_Yes</th>\n",
              "    </tr>\n",
              "  </thead>\n",
              "  <tbody>\n",
              "    <tr>\n",
              "      <th>0</th>\n",
              "      <td>True</td>\n",
              "      <td>False</td>\n",
              "      <td>False</td>\n",
              "      <td>False</td>\n",
              "      <td>False</td>\n",
              "      <td>False</td>\n",
              "      <td>False</td>\n",
              "      <td>False</td>\n",
              "      <td>False</td>\n",
              "      <td>False</td>\n",
              "      <td>...</td>\n",
              "      <td>False</td>\n",
              "      <td>False</td>\n",
              "      <td>False</td>\n",
              "      <td>False</td>\n",
              "      <td>False</td>\n",
              "      <td>False</td>\n",
              "      <td>False</td>\n",
              "      <td>False</td>\n",
              "      <td>True</td>\n",
              "      <td>False</td>\n",
              "    </tr>\n",
              "    <tr>\n",
              "      <th>1</th>\n",
              "      <td>False</td>\n",
              "      <td>True</td>\n",
              "      <td>False</td>\n",
              "      <td>False</td>\n",
              "      <td>False</td>\n",
              "      <td>False</td>\n",
              "      <td>False</td>\n",
              "      <td>False</td>\n",
              "      <td>False</td>\n",
              "      <td>False</td>\n",
              "      <td>...</td>\n",
              "      <td>False</td>\n",
              "      <td>False</td>\n",
              "      <td>False</td>\n",
              "      <td>False</td>\n",
              "      <td>False</td>\n",
              "      <td>False</td>\n",
              "      <td>False</td>\n",
              "      <td>False</td>\n",
              "      <td>True</td>\n",
              "      <td>False</td>\n",
              "    </tr>\n",
              "    <tr>\n",
              "      <th>2</th>\n",
              "      <td>False</td>\n",
              "      <td>True</td>\n",
              "      <td>False</td>\n",
              "      <td>True</td>\n",
              "      <td>False</td>\n",
              "      <td>False</td>\n",
              "      <td>False</td>\n",
              "      <td>False</td>\n",
              "      <td>False</td>\n",
              "      <td>False</td>\n",
              "      <td>...</td>\n",
              "      <td>False</td>\n",
              "      <td>False</td>\n",
              "      <td>False</td>\n",
              "      <td>False</td>\n",
              "      <td>False</td>\n",
              "      <td>False</td>\n",
              "      <td>False</td>\n",
              "      <td>False</td>\n",
              "      <td>True</td>\n",
              "      <td>False</td>\n",
              "    </tr>\n",
              "    <tr>\n",
              "      <th>3</th>\n",
              "      <td>False</td>\n",
              "      <td>True</td>\n",
              "      <td>False</td>\n",
              "      <td>True</td>\n",
              "      <td>False</td>\n",
              "      <td>False</td>\n",
              "      <td>False</td>\n",
              "      <td>False</td>\n",
              "      <td>False</td>\n",
              "      <td>False</td>\n",
              "      <td>...</td>\n",
              "      <td>False</td>\n",
              "      <td>False</td>\n",
              "      <td>False</td>\n",
              "      <td>False</td>\n",
              "      <td>False</td>\n",
              "      <td>False</td>\n",
              "      <td>False</td>\n",
              "      <td>False</td>\n",
              "      <td>True</td>\n",
              "      <td>False</td>\n",
              "    </tr>\n",
              "    <tr>\n",
              "      <th>4</th>\n",
              "      <td>False</td>\n",
              "      <td>True</td>\n",
              "      <td>False</td>\n",
              "      <td>False</td>\n",
              "      <td>False</td>\n",
              "      <td>False</td>\n",
              "      <td>False</td>\n",
              "      <td>False</td>\n",
              "      <td>False</td>\n",
              "      <td>False</td>\n",
              "      <td>...</td>\n",
              "      <td>False</td>\n",
              "      <td>False</td>\n",
              "      <td>False</td>\n",
              "      <td>False</td>\n",
              "      <td>False</td>\n",
              "      <td>False</td>\n",
              "      <td>False</td>\n",
              "      <td>False</td>\n",
              "      <td>True</td>\n",
              "      <td>False</td>\n",
              "    </tr>\n",
              "    <tr>\n",
              "      <th>...</th>\n",
              "      <td>...</td>\n",
              "      <td>...</td>\n",
              "      <td>...</td>\n",
              "      <td>...</td>\n",
              "      <td>...</td>\n",
              "      <td>...</td>\n",
              "      <td>...</td>\n",
              "      <td>...</td>\n",
              "      <td>...</td>\n",
              "      <td>...</td>\n",
              "      <td>...</td>\n",
              "      <td>...</td>\n",
              "      <td>...</td>\n",
              "      <td>...</td>\n",
              "      <td>...</td>\n",
              "      <td>...</td>\n",
              "      <td>...</td>\n",
              "      <td>...</td>\n",
              "      <td>...</td>\n",
              "      <td>...</td>\n",
              "      <td>...</td>\n",
              "    </tr>\n",
              "    <tr>\n",
              "      <th>2023</th>\n",
              "      <td>False</td>\n",
              "      <td>True</td>\n",
              "      <td>False</td>\n",
              "      <td>False</td>\n",
              "      <td>False</td>\n",
              "      <td>False</td>\n",
              "      <td>False</td>\n",
              "      <td>False</td>\n",
              "      <td>True</td>\n",
              "      <td>False</td>\n",
              "      <td>...</td>\n",
              "      <td>False</td>\n",
              "      <td>False</td>\n",
              "      <td>False</td>\n",
              "      <td>False</td>\n",
              "      <td>False</td>\n",
              "      <td>False</td>\n",
              "      <td>True</td>\n",
              "      <td>False</td>\n",
              "      <td>True</td>\n",
              "      <td>False</td>\n",
              "    </tr>\n",
              "    <tr>\n",
              "      <th>2024</th>\n",
              "      <td>True</td>\n",
              "      <td>False</td>\n",
              "      <td>False</td>\n",
              "      <td>False</td>\n",
              "      <td>False</td>\n",
              "      <td>True</td>\n",
              "      <td>False</td>\n",
              "      <td>False</td>\n",
              "      <td>False</td>\n",
              "      <td>False</td>\n",
              "      <td>...</td>\n",
              "      <td>False</td>\n",
              "      <td>False</td>\n",
              "      <td>False</td>\n",
              "      <td>False</td>\n",
              "      <td>False</td>\n",
              "      <td>False</td>\n",
              "      <td>False</td>\n",
              "      <td>False</td>\n",
              "      <td>True</td>\n",
              "      <td>False</td>\n",
              "    </tr>\n",
              "    <tr>\n",
              "      <th>2025</th>\n",
              "      <td>False</td>\n",
              "      <td>True</td>\n",
              "      <td>False</td>\n",
              "      <td>True</td>\n",
              "      <td>False</td>\n",
              "      <td>False</td>\n",
              "      <td>False</td>\n",
              "      <td>False</td>\n",
              "      <td>False</td>\n",
              "      <td>False</td>\n",
              "      <td>...</td>\n",
              "      <td>False</td>\n",
              "      <td>False</td>\n",
              "      <td>False</td>\n",
              "      <td>False</td>\n",
              "      <td>False</td>\n",
              "      <td>False</td>\n",
              "      <td>False</td>\n",
              "      <td>False</td>\n",
              "      <td>True</td>\n",
              "      <td>False</td>\n",
              "    </tr>\n",
              "    <tr>\n",
              "      <th>2026</th>\n",
              "      <td>True</td>\n",
              "      <td>False</td>\n",
              "      <td>False</td>\n",
              "      <td>False</td>\n",
              "      <td>False</td>\n",
              "      <td>False</td>\n",
              "      <td>False</td>\n",
              "      <td>False</td>\n",
              "      <td>True</td>\n",
              "      <td>False</td>\n",
              "      <td>...</td>\n",
              "      <td>False</td>\n",
              "      <td>False</td>\n",
              "      <td>False</td>\n",
              "      <td>False</td>\n",
              "      <td>False</td>\n",
              "      <td>False</td>\n",
              "      <td>True</td>\n",
              "      <td>False</td>\n",
              "      <td>True</td>\n",
              "      <td>False</td>\n",
              "    </tr>\n",
              "    <tr>\n",
              "      <th>2027</th>\n",
              "      <td>False</td>\n",
              "      <td>True</td>\n",
              "      <td>False</td>\n",
              "      <td>False</td>\n",
              "      <td>False</td>\n",
              "      <td>False</td>\n",
              "      <td>False</td>\n",
              "      <td>False</td>\n",
              "      <td>False</td>\n",
              "      <td>False</td>\n",
              "      <td>...</td>\n",
              "      <td>False</td>\n",
              "      <td>False</td>\n",
              "      <td>False</td>\n",
              "      <td>False</td>\n",
              "      <td>False</td>\n",
              "      <td>False</td>\n",
              "      <td>False</td>\n",
              "      <td>False</td>\n",
              "      <td>True</td>\n",
              "      <td>False</td>\n",
              "    </tr>\n",
              "  </tbody>\n",
              "</table>\n",
              "<p>2028 rows × 32 columns</p>\n",
              "</div>\n",
              "    <div class=\"colab-df-buttons\">\n",
              "\n",
              "  <div class=\"colab-df-container\">\n",
              "    <button class=\"colab-df-convert\" onclick=\"convertToInteractive('df-e399009e-98e1-4097-b590-8d66671afe92')\"\n",
              "            title=\"Convert this dataframe to an interactive table.\"\n",
              "            style=\"display:none;\">\n",
              "\n",
              "  <svg xmlns=\"http://www.w3.org/2000/svg\" height=\"24px\" viewBox=\"0 -960 960 960\">\n",
              "    <path d=\"M120-120v-720h720v720H120Zm60-500h600v-160H180v160Zm220 220h160v-160H400v160Zm0 220h160v-160H400v160ZM180-400h160v-160H180v160Zm440 0h160v-160H620v160ZM180-180h160v-160H180v160Zm440 0h160v-160H620v160Z\"/>\n",
              "  </svg>\n",
              "    </button>\n",
              "\n",
              "  <style>\n",
              "    .colab-df-container {\n",
              "      display:flex;\n",
              "      gap: 12px;\n",
              "    }\n",
              "\n",
              "    .colab-df-convert {\n",
              "      background-color: #E8F0FE;\n",
              "      border: none;\n",
              "      border-radius: 50%;\n",
              "      cursor: pointer;\n",
              "      display: none;\n",
              "      fill: #1967D2;\n",
              "      height: 32px;\n",
              "      padding: 0 0 0 0;\n",
              "      width: 32px;\n",
              "    }\n",
              "\n",
              "    .colab-df-convert:hover {\n",
              "      background-color: #E2EBFA;\n",
              "      box-shadow: 0px 1px 2px rgba(60, 64, 67, 0.3), 0px 1px 3px 1px rgba(60, 64, 67, 0.15);\n",
              "      fill: #174EA6;\n",
              "    }\n",
              "\n",
              "    .colab-df-buttons div {\n",
              "      margin-bottom: 4px;\n",
              "    }\n",
              "\n",
              "    [theme=dark] .colab-df-convert {\n",
              "      background-color: #3B4455;\n",
              "      fill: #D2E3FC;\n",
              "    }\n",
              "\n",
              "    [theme=dark] .colab-df-convert:hover {\n",
              "      background-color: #434B5C;\n",
              "      box-shadow: 0px 1px 3px 1px rgba(0, 0, 0, 0.15);\n",
              "      filter: drop-shadow(0px 1px 2px rgba(0, 0, 0, 0.3));\n",
              "      fill: #FFFFFF;\n",
              "    }\n",
              "  </style>\n",
              "\n",
              "    <script>\n",
              "      const buttonEl =\n",
              "        document.querySelector('#df-e399009e-98e1-4097-b590-8d66671afe92 button.colab-df-convert');\n",
              "      buttonEl.style.display =\n",
              "        google.colab.kernel.accessAllowed ? 'block' : 'none';\n",
              "\n",
              "      async function convertToInteractive(key) {\n",
              "        const element = document.querySelector('#df-e399009e-98e1-4097-b590-8d66671afe92');\n",
              "        const dataTable =\n",
              "          await google.colab.kernel.invokeFunction('convertToInteractive',\n",
              "                                                    [key], {});\n",
              "        if (!dataTable) return;\n",
              "\n",
              "        const docLinkHtml = 'Like what you see? Visit the ' +\n",
              "          '<a target=\"_blank\" href=https://colab.research.google.com/notebooks/data_table.ipynb>data table notebook</a>'\n",
              "          + ' to learn more about interactive tables.';\n",
              "        element.innerHTML = '';\n",
              "        dataTable['output_type'] = 'display_data';\n",
              "        await google.colab.output.renderOutput(dataTable, element);\n",
              "        const docLink = document.createElement('div');\n",
              "        docLink.innerHTML = docLinkHtml;\n",
              "        element.appendChild(docLink);\n",
              "      }\n",
              "    </script>\n",
              "  </div>\n",
              "\n",
              "\n",
              "<div id=\"df-82f63697-e0e6-492c-b008-47537eaf5e7c\">\n",
              "  <button class=\"colab-df-quickchart\" onclick=\"quickchart('df-82f63697-e0e6-492c-b008-47537eaf5e7c')\"\n",
              "            title=\"Suggest charts\"\n",
              "            style=\"display:none;\">\n",
              "\n",
              "<svg xmlns=\"http://www.w3.org/2000/svg\" height=\"24px\"viewBox=\"0 0 24 24\"\n",
              "     width=\"24px\">\n",
              "    <g>\n",
              "        <path d=\"M19 3H5c-1.1 0-2 .9-2 2v14c0 1.1.9 2 2 2h14c1.1 0 2-.9 2-2V5c0-1.1-.9-2-2-2zM9 17H7v-7h2v7zm4 0h-2V7h2v10zm4 0h-2v-4h2v4z\"/>\n",
              "    </g>\n",
              "</svg>\n",
              "  </button>\n",
              "\n",
              "<style>\n",
              "  .colab-df-quickchart {\n",
              "      --bg-color: #E8F0FE;\n",
              "      --fill-color: #1967D2;\n",
              "      --hover-bg-color: #E2EBFA;\n",
              "      --hover-fill-color: #174EA6;\n",
              "      --disabled-fill-color: #AAA;\n",
              "      --disabled-bg-color: #DDD;\n",
              "  }\n",
              "\n",
              "  [theme=dark] .colab-df-quickchart {\n",
              "      --bg-color: #3B4455;\n",
              "      --fill-color: #D2E3FC;\n",
              "      --hover-bg-color: #434B5C;\n",
              "      --hover-fill-color: #FFFFFF;\n",
              "      --disabled-bg-color: #3B4455;\n",
              "      --disabled-fill-color: #666;\n",
              "  }\n",
              "\n",
              "  .colab-df-quickchart {\n",
              "    background-color: var(--bg-color);\n",
              "    border: none;\n",
              "    border-radius: 50%;\n",
              "    cursor: pointer;\n",
              "    display: none;\n",
              "    fill: var(--fill-color);\n",
              "    height: 32px;\n",
              "    padding: 0;\n",
              "    width: 32px;\n",
              "  }\n",
              "\n",
              "  .colab-df-quickchart:hover {\n",
              "    background-color: var(--hover-bg-color);\n",
              "    box-shadow: 0 1px 2px rgba(60, 64, 67, 0.3), 0 1px 3px 1px rgba(60, 64, 67, 0.15);\n",
              "    fill: var(--button-hover-fill-color);\n",
              "  }\n",
              "\n",
              "  .colab-df-quickchart-complete:disabled,\n",
              "  .colab-df-quickchart-complete:disabled:hover {\n",
              "    background-color: var(--disabled-bg-color);\n",
              "    fill: var(--disabled-fill-color);\n",
              "    box-shadow: none;\n",
              "  }\n",
              "\n",
              "  .colab-df-spinner {\n",
              "    border: 2px solid var(--fill-color);\n",
              "    border-color: transparent;\n",
              "    border-bottom-color: var(--fill-color);\n",
              "    animation:\n",
              "      spin 1s steps(1) infinite;\n",
              "  }\n",
              "\n",
              "  @keyframes spin {\n",
              "    0% {\n",
              "      border-color: transparent;\n",
              "      border-bottom-color: var(--fill-color);\n",
              "      border-left-color: var(--fill-color);\n",
              "    }\n",
              "    20% {\n",
              "      border-color: transparent;\n",
              "      border-left-color: var(--fill-color);\n",
              "      border-top-color: var(--fill-color);\n",
              "    }\n",
              "    30% {\n",
              "      border-color: transparent;\n",
              "      border-left-color: var(--fill-color);\n",
              "      border-top-color: var(--fill-color);\n",
              "      border-right-color: var(--fill-color);\n",
              "    }\n",
              "    40% {\n",
              "      border-color: transparent;\n",
              "      border-right-color: var(--fill-color);\n",
              "      border-top-color: var(--fill-color);\n",
              "    }\n",
              "    60% {\n",
              "      border-color: transparent;\n",
              "      border-right-color: var(--fill-color);\n",
              "    }\n",
              "    80% {\n",
              "      border-color: transparent;\n",
              "      border-right-color: var(--fill-color);\n",
              "      border-bottom-color: var(--fill-color);\n",
              "    }\n",
              "    90% {\n",
              "      border-color: transparent;\n",
              "      border-bottom-color: var(--fill-color);\n",
              "    }\n",
              "  }\n",
              "</style>\n",
              "\n",
              "  <script>\n",
              "    async function quickchart(key) {\n",
              "      const quickchartButtonEl =\n",
              "        document.querySelector('#' + key + ' button');\n",
              "      quickchartButtonEl.disabled = true;  // To prevent multiple clicks.\n",
              "      quickchartButtonEl.classList.add('colab-df-spinner');\n",
              "      try {\n",
              "        const charts = await google.colab.kernel.invokeFunction(\n",
              "            'suggestCharts', [key], {});\n",
              "      } catch (error) {\n",
              "        console.error('Error during call to suggestCharts:', error);\n",
              "      }\n",
              "      quickchartButtonEl.classList.remove('colab-df-spinner');\n",
              "      quickchartButtonEl.classList.add('colab-df-quickchart-complete');\n",
              "    }\n",
              "    (() => {\n",
              "      let quickchartButtonEl =\n",
              "        document.querySelector('#df-82f63697-e0e6-492c-b008-47537eaf5e7c button');\n",
              "      quickchartButtonEl.style.display =\n",
              "        google.colab.kernel.accessAllowed ? 'block' : 'none';\n",
              "    })();\n",
              "  </script>\n",
              "</div>\n",
              "\n",
              "  <div id=\"id_bd913f27-62bd-4e09-8b3a-82c209dabc20\">\n",
              "    <style>\n",
              "      .colab-df-generate {\n",
              "        background-color: #E8F0FE;\n",
              "        border: none;\n",
              "        border-radius: 50%;\n",
              "        cursor: pointer;\n",
              "        display: none;\n",
              "        fill: #1967D2;\n",
              "        height: 32px;\n",
              "        padding: 0 0 0 0;\n",
              "        width: 32px;\n",
              "      }\n",
              "\n",
              "      .colab-df-generate:hover {\n",
              "        background-color: #E2EBFA;\n",
              "        box-shadow: 0px 1px 2px rgba(60, 64, 67, 0.3), 0px 1px 3px 1px rgba(60, 64, 67, 0.15);\n",
              "        fill: #174EA6;\n",
              "      }\n",
              "\n",
              "      [theme=dark] .colab-df-generate {\n",
              "        background-color: #3B4455;\n",
              "        fill: #D2E3FC;\n",
              "      }\n",
              "\n",
              "      [theme=dark] .colab-df-generate:hover {\n",
              "        background-color: #434B5C;\n",
              "        box-shadow: 0px 1px 3px 1px rgba(0, 0, 0, 0.15);\n",
              "        filter: drop-shadow(0px 1px 2px rgba(0, 0, 0, 0.3));\n",
              "        fill: #FFFFFF;\n",
              "      }\n",
              "    </style>\n",
              "    <button class=\"colab-df-generate\" onclick=\"generateWithVariable('oh_encoded_df')\"\n",
              "            title=\"Generate code using this dataframe.\"\n",
              "            style=\"display:none;\">\n",
              "\n",
              "  <svg xmlns=\"http://www.w3.org/2000/svg\" height=\"24px\"viewBox=\"0 0 24 24\"\n",
              "       width=\"24px\">\n",
              "    <path d=\"M7,19H8.4L18.45,9,17,7.55,7,17.6ZM5,21V16.75L18.45,3.32a2,2,0,0,1,2.83,0l1.4,1.43a1.91,1.91,0,0,1,.58,1.4,1.91,1.91,0,0,1-.58,1.4L9.25,21ZM18.45,9,17,7.55Zm-12,3A5.31,5.31,0,0,0,4.9,8.1,5.31,5.31,0,0,0,1,6.5,5.31,5.31,0,0,0,4.9,4.9,5.31,5.31,0,0,0,6.5,1,5.31,5.31,0,0,0,8.1,4.9,5.31,5.31,0,0,0,12,6.5,5.46,5.46,0,0,0,6.5,12Z\"/>\n",
              "  </svg>\n",
              "    </button>\n",
              "    <script>\n",
              "      (() => {\n",
              "      const buttonEl =\n",
              "        document.querySelector('#id_bd913f27-62bd-4e09-8b3a-82c209dabc20 button.colab-df-generate');\n",
              "      buttonEl.style.display =\n",
              "        google.colab.kernel.accessAllowed ? 'block' : 'none';\n",
              "\n",
              "      buttonEl.onclick = () => {\n",
              "        google.colab.notebook.generateWithVariable('oh_encoded_df');\n",
              "      }\n",
              "      })();\n",
              "    </script>\n",
              "  </div>\n",
              "\n",
              "    </div>\n",
              "  </div>\n"
            ],
            "application/vnd.google.colaboratory.intrinsic+json": {
              "type": "dataframe",
              "variable_name": "oh_encoded_df"
            }
          },
          "metadata": {},
          "execution_count": 66
        }
      ]
    },
    {
      "cell_type": "markdown",
      "source": [
        "waiver_or_scholarship is a binary value, and as pd.get_dummies() gave us two column values for it, we are safe to drop one. We don't need both of them."
      ],
      "metadata": {
        "id": "fbNgZ0iMtP6x"
      }
    },
    {
      "cell_type": "code",
      "source": [
        "oh_encoded_df = oh_encoded_df.drop('waiver_or_scholarship_No', axis=1)\n",
        "oh_encoded_df.info()"
      ],
      "metadata": {
        "colab": {
          "base_uri": "https://localhost:8080/"
        },
        "id": "BWXYUR8Ftv-3",
        "outputId": "44a2e8a8-b1bf-453a-d09f-23000293e1e4"
      },
      "execution_count": null,
      "outputs": [
        {
          "output_type": "stream",
          "name": "stdout",
          "text": [
            "<class 'pandas.core.frame.DataFrame'>\n",
            "RangeIndex: 2028 entries, 0 to 2027\n",
            "Data columns (total 31 columns):\n",
            " #   Column                                                                 Non-Null Count  Dtype\n",
            "---  ------                                                                 --------------  -----\n",
            " 0   Gender_Female                                                          2028 non-null   bool \n",
            " 1   Gender_Male                                                            2028 non-null   bool \n",
            " 2   Gender_Prefer not to say                                               2028 non-null   bool \n",
            " 3   University_American International University Bangladesh (AIUB)         2028 non-null   bool \n",
            " 4   University_BRAC University                                             2028 non-null   bool \n",
            " 5   University_Bangladesh Agricultural University (BAU)                    2028 non-null   bool \n",
            " 6   University_Bangladesh University of Engineering and Technology (BUET)  2028 non-null   bool \n",
            " 7   University_Daffodil University                                         2028 non-null   bool \n",
            " 8   University_Dhaka University (DU)                                       2028 non-null   bool \n",
            " 9   University_Dhaka University of Engineering and Technology (DUET)       2028 non-null   bool \n",
            " 10  University_East West University (EWU)                                  2028 non-null   bool \n",
            " 11  University_Independent University, Bangladesh (IUB)                    2028 non-null   bool \n",
            " 12  University_Islamic University of Technology (IUT)                      2028 non-null   bool \n",
            " 13  University_North South University (NSU)                                2028 non-null   bool \n",
            " 14  University_Patuakhali Science and Technology University                2028 non-null   bool \n",
            " 15  University_Rajshahi University (RU)                                    2028 non-null   bool \n",
            " 16  University_Rajshahi University of Engineering and Technology (RUET)    2028 non-null   bool \n",
            " 17  University_United International University (UIU)                       2028 non-null   bool \n",
            " 18  Department_Biological Sciences                                         2028 non-null   bool \n",
            " 19  Department_Business and Entrepreneurship Studies                       2028 non-null   bool \n",
            " 20  Department_Engineering - CS / CSE / CSC / Similar to CS                2028 non-null   bool \n",
            " 21  Department_Engineering - Civil Engineering / Similar to CE             2028 non-null   bool \n",
            " 22  Department_Engineering - EEE/ ECE / Similar to EEE                     2028 non-null   bool \n",
            " 23  Department_Engineering - Mechanical Engineering / Similar to ME        2028 non-null   bool \n",
            " 24  Department_Engineering - Other                                         2028 non-null   bool \n",
            " 25  Department_Environmental and Life Sciences                             2028 non-null   bool \n",
            " 26  Department_Law and Human Rights                                        2028 non-null   bool \n",
            " 27  Department_Liberal Arts and Social Sciences                            2028 non-null   bool \n",
            " 28  Department_Other                                                       2028 non-null   bool \n",
            " 29  Department_Pharmacy and Public Health                                  2028 non-null   bool \n",
            " 30  waiver_or_scholarship_Yes                                              2028 non-null   bool \n",
            "dtypes: bool(31)\n",
            "memory usage: 61.5 KB\n"
          ]
        }
      ]
    },
    {
      "cell_type": "markdown",
      "source": [
        "Again, a lot of columns, but we can see if we need to trim them down or something later. Now we'll move onto Ordinal Encoding."
      ],
      "metadata": {
        "id": "DAGXTPZRuLAv"
      }
    },
    {
      "cell_type": "markdown",
      "source": [
        "### Ordinal Encoding"
      ],
      "metadata": {
        "id": "38S5SvtwKrXy"
      }
    },
    {
      "cell_type": "markdown",
      "source": [
        "Now, we'll do an ordinal encoding with sklearn OrdinalEncoder for the ordered column values.\n",
        "\n",
        "First, we'll recheck the columns that need to be processed."
      ],
      "metadata": {
        "id": "7WAiTGHbK_om"
      }
    },
    {
      "cell_type": "code",
      "source": [
        "for col in ordinal_encoding_cols:\n",
        "    print(col, ordinal_encoding_cols[col].unique())"
      ],
      "metadata": {
        "colab": {
          "base_uri": "https://localhost:8080/"
        },
        "id": "FR4bK_xGuylm",
        "outputId": "2ba88e3d-980a-4913-dd0a-aa6c802f125f"
      },
      "execution_count": null,
      "outputs": [
        {
          "output_type": "stream",
          "name": "stdout",
          "text": [
            "Age ['18-22' '23-26' '27-30' 'Above 30' 'Below 18']\n",
            "Academic_Year ['Second Year or Equivalent' 'Third Year or Equivalent' 'Other'\n",
            " 'First Year or Equivalent' 'Fourth Year or Equivalent']\n",
            "Current_CGPA ['2.50 - 2.99' '3.00 - 3.39' '3.40 - 3.79' '3.80 - 4.00' 'Below 2.50'\n",
            " 'Other']\n",
            "Stress Label ['High Perceived Stress' 'Moderate Stress' 'Low Stress']\n",
            "Anxiety Label ['Severe Anxiety' 'Moderate Anxiety' 'Minimal Anxiety' 'Mild Anxiety']\n"
          ]
        }
      ]
    },
    {
      "cell_type": "markdown",
      "source": [
        "Looks good! Except values like 'Below 18' should be before '18-22'. 'Other' and 'First Year or Equivalent' should be at the opposite ends, but they are in the middle! Same with columns like Current_CGPA, and the Stress/Anxiety labels.\n",
        "\n",
        "They should be like this so they're in a clear and concise order when parsed into a visualization/model."
      ],
      "metadata": {
        "id": "qSGR_M0AvPYQ"
      }
    },
    {
      "cell_type": "code",
      "source": [
        "# We can create constant columns for this:\n",
        "# These columns re-order the names, and are parsed correctly when using OrdinalEncoder.\n",
        "AGE_COL = ['Below 18', '18-22', '23-26', '27-30', 'Above 30']\n",
        "ACADEMIC_YEAR_COL = ['First Year or Equivalent', 'Second Year or Equivalent', 'Third Year or Equivalent',\n",
        "  'Fourth Year or Equivalent', 'Other']\n",
        "CURRENT_CGPA_COL = ['Below 2.50', '2.50 - 2.99', '3.00 - 3.39', '3.40 - 3.79', '3.80 - 4.00', 'Other']\n",
        "STRESS_LABEL_COL = ['Low Stress', 'Moderate Stress', 'High Perceived Stress']\n",
        "ANXIETY_LABEL_COL = ['Minimal Anxiety', 'Mild Anxiety', 'Moderate Anxiety', 'Severe Anxiety']"
      ],
      "metadata": {
        "id": "Y2WK66Zxw2us"
      },
      "execution_count": null,
      "outputs": []
    },
    {
      "cell_type": "markdown",
      "source": [
        "These can now be used in the category parameter to identify the reordered columns.\n",
        "\n",
        "They will be in double lists when added in categories because the OrdinalEncoder expects a two-dimension numpy array, like this for example."
      ],
      "metadata": {
        "id": "26-LOUoUy0eG"
      }
    },
    {
      "cell_type": "code",
      "source": [
        "ordinal_encoding_cols[['Age']].to_numpy()"
      ],
      "metadata": {
        "colab": {
          "base_uri": "https://localhost:8080/"
        },
        "id": "0273Be1rMppz",
        "outputId": "ecadebe4-3f05-491d-ea71-e67838018bec"
      },
      "execution_count": null,
      "outputs": [
        {
          "output_type": "execute_result",
          "data": {
            "text/plain": [
              "array([['18-22'],\n",
              "       ['18-22'],\n",
              "       ['18-22'],\n",
              "       ...,\n",
              "       ['18-22'],\n",
              "       ['23-26'],\n",
              "       ['18-22']], dtype=object)"
            ]
          },
          "metadata": {},
          "execution_count": 70
        }
      ]
    },
    {
      "cell_type": "markdown",
      "source": [
        "We make the Ordinal Encoder first, with all its categories."
      ],
      "metadata": {
        "id": "Z6XEafdXzVoD"
      }
    },
    {
      "cell_type": "code",
      "source": [
        "or_encoder = OrdinalEncoder(categories=[AGE_COL, ACADEMIC_YEAR_COL, CURRENT_CGPA_COL, STRESS_LABEL_COL, ANXIETY_LABEL_COL])"
      ],
      "metadata": {
        "id": "YokO6tHJLLK1"
      },
      "execution_count": null,
      "outputs": []
    },
    {
      "cell_type": "markdown",
      "source": [
        "Then we apply a fit transform to it, casting the transform to an integer value. The columns parameter is so that the names are preserved."
      ],
      "metadata": {
        "id": "OdWbzDpa4F0o"
      }
    },
    {
      "cell_type": "code",
      "source": [
        "or_encoded_df = pd.DataFrame(or_encoder.fit_transform(ordinal_encoding_cols.to_numpy()).astype(int), columns=ordinal_encoding_cols.columns.tolist())\n",
        "or_encoded_df.info()"
      ],
      "metadata": {
        "colab": {
          "base_uri": "https://localhost:8080/"
        },
        "id": "q-p6sPSBLTCM",
        "outputId": "370b5323-dce9-4abe-b3ba-8161ca37f042"
      },
      "execution_count": null,
      "outputs": [
        {
          "output_type": "stream",
          "name": "stdout",
          "text": [
            "<class 'pandas.core.frame.DataFrame'>\n",
            "RangeIndex: 2028 entries, 0 to 2027\n",
            "Data columns (total 5 columns):\n",
            " #   Column         Non-Null Count  Dtype\n",
            "---  ------         --------------  -----\n",
            " 0   Age            2028 non-null   int64\n",
            " 1   Academic_Year  2028 non-null   int64\n",
            " 2   Current_CGPA   2028 non-null   int64\n",
            " 3   Stress Label   2028 non-null   int64\n",
            " 4   Anxiety Label  2028 non-null   int64\n",
            "dtypes: int64(5)\n",
            "memory usage: 79.3 KB\n"
          ]
        }
      ]
    },
    {
      "cell_type": "markdown",
      "source": [
        "Unique values for comparsion on how they converted. 0 indicates the first column of course."
      ],
      "metadata": {
        "id": "woHekbHp5PFi"
      }
    },
    {
      "cell_type": "code",
      "source": [
        "for col in or_encoded_df:\n",
        "    print(col, or_encoded_df[col].unique())"
      ],
      "metadata": {
        "colab": {
          "base_uri": "https://localhost:8080/"
        },
        "id": "IOjgh6hb4-IS",
        "outputId": "a5c6e3c8-c1d4-4a4d-fddf-ba0fb8eb09ab"
      },
      "execution_count": null,
      "outputs": [
        {
          "output_type": "stream",
          "name": "stdout",
          "text": [
            "Age [1 2 3 4 0]\n",
            "Academic_Year [1 2 4 0 3]\n",
            "Current_CGPA [1 2 3 4 0 5]\n",
            "Stress Label [2 1 0]\n",
            "Anxiety Label [3 2 0 1]\n"
          ]
        }
      ]
    },
    {
      "cell_type": "markdown",
      "source": [
        "Looks good, each column has its data converted into an integer. But now we need to make sure it IS correct. Let's look at the head of the regular ordinal columns."
      ],
      "metadata": {
        "id": "ASKr5Ogr4TOF"
      }
    },
    {
      "cell_type": "code",
      "source": [
        "ordinal_encoding_cols"
      ],
      "metadata": {
        "colab": {
          "base_uri": "https://localhost:8080/",
          "height": 424
        },
        "id": "juQ2wCthJ32X",
        "outputId": "c3253258-04d3-4490-fd16-8e033c0ab229"
      },
      "execution_count": null,
      "outputs": [
        {
          "output_type": "execute_result",
          "data": {
            "text/plain": [
              "        Age              Academic_Year Current_CGPA           Stress Label  \\\n",
              "0     18-22  Second Year or Equivalent  2.50 - 2.99  High Perceived Stress   \n",
              "1     18-22   Third Year or Equivalent  3.00 - 3.39        Moderate Stress   \n",
              "2     18-22   Third Year or Equivalent  3.00 - 3.39        Moderate Stress   \n",
              "3     18-22   Third Year or Equivalent  3.00 - 3.39        Moderate Stress   \n",
              "4     18-22  Second Year or Equivalent  2.50 - 2.99  High Perceived Stress   \n",
              "...     ...                        ...          ...                    ...   \n",
              "2023  18-22  Second Year or Equivalent  3.00 - 3.39  High Perceived Stress   \n",
              "2024  18-22   Third Year or Equivalent  3.00 - 3.39  High Perceived Stress   \n",
              "2025  18-22  Second Year or Equivalent  2.50 - 2.99        Moderate Stress   \n",
              "2026  23-26   Third Year or Equivalent  3.40 - 3.79  High Perceived Stress   \n",
              "2027  18-22  Second Year or Equivalent  2.50 - 2.99        Moderate Stress   \n",
              "\n",
              "         Anxiety Label  \n",
              "0       Severe Anxiety  \n",
              "1     Moderate Anxiety  \n",
              "2      Minimal Anxiety  \n",
              "3     Moderate Anxiety  \n",
              "4     Moderate Anxiety  \n",
              "...                ...  \n",
              "2023    Severe Anxiety  \n",
              "2024    Severe Anxiety  \n",
              "2025  Moderate Anxiety  \n",
              "2026    Severe Anxiety  \n",
              "2027  Moderate Anxiety  \n",
              "\n",
              "[2028 rows x 5 columns]"
            ],
            "text/html": [
              "\n",
              "  <div id=\"df-4ec90d5a-6aa8-4aeb-b6d9-9b25a8110479\" class=\"colab-df-container\">\n",
              "    <div>\n",
              "<style scoped>\n",
              "    .dataframe tbody tr th:only-of-type {\n",
              "        vertical-align: middle;\n",
              "    }\n",
              "\n",
              "    .dataframe tbody tr th {\n",
              "        vertical-align: top;\n",
              "    }\n",
              "\n",
              "    .dataframe thead th {\n",
              "        text-align: right;\n",
              "    }\n",
              "</style>\n",
              "<table border=\"1\" class=\"dataframe\">\n",
              "  <thead>\n",
              "    <tr style=\"text-align: right;\">\n",
              "      <th></th>\n",
              "      <th>Age</th>\n",
              "      <th>Academic_Year</th>\n",
              "      <th>Current_CGPA</th>\n",
              "      <th>Stress Label</th>\n",
              "      <th>Anxiety Label</th>\n",
              "    </tr>\n",
              "  </thead>\n",
              "  <tbody>\n",
              "    <tr>\n",
              "      <th>0</th>\n",
              "      <td>18-22</td>\n",
              "      <td>Second Year or Equivalent</td>\n",
              "      <td>2.50 - 2.99</td>\n",
              "      <td>High Perceived Stress</td>\n",
              "      <td>Severe Anxiety</td>\n",
              "    </tr>\n",
              "    <tr>\n",
              "      <th>1</th>\n",
              "      <td>18-22</td>\n",
              "      <td>Third Year or Equivalent</td>\n",
              "      <td>3.00 - 3.39</td>\n",
              "      <td>Moderate Stress</td>\n",
              "      <td>Moderate Anxiety</td>\n",
              "    </tr>\n",
              "    <tr>\n",
              "      <th>2</th>\n",
              "      <td>18-22</td>\n",
              "      <td>Third Year or Equivalent</td>\n",
              "      <td>3.00 - 3.39</td>\n",
              "      <td>Moderate Stress</td>\n",
              "      <td>Minimal Anxiety</td>\n",
              "    </tr>\n",
              "    <tr>\n",
              "      <th>3</th>\n",
              "      <td>18-22</td>\n",
              "      <td>Third Year or Equivalent</td>\n",
              "      <td>3.00 - 3.39</td>\n",
              "      <td>Moderate Stress</td>\n",
              "      <td>Moderate Anxiety</td>\n",
              "    </tr>\n",
              "    <tr>\n",
              "      <th>4</th>\n",
              "      <td>18-22</td>\n",
              "      <td>Second Year or Equivalent</td>\n",
              "      <td>2.50 - 2.99</td>\n",
              "      <td>High Perceived Stress</td>\n",
              "      <td>Moderate Anxiety</td>\n",
              "    </tr>\n",
              "    <tr>\n",
              "      <th>...</th>\n",
              "      <td>...</td>\n",
              "      <td>...</td>\n",
              "      <td>...</td>\n",
              "      <td>...</td>\n",
              "      <td>...</td>\n",
              "    </tr>\n",
              "    <tr>\n",
              "      <th>2023</th>\n",
              "      <td>18-22</td>\n",
              "      <td>Second Year or Equivalent</td>\n",
              "      <td>3.00 - 3.39</td>\n",
              "      <td>High Perceived Stress</td>\n",
              "      <td>Severe Anxiety</td>\n",
              "    </tr>\n",
              "    <tr>\n",
              "      <th>2024</th>\n",
              "      <td>18-22</td>\n",
              "      <td>Third Year or Equivalent</td>\n",
              "      <td>3.00 - 3.39</td>\n",
              "      <td>High Perceived Stress</td>\n",
              "      <td>Severe Anxiety</td>\n",
              "    </tr>\n",
              "    <tr>\n",
              "      <th>2025</th>\n",
              "      <td>18-22</td>\n",
              "      <td>Second Year or Equivalent</td>\n",
              "      <td>2.50 - 2.99</td>\n",
              "      <td>Moderate Stress</td>\n",
              "      <td>Moderate Anxiety</td>\n",
              "    </tr>\n",
              "    <tr>\n",
              "      <th>2026</th>\n",
              "      <td>23-26</td>\n",
              "      <td>Third Year or Equivalent</td>\n",
              "      <td>3.40 - 3.79</td>\n",
              "      <td>High Perceived Stress</td>\n",
              "      <td>Severe Anxiety</td>\n",
              "    </tr>\n",
              "    <tr>\n",
              "      <th>2027</th>\n",
              "      <td>18-22</td>\n",
              "      <td>Second Year or Equivalent</td>\n",
              "      <td>2.50 - 2.99</td>\n",
              "      <td>Moderate Stress</td>\n",
              "      <td>Moderate Anxiety</td>\n",
              "    </tr>\n",
              "  </tbody>\n",
              "</table>\n",
              "<p>2028 rows × 5 columns</p>\n",
              "</div>\n",
              "    <div class=\"colab-df-buttons\">\n",
              "\n",
              "  <div class=\"colab-df-container\">\n",
              "    <button class=\"colab-df-convert\" onclick=\"convertToInteractive('df-4ec90d5a-6aa8-4aeb-b6d9-9b25a8110479')\"\n",
              "            title=\"Convert this dataframe to an interactive table.\"\n",
              "            style=\"display:none;\">\n",
              "\n",
              "  <svg xmlns=\"http://www.w3.org/2000/svg\" height=\"24px\" viewBox=\"0 -960 960 960\">\n",
              "    <path d=\"M120-120v-720h720v720H120Zm60-500h600v-160H180v160Zm220 220h160v-160H400v160Zm0 220h160v-160H400v160ZM180-400h160v-160H180v160Zm440 0h160v-160H620v160ZM180-180h160v-160H180v160Zm440 0h160v-160H620v160Z\"/>\n",
              "  </svg>\n",
              "    </button>\n",
              "\n",
              "  <style>\n",
              "    .colab-df-container {\n",
              "      display:flex;\n",
              "      gap: 12px;\n",
              "    }\n",
              "\n",
              "    .colab-df-convert {\n",
              "      background-color: #E8F0FE;\n",
              "      border: none;\n",
              "      border-radius: 50%;\n",
              "      cursor: pointer;\n",
              "      display: none;\n",
              "      fill: #1967D2;\n",
              "      height: 32px;\n",
              "      padding: 0 0 0 0;\n",
              "      width: 32px;\n",
              "    }\n",
              "\n",
              "    .colab-df-convert:hover {\n",
              "      background-color: #E2EBFA;\n",
              "      box-shadow: 0px 1px 2px rgba(60, 64, 67, 0.3), 0px 1px 3px 1px rgba(60, 64, 67, 0.15);\n",
              "      fill: #174EA6;\n",
              "    }\n",
              "\n",
              "    .colab-df-buttons div {\n",
              "      margin-bottom: 4px;\n",
              "    }\n",
              "\n",
              "    [theme=dark] .colab-df-convert {\n",
              "      background-color: #3B4455;\n",
              "      fill: #D2E3FC;\n",
              "    }\n",
              "\n",
              "    [theme=dark] .colab-df-convert:hover {\n",
              "      background-color: #434B5C;\n",
              "      box-shadow: 0px 1px 3px 1px rgba(0, 0, 0, 0.15);\n",
              "      filter: drop-shadow(0px 1px 2px rgba(0, 0, 0, 0.3));\n",
              "      fill: #FFFFFF;\n",
              "    }\n",
              "  </style>\n",
              "\n",
              "    <script>\n",
              "      const buttonEl =\n",
              "        document.querySelector('#df-4ec90d5a-6aa8-4aeb-b6d9-9b25a8110479 button.colab-df-convert');\n",
              "      buttonEl.style.display =\n",
              "        google.colab.kernel.accessAllowed ? 'block' : 'none';\n",
              "\n",
              "      async function convertToInteractive(key) {\n",
              "        const element = document.querySelector('#df-4ec90d5a-6aa8-4aeb-b6d9-9b25a8110479');\n",
              "        const dataTable =\n",
              "          await google.colab.kernel.invokeFunction('convertToInteractive',\n",
              "                                                    [key], {});\n",
              "        if (!dataTable) return;\n",
              "\n",
              "        const docLinkHtml = 'Like what you see? Visit the ' +\n",
              "          '<a target=\"_blank\" href=https://colab.research.google.com/notebooks/data_table.ipynb>data table notebook</a>'\n",
              "          + ' to learn more about interactive tables.';\n",
              "        element.innerHTML = '';\n",
              "        dataTable['output_type'] = 'display_data';\n",
              "        await google.colab.output.renderOutput(dataTable, element);\n",
              "        const docLink = document.createElement('div');\n",
              "        docLink.innerHTML = docLinkHtml;\n",
              "        element.appendChild(docLink);\n",
              "      }\n",
              "    </script>\n",
              "  </div>\n",
              "\n",
              "\n",
              "<div id=\"df-05f2e07f-2b64-451f-acc0-9806d2b98668\">\n",
              "  <button class=\"colab-df-quickchart\" onclick=\"quickchart('df-05f2e07f-2b64-451f-acc0-9806d2b98668')\"\n",
              "            title=\"Suggest charts\"\n",
              "            style=\"display:none;\">\n",
              "\n",
              "<svg xmlns=\"http://www.w3.org/2000/svg\" height=\"24px\"viewBox=\"0 0 24 24\"\n",
              "     width=\"24px\">\n",
              "    <g>\n",
              "        <path d=\"M19 3H5c-1.1 0-2 .9-2 2v14c0 1.1.9 2 2 2h14c1.1 0 2-.9 2-2V5c0-1.1-.9-2-2-2zM9 17H7v-7h2v7zm4 0h-2V7h2v10zm4 0h-2v-4h2v4z\"/>\n",
              "    </g>\n",
              "</svg>\n",
              "  </button>\n",
              "\n",
              "<style>\n",
              "  .colab-df-quickchart {\n",
              "      --bg-color: #E8F0FE;\n",
              "      --fill-color: #1967D2;\n",
              "      --hover-bg-color: #E2EBFA;\n",
              "      --hover-fill-color: #174EA6;\n",
              "      --disabled-fill-color: #AAA;\n",
              "      --disabled-bg-color: #DDD;\n",
              "  }\n",
              "\n",
              "  [theme=dark] .colab-df-quickchart {\n",
              "      --bg-color: #3B4455;\n",
              "      --fill-color: #D2E3FC;\n",
              "      --hover-bg-color: #434B5C;\n",
              "      --hover-fill-color: #FFFFFF;\n",
              "      --disabled-bg-color: #3B4455;\n",
              "      --disabled-fill-color: #666;\n",
              "  }\n",
              "\n",
              "  .colab-df-quickchart {\n",
              "    background-color: var(--bg-color);\n",
              "    border: none;\n",
              "    border-radius: 50%;\n",
              "    cursor: pointer;\n",
              "    display: none;\n",
              "    fill: var(--fill-color);\n",
              "    height: 32px;\n",
              "    padding: 0;\n",
              "    width: 32px;\n",
              "  }\n",
              "\n",
              "  .colab-df-quickchart:hover {\n",
              "    background-color: var(--hover-bg-color);\n",
              "    box-shadow: 0 1px 2px rgba(60, 64, 67, 0.3), 0 1px 3px 1px rgba(60, 64, 67, 0.15);\n",
              "    fill: var(--button-hover-fill-color);\n",
              "  }\n",
              "\n",
              "  .colab-df-quickchart-complete:disabled,\n",
              "  .colab-df-quickchart-complete:disabled:hover {\n",
              "    background-color: var(--disabled-bg-color);\n",
              "    fill: var(--disabled-fill-color);\n",
              "    box-shadow: none;\n",
              "  }\n",
              "\n",
              "  .colab-df-spinner {\n",
              "    border: 2px solid var(--fill-color);\n",
              "    border-color: transparent;\n",
              "    border-bottom-color: var(--fill-color);\n",
              "    animation:\n",
              "      spin 1s steps(1) infinite;\n",
              "  }\n",
              "\n",
              "  @keyframes spin {\n",
              "    0% {\n",
              "      border-color: transparent;\n",
              "      border-bottom-color: var(--fill-color);\n",
              "      border-left-color: var(--fill-color);\n",
              "    }\n",
              "    20% {\n",
              "      border-color: transparent;\n",
              "      border-left-color: var(--fill-color);\n",
              "      border-top-color: var(--fill-color);\n",
              "    }\n",
              "    30% {\n",
              "      border-color: transparent;\n",
              "      border-left-color: var(--fill-color);\n",
              "      border-top-color: var(--fill-color);\n",
              "      border-right-color: var(--fill-color);\n",
              "    }\n",
              "    40% {\n",
              "      border-color: transparent;\n",
              "      border-right-color: var(--fill-color);\n",
              "      border-top-color: var(--fill-color);\n",
              "    }\n",
              "    60% {\n",
              "      border-color: transparent;\n",
              "      border-right-color: var(--fill-color);\n",
              "    }\n",
              "    80% {\n",
              "      border-color: transparent;\n",
              "      border-right-color: var(--fill-color);\n",
              "      border-bottom-color: var(--fill-color);\n",
              "    }\n",
              "    90% {\n",
              "      border-color: transparent;\n",
              "      border-bottom-color: var(--fill-color);\n",
              "    }\n",
              "  }\n",
              "</style>\n",
              "\n",
              "  <script>\n",
              "    async function quickchart(key) {\n",
              "      const quickchartButtonEl =\n",
              "        document.querySelector('#' + key + ' button');\n",
              "      quickchartButtonEl.disabled = true;  // To prevent multiple clicks.\n",
              "      quickchartButtonEl.classList.add('colab-df-spinner');\n",
              "      try {\n",
              "        const charts = await google.colab.kernel.invokeFunction(\n",
              "            'suggestCharts', [key], {});\n",
              "      } catch (error) {\n",
              "        console.error('Error during call to suggestCharts:', error);\n",
              "      }\n",
              "      quickchartButtonEl.classList.remove('colab-df-spinner');\n",
              "      quickchartButtonEl.classList.add('colab-df-quickchart-complete');\n",
              "    }\n",
              "    (() => {\n",
              "      let quickchartButtonEl =\n",
              "        document.querySelector('#df-05f2e07f-2b64-451f-acc0-9806d2b98668 button');\n",
              "      quickchartButtonEl.style.display =\n",
              "        google.colab.kernel.accessAllowed ? 'block' : 'none';\n",
              "    })();\n",
              "  </script>\n",
              "</div>\n",
              "\n",
              "  <div id=\"id_44657a2f-3a97-4dd6-ac15-97016ae657c8\">\n",
              "    <style>\n",
              "      .colab-df-generate {\n",
              "        background-color: #E8F0FE;\n",
              "        border: none;\n",
              "        border-radius: 50%;\n",
              "        cursor: pointer;\n",
              "        display: none;\n",
              "        fill: #1967D2;\n",
              "        height: 32px;\n",
              "        padding: 0 0 0 0;\n",
              "        width: 32px;\n",
              "      }\n",
              "\n",
              "      .colab-df-generate:hover {\n",
              "        background-color: #E2EBFA;\n",
              "        box-shadow: 0px 1px 2px rgba(60, 64, 67, 0.3), 0px 1px 3px 1px rgba(60, 64, 67, 0.15);\n",
              "        fill: #174EA6;\n",
              "      }\n",
              "\n",
              "      [theme=dark] .colab-df-generate {\n",
              "        background-color: #3B4455;\n",
              "        fill: #D2E3FC;\n",
              "      }\n",
              "\n",
              "      [theme=dark] .colab-df-generate:hover {\n",
              "        background-color: #434B5C;\n",
              "        box-shadow: 0px 1px 3px 1px rgba(0, 0, 0, 0.15);\n",
              "        filter: drop-shadow(0px 1px 2px rgba(0, 0, 0, 0.3));\n",
              "        fill: #FFFFFF;\n",
              "      }\n",
              "    </style>\n",
              "    <button class=\"colab-df-generate\" onclick=\"generateWithVariable('ordinal_encoding_cols')\"\n",
              "            title=\"Generate code using this dataframe.\"\n",
              "            style=\"display:none;\">\n",
              "\n",
              "  <svg xmlns=\"http://www.w3.org/2000/svg\" height=\"24px\"viewBox=\"0 0 24 24\"\n",
              "       width=\"24px\">\n",
              "    <path d=\"M7,19H8.4L18.45,9,17,7.55,7,17.6ZM5,21V16.75L18.45,3.32a2,2,0,0,1,2.83,0l1.4,1.43a1.91,1.91,0,0,1,.58,1.4,1.91,1.91,0,0,1-.58,1.4L9.25,21ZM18.45,9,17,7.55Zm-12,3A5.31,5.31,0,0,0,4.9,8.1,5.31,5.31,0,0,0,1,6.5,5.31,5.31,0,0,0,4.9,4.9,5.31,5.31,0,0,0,6.5,1,5.31,5.31,0,0,0,8.1,4.9,5.31,5.31,0,0,0,12,6.5,5.46,5.46,0,0,0,6.5,12Z\"/>\n",
              "  </svg>\n",
              "    </button>\n",
              "    <script>\n",
              "      (() => {\n",
              "      const buttonEl =\n",
              "        document.querySelector('#id_44657a2f-3a97-4dd6-ac15-97016ae657c8 button.colab-df-generate');\n",
              "      buttonEl.style.display =\n",
              "        google.colab.kernel.accessAllowed ? 'block' : 'none';\n",
              "\n",
              "      buttonEl.onclick = () => {\n",
              "        google.colab.notebook.generateWithVariable('ordinal_encoding_cols');\n",
              "      }\n",
              "      })();\n",
              "    </script>\n",
              "  </div>\n",
              "\n",
              "    </div>\n",
              "  </div>\n"
            ],
            "application/vnd.google.colaboratory.intrinsic+json": {
              "type": "dataframe",
              "variable_name": "ordinal_encoding_cols",
              "summary": "{\n  \"name\": \"ordinal_encoding_cols\",\n  \"rows\": 2028,\n  \"fields\": [\n    {\n      \"column\": \"Age\",\n      \"properties\": {\n        \"dtype\": \"category\",\n        \"num_unique_values\": 5,\n        \"samples\": [\n          \"23-26\",\n          \"Below 18\",\n          \"27-30\"\n        ],\n        \"semantic_type\": \"\",\n        \"description\": \"\"\n      }\n    },\n    {\n      \"column\": \"Academic_Year\",\n      \"properties\": {\n        \"dtype\": \"category\",\n        \"num_unique_values\": 5,\n        \"samples\": [\n          \"Third Year or Equivalent\",\n          \"Fourth Year or Equivalent\",\n          \"Other\"\n        ],\n        \"semantic_type\": \"\",\n        \"description\": \"\"\n      }\n    },\n    {\n      \"column\": \"Current_CGPA\",\n      \"properties\": {\n        \"dtype\": \"category\",\n        \"num_unique_values\": 6,\n        \"samples\": [\n          \"2.50 - 2.99\",\n          \"3.00 - 3.39\",\n          \"Other\"\n        ],\n        \"semantic_type\": \"\",\n        \"description\": \"\"\n      }\n    },\n    {\n      \"column\": \"Stress Label\",\n      \"properties\": {\n        \"dtype\": \"category\",\n        \"num_unique_values\": 3,\n        \"samples\": [\n          \"High Perceived Stress\",\n          \"Moderate Stress\",\n          \"Low Stress\"\n        ],\n        \"semantic_type\": \"\",\n        \"description\": \"\"\n      }\n    },\n    {\n      \"column\": \"Anxiety Label\",\n      \"properties\": {\n        \"dtype\": \"category\",\n        \"num_unique_values\": 4,\n        \"samples\": [\n          \"Moderate Anxiety\",\n          \"Mild Anxiety\",\n          \"Severe Anxiety\"\n        ],\n        \"semantic_type\": \"\",\n        \"description\": \"\"\n      }\n    }\n  ]\n}"
            }
          },
          "metadata": {},
          "execution_count": 74
        }
      ]
    },
    {
      "cell_type": "markdown",
      "source": [
        "Now take a took at the head of the new dataframe."
      ],
      "metadata": {
        "id": "QnQ9NKRq5j58"
      }
    },
    {
      "cell_type": "code",
      "source": [
        "or_encoded_df"
      ],
      "metadata": {
        "colab": {
          "base_uri": "https://localhost:8080/",
          "height": 424
        },
        "id": "iJpAWRx35ngj",
        "outputId": "d0bbcd18-47c6-45d0-8e3c-b0522c8b0b6f"
      },
      "execution_count": null,
      "outputs": [
        {
          "output_type": "execute_result",
          "data": {
            "text/plain": [
              "      Age  Academic_Year  Current_CGPA  Stress Label  Anxiety Label\n",
              "0       1              1             1             2              3\n",
              "1       1              2             2             1              2\n",
              "2       1              2             2             1              0\n",
              "3       1              2             2             1              2\n",
              "4       1              1             1             2              2\n",
              "...   ...            ...           ...           ...            ...\n",
              "2023    1              1             2             2              3\n",
              "2024    1              2             2             2              3\n",
              "2025    1              1             1             1              2\n",
              "2026    2              2             3             2              3\n",
              "2027    1              1             1             1              2\n",
              "\n",
              "[2028 rows x 5 columns]"
            ],
            "text/html": [
              "\n",
              "  <div id=\"df-c88ba18d-5eb1-498a-b2b5-fbf9a45d0fdf\" class=\"colab-df-container\">\n",
              "    <div>\n",
              "<style scoped>\n",
              "    .dataframe tbody tr th:only-of-type {\n",
              "        vertical-align: middle;\n",
              "    }\n",
              "\n",
              "    .dataframe tbody tr th {\n",
              "        vertical-align: top;\n",
              "    }\n",
              "\n",
              "    .dataframe thead th {\n",
              "        text-align: right;\n",
              "    }\n",
              "</style>\n",
              "<table border=\"1\" class=\"dataframe\">\n",
              "  <thead>\n",
              "    <tr style=\"text-align: right;\">\n",
              "      <th></th>\n",
              "      <th>Age</th>\n",
              "      <th>Academic_Year</th>\n",
              "      <th>Current_CGPA</th>\n",
              "      <th>Stress Label</th>\n",
              "      <th>Anxiety Label</th>\n",
              "    </tr>\n",
              "  </thead>\n",
              "  <tbody>\n",
              "    <tr>\n",
              "      <th>0</th>\n",
              "      <td>1</td>\n",
              "      <td>1</td>\n",
              "      <td>1</td>\n",
              "      <td>2</td>\n",
              "      <td>3</td>\n",
              "    </tr>\n",
              "    <tr>\n",
              "      <th>1</th>\n",
              "      <td>1</td>\n",
              "      <td>2</td>\n",
              "      <td>2</td>\n",
              "      <td>1</td>\n",
              "      <td>2</td>\n",
              "    </tr>\n",
              "    <tr>\n",
              "      <th>2</th>\n",
              "      <td>1</td>\n",
              "      <td>2</td>\n",
              "      <td>2</td>\n",
              "      <td>1</td>\n",
              "      <td>0</td>\n",
              "    </tr>\n",
              "    <tr>\n",
              "      <th>3</th>\n",
              "      <td>1</td>\n",
              "      <td>2</td>\n",
              "      <td>2</td>\n",
              "      <td>1</td>\n",
              "      <td>2</td>\n",
              "    </tr>\n",
              "    <tr>\n",
              "      <th>4</th>\n",
              "      <td>1</td>\n",
              "      <td>1</td>\n",
              "      <td>1</td>\n",
              "      <td>2</td>\n",
              "      <td>2</td>\n",
              "    </tr>\n",
              "    <tr>\n",
              "      <th>...</th>\n",
              "      <td>...</td>\n",
              "      <td>...</td>\n",
              "      <td>...</td>\n",
              "      <td>...</td>\n",
              "      <td>...</td>\n",
              "    </tr>\n",
              "    <tr>\n",
              "      <th>2023</th>\n",
              "      <td>1</td>\n",
              "      <td>1</td>\n",
              "      <td>2</td>\n",
              "      <td>2</td>\n",
              "      <td>3</td>\n",
              "    </tr>\n",
              "    <tr>\n",
              "      <th>2024</th>\n",
              "      <td>1</td>\n",
              "      <td>2</td>\n",
              "      <td>2</td>\n",
              "      <td>2</td>\n",
              "      <td>3</td>\n",
              "    </tr>\n",
              "    <tr>\n",
              "      <th>2025</th>\n",
              "      <td>1</td>\n",
              "      <td>1</td>\n",
              "      <td>1</td>\n",
              "      <td>1</td>\n",
              "      <td>2</td>\n",
              "    </tr>\n",
              "    <tr>\n",
              "      <th>2026</th>\n",
              "      <td>2</td>\n",
              "      <td>2</td>\n",
              "      <td>3</td>\n",
              "      <td>2</td>\n",
              "      <td>3</td>\n",
              "    </tr>\n",
              "    <tr>\n",
              "      <th>2027</th>\n",
              "      <td>1</td>\n",
              "      <td>1</td>\n",
              "      <td>1</td>\n",
              "      <td>1</td>\n",
              "      <td>2</td>\n",
              "    </tr>\n",
              "  </tbody>\n",
              "</table>\n",
              "<p>2028 rows × 5 columns</p>\n",
              "</div>\n",
              "    <div class=\"colab-df-buttons\">\n",
              "\n",
              "  <div class=\"colab-df-container\">\n",
              "    <button class=\"colab-df-convert\" onclick=\"convertToInteractive('df-c88ba18d-5eb1-498a-b2b5-fbf9a45d0fdf')\"\n",
              "            title=\"Convert this dataframe to an interactive table.\"\n",
              "            style=\"display:none;\">\n",
              "\n",
              "  <svg xmlns=\"http://www.w3.org/2000/svg\" height=\"24px\" viewBox=\"0 -960 960 960\">\n",
              "    <path d=\"M120-120v-720h720v720H120Zm60-500h600v-160H180v160Zm220 220h160v-160H400v160Zm0 220h160v-160H400v160ZM180-400h160v-160H180v160Zm440 0h160v-160H620v160ZM180-180h160v-160H180v160Zm440 0h160v-160H620v160Z\"/>\n",
              "  </svg>\n",
              "    </button>\n",
              "\n",
              "  <style>\n",
              "    .colab-df-container {\n",
              "      display:flex;\n",
              "      gap: 12px;\n",
              "    }\n",
              "\n",
              "    .colab-df-convert {\n",
              "      background-color: #E8F0FE;\n",
              "      border: none;\n",
              "      border-radius: 50%;\n",
              "      cursor: pointer;\n",
              "      display: none;\n",
              "      fill: #1967D2;\n",
              "      height: 32px;\n",
              "      padding: 0 0 0 0;\n",
              "      width: 32px;\n",
              "    }\n",
              "\n",
              "    .colab-df-convert:hover {\n",
              "      background-color: #E2EBFA;\n",
              "      box-shadow: 0px 1px 2px rgba(60, 64, 67, 0.3), 0px 1px 3px 1px rgba(60, 64, 67, 0.15);\n",
              "      fill: #174EA6;\n",
              "    }\n",
              "\n",
              "    .colab-df-buttons div {\n",
              "      margin-bottom: 4px;\n",
              "    }\n",
              "\n",
              "    [theme=dark] .colab-df-convert {\n",
              "      background-color: #3B4455;\n",
              "      fill: #D2E3FC;\n",
              "    }\n",
              "\n",
              "    [theme=dark] .colab-df-convert:hover {\n",
              "      background-color: #434B5C;\n",
              "      box-shadow: 0px 1px 3px 1px rgba(0, 0, 0, 0.15);\n",
              "      filter: drop-shadow(0px 1px 2px rgba(0, 0, 0, 0.3));\n",
              "      fill: #FFFFFF;\n",
              "    }\n",
              "  </style>\n",
              "\n",
              "    <script>\n",
              "      const buttonEl =\n",
              "        document.querySelector('#df-c88ba18d-5eb1-498a-b2b5-fbf9a45d0fdf button.colab-df-convert');\n",
              "      buttonEl.style.display =\n",
              "        google.colab.kernel.accessAllowed ? 'block' : 'none';\n",
              "\n",
              "      async function convertToInteractive(key) {\n",
              "        const element = document.querySelector('#df-c88ba18d-5eb1-498a-b2b5-fbf9a45d0fdf');\n",
              "        const dataTable =\n",
              "          await google.colab.kernel.invokeFunction('convertToInteractive',\n",
              "                                                    [key], {});\n",
              "        if (!dataTable) return;\n",
              "\n",
              "        const docLinkHtml = 'Like what you see? Visit the ' +\n",
              "          '<a target=\"_blank\" href=https://colab.research.google.com/notebooks/data_table.ipynb>data table notebook</a>'\n",
              "          + ' to learn more about interactive tables.';\n",
              "        element.innerHTML = '';\n",
              "        dataTable['output_type'] = 'display_data';\n",
              "        await google.colab.output.renderOutput(dataTable, element);\n",
              "        const docLink = document.createElement('div');\n",
              "        docLink.innerHTML = docLinkHtml;\n",
              "        element.appendChild(docLink);\n",
              "      }\n",
              "    </script>\n",
              "  </div>\n",
              "\n",
              "\n",
              "<div id=\"df-a189cbf3-c00d-4926-a83d-449a7d43c471\">\n",
              "  <button class=\"colab-df-quickchart\" onclick=\"quickchart('df-a189cbf3-c00d-4926-a83d-449a7d43c471')\"\n",
              "            title=\"Suggest charts\"\n",
              "            style=\"display:none;\">\n",
              "\n",
              "<svg xmlns=\"http://www.w3.org/2000/svg\" height=\"24px\"viewBox=\"0 0 24 24\"\n",
              "     width=\"24px\">\n",
              "    <g>\n",
              "        <path d=\"M19 3H5c-1.1 0-2 .9-2 2v14c0 1.1.9 2 2 2h14c1.1 0 2-.9 2-2V5c0-1.1-.9-2-2-2zM9 17H7v-7h2v7zm4 0h-2V7h2v10zm4 0h-2v-4h2v4z\"/>\n",
              "    </g>\n",
              "</svg>\n",
              "  </button>\n",
              "\n",
              "<style>\n",
              "  .colab-df-quickchart {\n",
              "      --bg-color: #E8F0FE;\n",
              "      --fill-color: #1967D2;\n",
              "      --hover-bg-color: #E2EBFA;\n",
              "      --hover-fill-color: #174EA6;\n",
              "      --disabled-fill-color: #AAA;\n",
              "      --disabled-bg-color: #DDD;\n",
              "  }\n",
              "\n",
              "  [theme=dark] .colab-df-quickchart {\n",
              "      --bg-color: #3B4455;\n",
              "      --fill-color: #D2E3FC;\n",
              "      --hover-bg-color: #434B5C;\n",
              "      --hover-fill-color: #FFFFFF;\n",
              "      --disabled-bg-color: #3B4455;\n",
              "      --disabled-fill-color: #666;\n",
              "  }\n",
              "\n",
              "  .colab-df-quickchart {\n",
              "    background-color: var(--bg-color);\n",
              "    border: none;\n",
              "    border-radius: 50%;\n",
              "    cursor: pointer;\n",
              "    display: none;\n",
              "    fill: var(--fill-color);\n",
              "    height: 32px;\n",
              "    padding: 0;\n",
              "    width: 32px;\n",
              "  }\n",
              "\n",
              "  .colab-df-quickchart:hover {\n",
              "    background-color: var(--hover-bg-color);\n",
              "    box-shadow: 0 1px 2px rgba(60, 64, 67, 0.3), 0 1px 3px 1px rgba(60, 64, 67, 0.15);\n",
              "    fill: var(--button-hover-fill-color);\n",
              "  }\n",
              "\n",
              "  .colab-df-quickchart-complete:disabled,\n",
              "  .colab-df-quickchart-complete:disabled:hover {\n",
              "    background-color: var(--disabled-bg-color);\n",
              "    fill: var(--disabled-fill-color);\n",
              "    box-shadow: none;\n",
              "  }\n",
              "\n",
              "  .colab-df-spinner {\n",
              "    border: 2px solid var(--fill-color);\n",
              "    border-color: transparent;\n",
              "    border-bottom-color: var(--fill-color);\n",
              "    animation:\n",
              "      spin 1s steps(1) infinite;\n",
              "  }\n",
              "\n",
              "  @keyframes spin {\n",
              "    0% {\n",
              "      border-color: transparent;\n",
              "      border-bottom-color: var(--fill-color);\n",
              "      border-left-color: var(--fill-color);\n",
              "    }\n",
              "    20% {\n",
              "      border-color: transparent;\n",
              "      border-left-color: var(--fill-color);\n",
              "      border-top-color: var(--fill-color);\n",
              "    }\n",
              "    30% {\n",
              "      border-color: transparent;\n",
              "      border-left-color: var(--fill-color);\n",
              "      border-top-color: var(--fill-color);\n",
              "      border-right-color: var(--fill-color);\n",
              "    }\n",
              "    40% {\n",
              "      border-color: transparent;\n",
              "      border-right-color: var(--fill-color);\n",
              "      border-top-color: var(--fill-color);\n",
              "    }\n",
              "    60% {\n",
              "      border-color: transparent;\n",
              "      border-right-color: var(--fill-color);\n",
              "    }\n",
              "    80% {\n",
              "      border-color: transparent;\n",
              "      border-right-color: var(--fill-color);\n",
              "      border-bottom-color: var(--fill-color);\n",
              "    }\n",
              "    90% {\n",
              "      border-color: transparent;\n",
              "      border-bottom-color: var(--fill-color);\n",
              "    }\n",
              "  }\n",
              "</style>\n",
              "\n",
              "  <script>\n",
              "    async function quickchart(key) {\n",
              "      const quickchartButtonEl =\n",
              "        document.querySelector('#' + key + ' button');\n",
              "      quickchartButtonEl.disabled = true;  // To prevent multiple clicks.\n",
              "      quickchartButtonEl.classList.add('colab-df-spinner');\n",
              "      try {\n",
              "        const charts = await google.colab.kernel.invokeFunction(\n",
              "            'suggestCharts', [key], {});\n",
              "      } catch (error) {\n",
              "        console.error('Error during call to suggestCharts:', error);\n",
              "      }\n",
              "      quickchartButtonEl.classList.remove('colab-df-spinner');\n",
              "      quickchartButtonEl.classList.add('colab-df-quickchart-complete');\n",
              "    }\n",
              "    (() => {\n",
              "      let quickchartButtonEl =\n",
              "        document.querySelector('#df-a189cbf3-c00d-4926-a83d-449a7d43c471 button');\n",
              "      quickchartButtonEl.style.display =\n",
              "        google.colab.kernel.accessAllowed ? 'block' : 'none';\n",
              "    })();\n",
              "  </script>\n",
              "</div>\n",
              "\n",
              "  <div id=\"id_4c7f6e57-969f-4172-a7f5-bb6db68f4672\">\n",
              "    <style>\n",
              "      .colab-df-generate {\n",
              "        background-color: #E8F0FE;\n",
              "        border: none;\n",
              "        border-radius: 50%;\n",
              "        cursor: pointer;\n",
              "        display: none;\n",
              "        fill: #1967D2;\n",
              "        height: 32px;\n",
              "        padding: 0 0 0 0;\n",
              "        width: 32px;\n",
              "      }\n",
              "\n",
              "      .colab-df-generate:hover {\n",
              "        background-color: #E2EBFA;\n",
              "        box-shadow: 0px 1px 2px rgba(60, 64, 67, 0.3), 0px 1px 3px 1px rgba(60, 64, 67, 0.15);\n",
              "        fill: #174EA6;\n",
              "      }\n",
              "\n",
              "      [theme=dark] .colab-df-generate {\n",
              "        background-color: #3B4455;\n",
              "        fill: #D2E3FC;\n",
              "      }\n",
              "\n",
              "      [theme=dark] .colab-df-generate:hover {\n",
              "        background-color: #434B5C;\n",
              "        box-shadow: 0px 1px 3px 1px rgba(0, 0, 0, 0.15);\n",
              "        filter: drop-shadow(0px 1px 2px rgba(0, 0, 0, 0.3));\n",
              "        fill: #FFFFFF;\n",
              "      }\n",
              "    </style>\n",
              "    <button class=\"colab-df-generate\" onclick=\"generateWithVariable('or_encoded_df')\"\n",
              "            title=\"Generate code using this dataframe.\"\n",
              "            style=\"display:none;\">\n",
              "\n",
              "  <svg xmlns=\"http://www.w3.org/2000/svg\" height=\"24px\"viewBox=\"0 0 24 24\"\n",
              "       width=\"24px\">\n",
              "    <path d=\"M7,19H8.4L18.45,9,17,7.55,7,17.6ZM5,21V16.75L18.45,3.32a2,2,0,0,1,2.83,0l1.4,1.43a1.91,1.91,0,0,1,.58,1.4,1.91,1.91,0,0,1-.58,1.4L9.25,21ZM18.45,9,17,7.55Zm-12,3A5.31,5.31,0,0,0,4.9,8.1,5.31,5.31,0,0,0,1,6.5,5.31,5.31,0,0,0,4.9,4.9,5.31,5.31,0,0,0,6.5,1,5.31,5.31,0,0,0,8.1,4.9,5.31,5.31,0,0,0,12,6.5,5.46,5.46,0,0,0,6.5,12Z\"/>\n",
              "  </svg>\n",
              "    </button>\n",
              "    <script>\n",
              "      (() => {\n",
              "      const buttonEl =\n",
              "        document.querySelector('#id_4c7f6e57-969f-4172-a7f5-bb6db68f4672 button.colab-df-generate');\n",
              "      buttonEl.style.display =\n",
              "        google.colab.kernel.accessAllowed ? 'block' : 'none';\n",
              "\n",
              "      buttonEl.onclick = () => {\n",
              "        google.colab.notebook.generateWithVariable('or_encoded_df');\n",
              "      }\n",
              "      })();\n",
              "    </script>\n",
              "  </div>\n",
              "\n",
              "    </div>\n",
              "  </div>\n"
            ],
            "application/vnd.google.colaboratory.intrinsic+json": {
              "type": "dataframe",
              "variable_name": "or_encoded_df",
              "summary": "{\n  \"name\": \"or_encoded_df\",\n  \"rows\": 2028,\n  \"fields\": [\n    {\n      \"column\": \"Age\",\n      \"properties\": {\n        \"dtype\": \"number\",\n        \"std\": 0,\n        \"min\": 0,\n        \"max\": 4,\n        \"num_unique_values\": 5,\n        \"samples\": [\n          2,\n          0,\n          3\n        ],\n        \"semantic_type\": \"\",\n        \"description\": \"\"\n      }\n    },\n    {\n      \"column\": \"Academic_Year\",\n      \"properties\": {\n        \"dtype\": \"number\",\n        \"std\": 1,\n        \"min\": 0,\n        \"max\": 4,\n        \"num_unique_values\": 5,\n        \"samples\": [\n          2,\n          3,\n          4\n        ],\n        \"semantic_type\": \"\",\n        \"description\": \"\"\n      }\n    },\n    {\n      \"column\": \"Current_CGPA\",\n      \"properties\": {\n        \"dtype\": \"number\",\n        \"std\": 1,\n        \"min\": 0,\n        \"max\": 5,\n        \"num_unique_values\": 6,\n        \"samples\": [\n          1,\n          2,\n          5\n        ],\n        \"semantic_type\": \"\",\n        \"description\": \"\"\n      }\n    },\n    {\n      \"column\": \"Stress Label\",\n      \"properties\": {\n        \"dtype\": \"number\",\n        \"std\": 0,\n        \"min\": 0,\n        \"max\": 2,\n        \"num_unique_values\": 3,\n        \"samples\": [\n          2,\n          1,\n          0\n        ],\n        \"semantic_type\": \"\",\n        \"description\": \"\"\n      }\n    },\n    {\n      \"column\": \"Anxiety Label\",\n      \"properties\": {\n        \"dtype\": \"number\",\n        \"std\": 0,\n        \"min\": 0,\n        \"max\": 3,\n        \"num_unique_values\": 4,\n        \"samples\": [\n          2,\n          1,\n          3\n        ],\n        \"semantic_type\": \"\",\n        \"description\": \"\"\n      }\n    }\n  ]\n}"
            }
          },
          "metadata": {},
          "execution_count": 75
        }
      ]
    },
    {
      "cell_type": "markdown",
      "source": [
        "As we can see:\n",
        "- 18-22 and 23-26 being 1 and 2 means that they are the correct indexes. As we moved 'Below 18' to the start, 0 is 'Below 18'.\n",
        "- Academic year looks correct, Second and Third Year start at indexes 1 and 2.\n",
        "- Current CGPA looks correct. Same situation as Age column.\n",
        "- Stress Label/Anxiety Label also align with their appropriate keys.\n",
        "\n",
        "Everything has been reordered nicely, and from their unique data columns, their actual 'order' has been preserved."
      ],
      "metadata": {
        "id": "0GlQOqby4jsG"
      }
    },
    {
      "cell_type": "markdown",
      "source": [
        "### Target Column"
      ],
      "metadata": {
        "id": "7sMrjlMX1q2i"
      }
    },
    {
      "cell_type": "markdown",
      "source": [
        "Now we take a look at our actual Target Column, Depression Label. Perhaps later on, we can do a multi-class target column as a stretch goal. But for now, we want to keep a binary value.\n",
        "\n",
        "Let's take a quick look at the data."
      ],
      "metadata": {
        "id": "6uHNyKqB6xf3"
      }
    },
    {
      "cell_type": "code",
      "source": [
        "target_column"
      ],
      "metadata": {
        "colab": {
          "base_uri": "https://localhost:8080/",
          "height": 458
        },
        "id": "xBuxTqSxiq_Y",
        "outputId": "a80a94ae-55d0-43fe-cc6e-f496a3cef318"
      },
      "execution_count": null,
      "outputs": [
        {
          "output_type": "execute_result",
          "data": {
            "text/plain": [
              "0                  Severe Depression\n",
              "1       Moderately Severe Depression\n",
              "2                      No Depression\n",
              "3                Moderate Depression\n",
              "4                  Severe Depression\n",
              "                    ...             \n",
              "2023    Moderately Severe Depression\n",
              "2024    Moderately Severe Depression\n",
              "2025    Moderately Severe Depression\n",
              "2026               Severe Depression\n",
              "2027             Moderate Depression\n",
              "Name: Depression Label, Length: 2028, dtype: object"
            ],
            "text/html": [
              "<div>\n",
              "<style scoped>\n",
              "    .dataframe tbody tr th:only-of-type {\n",
              "        vertical-align: middle;\n",
              "    }\n",
              "\n",
              "    .dataframe tbody tr th {\n",
              "        vertical-align: top;\n",
              "    }\n",
              "\n",
              "    .dataframe thead th {\n",
              "        text-align: right;\n",
              "    }\n",
              "</style>\n",
              "<table border=\"1\" class=\"dataframe\">\n",
              "  <thead>\n",
              "    <tr style=\"text-align: right;\">\n",
              "      <th></th>\n",
              "      <th>Depression Label</th>\n",
              "    </tr>\n",
              "  </thead>\n",
              "  <tbody>\n",
              "    <tr>\n",
              "      <th>0</th>\n",
              "      <td>Severe Depression</td>\n",
              "    </tr>\n",
              "    <tr>\n",
              "      <th>1</th>\n",
              "      <td>Moderately Severe Depression</td>\n",
              "    </tr>\n",
              "    <tr>\n",
              "      <th>2</th>\n",
              "      <td>No Depression</td>\n",
              "    </tr>\n",
              "    <tr>\n",
              "      <th>3</th>\n",
              "      <td>Moderate Depression</td>\n",
              "    </tr>\n",
              "    <tr>\n",
              "      <th>4</th>\n",
              "      <td>Severe Depression</td>\n",
              "    </tr>\n",
              "    <tr>\n",
              "      <th>...</th>\n",
              "      <td>...</td>\n",
              "    </tr>\n",
              "    <tr>\n",
              "      <th>2023</th>\n",
              "      <td>Moderately Severe Depression</td>\n",
              "    </tr>\n",
              "    <tr>\n",
              "      <th>2024</th>\n",
              "      <td>Moderately Severe Depression</td>\n",
              "    </tr>\n",
              "    <tr>\n",
              "      <th>2025</th>\n",
              "      <td>Moderately Severe Depression</td>\n",
              "    </tr>\n",
              "    <tr>\n",
              "      <th>2026</th>\n",
              "      <td>Severe Depression</td>\n",
              "    </tr>\n",
              "    <tr>\n",
              "      <th>2027</th>\n",
              "      <td>Moderate Depression</td>\n",
              "    </tr>\n",
              "  </tbody>\n",
              "</table>\n",
              "<p>2028 rows × 1 columns</p>\n",
              "</div><br><label><b>dtype:</b> object</label>"
            ]
          },
          "metadata": {},
          "execution_count": 76
        }
      ]
    },
    {
      "cell_type": "markdown",
      "source": [
        "Unique values for a more indepth view."
      ],
      "metadata": {
        "id": "NEuCRiZn63w7"
      }
    },
    {
      "cell_type": "code",
      "source": [
        "target_column.unique()"
      ],
      "metadata": {
        "colab": {
          "base_uri": "https://localhost:8080/"
        },
        "id": "Djfbsd-Z66sJ",
        "outputId": "72fb4f4e-74c6-456b-f11d-8c6939591721"
      },
      "execution_count": null,
      "outputs": [
        {
          "output_type": "execute_result",
          "data": {
            "text/plain": [
              "array(['Severe Depression', 'Moderately Severe Depression',\n",
              "       'No Depression', 'Moderate Depression', 'Minimal Depression',\n",
              "       'Mild Depression'], dtype=object)"
            ]
          },
          "metadata": {},
          "execution_count": 77
        }
      ]
    },
    {
      "cell_type": "markdown",
      "source": [
        "In order to make this a binary value, we need to combine columns. The question is what to combine, however.\n",
        "\n",
        "These are the depression values from the PHQ9 Questionnaire:\n",
        "- 1-4 Minimal depression\n",
        "- 5-9 Mild depression\n",
        "- 10-14 Moderate depression\n",
        "- 15-19 Moderately severe depression\n",
        "- 20-27 Severe depression\n",
        "\n",
        "And with this dataset, there is also a 'No Depression' column with a value of 0."
      ],
      "metadata": {
        "id": "0zt8NMKd72tg"
      }
    },
    {
      "cell_type": "markdown",
      "source": [
        "This means we 'iterate' (or better yet, find a way to change values all at once with a function) through the target column, matching it to a solid binary value.\n",
        "\n",
        "Our decided threshold for having depression is Moderate Depression. This is of course simplyfying how we solve our problem, but having \"no\" depression being the first three columns (0; 1-4; 5-9) will give a base for our binary value."
      ],
      "metadata": {
        "id": "wr8e-a1U-uns"
      }
    },
    {
      "cell_type": "code",
      "source": [
        "# Making an exact copy just in-case.\n",
        "target_col_df = target_column.copy()"
      ],
      "metadata": {
        "id": "3CPerbbl9G6k"
      },
      "execution_count": null,
      "outputs": []
    },
    {
      "cell_type": "code",
      "source": [
        "# Creating constants like before, so we are more explicit on what we're doing.\n",
        "BINARY_DEPRESSION_FALSE = ['No Depression', 'Minimal Depression', 'Mild Depression']\n",
        "BINARY_DEPRESSION_TRUE = ['Moderate Depression', 'Moderately Severe Depression', 'Severe Depression']"
      ],
      "metadata": {
        "id": "6Pl9fFPqAK1-"
      },
      "execution_count": null,
      "outputs": []
    },
    {
      "cell_type": "code",
      "source": [
        "# Potentially helpful, though i'd recommend finding a 'cleaner' way to do this if possible.\n",
        "\"\"\"for i in range(len(target_col_df)):\n",
        "    if target_col_df.loc[i] in BINARY_DEPRESSION_FALSE:\n",
        "        target_col_df.loc[i] = False\n",
        "    elif target_col_df.loc[i] in BINARY_DEPRESSION_TRUE:\n",
        "        target_col_df.loc[i] = True\"\"\""
      ],
      "metadata": {
        "id": "ZuoYIwDmjWvC",
        "colab": {
          "base_uri": "https://localhost:8080/",
          "height": 53
        },
        "outputId": "56a7635c-8fab-43a2-92c2-b25c3b54ef8b"
      },
      "execution_count": null,
      "outputs": [
        {
          "output_type": "execute_result",
          "data": {
            "text/plain": [
              "'for i in range(len(target_col_df)):\\n    if target_col_df.loc[i] in BINARY_DEPRESSION_FALSE:\\n        target_col_df.loc[i] = False\\n    elif target_col_df.loc[i] in BINARY_DEPRESSION_TRUE:\\n        target_col_df.loc[i] = True'"
            ],
            "application/vnd.google.colaboratory.intrinsic+json": {
              "type": "string"
            }
          },
          "metadata": {},
          "execution_count": 80
        }
      ]
    },
    {
      "cell_type": "code",
      "source": [
        "# Same as above, but this time it uses loc for indexing and changing values.\n",
        "target_col_df.loc[target_col_df.isin(BINARY_DEPRESSION_FALSE)] = False\n",
        "target_col_df.loc[target_col_df.isin(BINARY_DEPRESSION_TRUE)] = True"
      ],
      "metadata": {
        "id": "ML5uXC7WHA5n"
      },
      "execution_count": null,
      "outputs": []
    },
    {
      "cell_type": "markdown",
      "source": [
        "Compare target column before to the dataframe we have now."
      ],
      "metadata": {
        "id": "arojbXj9BBZy"
      }
    },
    {
      "cell_type": "code",
      "source": [
        "target_column[0:15]"
      ],
      "metadata": {
        "colab": {
          "base_uri": "https://localhost:8080/",
          "height": 554
        },
        "id": "33zVYz32A_P0",
        "outputId": "0311f81d-75be-45ec-9aed-baa5d56b2104"
      },
      "execution_count": null,
      "outputs": [
        {
          "output_type": "execute_result",
          "data": {
            "text/plain": [
              "0                Severe Depression\n",
              "1     Moderately Severe Depression\n",
              "2                    No Depression\n",
              "3              Moderate Depression\n",
              "4                Severe Depression\n",
              "5              Moderate Depression\n",
              "6               Minimal Depression\n",
              "7               Minimal Depression\n",
              "8     Moderately Severe Depression\n",
              "9               Minimal Depression\n",
              "10                 Mild Depression\n",
              "11                 Mild Depression\n",
              "12              Minimal Depression\n",
              "13    Moderately Severe Depression\n",
              "14              Minimal Depression\n",
              "Name: Depression Label, dtype: object"
            ],
            "text/html": [
              "<div>\n",
              "<style scoped>\n",
              "    .dataframe tbody tr th:only-of-type {\n",
              "        vertical-align: middle;\n",
              "    }\n",
              "\n",
              "    .dataframe tbody tr th {\n",
              "        vertical-align: top;\n",
              "    }\n",
              "\n",
              "    .dataframe thead th {\n",
              "        text-align: right;\n",
              "    }\n",
              "</style>\n",
              "<table border=\"1\" class=\"dataframe\">\n",
              "  <thead>\n",
              "    <tr style=\"text-align: right;\">\n",
              "      <th></th>\n",
              "      <th>Depression Label</th>\n",
              "    </tr>\n",
              "  </thead>\n",
              "  <tbody>\n",
              "    <tr>\n",
              "      <th>0</th>\n",
              "      <td>Severe Depression</td>\n",
              "    </tr>\n",
              "    <tr>\n",
              "      <th>1</th>\n",
              "      <td>Moderately Severe Depression</td>\n",
              "    </tr>\n",
              "    <tr>\n",
              "      <th>2</th>\n",
              "      <td>No Depression</td>\n",
              "    </tr>\n",
              "    <tr>\n",
              "      <th>3</th>\n",
              "      <td>Moderate Depression</td>\n",
              "    </tr>\n",
              "    <tr>\n",
              "      <th>4</th>\n",
              "      <td>Severe Depression</td>\n",
              "    </tr>\n",
              "    <tr>\n",
              "      <th>5</th>\n",
              "      <td>Moderate Depression</td>\n",
              "    </tr>\n",
              "    <tr>\n",
              "      <th>6</th>\n",
              "      <td>Minimal Depression</td>\n",
              "    </tr>\n",
              "    <tr>\n",
              "      <th>7</th>\n",
              "      <td>Minimal Depression</td>\n",
              "    </tr>\n",
              "    <tr>\n",
              "      <th>8</th>\n",
              "      <td>Moderately Severe Depression</td>\n",
              "    </tr>\n",
              "    <tr>\n",
              "      <th>9</th>\n",
              "      <td>Minimal Depression</td>\n",
              "    </tr>\n",
              "    <tr>\n",
              "      <th>10</th>\n",
              "      <td>Mild Depression</td>\n",
              "    </tr>\n",
              "    <tr>\n",
              "      <th>11</th>\n",
              "      <td>Mild Depression</td>\n",
              "    </tr>\n",
              "    <tr>\n",
              "      <th>12</th>\n",
              "      <td>Minimal Depression</td>\n",
              "    </tr>\n",
              "    <tr>\n",
              "      <th>13</th>\n",
              "      <td>Moderately Severe Depression</td>\n",
              "    </tr>\n",
              "    <tr>\n",
              "      <th>14</th>\n",
              "      <td>Minimal Depression</td>\n",
              "    </tr>\n",
              "  </tbody>\n",
              "</table>\n",
              "</div><br><label><b>dtype:</b> object</label>"
            ]
          },
          "metadata": {},
          "execution_count": 82
        }
      ]
    },
    {
      "cell_type": "code",
      "source": [
        "target_col_df[0:15]"
      ],
      "metadata": {
        "colab": {
          "base_uri": "https://localhost:8080/",
          "height": 554
        },
        "id": "9TbbNYZ-Atin",
        "outputId": "4582fb87-9421-4b12-d8e1-c7bd899d2d75"
      },
      "execution_count": null,
      "outputs": [
        {
          "output_type": "execute_result",
          "data": {
            "text/plain": [
              "0      True\n",
              "1      True\n",
              "2     False\n",
              "3      True\n",
              "4      True\n",
              "5      True\n",
              "6     False\n",
              "7     False\n",
              "8      True\n",
              "9     False\n",
              "10    False\n",
              "11    False\n",
              "12    False\n",
              "13     True\n",
              "14    False\n",
              "Name: Depression Label, dtype: object"
            ],
            "text/html": [
              "<div>\n",
              "<style scoped>\n",
              "    .dataframe tbody tr th:only-of-type {\n",
              "        vertical-align: middle;\n",
              "    }\n",
              "\n",
              "    .dataframe tbody tr th {\n",
              "        vertical-align: top;\n",
              "    }\n",
              "\n",
              "    .dataframe thead th {\n",
              "        text-align: right;\n",
              "    }\n",
              "</style>\n",
              "<table border=\"1\" class=\"dataframe\">\n",
              "  <thead>\n",
              "    <tr style=\"text-align: right;\">\n",
              "      <th></th>\n",
              "      <th>Depression Label</th>\n",
              "    </tr>\n",
              "  </thead>\n",
              "  <tbody>\n",
              "    <tr>\n",
              "      <th>0</th>\n",
              "      <td>True</td>\n",
              "    </tr>\n",
              "    <tr>\n",
              "      <th>1</th>\n",
              "      <td>True</td>\n",
              "    </tr>\n",
              "    <tr>\n",
              "      <th>2</th>\n",
              "      <td>False</td>\n",
              "    </tr>\n",
              "    <tr>\n",
              "      <th>3</th>\n",
              "      <td>True</td>\n",
              "    </tr>\n",
              "    <tr>\n",
              "      <th>4</th>\n",
              "      <td>True</td>\n",
              "    </tr>\n",
              "    <tr>\n",
              "      <th>5</th>\n",
              "      <td>True</td>\n",
              "    </tr>\n",
              "    <tr>\n",
              "      <th>6</th>\n",
              "      <td>False</td>\n",
              "    </tr>\n",
              "    <tr>\n",
              "      <th>7</th>\n",
              "      <td>False</td>\n",
              "    </tr>\n",
              "    <tr>\n",
              "      <th>8</th>\n",
              "      <td>True</td>\n",
              "    </tr>\n",
              "    <tr>\n",
              "      <th>9</th>\n",
              "      <td>False</td>\n",
              "    </tr>\n",
              "    <tr>\n",
              "      <th>10</th>\n",
              "      <td>False</td>\n",
              "    </tr>\n",
              "    <tr>\n",
              "      <th>11</th>\n",
              "      <td>False</td>\n",
              "    </tr>\n",
              "    <tr>\n",
              "      <th>12</th>\n",
              "      <td>False</td>\n",
              "    </tr>\n",
              "    <tr>\n",
              "      <th>13</th>\n",
              "      <td>True</td>\n",
              "    </tr>\n",
              "    <tr>\n",
              "      <th>14</th>\n",
              "      <td>False</td>\n",
              "    </tr>\n",
              "  </tbody>\n",
              "</table>\n",
              "</div><br><label><b>dtype:</b> object</label>"
            ]
          },
          "metadata": {},
          "execution_count": 83
        }
      ]
    },
    {
      "cell_type": "markdown",
      "source": [
        "'Severe Depression', 'Moderately Severe Depression', 'Moderate Depression' all have a value of True.\n",
        "\n",
        "'No Depression', 'Minimal Depression', and 'Mild Depression' are all False."
      ],
      "metadata": {
        "id": "jW2_1FiGCn1t"
      }
    },
    {
      "cell_type": "code",
      "source": [
        "target_col_df.info()"
      ],
      "metadata": {
        "colab": {
          "base_uri": "https://localhost:8080/"
        },
        "id": "N8UVUpeSV2Fb",
        "outputId": "6e933125-5745-47ef-e36e-61da44da59f7"
      },
      "execution_count": null,
      "outputs": [
        {
          "output_type": "stream",
          "name": "stdout",
          "text": [
            "<class 'pandas.core.series.Series'>\n",
            "RangeIndex: 2028 entries, 0 to 2027\n",
            "Series name: Depression Label\n",
            "Non-Null Count  Dtype \n",
            "--------------  ----- \n",
            "2028 non-null   object\n",
            "dtypes: object(1)\n",
            "memory usage: 16.0+ KB\n"
          ]
        }
      ]
    },
    {
      "cell_type": "markdown",
      "source": [
        "Target column has been finished!"
      ],
      "metadata": {
        "id": "ruGpKppvMAyb"
      }
    },
    {
      "cell_type": "markdown",
      "source": [
        "Let's take a quick look at how many fall under this binary label."
      ],
      "metadata": {
        "id": "h_a2fflF4h6x"
      }
    },
    {
      "cell_type": "code",
      "source": [
        "target_col_df.loc[target_col_df == True]"
      ],
      "metadata": {
        "colab": {
          "base_uri": "https://localhost:8080/",
          "height": 458
        },
        "id": "HzaC5ipH4Wbf",
        "outputId": "e5b68c85-5606-4307-9693-26632c895dcf"
      },
      "execution_count": null,
      "outputs": [
        {
          "output_type": "execute_result",
          "data": {
            "text/plain": [
              "0       True\n",
              "1       True\n",
              "3       True\n",
              "4       True\n",
              "5       True\n",
              "        ... \n",
              "2023    True\n",
              "2024    True\n",
              "2025    True\n",
              "2026    True\n",
              "2027    True\n",
              "Name: Depression Label, Length: 1473, dtype: object"
            ],
            "text/html": [
              "<div>\n",
              "<style scoped>\n",
              "    .dataframe tbody tr th:only-of-type {\n",
              "        vertical-align: middle;\n",
              "    }\n",
              "\n",
              "    .dataframe tbody tr th {\n",
              "        vertical-align: top;\n",
              "    }\n",
              "\n",
              "    .dataframe thead th {\n",
              "        text-align: right;\n",
              "    }\n",
              "</style>\n",
              "<table border=\"1\" class=\"dataframe\">\n",
              "  <thead>\n",
              "    <tr style=\"text-align: right;\">\n",
              "      <th></th>\n",
              "      <th>Depression Label</th>\n",
              "    </tr>\n",
              "  </thead>\n",
              "  <tbody>\n",
              "    <tr>\n",
              "      <th>0</th>\n",
              "      <td>True</td>\n",
              "    </tr>\n",
              "    <tr>\n",
              "      <th>1</th>\n",
              "      <td>True</td>\n",
              "    </tr>\n",
              "    <tr>\n",
              "      <th>3</th>\n",
              "      <td>True</td>\n",
              "    </tr>\n",
              "    <tr>\n",
              "      <th>4</th>\n",
              "      <td>True</td>\n",
              "    </tr>\n",
              "    <tr>\n",
              "      <th>5</th>\n",
              "      <td>True</td>\n",
              "    </tr>\n",
              "    <tr>\n",
              "      <th>...</th>\n",
              "      <td>...</td>\n",
              "    </tr>\n",
              "    <tr>\n",
              "      <th>2023</th>\n",
              "      <td>True</td>\n",
              "    </tr>\n",
              "    <tr>\n",
              "      <th>2024</th>\n",
              "      <td>True</td>\n",
              "    </tr>\n",
              "    <tr>\n",
              "      <th>2025</th>\n",
              "      <td>True</td>\n",
              "    </tr>\n",
              "    <tr>\n",
              "      <th>2026</th>\n",
              "      <td>True</td>\n",
              "    </tr>\n",
              "    <tr>\n",
              "      <th>2027</th>\n",
              "      <td>True</td>\n",
              "    </tr>\n",
              "  </tbody>\n",
              "</table>\n",
              "<p>1473 rows × 1 columns</p>\n",
              "</div><br><label><b>dtype:</b> object</label>"
            ]
          },
          "metadata": {},
          "execution_count": 85
        }
      ]
    },
    {
      "cell_type": "code",
      "source": [
        "target_col_df.loc[target_col_df == False]"
      ],
      "metadata": {
        "colab": {
          "base_uri": "https://localhost:8080/",
          "height": 458
        },
        "id": "ZHf1l1oz4gF_",
        "outputId": "a8e3456b-de30-4a7c-9158-8d8d184c4fea"
      },
      "execution_count": null,
      "outputs": [
        {
          "output_type": "execute_result",
          "data": {
            "text/plain": [
              "2       False\n",
              "6       False\n",
              "7       False\n",
              "9       False\n",
              "10      False\n",
              "        ...  \n",
              "2002    False\n",
              "2010    False\n",
              "2018    False\n",
              "2020    False\n",
              "2022    False\n",
              "Name: Depression Label, Length: 555, dtype: object"
            ],
            "text/html": [
              "<div>\n",
              "<style scoped>\n",
              "    .dataframe tbody tr th:only-of-type {\n",
              "        vertical-align: middle;\n",
              "    }\n",
              "\n",
              "    .dataframe tbody tr th {\n",
              "        vertical-align: top;\n",
              "    }\n",
              "\n",
              "    .dataframe thead th {\n",
              "        text-align: right;\n",
              "    }\n",
              "</style>\n",
              "<table border=\"1\" class=\"dataframe\">\n",
              "  <thead>\n",
              "    <tr style=\"text-align: right;\">\n",
              "      <th></th>\n",
              "      <th>Depression Label</th>\n",
              "    </tr>\n",
              "  </thead>\n",
              "  <tbody>\n",
              "    <tr>\n",
              "      <th>2</th>\n",
              "      <td>False</td>\n",
              "    </tr>\n",
              "    <tr>\n",
              "      <th>6</th>\n",
              "      <td>False</td>\n",
              "    </tr>\n",
              "    <tr>\n",
              "      <th>7</th>\n",
              "      <td>False</td>\n",
              "    </tr>\n",
              "    <tr>\n",
              "      <th>9</th>\n",
              "      <td>False</td>\n",
              "    </tr>\n",
              "    <tr>\n",
              "      <th>10</th>\n",
              "      <td>False</td>\n",
              "    </tr>\n",
              "    <tr>\n",
              "      <th>...</th>\n",
              "      <td>...</td>\n",
              "    </tr>\n",
              "    <tr>\n",
              "      <th>2002</th>\n",
              "      <td>False</td>\n",
              "    </tr>\n",
              "    <tr>\n",
              "      <th>2010</th>\n",
              "      <td>False</td>\n",
              "    </tr>\n",
              "    <tr>\n",
              "      <th>2018</th>\n",
              "      <td>False</td>\n",
              "    </tr>\n",
              "    <tr>\n",
              "      <th>2020</th>\n",
              "      <td>False</td>\n",
              "    </tr>\n",
              "    <tr>\n",
              "      <th>2022</th>\n",
              "      <td>False</td>\n",
              "    </tr>\n",
              "  </tbody>\n",
              "</table>\n",
              "<p>555 rows × 1 columns</p>\n",
              "</div><br><label><b>dtype:</b> object</label>"
            ]
          },
          "metadata": {},
          "execution_count": 86
        }
      ]
    },
    {
      "cell_type": "markdown",
      "source": [
        "## Combining Data"
      ],
      "metadata": {
        "id": "To7rG7R5Dvlp"
      }
    },
    {
      "cell_type": "markdown",
      "source": [
        "- First step: Drop original/replace original columns.\n",
        "1.   Ordinal Columns: replace original columns.\n",
        "2.   One-Hot Columns: drop original columns and find a way to insert them into the same position.\n",
        "- Second Step: Replace Depression Label with the new Target Column, keeping the name but having it's values replaced with a binary value.\n",
        "\n",
        "As Zanett pointed out, we can just do the one-hot encoding on the original dataframe and recreate the steps from earlier."
      ],
      "metadata": {
        "id": "S144cIzhD4oc"
      }
    },
    {
      "cell_type": "code",
      "source": [
        "data = pd.get_dummies(data, columns=one_hot_encoding_cols.columns.tolist())\n",
        "data = data.drop('waiver_or_scholarship_No', axis=1)"
      ],
      "metadata": {
        "id": "cEnAab53-SiB"
      },
      "execution_count": null,
      "outputs": []
    },
    {
      "cell_type": "code",
      "source": [
        "for col in or_encoded_df:\n",
        "  data[col] = or_encoded_df[col]"
      ],
      "metadata": {
        "id": "0lSBKHdFQ6EK"
      },
      "execution_count": null,
      "outputs": []
    },
    {
      "cell_type": "code",
      "source": [
        "# pop removes column (Depression Label)\n",
        "data[target_col_df.name] = target_col_df\n",
        "target_col = data.pop(target_col_df.name)\n",
        "# Then inserts at end\n",
        "data.insert(len(data.columns), target_col.name, target_col)"
      ],
      "metadata": {
        "id": "FZzt1NcqVbgD"
      },
      "execution_count": null,
      "outputs": []
    },
    {
      "cell_type": "code",
      "source": [
        "data[target_col_df.name][0:15]"
      ],
      "metadata": {
        "colab": {
          "base_uri": "https://localhost:8080/",
          "height": 554
        },
        "id": "ftvRAgHbXUu1",
        "outputId": "36b2adb9-5f17-4273-8ec0-0c8e7e20cd5a"
      },
      "execution_count": null,
      "outputs": [
        {
          "output_type": "execute_result",
          "data": {
            "text/plain": [
              "0      True\n",
              "1      True\n",
              "2     False\n",
              "3      True\n",
              "4      True\n",
              "5      True\n",
              "6     False\n",
              "7     False\n",
              "8      True\n",
              "9     False\n",
              "10    False\n",
              "11    False\n",
              "12    False\n",
              "13     True\n",
              "14    False\n",
              "Name: Depression Label, dtype: object"
            ],
            "text/html": [
              "<div>\n",
              "<style scoped>\n",
              "    .dataframe tbody tr th:only-of-type {\n",
              "        vertical-align: middle;\n",
              "    }\n",
              "\n",
              "    .dataframe tbody tr th {\n",
              "        vertical-align: top;\n",
              "    }\n",
              "\n",
              "    .dataframe thead th {\n",
              "        text-align: right;\n",
              "    }\n",
              "</style>\n",
              "<table border=\"1\" class=\"dataframe\">\n",
              "  <thead>\n",
              "    <tr style=\"text-align: right;\">\n",
              "      <th></th>\n",
              "      <th>Depression Label</th>\n",
              "    </tr>\n",
              "  </thead>\n",
              "  <tbody>\n",
              "    <tr>\n",
              "      <th>0</th>\n",
              "      <td>True</td>\n",
              "    </tr>\n",
              "    <tr>\n",
              "      <th>1</th>\n",
              "      <td>True</td>\n",
              "    </tr>\n",
              "    <tr>\n",
              "      <th>2</th>\n",
              "      <td>False</td>\n",
              "    </tr>\n",
              "    <tr>\n",
              "      <th>3</th>\n",
              "      <td>True</td>\n",
              "    </tr>\n",
              "    <tr>\n",
              "      <th>4</th>\n",
              "      <td>True</td>\n",
              "    </tr>\n",
              "    <tr>\n",
              "      <th>5</th>\n",
              "      <td>True</td>\n",
              "    </tr>\n",
              "    <tr>\n",
              "      <th>6</th>\n",
              "      <td>False</td>\n",
              "    </tr>\n",
              "    <tr>\n",
              "      <th>7</th>\n",
              "      <td>False</td>\n",
              "    </tr>\n",
              "    <tr>\n",
              "      <th>8</th>\n",
              "      <td>True</td>\n",
              "    </tr>\n",
              "    <tr>\n",
              "      <th>9</th>\n",
              "      <td>False</td>\n",
              "    </tr>\n",
              "    <tr>\n",
              "      <th>10</th>\n",
              "      <td>False</td>\n",
              "    </tr>\n",
              "    <tr>\n",
              "      <th>11</th>\n",
              "      <td>False</td>\n",
              "    </tr>\n",
              "    <tr>\n",
              "      <th>12</th>\n",
              "      <td>False</td>\n",
              "    </tr>\n",
              "    <tr>\n",
              "      <th>13</th>\n",
              "      <td>True</td>\n",
              "    </tr>\n",
              "    <tr>\n",
              "      <th>14</th>\n",
              "      <td>False</td>\n",
              "    </tr>\n",
              "  </tbody>\n",
              "</table>\n",
              "</div><br><label><b>dtype:</b> object</label>"
            ]
          },
          "metadata": {},
          "execution_count": 90
        }
      ]
    },
    {
      "cell_type": "code",
      "source": [
        "data"
      ],
      "metadata": {
        "colab": {
          "base_uri": "https://localhost:8080/",
          "height": 496
        },
        "id": "CzrnTXAFPzac",
        "outputId": "8ef49f65-ce4d-4591-c549-56c0e493a6f2"
      },
      "execution_count": null,
      "outputs": [
        {
          "output_type": "execute_result",
          "data": {
            "text/plain": [
              "      Age  Academic_Year  Current_CGPA  Stress Label  Anxiety Label  PHQ1  \\\n",
              "0       1              1             1             2              3     2   \n",
              "1       1              2             2             1              2     3   \n",
              "2       1              2             2             1              0     0   \n",
              "3       1              2             2             1              2     2   \n",
              "4       1              1             1             2              2     1   \n",
              "...   ...            ...           ...           ...            ...   ...   \n",
              "2023    1              1             2             2              3     1   \n",
              "2024    1              2             2             2              3     0   \n",
              "2025    1              1             1             1              2     1   \n",
              "2026    2              2             3             2              3     3   \n",
              "2027    1              1             1             1              2     1   \n",
              "\n",
              "      PHQ2  PHQ3  PHQ4  PHQ5  ...  \\\n",
              "0        2     3     2     2  ...   \n",
              "1        2     2     2     2  ...   \n",
              "2        0     0     0     0  ...   \n",
              "3        1     2     1     2  ...   \n",
              "4        3     3     3     1  ...   \n",
              "...    ...   ...   ...   ...  ...   \n",
              "2023     1     3     3     0  ...   \n",
              "2024     3     3     3     2  ...   \n",
              "2025     1     2     1     2  ...   \n",
              "2026     3     3     3     3  ...   \n",
              "2027     2     1     2     2  ...   \n",
              "\n",
              "      Department_Engineering - EEE/ ECE / Similar to EEE  \\\n",
              "0                                                 False    \n",
              "1                                                 False    \n",
              "2                                                 False    \n",
              "3                                                 False    \n",
              "4                                                 False    \n",
              "...                                                 ...    \n",
              "2023                                              False    \n",
              "2024                                              False    \n",
              "2025                                              False    \n",
              "2026                                              False    \n",
              "2027                                              False    \n",
              "\n",
              "      Department_Engineering - Mechanical Engineering / Similar to ME  \\\n",
              "0                                                 False                 \n",
              "1                                                 False                 \n",
              "2                                                 False                 \n",
              "3                                                 False                 \n",
              "4                                                 False                 \n",
              "...                                                 ...                 \n",
              "2023                                              False                 \n",
              "2024                                              False                 \n",
              "2025                                              False                 \n",
              "2026                                              False                 \n",
              "2027                                              False                 \n",
              "\n",
              "      Department_Engineering - Other  \\\n",
              "0                              False   \n",
              "1                              False   \n",
              "2                              False   \n",
              "3                              False   \n",
              "4                              False   \n",
              "...                              ...   \n",
              "2023                           False   \n",
              "2024                           False   \n",
              "2025                           False   \n",
              "2026                           False   \n",
              "2027                           False   \n",
              "\n",
              "      Department_Environmental and Life Sciences  \\\n",
              "0                                          False   \n",
              "1                                          False   \n",
              "2                                          False   \n",
              "3                                          False   \n",
              "4                                          False   \n",
              "...                                          ...   \n",
              "2023                                       False   \n",
              "2024                                       False   \n",
              "2025                                       False   \n",
              "2026                                       False   \n",
              "2027                                       False   \n",
              "\n",
              "      Department_Law and Human Rights  \\\n",
              "0                               False   \n",
              "1                               False   \n",
              "2                               False   \n",
              "3                               False   \n",
              "4                               False   \n",
              "...                               ...   \n",
              "2023                            False   \n",
              "2024                            False   \n",
              "2025                            False   \n",
              "2026                            False   \n",
              "2027                            False   \n",
              "\n",
              "      Department_Liberal Arts and Social Sciences  Department_Other  \\\n",
              "0                                           False             False   \n",
              "1                                           False             False   \n",
              "2                                           False             False   \n",
              "3                                           False             False   \n",
              "4                                           False             False   \n",
              "...                                           ...               ...   \n",
              "2023                                        False              True   \n",
              "2024                                        False             False   \n",
              "2025                                        False             False   \n",
              "2026                                        False              True   \n",
              "2027                                        False             False   \n",
              "\n",
              "      Department_Pharmacy and Public Health  waiver_or_scholarship_Yes  \\\n",
              "0                                     False                      False   \n",
              "1                                     False                      False   \n",
              "2                                     False                      False   \n",
              "3                                     False                      False   \n",
              "4                                     False                      False   \n",
              "...                                     ...                        ...   \n",
              "2023                                  False                      False   \n",
              "2024                                  False                      False   \n",
              "2025                                  False                      False   \n",
              "2026                                  False                      False   \n",
              "2027                                  False                      False   \n",
              "\n",
              "      Depression Label  \n",
              "0                 True  \n",
              "1                 True  \n",
              "2                False  \n",
              "3                 True  \n",
              "4                 True  \n",
              "...                ...  \n",
              "2023              True  \n",
              "2024              True  \n",
              "2025              True  \n",
              "2026              True  \n",
              "2027              True  \n",
              "\n",
              "[2028 rows x 46 columns]"
            ],
            "text/html": [
              "\n",
              "  <div id=\"df-65dc48ed-c393-40ce-8fb3-2b63b4e8f787\" class=\"colab-df-container\">\n",
              "    <div>\n",
              "<style scoped>\n",
              "    .dataframe tbody tr th:only-of-type {\n",
              "        vertical-align: middle;\n",
              "    }\n",
              "\n",
              "    .dataframe tbody tr th {\n",
              "        vertical-align: top;\n",
              "    }\n",
              "\n",
              "    .dataframe thead th {\n",
              "        text-align: right;\n",
              "    }\n",
              "</style>\n",
              "<table border=\"1\" class=\"dataframe\">\n",
              "  <thead>\n",
              "    <tr style=\"text-align: right;\">\n",
              "      <th></th>\n",
              "      <th>Age</th>\n",
              "      <th>Academic_Year</th>\n",
              "      <th>Current_CGPA</th>\n",
              "      <th>Stress Label</th>\n",
              "      <th>Anxiety Label</th>\n",
              "      <th>PHQ1</th>\n",
              "      <th>PHQ2</th>\n",
              "      <th>PHQ3</th>\n",
              "      <th>PHQ4</th>\n",
              "      <th>PHQ5</th>\n",
              "      <th>...</th>\n",
              "      <th>Department_Engineering - EEE/ ECE / Similar to EEE</th>\n",
              "      <th>Department_Engineering - Mechanical Engineering / Similar to ME</th>\n",
              "      <th>Department_Engineering - Other</th>\n",
              "      <th>Department_Environmental and Life Sciences</th>\n",
              "      <th>Department_Law and Human Rights</th>\n",
              "      <th>Department_Liberal Arts and Social Sciences</th>\n",
              "      <th>Department_Other</th>\n",
              "      <th>Department_Pharmacy and Public Health</th>\n",
              "      <th>waiver_or_scholarship_Yes</th>\n",
              "      <th>Depression Label</th>\n",
              "    </tr>\n",
              "  </thead>\n",
              "  <tbody>\n",
              "    <tr>\n",
              "      <th>0</th>\n",
              "      <td>1</td>\n",
              "      <td>1</td>\n",
              "      <td>1</td>\n",
              "      <td>2</td>\n",
              "      <td>3</td>\n",
              "      <td>2</td>\n",
              "      <td>2</td>\n",
              "      <td>3</td>\n",
              "      <td>2</td>\n",
              "      <td>2</td>\n",
              "      <td>...</td>\n",
              "      <td>False</td>\n",
              "      <td>False</td>\n",
              "      <td>False</td>\n",
              "      <td>False</td>\n",
              "      <td>False</td>\n",
              "      <td>False</td>\n",
              "      <td>False</td>\n",
              "      <td>False</td>\n",
              "      <td>False</td>\n",
              "      <td>True</td>\n",
              "    </tr>\n",
              "    <tr>\n",
              "      <th>1</th>\n",
              "      <td>1</td>\n",
              "      <td>2</td>\n",
              "      <td>2</td>\n",
              "      <td>1</td>\n",
              "      <td>2</td>\n",
              "      <td>3</td>\n",
              "      <td>2</td>\n",
              "      <td>2</td>\n",
              "      <td>2</td>\n",
              "      <td>2</td>\n",
              "      <td>...</td>\n",
              "      <td>False</td>\n",
              "      <td>False</td>\n",
              "      <td>False</td>\n",
              "      <td>False</td>\n",
              "      <td>False</td>\n",
              "      <td>False</td>\n",
              "      <td>False</td>\n",
              "      <td>False</td>\n",
              "      <td>False</td>\n",
              "      <td>True</td>\n",
              "    </tr>\n",
              "    <tr>\n",
              "      <th>2</th>\n",
              "      <td>1</td>\n",
              "      <td>2</td>\n",
              "      <td>2</td>\n",
              "      <td>1</td>\n",
              "      <td>0</td>\n",
              "      <td>0</td>\n",
              "      <td>0</td>\n",
              "      <td>0</td>\n",
              "      <td>0</td>\n",
              "      <td>0</td>\n",
              "      <td>...</td>\n",
              "      <td>False</td>\n",
              "      <td>False</td>\n",
              "      <td>False</td>\n",
              "      <td>False</td>\n",
              "      <td>False</td>\n",
              "      <td>False</td>\n",
              "      <td>False</td>\n",
              "      <td>False</td>\n",
              "      <td>False</td>\n",
              "      <td>False</td>\n",
              "    </tr>\n",
              "    <tr>\n",
              "      <th>3</th>\n",
              "      <td>1</td>\n",
              "      <td>2</td>\n",
              "      <td>2</td>\n",
              "      <td>1</td>\n",
              "      <td>2</td>\n",
              "      <td>2</td>\n",
              "      <td>1</td>\n",
              "      <td>2</td>\n",
              "      <td>1</td>\n",
              "      <td>2</td>\n",
              "      <td>...</td>\n",
              "      <td>False</td>\n",
              "      <td>False</td>\n",
              "      <td>False</td>\n",
              "      <td>False</td>\n",
              "      <td>False</td>\n",
              "      <td>False</td>\n",
              "      <td>False</td>\n",
              "      <td>False</td>\n",
              "      <td>False</td>\n",
              "      <td>True</td>\n",
              "    </tr>\n",
              "    <tr>\n",
              "      <th>4</th>\n",
              "      <td>1</td>\n",
              "      <td>1</td>\n",
              "      <td>1</td>\n",
              "      <td>2</td>\n",
              "      <td>2</td>\n",
              "      <td>1</td>\n",
              "      <td>3</td>\n",
              "      <td>3</td>\n",
              "      <td>3</td>\n",
              "      <td>1</td>\n",
              "      <td>...</td>\n",
              "      <td>False</td>\n",
              "      <td>False</td>\n",
              "      <td>False</td>\n",
              "      <td>False</td>\n",
              "      <td>False</td>\n",
              "      <td>False</td>\n",
              "      <td>False</td>\n",
              "      <td>False</td>\n",
              "      <td>False</td>\n",
              "      <td>True</td>\n",
              "    </tr>\n",
              "    <tr>\n",
              "      <th>...</th>\n",
              "      <td>...</td>\n",
              "      <td>...</td>\n",
              "      <td>...</td>\n",
              "      <td>...</td>\n",
              "      <td>...</td>\n",
              "      <td>...</td>\n",
              "      <td>...</td>\n",
              "      <td>...</td>\n",
              "      <td>...</td>\n",
              "      <td>...</td>\n",
              "      <td>...</td>\n",
              "      <td>...</td>\n",
              "      <td>...</td>\n",
              "      <td>...</td>\n",
              "      <td>...</td>\n",
              "      <td>...</td>\n",
              "      <td>...</td>\n",
              "      <td>...</td>\n",
              "      <td>...</td>\n",
              "      <td>...</td>\n",
              "      <td>...</td>\n",
              "    </tr>\n",
              "    <tr>\n",
              "      <th>2023</th>\n",
              "      <td>1</td>\n",
              "      <td>1</td>\n",
              "      <td>2</td>\n",
              "      <td>2</td>\n",
              "      <td>3</td>\n",
              "      <td>1</td>\n",
              "      <td>1</td>\n",
              "      <td>3</td>\n",
              "      <td>3</td>\n",
              "      <td>0</td>\n",
              "      <td>...</td>\n",
              "      <td>False</td>\n",
              "      <td>False</td>\n",
              "      <td>False</td>\n",
              "      <td>False</td>\n",
              "      <td>False</td>\n",
              "      <td>False</td>\n",
              "      <td>True</td>\n",
              "      <td>False</td>\n",
              "      <td>False</td>\n",
              "      <td>True</td>\n",
              "    </tr>\n",
              "    <tr>\n",
              "      <th>2024</th>\n",
              "      <td>1</td>\n",
              "      <td>2</td>\n",
              "      <td>2</td>\n",
              "      <td>2</td>\n",
              "      <td>3</td>\n",
              "      <td>0</td>\n",
              "      <td>3</td>\n",
              "      <td>3</td>\n",
              "      <td>3</td>\n",
              "      <td>2</td>\n",
              "      <td>...</td>\n",
              "      <td>False</td>\n",
              "      <td>False</td>\n",
              "      <td>False</td>\n",
              "      <td>False</td>\n",
              "      <td>False</td>\n",
              "      <td>False</td>\n",
              "      <td>False</td>\n",
              "      <td>False</td>\n",
              "      <td>False</td>\n",
              "      <td>True</td>\n",
              "    </tr>\n",
              "    <tr>\n",
              "      <th>2025</th>\n",
              "      <td>1</td>\n",
              "      <td>1</td>\n",
              "      <td>1</td>\n",
              "      <td>1</td>\n",
              "      <td>2</td>\n",
              "      <td>1</td>\n",
              "      <td>1</td>\n",
              "      <td>2</td>\n",
              "      <td>1</td>\n",
              "      <td>2</td>\n",
              "      <td>...</td>\n",
              "      <td>False</td>\n",
              "      <td>False</td>\n",
              "      <td>False</td>\n",
              "      <td>False</td>\n",
              "      <td>False</td>\n",
              "      <td>False</td>\n",
              "      <td>False</td>\n",
              "      <td>False</td>\n",
              "      <td>False</td>\n",
              "      <td>True</td>\n",
              "    </tr>\n",
              "    <tr>\n",
              "      <th>2026</th>\n",
              "      <td>2</td>\n",
              "      <td>2</td>\n",
              "      <td>3</td>\n",
              "      <td>2</td>\n",
              "      <td>3</td>\n",
              "      <td>3</td>\n",
              "      <td>3</td>\n",
              "      <td>3</td>\n",
              "      <td>3</td>\n",
              "      <td>3</td>\n",
              "      <td>...</td>\n",
              "      <td>False</td>\n",
              "      <td>False</td>\n",
              "      <td>False</td>\n",
              "      <td>False</td>\n",
              "      <td>False</td>\n",
              "      <td>False</td>\n",
              "      <td>True</td>\n",
              "      <td>False</td>\n",
              "      <td>False</td>\n",
              "      <td>True</td>\n",
              "    </tr>\n",
              "    <tr>\n",
              "      <th>2027</th>\n",
              "      <td>1</td>\n",
              "      <td>1</td>\n",
              "      <td>1</td>\n",
              "      <td>1</td>\n",
              "      <td>2</td>\n",
              "      <td>1</td>\n",
              "      <td>2</td>\n",
              "      <td>1</td>\n",
              "      <td>2</td>\n",
              "      <td>2</td>\n",
              "      <td>...</td>\n",
              "      <td>False</td>\n",
              "      <td>False</td>\n",
              "      <td>False</td>\n",
              "      <td>False</td>\n",
              "      <td>False</td>\n",
              "      <td>False</td>\n",
              "      <td>False</td>\n",
              "      <td>False</td>\n",
              "      <td>False</td>\n",
              "      <td>True</td>\n",
              "    </tr>\n",
              "  </tbody>\n",
              "</table>\n",
              "<p>2028 rows × 46 columns</p>\n",
              "</div>\n",
              "    <div class=\"colab-df-buttons\">\n",
              "\n",
              "  <div class=\"colab-df-container\">\n",
              "    <button class=\"colab-df-convert\" onclick=\"convertToInteractive('df-65dc48ed-c393-40ce-8fb3-2b63b4e8f787')\"\n",
              "            title=\"Convert this dataframe to an interactive table.\"\n",
              "            style=\"display:none;\">\n",
              "\n",
              "  <svg xmlns=\"http://www.w3.org/2000/svg\" height=\"24px\" viewBox=\"0 -960 960 960\">\n",
              "    <path d=\"M120-120v-720h720v720H120Zm60-500h600v-160H180v160Zm220 220h160v-160H400v160Zm0 220h160v-160H400v160ZM180-400h160v-160H180v160Zm440 0h160v-160H620v160ZM180-180h160v-160H180v160Zm440 0h160v-160H620v160Z\"/>\n",
              "  </svg>\n",
              "    </button>\n",
              "\n",
              "  <style>\n",
              "    .colab-df-container {\n",
              "      display:flex;\n",
              "      gap: 12px;\n",
              "    }\n",
              "\n",
              "    .colab-df-convert {\n",
              "      background-color: #E8F0FE;\n",
              "      border: none;\n",
              "      border-radius: 50%;\n",
              "      cursor: pointer;\n",
              "      display: none;\n",
              "      fill: #1967D2;\n",
              "      height: 32px;\n",
              "      padding: 0 0 0 0;\n",
              "      width: 32px;\n",
              "    }\n",
              "\n",
              "    .colab-df-convert:hover {\n",
              "      background-color: #E2EBFA;\n",
              "      box-shadow: 0px 1px 2px rgba(60, 64, 67, 0.3), 0px 1px 3px 1px rgba(60, 64, 67, 0.15);\n",
              "      fill: #174EA6;\n",
              "    }\n",
              "\n",
              "    .colab-df-buttons div {\n",
              "      margin-bottom: 4px;\n",
              "    }\n",
              "\n",
              "    [theme=dark] .colab-df-convert {\n",
              "      background-color: #3B4455;\n",
              "      fill: #D2E3FC;\n",
              "    }\n",
              "\n",
              "    [theme=dark] .colab-df-convert:hover {\n",
              "      background-color: #434B5C;\n",
              "      box-shadow: 0px 1px 3px 1px rgba(0, 0, 0, 0.15);\n",
              "      filter: drop-shadow(0px 1px 2px rgba(0, 0, 0, 0.3));\n",
              "      fill: #FFFFFF;\n",
              "    }\n",
              "  </style>\n",
              "\n",
              "    <script>\n",
              "      const buttonEl =\n",
              "        document.querySelector('#df-65dc48ed-c393-40ce-8fb3-2b63b4e8f787 button.colab-df-convert');\n",
              "      buttonEl.style.display =\n",
              "        google.colab.kernel.accessAllowed ? 'block' : 'none';\n",
              "\n",
              "      async function convertToInteractive(key) {\n",
              "        const element = document.querySelector('#df-65dc48ed-c393-40ce-8fb3-2b63b4e8f787');\n",
              "        const dataTable =\n",
              "          await google.colab.kernel.invokeFunction('convertToInteractive',\n",
              "                                                    [key], {});\n",
              "        if (!dataTable) return;\n",
              "\n",
              "        const docLinkHtml = 'Like what you see? Visit the ' +\n",
              "          '<a target=\"_blank\" href=https://colab.research.google.com/notebooks/data_table.ipynb>data table notebook</a>'\n",
              "          + ' to learn more about interactive tables.';\n",
              "        element.innerHTML = '';\n",
              "        dataTable['output_type'] = 'display_data';\n",
              "        await google.colab.output.renderOutput(dataTable, element);\n",
              "        const docLink = document.createElement('div');\n",
              "        docLink.innerHTML = docLinkHtml;\n",
              "        element.appendChild(docLink);\n",
              "      }\n",
              "    </script>\n",
              "  </div>\n",
              "\n",
              "\n",
              "<div id=\"df-537b1dbe-1716-427a-945e-623db0ed0c25\">\n",
              "  <button class=\"colab-df-quickchart\" onclick=\"quickchart('df-537b1dbe-1716-427a-945e-623db0ed0c25')\"\n",
              "            title=\"Suggest charts\"\n",
              "            style=\"display:none;\">\n",
              "\n",
              "<svg xmlns=\"http://www.w3.org/2000/svg\" height=\"24px\"viewBox=\"0 0 24 24\"\n",
              "     width=\"24px\">\n",
              "    <g>\n",
              "        <path d=\"M19 3H5c-1.1 0-2 .9-2 2v14c0 1.1.9 2 2 2h14c1.1 0 2-.9 2-2V5c0-1.1-.9-2-2-2zM9 17H7v-7h2v7zm4 0h-2V7h2v10zm4 0h-2v-4h2v4z\"/>\n",
              "    </g>\n",
              "</svg>\n",
              "  </button>\n",
              "\n",
              "<style>\n",
              "  .colab-df-quickchart {\n",
              "      --bg-color: #E8F0FE;\n",
              "      --fill-color: #1967D2;\n",
              "      --hover-bg-color: #E2EBFA;\n",
              "      --hover-fill-color: #174EA6;\n",
              "      --disabled-fill-color: #AAA;\n",
              "      --disabled-bg-color: #DDD;\n",
              "  }\n",
              "\n",
              "  [theme=dark] .colab-df-quickchart {\n",
              "      --bg-color: #3B4455;\n",
              "      --fill-color: #D2E3FC;\n",
              "      --hover-bg-color: #434B5C;\n",
              "      --hover-fill-color: #FFFFFF;\n",
              "      --disabled-bg-color: #3B4455;\n",
              "      --disabled-fill-color: #666;\n",
              "  }\n",
              "\n",
              "  .colab-df-quickchart {\n",
              "    background-color: var(--bg-color);\n",
              "    border: none;\n",
              "    border-radius: 50%;\n",
              "    cursor: pointer;\n",
              "    display: none;\n",
              "    fill: var(--fill-color);\n",
              "    height: 32px;\n",
              "    padding: 0;\n",
              "    width: 32px;\n",
              "  }\n",
              "\n",
              "  .colab-df-quickchart:hover {\n",
              "    background-color: var(--hover-bg-color);\n",
              "    box-shadow: 0 1px 2px rgba(60, 64, 67, 0.3), 0 1px 3px 1px rgba(60, 64, 67, 0.15);\n",
              "    fill: var(--button-hover-fill-color);\n",
              "  }\n",
              "\n",
              "  .colab-df-quickchart-complete:disabled,\n",
              "  .colab-df-quickchart-complete:disabled:hover {\n",
              "    background-color: var(--disabled-bg-color);\n",
              "    fill: var(--disabled-fill-color);\n",
              "    box-shadow: none;\n",
              "  }\n",
              "\n",
              "  .colab-df-spinner {\n",
              "    border: 2px solid var(--fill-color);\n",
              "    border-color: transparent;\n",
              "    border-bottom-color: var(--fill-color);\n",
              "    animation:\n",
              "      spin 1s steps(1) infinite;\n",
              "  }\n",
              "\n",
              "  @keyframes spin {\n",
              "    0% {\n",
              "      border-color: transparent;\n",
              "      border-bottom-color: var(--fill-color);\n",
              "      border-left-color: var(--fill-color);\n",
              "    }\n",
              "    20% {\n",
              "      border-color: transparent;\n",
              "      border-left-color: var(--fill-color);\n",
              "      border-top-color: var(--fill-color);\n",
              "    }\n",
              "    30% {\n",
              "      border-color: transparent;\n",
              "      border-left-color: var(--fill-color);\n",
              "      border-top-color: var(--fill-color);\n",
              "      border-right-color: var(--fill-color);\n",
              "    }\n",
              "    40% {\n",
              "      border-color: transparent;\n",
              "      border-right-color: var(--fill-color);\n",
              "      border-top-color: var(--fill-color);\n",
              "    }\n",
              "    60% {\n",
              "      border-color: transparent;\n",
              "      border-right-color: var(--fill-color);\n",
              "    }\n",
              "    80% {\n",
              "      border-color: transparent;\n",
              "      border-right-color: var(--fill-color);\n",
              "      border-bottom-color: var(--fill-color);\n",
              "    }\n",
              "    90% {\n",
              "      border-color: transparent;\n",
              "      border-bottom-color: var(--fill-color);\n",
              "    }\n",
              "  }\n",
              "</style>\n",
              "\n",
              "  <script>\n",
              "    async function quickchart(key) {\n",
              "      const quickchartButtonEl =\n",
              "        document.querySelector('#' + key + ' button');\n",
              "      quickchartButtonEl.disabled = true;  // To prevent multiple clicks.\n",
              "      quickchartButtonEl.classList.add('colab-df-spinner');\n",
              "      try {\n",
              "        const charts = await google.colab.kernel.invokeFunction(\n",
              "            'suggestCharts', [key], {});\n",
              "      } catch (error) {\n",
              "        console.error('Error during call to suggestCharts:', error);\n",
              "      }\n",
              "      quickchartButtonEl.classList.remove('colab-df-spinner');\n",
              "      quickchartButtonEl.classList.add('colab-df-quickchart-complete');\n",
              "    }\n",
              "    (() => {\n",
              "      let quickchartButtonEl =\n",
              "        document.querySelector('#df-537b1dbe-1716-427a-945e-623db0ed0c25 button');\n",
              "      quickchartButtonEl.style.display =\n",
              "        google.colab.kernel.accessAllowed ? 'block' : 'none';\n",
              "    })();\n",
              "  </script>\n",
              "</div>\n",
              "\n",
              "  <div id=\"id_82ad3efb-c3a8-4587-a6aa-d88428301eb2\">\n",
              "    <style>\n",
              "      .colab-df-generate {\n",
              "        background-color: #E8F0FE;\n",
              "        border: none;\n",
              "        border-radius: 50%;\n",
              "        cursor: pointer;\n",
              "        display: none;\n",
              "        fill: #1967D2;\n",
              "        height: 32px;\n",
              "        padding: 0 0 0 0;\n",
              "        width: 32px;\n",
              "      }\n",
              "\n",
              "      .colab-df-generate:hover {\n",
              "        background-color: #E2EBFA;\n",
              "        box-shadow: 0px 1px 2px rgba(60, 64, 67, 0.3), 0px 1px 3px 1px rgba(60, 64, 67, 0.15);\n",
              "        fill: #174EA6;\n",
              "      }\n",
              "\n",
              "      [theme=dark] .colab-df-generate {\n",
              "        background-color: #3B4455;\n",
              "        fill: #D2E3FC;\n",
              "      }\n",
              "\n",
              "      [theme=dark] .colab-df-generate:hover {\n",
              "        background-color: #434B5C;\n",
              "        box-shadow: 0px 1px 3px 1px rgba(0, 0, 0, 0.15);\n",
              "        filter: drop-shadow(0px 1px 2px rgba(0, 0, 0, 0.3));\n",
              "        fill: #FFFFFF;\n",
              "      }\n",
              "    </style>\n",
              "    <button class=\"colab-df-generate\" onclick=\"generateWithVariable('data')\"\n",
              "            title=\"Generate code using this dataframe.\"\n",
              "            style=\"display:none;\">\n",
              "\n",
              "  <svg xmlns=\"http://www.w3.org/2000/svg\" height=\"24px\"viewBox=\"0 0 24 24\"\n",
              "       width=\"24px\">\n",
              "    <path d=\"M7,19H8.4L18.45,9,17,7.55,7,17.6ZM5,21V16.75L18.45,3.32a2,2,0,0,1,2.83,0l1.4,1.43a1.91,1.91,0,0,1,.58,1.4,1.91,1.91,0,0,1-.58,1.4L9.25,21ZM18.45,9,17,7.55Zm-12,3A5.31,5.31,0,0,0,4.9,8.1,5.31,5.31,0,0,0,1,6.5,5.31,5.31,0,0,0,4.9,4.9,5.31,5.31,0,0,0,6.5,1,5.31,5.31,0,0,0,8.1,4.9,5.31,5.31,0,0,0,12,6.5,5.46,5.46,0,0,0,6.5,12Z\"/>\n",
              "  </svg>\n",
              "    </button>\n",
              "    <script>\n",
              "      (() => {\n",
              "      const buttonEl =\n",
              "        document.querySelector('#id_82ad3efb-c3a8-4587-a6aa-d88428301eb2 button.colab-df-generate');\n",
              "      buttonEl.style.display =\n",
              "        google.colab.kernel.accessAllowed ? 'block' : 'none';\n",
              "\n",
              "      buttonEl.onclick = () => {\n",
              "        google.colab.notebook.generateWithVariable('data');\n",
              "      }\n",
              "      })();\n",
              "    </script>\n",
              "  </div>\n",
              "\n",
              "    </div>\n",
              "  </div>\n"
            ],
            "application/vnd.google.colaboratory.intrinsic+json": {
              "type": "dataframe",
              "variable_name": "data"
            }
          },
          "metadata": {},
          "execution_count": 91
        }
      ]
    },
    {
      "cell_type": "code",
      "source": [
        "data.info()"
      ],
      "metadata": {
        "colab": {
          "base_uri": "https://localhost:8080/"
        },
        "id": "Up2F6JZsHTUc",
        "outputId": "dda42f5f-6eed-40bc-ce33-da490342b340"
      },
      "execution_count": null,
      "outputs": [
        {
          "output_type": "stream",
          "name": "stdout",
          "text": [
            "<class 'pandas.core.frame.DataFrame'>\n",
            "RangeIndex: 2028 entries, 0 to 2027\n",
            "Data columns (total 46 columns):\n",
            " #   Column                                                                 Non-Null Count  Dtype \n",
            "---  ------                                                                 --------------  ----- \n",
            " 0   Age                                                                    2028 non-null   int64 \n",
            " 1   Academic_Year                                                          2028 non-null   int64 \n",
            " 2   Current_CGPA                                                           2028 non-null   int64 \n",
            " 3   Stress Label                                                           2028 non-null   int64 \n",
            " 4   Anxiety Label                                                          2028 non-null   int64 \n",
            " 5   PHQ1                                                                   2028 non-null   int64 \n",
            " 6   PHQ2                                                                   2028 non-null   int64 \n",
            " 7   PHQ3                                                                   2028 non-null   int64 \n",
            " 8   PHQ4                                                                   2028 non-null   int64 \n",
            " 9   PHQ5                                                                   2028 non-null   int64 \n",
            " 10  PHQ6                                                                   2028 non-null   int64 \n",
            " 11  PHQ7                                                                   2028 non-null   int64 \n",
            " 12  PHQ8                                                                   2028 non-null   int64 \n",
            " 13  PHQ9                                                                   2028 non-null   int64 \n",
            " 14  Gender_Female                                                          2028 non-null   bool  \n",
            " 15  Gender_Male                                                            2028 non-null   bool  \n",
            " 16  Gender_Prefer not to say                                               2028 non-null   bool  \n",
            " 17  University_American International University Bangladesh (AIUB)         2028 non-null   bool  \n",
            " 18  University_BRAC University                                             2028 non-null   bool  \n",
            " 19  University_Bangladesh Agricultural University (BAU)                    2028 non-null   bool  \n",
            " 20  University_Bangladesh University of Engineering and Technology (BUET)  2028 non-null   bool  \n",
            " 21  University_Daffodil University                                         2028 non-null   bool  \n",
            " 22  University_Dhaka University (DU)                                       2028 non-null   bool  \n",
            " 23  University_Dhaka University of Engineering and Technology (DUET)       2028 non-null   bool  \n",
            " 24  University_East West University (EWU)                                  2028 non-null   bool  \n",
            " 25  University_Independent University, Bangladesh (IUB)                    2028 non-null   bool  \n",
            " 26  University_Islamic University of Technology (IUT)                      2028 non-null   bool  \n",
            " 27  University_North South University (NSU)                                2028 non-null   bool  \n",
            " 28  University_Patuakhali Science and Technology University                2028 non-null   bool  \n",
            " 29  University_Rajshahi University (RU)                                    2028 non-null   bool  \n",
            " 30  University_Rajshahi University of Engineering and Technology (RUET)    2028 non-null   bool  \n",
            " 31  University_United International University (UIU)                       2028 non-null   bool  \n",
            " 32  Department_Biological Sciences                                         2028 non-null   bool  \n",
            " 33  Department_Business and Entrepreneurship Studies                       2028 non-null   bool  \n",
            " 34  Department_Engineering - CS / CSE / CSC / Similar to CS                2028 non-null   bool  \n",
            " 35  Department_Engineering - Civil Engineering / Similar to CE             2028 non-null   bool  \n",
            " 36  Department_Engineering - EEE/ ECE / Similar to EEE                     2028 non-null   bool  \n",
            " 37  Department_Engineering - Mechanical Engineering / Similar to ME        2028 non-null   bool  \n",
            " 38  Department_Engineering - Other                                         2028 non-null   bool  \n",
            " 39  Department_Environmental and Life Sciences                             2028 non-null   bool  \n",
            " 40  Department_Law and Human Rights                                        2028 non-null   bool  \n",
            " 41  Department_Liberal Arts and Social Sciences                            2028 non-null   bool  \n",
            " 42  Department_Other                                                       2028 non-null   bool  \n",
            " 43  Department_Pharmacy and Public Health                                  2028 non-null   bool  \n",
            " 44  waiver_or_scholarship_Yes                                              2028 non-null   bool  \n",
            " 45  Depression Label                                                       2028 non-null   object\n",
            "dtypes: bool(31), int64(14), object(1)\n",
            "memory usage: 299.2+ KB\n"
          ]
        }
      ]
    },
    {
      "cell_type": "markdown",
      "source": [
        "# Data Visualizations"
      ],
      "metadata": {
        "id": "INqy1-PwZk8M"
      }
    },
    {
      "cell_type": "code",
      "source": [
        "corr_matrix = data.corr()[[\"Depression Label\"]]\n",
        "plt.figure(figsize=(30, 30))\n",
        "sns.heatmap(corr_matrix, annot=True, cmap='coolwarm', vmin=-1, vmax=1, fmt='.2f')\n",
        "plt.title(\"Stage Correlation Matrix\")\n",
        "plt.show()"
      ],
      "metadata": {
        "colab": {
          "base_uri": "https://localhost:8080/",
          "height": 1000
        },
        "id": "8nOt-N0czfSM",
        "outputId": "53d0ae07-c5c1-4c84-b460-3dd84e7da2bc"
      },
      "execution_count": null,
      "outputs": [
        {
          "output_type": "display_data",
          "data": {
            "text/plain": [
              "<Figure size 3000x3000 with 2 Axes>"
            ],
            "image/png": "[encoded data removed]"
          },
          "metadata": {}
        }
      ]
    },
    {
      "cell_type": "markdown",
      "source": [
        "Mostly Correlated - a lot of the PHQ and features indirectly contributing to depression.\n",
        "\n",
        "MOST Correlated - \"How often have you been feeling bad about yourself - or that you are a failure or have let yourself or your family down\": It's only .01 the other mostly correlated features.\n",
        "\n",
        "LEAST Correlated - \"American International University Bangladesh\": Although this is the least correlated, it's mostly neutral."
      ],
      "metadata": {
        "id": "rvN3TIFT0m1B"
      }
    },
    {
      "cell_type": "markdown",
      "source": [
        "What we could do:\n",
        "1. Test our models with every feature\n",
        "2. Test our models with only correlated features\n",
        "3. Test our models with neutral features."
      ],
      "metadata": {
        "id": "qmt_ccc-10TX"
      }
    },
    {
      "cell_type": "code",
      "source": [
        "\"\"\"sns.displot(data[\"In a semester, how often have you been feeling bad about yourself - or that you are a failure or have let yourself or your family down?\"])\n",
        "\n",
        "# Show the plot\n",
        "plt.show()\"\"\""
      ],
      "metadata": {
        "colab": {
          "base_uri": "https://localhost:8080/",
          "height": 547
        },
        "id": "kX4SZvZm_Iei",
        "outputId": "aa4a39f2-5c4c-450a-cf2f-0b14007fe95c"
      },
      "execution_count": null,
      "outputs": [
        {
          "output_type": "error",
          "ename": "KeyError",
          "evalue": "'In a semester, how often have you been feeling bad about yourself - or that you are a failure or have let yourself or your family down?'",
          "traceback": [
            "\u001b[0;31m---------------------------------------------------------------------------\u001b[0m",
            "\u001b[0;31mKeyError\u001b[0m                                  Traceback (most recent call last)",
            "\u001b[0;32m/usr/local/lib/python3.11/dist-packages/pandas/core/indexes/base.py\u001b[0m in \u001b[0;36mget_loc\u001b[0;34m(self, key)\u001b[0m\n\u001b[1;32m   3804\u001b[0m         \u001b[0;32mtry\u001b[0m\u001b[0;34m:\u001b[0m\u001b[0;34m\u001b[0m\u001b[0;34m\u001b[0m\u001b[0m\n\u001b[0;32m-> 3805\u001b[0;31m             \u001b[0;32mreturn\u001b[0m \u001b[0mself\u001b[0m\u001b[0;34m.\u001b[0m\u001b[0m_engine\u001b[0m\u001b[0;34m.\u001b[0m\u001b[0mget_loc\u001b[0m\u001b[0;34m(\u001b[0m\u001b[0mcasted_key\u001b[0m\u001b[0;34m)\u001b[0m\u001b[0;34m\u001b[0m\u001b[0;34m\u001b[0m\u001b[0m\n\u001b[0m\u001b[1;32m   3806\u001b[0m         \u001b[0;32mexcept\u001b[0m \u001b[0mKeyError\u001b[0m \u001b[0;32mas\u001b[0m \u001b[0merr\u001b[0m\u001b[0;34m:\u001b[0m\u001b[0;34m\u001b[0m\u001b[0;34m\u001b[0m\u001b[0m\n",
            "\u001b[0;32mindex.pyx\u001b[0m in \u001b[0;36mpandas._libs.index.IndexEngine.get_loc\u001b[0;34m()\u001b[0m\n",
            "\u001b[0;32mindex.pyx\u001b[0m in \u001b[0;36mpandas._libs.index.IndexEngine.get_loc\u001b[0;34m()\u001b[0m\n",
            "\u001b[0;32mpandas/_libs/hashtable_class_helper.pxi\u001b[0m in \u001b[0;36mpandas._libs.hashtable.PyObjectHashTable.get_item\u001b[0;34m()\u001b[0m\n",
            "\u001b[0;32mpandas/_libs/hashtable_class_helper.pxi\u001b[0m in \u001b[0;36mpandas._libs.hashtable.PyObjectHashTable.get_item\u001b[0;34m()\u001b[0m\n",
            "\u001b[0;31mKeyError\u001b[0m: 'In a semester, how often have you been feeling bad about yourself - or that you are a failure or have let yourself or your family down?'",
            "\nThe above exception was the direct cause of the following exception:\n",
            "\u001b[0;31mKeyError\u001b[0m                                  Traceback (most recent call last)",
            "\u001b[0;32m<ipython-input-94-ffef09200483>\u001b[0m in \u001b[0;36m<cell line: 0>\u001b[0;34m()\u001b[0m\n\u001b[0;32m----> 1\u001b[0;31m \u001b[0msns\u001b[0m\u001b[0;34m.\u001b[0m\u001b[0mdisplot\u001b[0m\u001b[0;34m(\u001b[0m\u001b[0mdata\u001b[0m\u001b[0;34m[\u001b[0m\u001b[0;34m\"In a semester, how often have you been feeling bad about yourself - or that you are a failure or have let yourself or your family down?\"\u001b[0m\u001b[0;34m]\u001b[0m\u001b[0;34m)\u001b[0m\u001b[0;34m\u001b[0m\u001b[0;34m\u001b[0m\u001b[0m\n\u001b[0m\u001b[1;32m      2\u001b[0m \u001b[0;34m\u001b[0m\u001b[0m\n\u001b[1;32m      3\u001b[0m \u001b[0;31m# Show the plot\u001b[0m\u001b[0;34m\u001b[0m\u001b[0;34m\u001b[0m\u001b[0m\n\u001b[1;32m      4\u001b[0m \u001b[0mplt\u001b[0m\u001b[0;34m.\u001b[0m\u001b[0mshow\u001b[0m\u001b[0;34m(\u001b[0m\u001b[0;34m)\u001b[0m\u001b[0;34m\u001b[0m\u001b[0;34m\u001b[0m\u001b[0m\n",
            "\u001b[0;32m/usr/local/lib/python3.11/dist-packages/pandas/core/frame.py\u001b[0m in \u001b[0;36m__getitem__\u001b[0;34m(self, key)\u001b[0m\n\u001b[1;32m   4100\u001b[0m             \u001b[0;32mif\u001b[0m \u001b[0mself\u001b[0m\u001b[0;34m.\u001b[0m\u001b[0mcolumns\u001b[0m\u001b[0;34m.\u001b[0m\u001b[0mnlevels\u001b[0m \u001b[0;34m>\u001b[0m \u001b[0;36m1\u001b[0m\u001b[0;34m:\u001b[0m\u001b[0;34m\u001b[0m\u001b[0;34m\u001b[0m\u001b[0m\n\u001b[1;32m   4101\u001b[0m                 \u001b[0;32mreturn\u001b[0m \u001b[0mself\u001b[0m\u001b[0;34m.\u001b[0m\u001b[0m_getitem_multilevel\u001b[0m\u001b[0;34m(\u001b[0m\u001b[0mkey\u001b[0m\u001b[0;34m)\u001b[0m\u001b[0;34m\u001b[0m\u001b[0;34m\u001b[0m\u001b[0m\n\u001b[0;32m-> 4102\u001b[0;31m             \u001b[0mindexer\u001b[0m \u001b[0;34m=\u001b[0m \u001b[0mself\u001b[0m\u001b[0;34m.\u001b[0m\u001b[0mcolumns\u001b[0m\u001b[0;34m.\u001b[0m\u001b[0mget_loc\u001b[0m\u001b[0;34m(\u001b[0m\u001b[0mkey\u001b[0m\u001b[0;34m)\u001b[0m\u001b[0;34m\u001b[0m\u001b[0;34m\u001b[0m\u001b[0m\n\u001b[0m\u001b[1;32m   4103\u001b[0m             \u001b[0;32mif\u001b[0m \u001b[0mis_integer\u001b[0m\u001b[0;34m(\u001b[0m\u001b[0mindexer\u001b[0m\u001b[0;34m)\u001b[0m\u001b[0;34m:\u001b[0m\u001b[0;34m\u001b[0m\u001b[0;34m\u001b[0m\u001b[0m\n\u001b[1;32m   4104\u001b[0m                 \u001b[0mindexer\u001b[0m \u001b[0;34m=\u001b[0m \u001b[0;34m[\u001b[0m\u001b[0mindexer\u001b[0m\u001b[0;34m]\u001b[0m\u001b[0;34m\u001b[0m\u001b[0;34m\u001b[0m\u001b[0m\n",
            "\u001b[0;32m/usr/local/lib/python3.11/dist-packages/pandas/core/indexes/base.py\u001b[0m in \u001b[0;36mget_loc\u001b[0;34m(self, key)\u001b[0m\n\u001b[1;32m   3810\u001b[0m             ):\n\u001b[1;32m   3811\u001b[0m                 \u001b[0;32mraise\u001b[0m \u001b[0mInvalidIndexError\u001b[0m\u001b[0;34m(\u001b[0m\u001b[0mkey\u001b[0m\u001b[0;34m)\u001b[0m\u001b[0;34m\u001b[0m\u001b[0;34m\u001b[0m\u001b[0m\n\u001b[0;32m-> 3812\u001b[0;31m             \u001b[0;32mraise\u001b[0m \u001b[0mKeyError\u001b[0m\u001b[0;34m(\u001b[0m\u001b[0mkey\u001b[0m\u001b[0;34m)\u001b[0m \u001b[0;32mfrom\u001b[0m \u001b[0merr\u001b[0m\u001b[0;34m\u001b[0m\u001b[0;34m\u001b[0m\u001b[0m\n\u001b[0m\u001b[1;32m   3813\u001b[0m         \u001b[0;32mexcept\u001b[0m \u001b[0mTypeError\u001b[0m\u001b[0;34m:\u001b[0m\u001b[0;34m\u001b[0m\u001b[0;34m\u001b[0m\u001b[0m\n\u001b[1;32m   3814\u001b[0m             \u001b[0;31m# If we have a listlike key, _check_indexing_error will raise\u001b[0m\u001b[0;34m\u001b[0m\u001b[0;34m\u001b[0m\u001b[0m\n",
            "\u001b[0;31mKeyError\u001b[0m: 'In a semester, how often have you been feeling bad about yourself - or that you are a failure or have let yourself or your family down?'"
          ]
        }
      ]
    },
    {
      "cell_type": "markdown",
      "source": [
        "Shows distribution of most correlated feature. Most picked option 3."
      ],
      "metadata": {
        "id": "__cSjjGU_Jpk"
      }
    },
    {
      "cell_type": "markdown",
      "source": [
        "# Models"
      ],
      "metadata": {
        "id": "vm_JVa2qZ901"
      }
    },
    {
      "cell_type": "markdown",
      "source": [
        "## Logistic Regression"
      ],
      "metadata": {
        "id": "bfk_bj21Zp_v"
      }
    },
    {
      "cell_type": "markdown",
      "source": [
        "### Data Split"
      ],
      "metadata": {
        "id": "Hqga9Hj0aMei"
      }
    },
    {
      "cell_type": "markdown",
      "source": [
        "### Modeling"
      ],
      "metadata": {
        "id": "wCXCU2b2aZG1"
      }
    },
    {
      "cell_type": "markdown",
      "source": [
        "### Classification Report"
      ],
      "metadata": {
        "id": "gY7foZF3afHU"
      }
    },
    {
      "cell_type": "markdown",
      "source": [
        "## Random Forest"
      ],
      "metadata": {
        "id": "mrcdVWdvZvOI"
      }
    },
    {
      "cell_type": "markdown",
      "source": [
        "### Data Split"
      ],
      "metadata": {
        "id": "8jkmAOaKaS1W"
      }
    },
    {
      "cell_type": "markdown",
      "source": [
        "### Modeling"
      ],
      "metadata": {
        "id": "DURwW8lEadPU"
      }
    },
    {
      "cell_type": "markdown",
      "source": [
        "### Classification Report"
      ],
      "metadata": {
        "id": "L4w9verSakTD"
      }
    },
    {
      "cell_type": "markdown",
      "source": [
        "## SVM\n"
      ],
      "metadata": {
        "id": "ldZiNUKLZxjQ"
      }
    },
    {
      "cell_type": "markdown",
      "source": [
        "### Data Split"
      ],
      "metadata": {
        "id": "KlFIfzHMaT5b"
      }
    },
    {
      "cell_type": "markdown",
      "source": [
        "### Modeling"
      ],
      "metadata": {
        "id": "-x-qWl7Jadky"
      }
    },
    {
      "cell_type": "markdown",
      "source": [
        "### Classification Report"
      ],
      "metadata": {
        "id": "alX1575ZaksK"
      }
    }
  ]
}